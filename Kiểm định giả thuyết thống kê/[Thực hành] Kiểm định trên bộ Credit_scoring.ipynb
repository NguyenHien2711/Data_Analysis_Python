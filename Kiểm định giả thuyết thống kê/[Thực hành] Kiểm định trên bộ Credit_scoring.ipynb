{
 "cells": [
  {
   "cell_type": "markdown",
   "id": "188b0f61",
   "metadata": {},
   "source": [
    "#### Với mức ý nghĩa 10%\n",
    "1. Có phải những khách hàng không có người phụ thuộc sẽ có thu nhập trung bình theo tháng (MonthlyIncome) nhỏ hơn những khách hàng có người phụ thuộc không (với mức ý nghĩa 10%)<br>\n",
    "2. Có phải trung bình số lượng khoản vay (NumberOfOpenCreditLinesAndLoans) những khách hàng gặp khó khăn trong vòng 2 năm trở lại đây (SeriousDlqin2yrs =1) thì sẽ cao hơn những khách hàng không gặp khó khăn không với mức ý nghĩa 10%<br>\n",
    "#### Với mức ý nghĩa 5% \n",
    "3. Giữa độ tuổi (age) và thu nhập trung bình theo tháng (MonthlyIncome) có tương quan với nhau hay không?<br>\n",
    "4. Giữa số lượng khoản vay (NumberOfOpenCreditLinesAndLoans) và độ tuổi có tương quan với nhau không<br>\n",
    "5. Giữa (số lượng người phụ thuộc) NumberOfDependents và thu nhập theo tháng (MonthlyIncome) có tương quan với nhau hay không<br>\n",
    "6. Mã hóa lại thuộc tính MonthlyIncome thành thuộc tính MonthlyIncome_order theo các khoảng tứ phân vị, giữa thuộc tính mới này và tình trạng nợ xấu trong 2 năm trở lại đây (SeriousDlqin2yrs) có liên quan tới nhau không\n",
    "Giữa thuộc tính MonthlyIncome_order với thuộc tính tỉ lệ số dư tài khoản (RevolvingUtilizationOfUnsecuredLines) có mối liên hệ với nhau không"
   ]
  },
  {
   "cell_type": "code",
   "execution_count": 155,
   "id": "c81fe907",
   "metadata": {},
   "outputs": [],
   "source": [
    "import pandas as pd\n",
    "import numpy as np\n",
    "import matplotlib.pyplot as plt\n",
    "import seaborn as sns\n",
    "from scipy import stats"
   ]
  },
  {
   "cell_type": "code",
   "execution_count": 156,
   "id": "d90bdb63",
   "metadata": {},
   "outputs": [
    {
     "data": {
      "text/html": [
       "<div>\n",
       "<style scoped>\n",
       "    .dataframe tbody tr th:only-of-type {\n",
       "        vertical-align: middle;\n",
       "    }\n",
       "\n",
       "    .dataframe tbody tr th {\n",
       "        vertical-align: top;\n",
       "    }\n",
       "\n",
       "    .dataframe thead th {\n",
       "        text-align: right;\n",
       "    }\n",
       "</style>\n",
       "<table border=\"1\" class=\"dataframe\">\n",
       "  <thead>\n",
       "    <tr style=\"text-align: right;\">\n",
       "      <th></th>\n",
       "      <th>Unnamed: 0</th>\n",
       "      <th>SeriousDlqin2yrs</th>\n",
       "      <th>RevolvingUtilizationOfUnsecuredLines</th>\n",
       "      <th>age</th>\n",
       "      <th>NumberOfTime30-59DaysPastDueNotWorse</th>\n",
       "      <th>DebtRatio</th>\n",
       "      <th>MonthlyIncome</th>\n",
       "      <th>NumberOfOpenCreditLinesAndLoans</th>\n",
       "      <th>NumberOfTimes90DaysLate</th>\n",
       "      <th>NumberRealEstateLoansOrLines</th>\n",
       "      <th>NumberOfTime60-89DaysPastDueNotWorse</th>\n",
       "      <th>NumberOfDependents</th>\n",
       "    </tr>\n",
       "  </thead>\n",
       "  <tbody>\n",
       "    <tr>\n",
       "      <th>149987</th>\n",
       "      <td>149996</td>\n",
       "      <td>0</td>\n",
       "      <td>0.040674</td>\n",
       "      <td>74</td>\n",
       "      <td>0</td>\n",
       "      <td>0.225131</td>\n",
       "      <td>2100.0</td>\n",
       "      <td>4</td>\n",
       "      <td>0</td>\n",
       "      <td>1</td>\n",
       "      <td>0</td>\n",
       "      <td>0.0</td>\n",
       "    </tr>\n",
       "    <tr>\n",
       "      <th>149988</th>\n",
       "      <td>149997</td>\n",
       "      <td>0</td>\n",
       "      <td>0.299745</td>\n",
       "      <td>44</td>\n",
       "      <td>0</td>\n",
       "      <td>0.716562</td>\n",
       "      <td>5584.0</td>\n",
       "      <td>4</td>\n",
       "      <td>0</td>\n",
       "      <td>1</td>\n",
       "      <td>0</td>\n",
       "      <td>2.0</td>\n",
       "    </tr>\n",
       "    <tr>\n",
       "      <th>149989</th>\n",
       "      <td>149998</td>\n",
       "      <td>0</td>\n",
       "      <td>0.246044</td>\n",
       "      <td>58</td>\n",
       "      <td>0</td>\n",
       "      <td>3870.000000</td>\n",
       "      <td>NaN</td>\n",
       "      <td>18</td>\n",
       "      <td>0</td>\n",
       "      <td>1</td>\n",
       "      <td>0</td>\n",
       "      <td>0.0</td>\n",
       "    </tr>\n",
       "    <tr>\n",
       "      <th>149990</th>\n",
       "      <td>149999</td>\n",
       "      <td>0</td>\n",
       "      <td>0.000000</td>\n",
       "      <td>30</td>\n",
       "      <td>0</td>\n",
       "      <td>0.000000</td>\n",
       "      <td>5716.0</td>\n",
       "      <td>4</td>\n",
       "      <td>0</td>\n",
       "      <td>0</td>\n",
       "      <td>0</td>\n",
       "      <td>0.0</td>\n",
       "    </tr>\n",
       "    <tr>\n",
       "      <th>149991</th>\n",
       "      <td>150000</td>\n",
       "      <td>0</td>\n",
       "      <td>0.850283</td>\n",
       "      <td>64</td>\n",
       "      <td>0</td>\n",
       "      <td>0.249908</td>\n",
       "      <td>8158.0</td>\n",
       "      <td>8</td>\n",
       "      <td>0</td>\n",
       "      <td>2</td>\n",
       "      <td>0</td>\n",
       "      <td>0.0</td>\n",
       "    </tr>\n",
       "  </tbody>\n",
       "</table>\n",
       "</div>"
      ],
      "text/plain": [
       "        Unnamed: 0  SeriousDlqin2yrs  RevolvingUtilizationOfUnsecuredLines  \\\n",
       "149987      149996                 0                              0.040674   \n",
       "149988      149997                 0                              0.299745   \n",
       "149989      149998                 0                              0.246044   \n",
       "149990      149999                 0                              0.000000   \n",
       "149991      150000                 0                              0.850283   \n",
       "\n",
       "        age  NumberOfTime30-59DaysPastDueNotWorse    DebtRatio  MonthlyIncome  \\\n",
       "149987   74                                     0     0.225131         2100.0   \n",
       "149988   44                                     0     0.716562         5584.0   \n",
       "149989   58                                     0  3870.000000            NaN   \n",
       "149990   30                                     0     0.000000         5716.0   \n",
       "149991   64                                     0     0.249908         8158.0   \n",
       "\n",
       "        NumberOfOpenCreditLinesAndLoans  NumberOfTimes90DaysLate  \\\n",
       "149987                                4                        0   \n",
       "149988                                4                        0   \n",
       "149989                               18                        0   \n",
       "149990                                4                        0   \n",
       "149991                                8                        0   \n",
       "\n",
       "        NumberRealEstateLoansOrLines  NumberOfTime60-89DaysPastDueNotWorse  \\\n",
       "149987                             1                                     0   \n",
       "149988                             1                                     0   \n",
       "149989                             1                                     0   \n",
       "149990                             0                                     0   \n",
       "149991                             2                                     0   \n",
       "\n",
       "        NumberOfDependents  \n",
       "149987                 0.0  \n",
       "149988                 2.0  \n",
       "149989                 0.0  \n",
       "149990                 0.0  \n",
       "149991                 0.0  "
      ]
     },
     "execution_count": 156,
     "metadata": {},
     "output_type": "execute_result"
    }
   ],
   "source": [
    "data = pd.read_csv(r'C:\\Users\\HP\\Data_Analysis_Python\\Pandas_codegym\\Tiền xử lý dữ liệu\\Xử lý bộ dữ liệu Credit_scoring\\Credit_Scoring.csv')\n",
    "data.tail()"
   ]
  },
  {
   "cell_type": "code",
   "execution_count": 157,
   "id": "87a4607c",
   "metadata": {},
   "outputs": [
    {
     "name": "stdout",
     "output_type": "stream",
     "text": [
      "<class 'pandas.core.frame.DataFrame'>\n",
      "RangeIndex: 149992 entries, 0 to 149991\n",
      "Data columns (total 12 columns):\n",
      " #   Column                                Non-Null Count   Dtype  \n",
      "---  ------                                --------------   -----  \n",
      " 0   Unnamed: 0                            149992 non-null  int64  \n",
      " 1   SeriousDlqin2yrs                      149992 non-null  int64  \n",
      " 2   RevolvingUtilizationOfUnsecuredLines  149992 non-null  float64\n",
      " 3   age                                   149992 non-null  int64  \n",
      " 4   NumberOfTime30-59DaysPastDueNotWorse  149992 non-null  int64  \n",
      " 5   DebtRatio                             149992 non-null  float64\n",
      " 6   MonthlyIncome                         120262 non-null  float64\n",
      " 7   NumberOfOpenCreditLinesAndLoans       149992 non-null  int64  \n",
      " 8   NumberOfTimes90DaysLate               149992 non-null  int64  \n",
      " 9   NumberRealEstateLoansOrLines          149992 non-null  int64  \n",
      " 10  NumberOfTime60-89DaysPastDueNotWorse  149992 non-null  int64  \n",
      " 11  NumberOfDependents                    146068 non-null  float64\n",
      "dtypes: float64(4), int64(8)\n",
      "memory usage: 13.7 MB\n"
     ]
    }
   ],
   "source": [
    "data.info()"
   ]
  },
  {
   "cell_type": "code",
   "execution_count": 158,
   "id": "dc9ef8a3",
   "metadata": {},
   "outputs": [],
   "source": [
    "data.dropna(inplace=True)"
   ]
  },
  {
   "cell_type": "code",
   "execution_count": 159,
   "id": "7d39401f",
   "metadata": {},
   "outputs": [
    {
     "data": {
      "text/plain": [
       "Unnamed: 0                              0\n",
       "SeriousDlqin2yrs                        0\n",
       "RevolvingUtilizationOfUnsecuredLines    0\n",
       "age                                     0\n",
       "NumberOfTime30-59DaysPastDueNotWorse    0\n",
       "DebtRatio                               0\n",
       "MonthlyIncome                           0\n",
       "NumberOfOpenCreditLinesAndLoans         0\n",
       "NumberOfTimes90DaysLate                 0\n",
       "NumberRealEstateLoansOrLines            0\n",
       "NumberOfTime60-89DaysPastDueNotWorse    0\n",
       "NumberOfDependents                      0\n",
       "dtype: int64"
      ]
     },
     "execution_count": 159,
     "metadata": {},
     "output_type": "execute_result"
    }
   ],
   "source": [
    "data.isnull().sum()"
   ]
  },
  {
   "cell_type": "markdown",
   "id": "7e7cd576",
   "metadata": {},
   "source": [
    "#### 1. Có phải những khách hàng không có người phụ thuộc sẽ có thu nhập trung bình theo tháng (MonthlyIncome) nhỏ hơn những khách hàng có người phụ thuộc không (với mức ý nghĩa 10%)"
   ]
  },
  {
   "cell_type": "markdown",
   "id": "f98ab37d",
   "metadata": {},
   "source": [
    "Với mức ý nghĩa 10%:<br>\n",
    "    - H0: Những khách hàng không có người phụ thuộc sẽ có thu nhập trung bình bằng những khách hàng có người phụ thuộc<br>\n",
    "    - H1:  Những khách hàng không có người phụ thuộc sẽ có thu nhập trung bình nhỏ hơn những khách hàng có người phụ thuộc"
   ]
  },
  {
   "cell_type": "code",
   "execution_count": 160,
   "id": "ff92d335",
   "metadata": {},
   "outputs": [
    {
     "name": "stdout",
     "output_type": "stream",
     "text": [
      "ration = 2.874512647868794\n"
     ]
    }
   ],
   "source": [
    "a = data[data['NumberOfDependents'] == 0]['MonthlyIncome']\n",
    "b = data[data['NumberOfDependents'] != 0]['MonthlyIncome']\n",
    "var_a = np.var(a)\n",
    "var_b = np.var(b)\n",
    "print(f'ration = {var_a/var_b if var_a>var_b else var_b/var_a}')"
   ]
  },
  {
   "cell_type": "code",
   "execution_count": 161,
   "id": "6827a588",
   "metadata": {},
   "outputs": [
    {
     "data": {
      "text/plain": [
       "Ttest_indResult(statistic=-21.042068853166636, pvalue=4.066681887306811e-98)"
      ]
     },
     "execution_count": 161,
     "metadata": {},
     "output_type": "execute_result"
    }
   ],
   "source": [
    "stats.ttest_ind(a,b, equal_var=True)"
   ]
  },
  {
   "cell_type": "markdown",
   "id": "2a23b9e0",
   "metadata": {},
   "source": [
    "pvalue<0.1 => Đủ điều kiện bác bỏ H0 <br>\n",
    "statistic = -21.04 < -1.282 => Có thể kết luận những khách hàng không có người phụ thuộc sẽ có thu nhập trung bình nhỏ hơn những khách hàng có người phụ thuộc"
   ]
  },
  {
   "cell_type": "code",
   "execution_count": 162,
   "id": "1731c98f",
   "metadata": {},
   "outputs": [
    {
     "data": {
      "text/plain": [
       "65452"
      ]
     },
     "execution_count": 162,
     "metadata": {},
     "output_type": "execute_result"
    }
   ],
   "source": [
    "a.count()"
   ]
  },
  {
   "cell_type": "code",
   "execution_count": 163,
   "id": "69cb6551",
   "metadata": {},
   "outputs": [
    {
     "data": {
      "text/plain": [
       "54810"
      ]
     },
     "execution_count": 163,
     "metadata": {},
     "output_type": "execute_result"
    }
   ],
   "source": [
    "b.count()"
   ]
  },
  {
   "cell_type": "markdown",
   "id": "6ac8e92e",
   "metadata": {},
   "source": [
    "#### 2. Có phải trung bình số lượng khoản vay (NumberOfOpenCreditLinesAndLoans) những khách hàng gặp khó khăn trong vòng 2 năm trở lại đây (SeriousDlqin2yrs =1) thì sẽ cao hơn những khách hàng không gặp khó khăn không với mức ý nghĩa 10%"
   ]
  },
  {
   "cell_type": "markdown",
   "id": "f5105029",
   "metadata": {},
   "source": [
    "Với mức ý nghĩa 10% <br>\n",
    "- H0: trung bình số lượng khoản vay (NumberOfOpenCreditLinesAndLoans) những khách hàng gặp khó khăn trong vòng 2 năm trở lại đây (SeriousDlqin2yrs =1) bằng những khách hàng không gặp khó khăn<br>\n",
    "- H1: trung bình số lượng khoản vay (NumberOfOpenCreditLinesAndLoans) những khách hàng gặp khó khăn trong vòng 2 năm trở lại đây (SeriousDlqin2yrs =1) thì sẽ cao hơn những khách hàng không gặp khó khăn"
   ]
  },
  {
   "cell_type": "code",
   "execution_count": 164,
   "id": "f9bc2808",
   "metadata": {},
   "outputs": [
    {
     "name": "stdout",
     "output_type": "stream",
     "text": [
      "ration = 1.211274628720338\n"
     ]
    }
   ],
   "source": [
    "a = data[data['SeriousDlqin2yrs'] == 1]['NumberOfOpenCreditLinesAndLoans']\n",
    "b = data[data['SeriousDlqin2yrs'] == 0]['NumberOfOpenCreditLinesAndLoans']\n",
    "var_a = np.var(a)\n",
    "var_b = np.var(b)\n",
    "print(f'ration = {var_a/var_b if var_a>var_b else var_b/var_a}')"
   ]
  },
  {
   "cell_type": "code",
   "execution_count": 165,
   "id": "9c27015e",
   "metadata": {},
   "outputs": [
    {
     "data": {
      "text/plain": [
       "Ttest_indResult(statistic=-9.533971212477503, pvalue=1.540580742334634e-21)"
      ]
     },
     "execution_count": 165,
     "metadata": {},
     "output_type": "execute_result"
    }
   ],
   "source": [
    "stats.ttest_ind(a,b, equal_var=True)"
   ]
  },
  {
   "cell_type": "markdown",
   "id": "b284de47",
   "metadata": {},
   "source": [
    "statistic < 1.282 không thể bác bỏ H0 "
   ]
  },
  {
   "cell_type": "markdown",
   "id": "afa6e315",
   "metadata": {},
   "source": [
    "#### 3. Giữa độ tuổi (age) và thu nhập trung bình theo tháng (MonthlyIncome) có tương quan với nhau hay không?"
   ]
  },
  {
   "cell_type": "code",
   "execution_count": null,
   "id": "9e04dcbe",
   "metadata": {},
   "outputs": [],
   "source": []
  },
  {
   "cell_type": "code",
   "execution_count": 166,
   "id": "fb66a14a",
   "metadata": {},
   "outputs": [
    {
     "data": {
      "image/png": "[encoded data removed]",
      "text/plain": [
       "<Figure size 360x360 with 1 Axes>"
      ]
     },
     "metadata": {
      "needs_background": "light"
     },
     "output_type": "display_data"
    }
   ],
   "source": [
    "sns.lmplot(x='age', y='MonthlyIncome', data=data)\n",
    "plt.show()"
   ]
  },
  {
   "cell_type": "markdown",
   "id": "6ed737d0",
   "metadata": {},
   "source": [
    "Với mức ý nghĩa 5%:<br>\n",
    "    H0: Giữa tuổi và thu nhập không có mối tương quan<br>\n",
    "    H1: Giữa tuổi và thu nhập có mối tương quan"
   ]
  },
  {
   "cell_type": "code",
   "execution_count": 167,
   "id": "f4a554f8",
   "metadata": {},
   "outputs": [
    {
     "data": {
      "text/plain": [
       "(0.03772151543470242, 3.964657234287844e-39)"
      ]
     },
     "execution_count": 167,
     "metadata": {},
     "output_type": "execute_result"
    }
   ],
   "source": [
    "stats.pearsonr(data['age'], data['MonthlyIncome'])"
   ]
  },
  {
   "cell_type": "markdown",
   "id": "8111a979",
   "metadata": {},
   "source": [
    "pvalue<0.05, đủ điều kiện bác bỏ H0, có thể kết luận giữa tuổi và thu nhập có tương quan tuy nhiên tương quan là rất yếu"
   ]
  },
  {
   "cell_type": "code",
   "execution_count": 168,
   "id": "118f44f2",
   "metadata": {},
   "outputs": [],
   "source": [
    "data['age_ordinal'] = pd.qcut(data['age'], 4, labels =[1,2,3,4])"
   ]
  },
  {
   "cell_type": "code",
   "execution_count": 169,
   "id": "fe9a947c",
   "metadata": {},
   "outputs": [
    {
     "data": {
      "text/plain": [
       "[3, 1, 2, 4]\n",
       "Categories (4, int64): [1 < 2 < 3 < 4]"
      ]
     },
     "execution_count": 169,
     "metadata": {},
     "output_type": "execute_result"
    }
   ],
   "source": [
    "data['age_ordinal'].unique()"
   ]
  },
  {
   "cell_type": "code",
   "execution_count": 170,
   "id": "57a2a061",
   "metadata": {},
   "outputs": [
    {
     "data": {
      "text/plain": [
       "SpearmanrResult(correlation=0.12445739781331167, pvalue=0.0)"
      ]
     },
     "execution_count": 170,
     "metadata": {},
     "output_type": "execute_result"
    }
   ],
   "source": [
    "stats.spearmanr(data['age_ordinal'], data['MonthlyIncome'])"
   ]
  },
  {
   "cell_type": "markdown",
   "id": "c5d1d245",
   "metadata": {},
   "source": [
    "#### 4. Giữa số lượng khoản vay (NumberOfOpenCreditLinesAndLoans) và độ tuổi có tương quan với nhau không<br>"
   ]
  },
  {
   "cell_type": "code",
   "execution_count": 171,
   "id": "97bd6e58",
   "metadata": {},
   "outputs": [
    {
     "data": {
      "text/plain": [
       "(0.18711295715964155, 0.0)"
      ]
     },
     "execution_count": 171,
     "metadata": {},
     "output_type": "execute_result"
    }
   ],
   "source": [
    "stats.pearsonr(data['age'], data['NumberOfOpenCreditLinesAndLoans'])"
   ]
  },
  {
   "cell_type": "markdown",
   "id": "5565b7e0",
   "metadata": {},
   "source": [
    "p_value<0.05, bác bỏ H0, kết luận giữa biên tuổi và khoản vay có tương quan nhưng tương quan yếu"
   ]
  },
  {
   "cell_type": "markdown",
   "id": "6da4f285",
   "metadata": {},
   "source": [
    "#### 5. Giữa (số lượng người phụ thuộc) NumberOfDependents và thu nhập theo tháng (MonthlyIncome) có tương quan với nhau hay không<br>"
   ]
  },
  {
   "cell_type": "code",
   "execution_count": 172,
   "id": "15d1ed1a",
   "metadata": {},
   "outputs": [
    {
     "data": {
      "text/plain": [
       "(0.0626714454917063, 6.211808987902723e-105)"
      ]
     },
     "execution_count": 172,
     "metadata": {},
     "output_type": "execute_result"
    }
   ],
   "source": [
    "stats.pearsonr(data['NumberOfDependents'], data['MonthlyIncome'])"
   ]
  },
  {
   "cell_type": "markdown",
   "id": "fbe35204",
   "metadata": {},
   "source": [
    "pvalue < 0.05 kết luận giữa 2 biến có tương quan nhưng tương quan yếu"
   ]
  },
  {
   "cell_type": "markdown",
   "id": "9d1b6e92",
   "metadata": {},
   "source": [
    "#### 6. Mã hóa lại thuộc tính MonthlyIncome thành thuộc tính MonthlyIncome_order theo các khoảng tứ phân vị, giữa thuộc tính mới này và tình trạng nợ xấu trong 2 năm trở lại đây (SeriousDlqin2yrs) có liên quan tới nhau không"
   ]
  },
  {
   "cell_type": "code",
   "execution_count": 180,
   "id": "28ff45b9",
   "metadata": {},
   "outputs": [],
   "source": [
    "data['MonthlyIncome_ordinal'] = pd.qcut(data['MonthlyIncome'], 4, labels =[1,2,3,4])"
   ]
  },
  {
   "cell_type": "code",
   "execution_count": 181,
   "id": "f82d56fc",
   "metadata": {},
   "outputs": [],
   "source": [
    "new_data = data.pivot_table(values='Unnamed: 0', index='MonthlyIncome_ordinal', columns='SeriousDlqin2yrs', aggfunc='count')"
   ]
  },
  {
   "cell_type": "code",
   "execution_count": 182,
   "id": "deb36243",
   "metadata": {},
   "outputs": [],
   "source": [
    "from scipy.stats import chi2_contingency"
   ]
  },
  {
   "cell_type": "code",
   "execution_count": 183,
   "id": "f97268a6",
   "metadata": {},
   "outputs": [
    {
     "name": "stdout",
     "output_type": "stream",
     "text": [
      "Chi-square value=  565.6248673547275\n",
      "pvalue=  2.851613991246402e-122\n",
      "degree of freedom=  3\n",
      "expected table=  [[28181.67930019  2104.32069981]\n",
      " [27937.88348772  2086.11651228]\n",
      " [27817.84661822  2077.15338178]\n",
      " [27968.59059387  2088.40940613]]\n"
     ]
    }
   ],
   "source": [
    "chi, p, dof, expected = chi2_contingency(new_data)\n",
    "print('Chi-square value= ', chi)\n",
    "print('pvalue= ', p)\n",
    "print('degree of freedom= ', dof)\n",
    "print('expected table= ', expected)"
   ]
  },
  {
   "cell_type": "markdown",
   "id": "e73f3c25",
   "metadata": {},
   "source": [
    "pvalue<0.05, bác bỏ H0, 2 biến monthlyIncome và SeriousDlqin2yrs có tương quan với nhau"
   ]
  },
  {
   "cell_type": "code",
   "execution_count": null,
   "id": "90ebc8ed",
   "metadata": {},
   "outputs": [],
   "source": []
  }
 ],
 "metadata": {
  "kernelspec": {
   "display_name": "Python 3 (ipykernel)",
   "language": "python",
   "name": "python3"
  },
  "language_info": {
   "codemirror_mode": {
    "name": "ipython",
    "version": 3
   },
   "file_extension": ".py",
   "mimetype": "text/x-python",
   "name": "python",
   "nbconvert_exporter": "python",
   "pygments_lexer": "ipython3",
   "version": "3.9.12"
  }
 },
 "nbformat": 4,
 "nbformat_minor": 5
}
