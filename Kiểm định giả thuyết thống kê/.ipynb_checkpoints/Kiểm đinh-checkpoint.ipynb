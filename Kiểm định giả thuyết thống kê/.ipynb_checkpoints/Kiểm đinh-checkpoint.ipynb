{
 "cells": [
  {
   "cell_type": "markdown",
   "id": "e99d3089",
   "metadata": {},
   "source": [
    "### 1.Kiểm định giá trị trung bình<br>\n",
    "- One sample T-test"
   ]
  },
  {
   "cell_type": "code",
   "execution_count": 1,
   "id": "cc15c41e",
   "metadata": {},
   "outputs": [],
   "source": [
    "income = [1120, 1450, 2300, 3540, 4120, 4560, 5490, 3460, 4750, 2300, \n",
    "          9050, 8630, 8125, 7230, 3750]"
   ]
  },
  {
   "cell_type": "markdown",
   "id": "e6ce2f08",
   "metadata": {},
   "source": [
    "Bước 1: Viết giả thuyết H0 và HA\n",
    "    - H0: Thu nhập bình quân đầu người/năm của tỉnh Nghệ An bằng 5000$\n",
    "    - H1: Thu nhâp bình quân đầu người/năm khác 5000$"
   ]
  },
  {
   "cell_type": "code",
   "execution_count": 2,
   "id": "1611eac7",
   "metadata": {},
   "outputs": [
    {
     "data": {
      "text/plain": [
       "4658.333333333333"
      ]
     },
     "execution_count": 2,
     "metadata": {},
     "output_type": "execute_result"
    }
   ],
   "source": [
    "sample_mean = sum(income)/len(income)\n",
    "sample_mean"
   ]
  },
  {
   "cell_type": "code",
   "execution_count": 3,
   "id": "7db0fd87",
   "metadata": {},
   "outputs": [],
   "source": [
    "pop_mean = 5000"
   ]
  },
  {
   "cell_type": "code",
   "execution_count": 4,
   "id": "98db27c1",
   "metadata": {},
   "outputs": [
    {
     "data": {
      "text/plain": [
       "2478.441490578751"
      ]
     },
     "execution_count": 4,
     "metadata": {},
     "output_type": "execute_result"
    }
   ],
   "source": [
    "from math import sqrt\n",
    "s_squared = 0\n",
    "for i in income:\n",
    "    s_squared += (i-sample_mean)**2\n",
    "s = sqrt(s_squared/len(income))\n",
    "s"
   ]
  },
  {
   "cell_type": "code",
   "execution_count": 5,
   "id": "b729f553",
   "metadata": {},
   "outputs": [
    {
     "data": {
      "text/plain": [
       "15"
      ]
     },
     "execution_count": 5,
     "metadata": {},
     "output_type": "execute_result"
    }
   ],
   "source": [
    "n =len(income)\n",
    "n"
   ]
  },
  {
   "cell_type": "code",
   "execution_count": 6,
   "id": "a97bdca3",
   "metadata": {},
   "outputs": [
    {
     "data": {
      "text/plain": [
       "-0.533911861540536"
      ]
     },
     "execution_count": 6,
     "metadata": {},
     "output_type": "execute_result"
    }
   ],
   "source": [
    "t_calculated = (sample_mean - pop_mean)*sqrt(n)/s\n",
    "t_calculated"
   ]
  },
  {
   "cell_type": "code",
   "execution_count": 7,
   "id": "35fe1e3a",
   "metadata": {},
   "outputs": [],
   "source": [
    "t_critical = 2.145"
   ]
  },
  {
   "cell_type": "code",
   "execution_count": 8,
   "id": "4bbd8c89",
   "metadata": {},
   "outputs": [
    {
     "name": "stdout",
     "output_type": "stream",
     "text": [
      "Do t_calculated = -0.533911861540536<t_critical = 2.145,     vậy với alpha =0.05, H0 đúng, HA sai, nghĩa là trung bình thu nhập/năm =5000$\n"
     ]
    }
   ],
   "source": [
    "if t_calculated<= t_critical:\n",
    "    print(f'Do t_calculated = {t_calculated}<t_critical = {t_critical}, \\\n",
    "    vậy với alpha =0.05, H0 đúng, HA sai, nghĩa là trung bình thu nhập/năm =5000$')"
   ]
  },
  {
   "cell_type": "code",
   "execution_count": 9,
   "id": "e9a8b3d6",
   "metadata": {},
   "outputs": [],
   "source": [
    "import numpy as np\n",
    "import scipy.stats as stats"
   ]
  },
  {
   "cell_type": "code",
   "execution_count": 10,
   "id": "c596e4c0",
   "metadata": {},
   "outputs": [
    {
     "data": {
      "text/plain": [
       "[1120,\n",
       " 1450,\n",
       " 2300,\n",
       " 3540,\n",
       " 4120,\n",
       " 4560,\n",
       " 5490,\n",
       " 3460,\n",
       " 4750,\n",
       " 2300,\n",
       " 9050,\n",
       " 8630,\n",
       " 8125,\n",
       " 7230,\n",
       " 3750]"
      ]
     },
     "execution_count": 10,
     "metadata": {},
     "output_type": "execute_result"
    }
   ],
   "source": [
    "income"
   ]
  },
  {
   "cell_type": "code",
   "execution_count": 11,
   "id": "88a90702",
   "metadata": {},
   "outputs": [
    {
     "name": "stdout",
     "output_type": "stream",
     "text": [
      "t_statistic =  -0.5158078623228827\n",
      "p_value 0.614037791906036\n"
     ]
    }
   ],
   "source": [
    "t_statistic, p_value = stats.ttest_1samp(a=income, popmean=5000)\n",
    "print('t_statistic = ', t_statistic)\n",
    "print('p_value', p_value)"
   ]
  },
  {
   "cell_type": "markdown",
   "id": "e098a0ef",
   "metadata": {},
   "source": [
    "### 2. Kiểm định giá trị trung bình độc lập"
   ]
  },
  {
   "cell_type": "markdown",
   "id": "a9888c40",
   "metadata": {},
   "source": [
    "Cho 2 tập dữ liệu là chiều cao của một nhóm 15 hs. Kiểm tra hai lớp có cùng chiều cao tb hay không?"
   ]
  },
  {
   "cell_type": "code",
   "execution_count": 12,
   "id": "3b5a6b72",
   "metadata": {},
   "outputs": [
    {
     "name": "stdout",
     "output_type": "stream",
     "text": [
      "Phương sai 1:  5.086875000000001\n",
      "Phương sai 2:  9.711875000000001\n"
     ]
    }
   ],
   "source": [
    "stud_group1 = np.array([14, 15, 15, 16, 13, 14.5, 14,\n",
    "                        17, 16, 14, 19, 20, 21, 15,\n",
    "                        15, 16, 16, 13, 14, 12])\n",
    "stud_group2 = np.array([15, 17, 14, 17, 14, 12.5, 12,\n",
    "                        19, 19, 14, 17, 22, 24, 16,\n",
    "                        13, 16, 13, 18, 15, 13])\n",
    "var_gp1 = np.var(stud_group1)\n",
    "var_gp2 = np.var(stud_group2)\n",
    "print('Phương sai 1: ',var_gp1)\n",
    "print('Phương sai 2: ',var_gp2)"
   ]
  },
  {
   "cell_type": "code",
   "execution_count": 13,
   "id": "1e6cac41",
   "metadata": {},
   "outputs": [
    {
     "data": {
      "text/plain": [
       "'2:1'"
      ]
     },
     "execution_count": 13,
     "metadata": {},
     "output_type": "execute_result"
    }
   ],
   "source": [
    "ratio = f'{round(var_gp1/var_gp2)}:1' if var_gp1>var_gp2 else\\\n",
    "f'{round(var_gp2/var_gp1)}:1'\n",
    "ratio"
   ]
  },
  {
   "cell_type": "code",
   "execution_count": 14,
   "id": "7bc34a7a",
   "metadata": {},
   "outputs": [
    {
     "data": {
      "text/plain": [
       "Ttest_indResult(statistic=-0.6231993234428195, pvalue=0.5368762754915417)"
      ]
     },
     "execution_count": 14,
     "metadata": {},
     "output_type": "execute_result"
    }
   ],
   "source": [
    "#2 sample t-test\n",
    "stats.ttest_ind(a=stud_group1, b=stud_group2, equal_var=True)"
   ]
  },
  {
   "cell_type": "markdown",
   "id": "52729a46",
   "metadata": {},
   "source": [
    "Đọc kết quả<br>\n",
    "H0 chiều cao trung bình của lớp thứ nhất bằng chiều cao trung bình của học sinh lớp thứ 2<br>\n",
    "H1 chiều cao trung bình của lớp thứ nhất khác chiều cao trung bình của học sinh lớp thứ 2<br>\n",
    "Vì pvalue>0.05 nên H0 đúng"
   ]
  },
  {
   "cell_type": "markdown",
   "id": "e4aab9c0",
   "metadata": {},
   "source": [
    "### 3. Kiểm định so sánh cặp "
   ]
  },
  {
   "cell_type": "markdown",
   "id": "a0f2868c",
   "metadata": {},
   "source": [
    "Cho 2 tập dữ liệu là số lít sữa mà mối con bò sữ sản xuất được trước và sau khi ăn cỏ lên men, 10 con bò thực hiên. Kiểm tra sự khác nhau về số lượng sữa tb thu được trước và sau khi thay đổi chế độ ăn"
   ]
  },
  {
   "cell_type": "code",
   "execution_count": 15,
   "id": "4570c60e",
   "metadata": {},
   "outputs": [
    {
     "data": {
      "text/plain": [
       "Ttest_relResult(statistic=-2.7924259052209988, pvalue=0.020970546617932826)"
      ]
     },
     "execution_count": 15,
     "metadata": {},
     "output_type": "execute_result"
    }
   ],
   "source": [
    "milk_group1 = [30,31,32,38,32,31,32,29,28,30]\n",
    "milk_group2 = [30,31,34,40,35,36,34,36,28,30]\n",
    "stats.ttest_rel(milk_group1,milk_group2)"
   ]
  },
  {
   "cell_type": "markdown",
   "id": "070fe848",
   "metadata": {},
   "source": [
    "H0: Trung bình năng suất sữa trước và sau khi thay đổi chế độ ăn bằng nhau<br>\n",
    "H1: Trung bình năng suất sữa trước và sau khi thay đổi chế độ ăn không bằng nhau<br>\n",
    "    Giả sử alpha=0.05, ta thấy pvalue<alpha, do đó H0 là sai. Vì vậy với độ sai lệch là 5%, ta có đủ chứng cứ để kết luận rằng năng suất sữa trung bình trước và sau khi thay đổi chế độ ăn trong trang trại là khác nhau"
   ]
  },
  {
   "cell_type": "markdown",
   "id": "f8d39752",
   "metadata": {},
   "source": [
    "# KIỂM ĐỊNH TƯƠNG QUAN"
   ]
  },
  {
   "cell_type": "code",
   "execution_count": 1,
   "id": "b029f20d",
   "metadata": {},
   "outputs": [],
   "source": [
    "import pandas as pd\n",
    "import matplotlib.pyplot as plt\n",
    "from scipy.stats import pearsonr\n",
    "from math import sqrt"
   ]
  },
  {
   "cell_type": "code",
   "execution_count": 2,
   "id": "4d099673",
   "metadata": {},
   "outputs": [],
   "source": [
    "weight = [3.63, 3.02, 3.15, 3.42, 3.59, 2.87, 3.03, 3.25, 3.36, 3.3]\n",
    "length = [53.1, 49.7, 48.4, 54.2, 54.9, 43.7, 47.2, 45.2, 54.4, 50.4]"
   ]
  },
  {
   "cell_type": "code",
   "execution_count": 3,
   "id": "50947152",
   "metadata": {},
   "outputs": [
    {
     "data": {
      "image/png": "[encoded data removed]",
      "text/plain": [
       "<Figure size 432x288 with 1 Axes>"
      ]
     },
     "metadata": {
      "needs_background": "light"
     },
     "output_type": "display_data"
    }
   ],
   "source": [
    "plt.scatter(x= length, y=weight)\n",
    "plt.show()\n",
    "#có thể có tương quan, xu hướng là đường thẳng"
   ]
  },
  {
   "cell_type": "code",
   "execution_count": 4,
   "id": "86ced40f",
   "metadata": {},
   "outputs": [
    {
     "data": {
      "text/plain": [
       "7.286599999999996"
      ]
     },
     "execution_count": 4,
     "metadata": {},
     "output_type": "execute_result"
    }
   ],
   "source": [
    "w_mean = sum(weight)/len(weight)\n",
    "ls_mean = sum(length)/len(length)\n",
    "ts = 0\n",
    "for i in range(len(weight)):\n",
    "    ts+=(weight[i] - w_mean)*(length[i] - ls_mean)\n",
    "ts"
   ]
  },
  {
   "cell_type": "code",
   "execution_count": 5,
   "id": "537ce08b",
   "metadata": {},
   "outputs": [
    {
     "data": {
      "text/plain": [
       "8.957517656136655"
      ]
     },
     "execution_count": 5,
     "metadata": {},
     "output_type": "execute_result"
    }
   ],
   "source": [
    "ms1 = 0\n",
    "ms2 = 0\n",
    "for i in range(len(weight)):\n",
    "    ms1 += (weight[i] - w_mean)**2\n",
    "    ms2 += (length[i] - ls_mean)**2\n",
    "ms = sqrt(ms1*ms2)\n",
    "ms"
   ]
  },
  {
   "cell_type": "code",
   "execution_count": 6,
   "id": "6741a3dc",
   "metadata": {},
   "outputs": [
    {
     "data": {
      "text/plain": [
       "0.8134619745915946"
      ]
     },
     "execution_count": 6,
     "metadata": {},
     "output_type": "execute_result"
    }
   ],
   "source": [
    "r = ts/ms\n",
    "r"
   ]
  },
  {
   "cell_type": "code",
   "execution_count": 7,
   "id": "1def2c60",
   "metadata": {},
   "outputs": [],
   "source": [
    "#=> r>0 và gần 1 có thể kết luận chiều dài và cân nặng của trẻ sơ sinh có mối quan hệ chặt chẽ"
   ]
  },
  {
   "cell_type": "code",
   "execution_count": 8,
   "id": "61ccdefd",
   "metadata": {},
   "outputs": [
    {
     "name": "stdout",
     "output_type": "stream",
     "text": [
      "r =  0.8134619745915945\n",
      "pvalue =  0.00420116230004526\n"
     ]
    }
   ],
   "source": [
    "r, pvalue = pearsonr(length, weight)\n",
    "print('r = ', r)\n",
    "print('pvalue = ', pvalue)"
   ]
  },
  {
   "cell_type": "code",
   "execution_count": 9,
   "id": "fe829df1",
   "metadata": {},
   "outputs": [],
   "source": [
    "# pvalue<ampha (0.05) =>n bác bỏ H0 tức r khác 0"
   ]
  },
  {
   "cell_type": "code",
   "execution_count": null,
   "id": "78242176",
   "metadata": {},
   "outputs": [],
   "source": []
  },
  {
   "cell_type": "code",
   "execution_count": null,
   "id": "a89b8fac",
   "metadata": {},
   "outputs": [],
   "source": []
  },
  {
   "cell_type": "code",
   "execution_count": null,
   "id": "e516cfda",
   "metadata": {},
   "outputs": [],
   "source": []
  },
  {
   "cell_type": "code",
   "execution_count": null,
   "id": "0b97e3e7",
   "metadata": {},
   "outputs": [],
   "source": []
  },
  {
   "cell_type": "code",
   "execution_count": null,
   "id": "d9cf4fb9",
   "metadata": {},
   "outputs": [],
   "source": []
  }
 ],
 "metadata": {
  "kernelspec": {
   "display_name": "Python 3 (ipykernel)",
   "language": "python",
   "name": "python3"
  },
  "language_info": {
   "codemirror_mode": {
    "name": "ipython",
    "version": 3
   },
   "file_extension": ".py",
   "mimetype": "text/x-python",
   "name": "python",
   "nbconvert_exporter": "python",
   "pygments_lexer": "ipython3",
   "version": "3.9.12"
  }
 },
 "nbformat": 4,
 "nbformat_minor": 5
}
