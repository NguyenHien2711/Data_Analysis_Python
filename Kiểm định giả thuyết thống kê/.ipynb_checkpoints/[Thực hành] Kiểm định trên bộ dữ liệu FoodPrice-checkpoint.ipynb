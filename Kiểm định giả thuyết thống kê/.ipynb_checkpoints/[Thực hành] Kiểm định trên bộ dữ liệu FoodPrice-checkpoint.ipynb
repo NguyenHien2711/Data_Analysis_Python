{
 "cells": [
  {
   "cell_type": "markdown",
   "id": "4c58053f",
   "metadata": {},
   "source": [
    "Với mức ý nghĩa 5% hay kiểm định giả thuyết: giá bán lẻ gạo trung bình năm 2019 là 9.5 (Lira)/1 kg Turkish Lira là đơn vị tiền tệ ở Turkey (1usd ~ 8-9 Lira)"
   ]
  },
  {
   "cell_type": "code",
   "execution_count": 35,
   "id": "03062e9b",
   "metadata": {},
   "outputs": [],
   "source": [
    "import pandas as pd\n",
    "import numpy as np\n",
    "from scipy import stats\n",
    "import matplotlib.pyplot as plt\n",
    "import seaborn as sns"
   ]
  },
  {
   "cell_type": "code",
   "execution_count": 36,
   "id": "fde5985c",
   "metadata": {},
   "outputs": [
    {
     "data": {
      "text/html": [
       "<div>\n",
       "<style scoped>\n",
       "    .dataframe tbody tr th:only-of-type {\n",
       "        vertical-align: middle;\n",
       "    }\n",
       "\n",
       "    .dataframe tbody tr th {\n",
       "        vertical-align: top;\n",
       "    }\n",
       "\n",
       "    .dataframe thead th {\n",
       "        text-align: right;\n",
       "    }\n",
       "</style>\n",
       "<table border=\"1\" class=\"dataframe\">\n",
       "  <thead>\n",
       "    <tr style=\"text-align: right;\">\n",
       "      <th></th>\n",
       "      <th>Place</th>\n",
       "      <th>ProductId</th>\n",
       "      <th>ProductName</th>\n",
       "      <th>UmId</th>\n",
       "      <th>UmName</th>\n",
       "      <th>Month</th>\n",
       "      <th>Year</th>\n",
       "      <th>Price</th>\n",
       "    </tr>\n",
       "  </thead>\n",
       "  <tbody>\n",
       "    <tr>\n",
       "      <th>0</th>\n",
       "      <td>National Average</td>\n",
       "      <td>52</td>\n",
       "      <td>Rice - Retail</td>\n",
       "      <td>5</td>\n",
       "      <td>KG</td>\n",
       "      <td>5</td>\n",
       "      <td>2013</td>\n",
       "      <td>4.4920</td>\n",
       "    </tr>\n",
       "    <tr>\n",
       "      <th>1</th>\n",
       "      <td>National Average</td>\n",
       "      <td>52</td>\n",
       "      <td>Rice - Retail</td>\n",
       "      <td>5</td>\n",
       "      <td>KG</td>\n",
       "      <td>6</td>\n",
       "      <td>2013</td>\n",
       "      <td>4.5786</td>\n",
       "    </tr>\n",
       "    <tr>\n",
       "      <th>2</th>\n",
       "      <td>National Average</td>\n",
       "      <td>52</td>\n",
       "      <td>Rice - Retail</td>\n",
       "      <td>5</td>\n",
       "      <td>KG</td>\n",
       "      <td>11</td>\n",
       "      <td>2013</td>\n",
       "      <td>4.7865</td>\n",
       "    </tr>\n",
       "    <tr>\n",
       "      <th>3</th>\n",
       "      <td>National Average</td>\n",
       "      <td>52</td>\n",
       "      <td>Rice - Retail</td>\n",
       "      <td>5</td>\n",
       "      <td>KG</td>\n",
       "      <td>12</td>\n",
       "      <td>2013</td>\n",
       "      <td>5.1337</td>\n",
       "    </tr>\n",
       "  </tbody>\n",
       "</table>\n",
       "</div>"
      ],
      "text/plain": [
       "              Place  ProductId    ProductName  UmId UmName  Month  Year  \\\n",
       "0  National Average         52  Rice - Retail     5     KG      5  2013   \n",
       "1  National Average         52  Rice - Retail     5     KG      6  2013   \n",
       "2  National Average         52  Rice - Retail     5     KG     11  2013   \n",
       "3  National Average         52  Rice - Retail     5     KG     12  2013   \n",
       "\n",
       "    Price  \n",
       "0  4.4920  \n",
       "1  4.5786  \n",
       "2  4.7865  \n",
       "3  5.1337  "
      ]
     },
     "execution_count": 36,
     "metadata": {},
     "output_type": "execute_result"
    }
   ],
   "source": [
    "df = pd.read_csv(r'C:\\Users\\HP\\Data_Analysis_Python\\Codegym_bài tập\\FoodPrice_in_Turkey.csv')\n",
    "df.head(4)"
   ]
  },
  {
   "cell_type": "code",
   "execution_count": 37,
   "id": "8de1b58f",
   "metadata": {},
   "outputs": [
    {
     "name": "stdout",
     "output_type": "stream",
     "text": [
      "<class 'pandas.core.frame.DataFrame'>\n",
      "RangeIndex: 7381 entries, 0 to 7380\n",
      "Data columns (total 8 columns):\n",
      " #   Column       Non-Null Count  Dtype  \n",
      "---  ------       --------------  -----  \n",
      " 0   Place        7381 non-null   object \n",
      " 1   ProductId    7381 non-null   int64  \n",
      " 2   ProductName  7381 non-null   object \n",
      " 3   UmId         7381 non-null   int64  \n",
      " 4   UmName       7381 non-null   object \n",
      " 5   Month        7381 non-null   int64  \n",
      " 6   Year         7381 non-null   int64  \n",
      " 7   Price        7381 non-null   float64\n",
      "dtypes: float64(1), int64(4), object(3)\n",
      "memory usage: 461.4+ KB\n"
     ]
    }
   ],
   "source": [
    "df.info()"
   ]
  },
  {
   "cell_type": "markdown",
   "id": "4ae8018b",
   "metadata": {},
   "source": [
    "Với mức ý nghĩa 5% hay kiểm định giả thuyết: giá bán lẻ gạo trung bình năm 2019 là 9.5 (Lira)/1 kg Turkish Lira là đơn vị tiền tệ ở Turkey (1usd ~ 8-9 Lira)"
   ]
  },
  {
   "cell_type": "code",
   "execution_count": 38,
   "id": "d753846d",
   "metadata": {},
   "outputs": [
    {
     "data": {
      "text/html": [
       "<div>\n",
       "<style scoped>\n",
       "    .dataframe tbody tr th:only-of-type {\n",
       "        vertical-align: middle;\n",
       "    }\n",
       "\n",
       "    .dataframe tbody tr th {\n",
       "        vertical-align: top;\n",
       "    }\n",
       "\n",
       "    .dataframe thead th {\n",
       "        text-align: right;\n",
       "    }\n",
       "</style>\n",
       "<table border=\"1\" class=\"dataframe\">\n",
       "  <thead>\n",
       "    <tr style=\"text-align: right;\">\n",
       "      <th></th>\n",
       "      <th>Place</th>\n",
       "      <th>ProductId</th>\n",
       "      <th>ProductName</th>\n",
       "      <th>UmId</th>\n",
       "      <th>UmName</th>\n",
       "      <th>Month</th>\n",
       "      <th>Year</th>\n",
       "      <th>Price</th>\n",
       "    </tr>\n",
       "  </thead>\n",
       "  <tbody>\n",
       "    <tr>\n",
       "      <th>54</th>\n",
       "      <td>National Average</td>\n",
       "      <td>52</td>\n",
       "      <td>Rice - Retail</td>\n",
       "      <td>5</td>\n",
       "      <td>KG</td>\n",
       "      <td>1</td>\n",
       "      <td>2019</td>\n",
       "      <td>8.4275</td>\n",
       "    </tr>\n",
       "    <tr>\n",
       "      <th>55</th>\n",
       "      <td>National Average</td>\n",
       "      <td>52</td>\n",
       "      <td>Rice - Retail</td>\n",
       "      <td>5</td>\n",
       "      <td>KG</td>\n",
       "      <td>2</td>\n",
       "      <td>2019</td>\n",
       "      <td>8.7656</td>\n",
       "    </tr>\n",
       "    <tr>\n",
       "      <th>56</th>\n",
       "      <td>National Average</td>\n",
       "      <td>52</td>\n",
       "      <td>Rice - Retail</td>\n",
       "      <td>5</td>\n",
       "      <td>KG</td>\n",
       "      <td>3</td>\n",
       "      <td>2019</td>\n",
       "      <td>8.8101</td>\n",
       "    </tr>\n",
       "    <tr>\n",
       "      <th>57</th>\n",
       "      <td>National Average</td>\n",
       "      <td>52</td>\n",
       "      <td>Rice - Retail</td>\n",
       "      <td>5</td>\n",
       "      <td>KG</td>\n",
       "      <td>4</td>\n",
       "      <td>2019</td>\n",
       "      <td>8.9266</td>\n",
       "    </tr>\n",
       "    <tr>\n",
       "      <th>58</th>\n",
       "      <td>National Average</td>\n",
       "      <td>52</td>\n",
       "      <td>Rice - Retail</td>\n",
       "      <td>5</td>\n",
       "      <td>KG</td>\n",
       "      <td>5</td>\n",
       "      <td>2019</td>\n",
       "      <td>9.1866</td>\n",
       "    </tr>\n",
       "  </tbody>\n",
       "</table>\n",
       "</div>"
      ],
      "text/plain": [
       "               Place  ProductId    ProductName  UmId UmName  Month  Year  \\\n",
       "54  National Average         52  Rice - Retail     5     KG      1  2019   \n",
       "55  National Average         52  Rice - Retail     5     KG      2  2019   \n",
       "56  National Average         52  Rice - Retail     5     KG      3  2019   \n",
       "57  National Average         52  Rice - Retail     5     KG      4  2019   \n",
       "58  National Average         52  Rice - Retail     5     KG      5  2019   \n",
       "\n",
       "     Price  \n",
       "54  8.4275  \n",
       "55  8.7656  \n",
       "56  8.8101  \n",
       "57  8.9266  \n",
       "58  9.1866  "
      ]
     },
     "execution_count": 38,
     "metadata": {},
     "output_type": "execute_result"
    }
   ],
   "source": [
    "df_rice = df[(df['ProductName']=='Rice - Retail') & (df['Year'] == 2019)].copy()\n",
    "df_rice.head()"
   ]
  },
  {
   "cell_type": "code",
   "execution_count": 39,
   "id": "882161db",
   "metadata": {},
   "outputs": [
    {
     "data": {
      "text/plain": [
       "<AxesSubplot:>"
      ]
     },
     "execution_count": 39,
     "metadata": {},
     "output_type": "execute_result"
    },
    {
     "data": {
      "image/png": "[encoded data removed]",
      "text/plain": [
       "<Figure size 432x288 with 1 Axes>"
      ]
     },
     "metadata": {
      "needs_background": "light"
     },
     "output_type": "display_data"
    }
   ],
   "source": [
    "df_rice['Price'].hist()"
   ]
  },
  {
   "cell_type": "markdown",
   "id": "dce0a453",
   "metadata": {},
   "source": [
    "Do phân bố có xu hướng gần giống phân bố chuẩn, nên lựa chọn thực hiện kiểm định 2 phía với one sample T test<br>\n",
    "H0: Giá gạo trung bình = 9.5<br>\n",
    "H1: Giá gạo trung bình<br>"
   ]
  },
  {
   "cell_type": "code",
   "execution_count": 40,
   "id": "3d396a00",
   "metadata": {},
   "outputs": [
    {
     "name": "stdout",
     "output_type": "stream",
     "text": [
      "t_statistic =  -1.1854023812590566\n",
      "p_value =  0.24181730968913567\n"
     ]
    }
   ],
   "source": [
    "t_statistic, p_value = stats.ttest_1samp(a=df_rice['Price'], popmean=9.5)\n",
    "print('t_statistic = ', t_statistic)\n",
    "print('p_value = ', p_value)"
   ]
  },
  {
   "cell_type": "markdown",
   "id": "12e6d80c",
   "metadata": {},
   "source": [
    "p_value>5% nên không đủ cơ sở để bác bỏ giả thuyết không<br>\n",
    "Kết luận: Với mức ý nghĩa 5% có thể nhận định giá gạo trung bình bằng 9.5 Lira/kg"
   ]
  },
  {
   "cell_type": "markdown",
   "id": "5591a220",
   "metadata": {},
   "source": [
    "#### Với mức ý nghĩa 5% hãy kiểm định giả thuyết: Giá bột mỳ và giá gạo ở Turkey năm 2019 là bằng nhau"
   ]
  },
  {
   "cell_type": "code",
   "execution_count": 41,
   "id": "e04f8ef5",
   "metadata": {},
   "outputs": [
    {
     "data": {
      "text/html": [
       "<div>\n",
       "<style scoped>\n",
       "    .dataframe tbody tr th:only-of-type {\n",
       "        vertical-align: middle;\n",
       "    }\n",
       "\n",
       "    .dataframe tbody tr th {\n",
       "        vertical-align: top;\n",
       "    }\n",
       "\n",
       "    .dataframe thead th {\n",
       "        text-align: right;\n",
       "    }\n",
       "</style>\n",
       "<table border=\"1\" class=\"dataframe\">\n",
       "  <thead>\n",
       "    <tr style=\"text-align: right;\">\n",
       "      <th></th>\n",
       "      <th>Place</th>\n",
       "      <th>ProductId</th>\n",
       "      <th>ProductName</th>\n",
       "      <th>UmId</th>\n",
       "      <th>UmName</th>\n",
       "      <th>Month</th>\n",
       "      <th>Year</th>\n",
       "      <th>Price</th>\n",
       "    </tr>\n",
       "  </thead>\n",
       "  <tbody>\n",
       "    <tr>\n",
       "      <th>54</th>\n",
       "      <td>National Average</td>\n",
       "      <td>52</td>\n",
       "      <td>Rice - Retail</td>\n",
       "      <td>5</td>\n",
       "      <td>KG</td>\n",
       "      <td>1</td>\n",
       "      <td>2019</td>\n",
       "      <td>8.4275</td>\n",
       "    </tr>\n",
       "    <tr>\n",
       "      <th>55</th>\n",
       "      <td>National Average</td>\n",
       "      <td>52</td>\n",
       "      <td>Rice - Retail</td>\n",
       "      <td>5</td>\n",
       "      <td>KG</td>\n",
       "      <td>2</td>\n",
       "      <td>2019</td>\n",
       "      <td>8.7656</td>\n",
       "    </tr>\n",
       "    <tr>\n",
       "      <th>56</th>\n",
       "      <td>National Average</td>\n",
       "      <td>52</td>\n",
       "      <td>Rice - Retail</td>\n",
       "      <td>5</td>\n",
       "      <td>KG</td>\n",
       "      <td>3</td>\n",
       "      <td>2019</td>\n",
       "      <td>8.8101</td>\n",
       "    </tr>\n",
       "    <tr>\n",
       "      <th>57</th>\n",
       "      <td>National Average</td>\n",
       "      <td>52</td>\n",
       "      <td>Rice - Retail</td>\n",
       "      <td>5</td>\n",
       "      <td>KG</td>\n",
       "      <td>4</td>\n",
       "      <td>2019</td>\n",
       "      <td>8.9266</td>\n",
       "    </tr>\n",
       "    <tr>\n",
       "      <th>58</th>\n",
       "      <td>National Average</td>\n",
       "      <td>52</td>\n",
       "      <td>Rice - Retail</td>\n",
       "      <td>5</td>\n",
       "      <td>KG</td>\n",
       "      <td>5</td>\n",
       "      <td>2019</td>\n",
       "      <td>9.1866</td>\n",
       "    </tr>\n",
       "    <tr>\n",
       "      <th>...</th>\n",
       "      <td>...</td>\n",
       "      <td>...</td>\n",
       "      <td>...</td>\n",
       "      <td>...</td>\n",
       "      <td>...</td>\n",
       "      <td>...</td>\n",
       "      <td>...</td>\n",
       "      <td>...</td>\n",
       "    </tr>\n",
       "    <tr>\n",
       "      <th>5865</th>\n",
       "      <td>Izmir</td>\n",
       "      <td>58</td>\n",
       "      <td>Wheat flour - Retail</td>\n",
       "      <td>5</td>\n",
       "      <td>KG</td>\n",
       "      <td>8</td>\n",
       "      <td>2019</td>\n",
       "      <td>4.0090</td>\n",
       "    </tr>\n",
       "    <tr>\n",
       "      <th>5866</th>\n",
       "      <td>Izmir</td>\n",
       "      <td>58</td>\n",
       "      <td>Wheat flour - Retail</td>\n",
       "      <td>5</td>\n",
       "      <td>KG</td>\n",
       "      <td>9</td>\n",
       "      <td>2019</td>\n",
       "      <td>3.8803</td>\n",
       "    </tr>\n",
       "    <tr>\n",
       "      <th>5867</th>\n",
       "      <td>Izmir</td>\n",
       "      <td>58</td>\n",
       "      <td>Wheat flour - Retail</td>\n",
       "      <td>5</td>\n",
       "      <td>KG</td>\n",
       "      <td>10</td>\n",
       "      <td>2019</td>\n",
       "      <td>3.8882</td>\n",
       "    </tr>\n",
       "    <tr>\n",
       "      <th>5868</th>\n",
       "      <td>Izmir</td>\n",
       "      <td>58</td>\n",
       "      <td>Wheat flour - Retail</td>\n",
       "      <td>5</td>\n",
       "      <td>KG</td>\n",
       "      <td>11</td>\n",
       "      <td>2019</td>\n",
       "      <td>3.9942</td>\n",
       "    </tr>\n",
       "    <tr>\n",
       "      <th>5869</th>\n",
       "      <td>Izmir</td>\n",
       "      <td>58</td>\n",
       "      <td>Wheat flour - Retail</td>\n",
       "      <td>5</td>\n",
       "      <td>KG</td>\n",
       "      <td>12</td>\n",
       "      <td>2019</td>\n",
       "      <td>4.2703</td>\n",
       "    </tr>\n",
       "  </tbody>\n",
       "</table>\n",
       "<p>96 rows × 8 columns</p>\n",
       "</div>"
      ],
      "text/plain": [
       "                 Place  ProductId           ProductName  UmId UmName  Month  \\\n",
       "54    National Average         52         Rice - Retail     5     KG      1   \n",
       "55    National Average         52         Rice - Retail     5     KG      2   \n",
       "56    National Average         52         Rice - Retail     5     KG      3   \n",
       "57    National Average         52         Rice - Retail     5     KG      4   \n",
       "58    National Average         52         Rice - Retail     5     KG      5   \n",
       "...                ...        ...                   ...   ...    ...    ...   \n",
       "5865             Izmir         58  Wheat flour - Retail     5     KG      8   \n",
       "5866             Izmir         58  Wheat flour - Retail     5     KG      9   \n",
       "5867             Izmir         58  Wheat flour - Retail     5     KG     10   \n",
       "5868             Izmir         58  Wheat flour - Retail     5     KG     11   \n",
       "5869             Izmir         58  Wheat flour - Retail     5     KG     12   \n",
       "\n",
       "      Year   Price  \n",
       "54    2019  8.4275  \n",
       "55    2019  8.7656  \n",
       "56    2019  8.8101  \n",
       "57    2019  8.9266  \n",
       "58    2019  9.1866  \n",
       "...    ...     ...  \n",
       "5865  2019  4.0090  \n",
       "5866  2019  3.8803  \n",
       "5867  2019  3.8882  \n",
       "5868  2019  3.9942  \n",
       "5869  2019  4.2703  \n",
       "\n",
       "[96 rows x 8 columns]"
      ]
     },
     "execution_count": 41,
     "metadata": {},
     "output_type": "execute_result"
    }
   ],
   "source": [
    "df_wheat_rice = df.loc[((df['ProductName'] == 'Wheat flour - Retail') | (df['ProductName'] == 'Rice - Retail')) &  (df['Year'] == 2019)]\n",
    "df_wheat_rice"
   ]
  },
  {
   "cell_type": "code",
   "execution_count": 42,
   "id": "afa4e6c2",
   "metadata": {},
   "outputs": [
    {
     "data": {
      "text/plain": [
       "<AxesSubplot:xlabel='ProductName', ylabel='Price'>"
      ]
     },
     "execution_count": 42,
     "metadata": {},
     "output_type": "execute_result"
    },
    {
     "data": {
      "image/png": "[encoded data removed]",
      "text/plain": [
       "<Figure size 432x288 with 1 Axes>"
      ]
     },
     "metadata": {
      "needs_background": "light"
     },
     "output_type": "display_data"
    }
   ],
   "source": [
    "sns.boxplot(data = df_wheat_rice, x='ProductName', y='Price')"
   ]
  },
  {
   "cell_type": "markdown",
   "id": "b41d0ccc",
   "metadata": {},
   "source": [
    "Nhìn vào phân bố trên chúng ta cũng có thể kết luận được luôn, giá của bột mì thấp hơn hẳn giá của gạo. Để chứng minh nhận định rằng giá bột mỳ và giá gạo không giống nhau, chúng ta thực hiện so sánh trung bình độc lập – independent T test Giả thuyết không: giá bột mỳ trung bình bằng giá gạo Giả thuyết đối: giá bột mỳ trung bình khác giá gạo"
   ]
  },
  {
   "cell_type": "markdown",
   "id": "33d8fbeb",
   "metadata": {},
   "source": [
    "H0: Giá bột mỳ và giá gạo ở Tuckey năm 2019 bằng nhau<br>\n",
    "H1: Giá bột mỳ và giá gạo ở Tuckey năm 2019 không bằng nhau <br>"
   ]
  },
  {
   "cell_type": "code",
   "execution_count": 44,
   "id": "6561a33f",
   "metadata": {},
   "outputs": [
    {
     "name": "stdout",
     "output_type": "stream",
     "text": [
      "Percentage: 5.397884164500642\n"
     ]
    }
   ],
   "source": [
    "var_wheat = np.var(df_wheat_rice[(df_wheat_rice['ProductName'] == 'Wheat flour - Retail')]['Price'])\n",
    "var_rice = np.var(df_wheat_rice[(df_wheat_rice['ProductName'] == 'Rice - Retail')]['Price'])\n",
    "print(f'Percentage: {(var_wheat/var_rice) if var_wheat>var_rice else (var_rice/var_wheat)}')"
   ]
  },
  {
   "cell_type": "code",
   "execution_count": 45,
   "id": "dd5be74c",
   "metadata": {},
   "outputs": [
    {
     "data": {
      "text/plain": [
       "Ttest_indResult(statistic=-53.7516920363042, pvalue=7.11046528586048e-55)"
      ]
     },
     "execution_count": 45,
     "metadata": {},
     "output_type": "execute_result"
    }
   ],
   "source": [
    "stats.ttest_ind(a = df_wheat_rice[(df_wheat_rice['ProductName'] == 'Wheat flour - Retail')]['Price'], b =df_wheat_rice[(df_wheat_rice['ProductName'] == 'Rice - Retail')]['Price'], equal_var = False)"
   ]
  },
  {
   "cell_type": "markdown",
   "id": "aabe733b",
   "metadata": {},
   "source": [
    "Chúng ta có thể thấy Pvalue = 7.1.10^-55 <<5%, bác bỏ giả thuyết không, chấp nhận giả thuyết đối\n",
    "\n",
    "Kết luận: giá bột mỳ và giá gạo trung bình năm 2019 là khác nhau"
   ]
  },
  {
   "cell_type": "markdown",
   "id": "7f906107",
   "metadata": {},
   "source": [
    "#### Giữa giá gạo ở National Average và thời gian có mối liên hệ với nhau hay không\n"
   ]
  },
  {
   "cell_type": "code",
   "execution_count": 55,
   "id": "a4eaee3d",
   "metadata": {},
   "outputs": [
    {
     "data": {
      "text/plain": [
       "(66, 9)"
      ]
     },
     "execution_count": 55,
     "metadata": {},
     "output_type": "execute_result"
    }
   ],
   "source": [
    "data_rice = df[(df['ProductName']=='Rice - Retail') & (df['Place']=='National Average')].copy()\n",
    "data_rice.shape"
   ]
  },
  {
   "cell_type": "code",
   "execution_count": 56,
   "id": "2adaa7fb",
   "metadata": {},
   "outputs": [
    {
     "data": {
      "image/png": "[encoded data removed]",
      "text/plain": [
       "<Figure size 432x288 with 1 Axes>"
      ]
     },
     "metadata": {
      "needs_background": "light"
     },
     "output_type": "display_data"
    }
   ],
   "source": [
    "data_rice['time'] = pd.to_datetime(data_rice['Year'].astype(str) + '/'+ data_rice['Month'].astype(str))\n",
    "plt.plot(data_rice['time'], data_rice['Price'], linewidth = 2, marker = '*', markersize=2, markerfacecolor='red', markeredgecolor = 'blue', markeredgewidth=2)\n",
    "plt.show()"
   ]
  },
  {
   "cell_type": "markdown",
   "id": "fedc102e",
   "metadata": {},
   "source": [
    "Do thời gian nhận giá trị tăng dần nên có thể coi là một biến định lượng<br>\n",
    "Thực hiện kiểm định pearson để tiến hành kiểm định mối liên hệ giữa hai biến thời gian và giá<br>\n",
    "Biên dổi thời gian về dạng định lượng như sau: lấy mốc 1/2013 là mốc 1 tương đối, 1 tháng sẽ được tính là một đơn vị thời gian<br>"
   ]
  },
  {
   "cell_type": "code",
   "execution_count": 57,
   "id": "a88fdb4c",
   "metadata": {},
   "outputs": [
    {
     "data": {
      "image/png": "[encoded data removed]",
      "text/plain": [
       "<Figure size 432x288 with 1 Axes>"
      ]
     },
     "metadata": {
      "needs_background": "light"
     },
     "output_type": "display_data"
    }
   ],
   "source": [
    "#Biến đổi thời gian\n",
    "data_rice['time_processed'] = data_rice['Month'] + (data_rice['Year']-2013)*12\n",
    "plt.plot(data_rice['time_processed'], data_rice['Price'])\n",
    "plt.show()"
   ]
  },
  {
   "cell_type": "markdown",
   "id": "4f2c624f",
   "metadata": {},
   "source": [
    "H0: Giữa thời gian và giá gạo không có mối tương quan<br>\n",
    "H1: Giữa thời gian và giá gạo có mối tương quan"
   ]
  },
  {
   "cell_type": "code",
   "execution_count": 58,
   "id": "6affdfe2",
   "metadata": {},
   "outputs": [
    {
     "name": "stdout",
     "output_type": "stream",
     "text": [
      "Hệ số tương quan và pvalue tương ứng là:  (0.8836736355854857, 8.9313262768526e-23)\n"
     ]
    }
   ],
   "source": [
    "print('Hệ số tương quan và pvalue tương ứng là: ', stats.pearsonr(data_rice.time_processed, data_rice.Price))"
   ]
  },
  {
   "cell_type": "markdown",
   "id": "f6e14036",
   "metadata": {},
   "source": [
    "Nhận xét: Do pvalue ~0, và hệ số tương quan =0.88 nên giữ thời gian và giá gạo có mối tương quan thuận rất chặt với nhau"
   ]
  },
  {
   "cell_type": "code",
   "execution_count": null,
   "id": "9af891b8",
   "metadata": {},
   "outputs": [],
   "source": []
  }
 ],
 "metadata": {
  "kernelspec": {
   "display_name": "Python 3 (ipykernel)",
   "language": "python",
   "name": "python3"
  },
  "language_info": {
   "codemirror_mode": {
    "name": "ipython",
    "version": 3
   },
   "file_extension": ".py",
   "mimetype": "text/x-python",
   "name": "python",
   "nbconvert_exporter": "python",
   "pygments_lexer": "ipython3",
   "version": "3.9.12"
  }
 },
 "nbformat": 4,
 "nbformat_minor": 5
}
