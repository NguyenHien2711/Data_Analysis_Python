{
 "cells": [
  {
   "cell_type": "markdown",
   "id": "6b88bc7d",
   "metadata": {},
   "source": [
    "Bộ phận bán hàng của Công ty Coca Cola tuyên bố rằng lượng tiêu thụ coca trung bình ở Ohio lớn hơn ở Atlanta. Để tiến hành chiến lược phân phối sản phẩm ở 2 khu vực này, bộ phận Marketing có thu thập số liệu sử dụng coca của 50 người ở Ohio và 50 người ở Atlanta. Dữ liệu được để trong file Coca_cola_use.xlsx, với đơn vị tiêu thụ được tính l/năm cho 1 người. Với mức ý nghĩa 5% hãy kiểm định giả thuyết xem có đúng lượng tiêu thụ Coca bình quân ở Ohio lớn hơn Atlanta hay không."
   ]
  },
  {
   "cell_type": "code",
   "execution_count": 20,
   "id": "03da1d14",
   "metadata": {},
   "outputs": [],
   "source": [
    "import pandas as pd\n",
    "from scipy import stats\n",
    "import numpy as np"
   ]
  },
  {
   "cell_type": "code",
   "execution_count": 21,
   "id": "a71df05e",
   "metadata": {},
   "outputs": [
    {
     "data": {
      "text/html": [
       "<div>\n",
       "<style scoped>\n",
       "    .dataframe tbody tr th:only-of-type {\n",
       "        vertical-align: middle;\n",
       "    }\n",
       "\n",
       "    .dataframe tbody tr th {\n",
       "        vertical-align: top;\n",
       "    }\n",
       "\n",
       "    .dataframe thead th {\n",
       "        text-align: right;\n",
       "    }\n",
       "</style>\n",
       "<table border=\"1\" class=\"dataframe\">\n",
       "  <thead>\n",
       "    <tr style=\"text-align: right;\">\n",
       "      <th></th>\n",
       "      <th>STT</th>\n",
       "      <th>Ohio</th>\n",
       "      <th>Atlanta</th>\n",
       "    </tr>\n",
       "  </thead>\n",
       "  <tbody>\n",
       "    <tr>\n",
       "      <th>0</th>\n",
       "      <td>1</td>\n",
       "      <td>0.88</td>\n",
       "      <td>3.85</td>\n",
       "    </tr>\n",
       "    <tr>\n",
       "      <th>1</th>\n",
       "      <td>2</td>\n",
       "      <td>2.06</td>\n",
       "      <td>0.00</td>\n",
       "    </tr>\n",
       "    <tr>\n",
       "      <th>2</th>\n",
       "      <td>3</td>\n",
       "      <td>0.00</td>\n",
       "      <td>0.00</td>\n",
       "    </tr>\n",
       "    <tr>\n",
       "      <th>3</th>\n",
       "      <td>4</td>\n",
       "      <td>0.70</td>\n",
       "      <td>0.02</td>\n",
       "    </tr>\n",
       "    <tr>\n",
       "      <th>4</th>\n",
       "      <td>5</td>\n",
       "      <td>1.64</td>\n",
       "      <td>0.58</td>\n",
       "    </tr>\n",
       "  </tbody>\n",
       "</table>\n",
       "</div>"
      ],
      "text/plain": [
       "   STT  Ohio  Atlanta\n",
       "0    1  0.88     3.85\n",
       "1    2  2.06     0.00\n",
       "2    3  0.00     0.00\n",
       "3    4  0.70     0.02\n",
       "4    5  1.64     0.58"
      ]
     },
     "execution_count": 21,
     "metadata": {},
     "output_type": "execute_result"
    }
   ],
   "source": [
    "data = pd.read_excel('Coca_cola_use.xlsx')\n",
    "data.head()"
   ]
  },
  {
   "cell_type": "code",
   "execution_count": 22,
   "id": "d42e0af6",
   "metadata": {},
   "outputs": [
    {
     "data": {
      "text/plain": [
       "<AxesSubplot:>"
      ]
     },
     "execution_count": 22,
     "metadata": {},
     "output_type": "execute_result"
    },
    {
     "data": {
      "image/png": "[encoded data removed]",
      "text/plain": [
       "<Figure size 432x288 with 1 Axes>"
      ]
     },
     "metadata": {
      "needs_background": "light"
     },
     "output_type": "display_data"
    }
   ],
   "source": [
    "data[['Ohio','Atlanta']].boxplot()"
   ]
  },
  {
   "cell_type": "markdown",
   "id": "89392b77",
   "metadata": {},
   "source": [
    "H0: Lượng tiêu thụ Coca bình quân ở Ohio bằng Atlanta  <br>\n",
    "H1: Lượng tiêu thụ Coca bình quân ở lớn hơn Atlanta"
   ]
  },
  {
   "cell_type": "code",
   "execution_count": 23,
   "id": "d2a51bb8",
   "metadata": {},
   "outputs": [
    {
     "name": "stdout",
     "output_type": "stream",
     "text": [
      "ration = 1.0595612108067787\n"
     ]
    }
   ],
   "source": [
    "var_ohio = np.var(data['Ohio'])\n",
    "var_Atlanta = np.var(data['Atlanta'])\n",
    "print(f'ration = {var_ohio/var_Atlanta if var_ohio > var_Atlanta else var_Atlanta/var_ohio}')"
   ]
  },
  {
   "cell_type": "code",
   "execution_count": 28,
   "id": "e10c95bb",
   "metadata": {},
   "outputs": [
    {
     "name": "stdout",
     "output_type": "stream",
     "text": [
      "Ttest_indResult(statistic=0.6129544104328379, pvalue=0.5413263697114308)\n"
     ]
    }
   ],
   "source": [
    "print(stats.ttest_ind(data['Ohio'], data['Atlanta'], equal_var = True))"
   ]
  },
  {
   "cell_type": "markdown",
   "id": "ed5fcd39",
   "metadata": {},
   "source": [
    "Chúng ta nhìn thấy rằng: pvalue > 5% rất nhiều nên không đủ cơ sở để bác bỏ giả thuyết không </br> Kết luận: Không đủ căn cứ để kết luận rằng lượng tiêu thụ coca trung bình ở Ohio lớn hơn ở Atlanta"
   ]
  },
  {
   "cell_type": "code",
   "execution_count": null,
   "id": "cda7579d",
   "metadata": {},
   "outputs": [],
   "source": []
  }
 ],
 "metadata": {
  "kernelspec": {
   "display_name": "Python 3 (ipykernel)",
   "language": "python",
   "name": "python3"
  },
  "language_info": {
   "codemirror_mode": {
    "name": "ipython",
    "version": 3
   },
   "file_extension": ".py",
   "mimetype": "text/x-python",
   "name": "python",
   "nbconvert_exporter": "python",
   "pygments_lexer": "ipython3",
   "version": "3.9.12"
  }
 },
 "nbformat": 4,
 "nbformat_minor": 5
}
