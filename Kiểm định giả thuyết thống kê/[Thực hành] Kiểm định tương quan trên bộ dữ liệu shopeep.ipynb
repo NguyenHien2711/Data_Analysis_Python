{
 "cells": [
  {
   "cell_type": "markdown",
   "id": "d0ccc304",
   "metadata": {},
   "source": [
    "#### 1. Giữa rating_star và follower_count có tương quan với nhau hay không \n",
    "#### 2. Giữa rating_star và số lượng sản phẩm (item_count) có tương quan với nhau hay không \n",
    "#### 3. Giữa is_shopee_verified và việc có cửa hàng trưng bày (is_official_shop) có tương quan với nhau hay không "
   ]
  },
  {
   "cell_type": "code",
   "execution_count": 48,
   "id": "66977cbc",
   "metadata": {},
   "outputs": [],
   "source": [
    "import pandas as pd\n",
    "import matplotlib.pyplot as plt\n",
    "import seaborn as sns\n",
    "from scipy import stats"
   ]
  },
  {
   "cell_type": "code",
   "execution_count": 49,
   "id": "62dd349b",
   "metadata": {},
   "outputs": [
    {
     "data": {
      "text/html": [
       "<div>\n",
       "<style scoped>\n",
       "    .dataframe tbody tr th:only-of-type {\n",
       "        vertical-align: middle;\n",
       "    }\n",
       "\n",
       "    .dataframe tbody tr th {\n",
       "        vertical-align: top;\n",
       "    }\n",
       "\n",
       "    .dataframe thead th {\n",
       "        text-align: right;\n",
       "    }\n",
       "</style>\n",
       "<table border=\"1\" class=\"dataframe\">\n",
       "  <thead>\n",
       "    <tr style=\"text-align: right;\">\n",
       "      <th></th>\n",
       "      <th>pk_shop</th>\n",
       "      <th>date_collected</th>\n",
       "      <th>shopid</th>\n",
       "      <th>name</th>\n",
       "      <th>join_month</th>\n",
       "      <th>join_day</th>\n",
       "      <th>join_year</th>\n",
       "      <th>item_count</th>\n",
       "      <th>follower_count</th>\n",
       "      <th>response_time</th>\n",
       "      <th>response_rate</th>\n",
       "      <th>shop_location</th>\n",
       "      <th>rating_bad</th>\n",
       "      <th>rating_good</th>\n",
       "      <th>rating_normal</th>\n",
       "      <th>rating_star</th>\n",
       "      <th>is_shopee_verified</th>\n",
       "      <th>is_official_shop</th>\n",
       "    </tr>\n",
       "  </thead>\n",
       "  <tbody>\n",
       "    <tr>\n",
       "      <th>0</th>\n",
       "      <td>20210613254711738</td>\n",
       "      <td>2021-06-13</td>\n",
       "      <td>254711738</td>\n",
       "      <td>hello.may.ph</td>\n",
       "      <td>April</td>\n",
       "      <td>27</td>\n",
       "      <td>2020</td>\n",
       "      <td>446</td>\n",
       "      <td>17487</td>\n",
       "      <td>10:13:55</td>\n",
       "      <td>96</td>\n",
       "      <td>NaN</td>\n",
       "      <td>181</td>\n",
       "      <td>17510</td>\n",
       "      <td>729</td>\n",
       "      <td>4.81</td>\n",
       "      <td>1</td>\n",
       "      <td>0</td>\n",
       "    </tr>\n",
       "    <tr>\n",
       "      <th>1</th>\n",
       "      <td>20210613314198143</td>\n",
       "      <td>2021-06-13</td>\n",
       "      <td>314198143</td>\n",
       "      <td>love.women.shop</td>\n",
       "      <td>September</td>\n",
       "      <td>25</td>\n",
       "      <td>2020</td>\n",
       "      <td>263</td>\n",
       "      <td>8574</td>\n",
       "      <td>10:43:05</td>\n",
       "      <td>73</td>\n",
       "      <td>San Nicolas,Metro Manila</td>\n",
       "      <td>78</td>\n",
       "      <td>2656</td>\n",
       "      <td>198</td>\n",
       "      <td>4.68</td>\n",
       "      <td>0</td>\n",
       "      <td>0</td>\n",
       "    </tr>\n",
       "    <tr>\n",
       "      <th>2</th>\n",
       "      <td>2021061310377223</td>\n",
       "      <td>2021-06-13</td>\n",
       "      <td>10377223</td>\n",
       "      <td>R&amp;O RedOrange</td>\n",
       "      <td>September</td>\n",
       "      <td>27</td>\n",
       "      <td>2016</td>\n",
       "      <td>209</td>\n",
       "      <td>660417</td>\n",
       "      <td>08:32:07</td>\n",
       "      <td>90</td>\n",
       "      <td>Pasay City,Metro Manila</td>\n",
       "      <td>4647</td>\n",
       "      <td>1071829</td>\n",
       "      <td>18073</td>\n",
       "      <td>4.91</td>\n",
       "      <td>1</td>\n",
       "      <td>0</td>\n",
       "    </tr>\n",
       "    <tr>\n",
       "      <th>3</th>\n",
       "      <td>2021061321407329</td>\n",
       "      <td>2021-06-13</td>\n",
       "      <td>21407329</td>\n",
       "      <td>patriciacai</td>\n",
       "      <td>April</td>\n",
       "      <td>30</td>\n",
       "      <td>2017</td>\n",
       "      <td>165</td>\n",
       "      <td>18787</td>\n",
       "      <td>09:10:38</td>\n",
       "      <td>94</td>\n",
       "      <td>Binondo,Metro Manila</td>\n",
       "      <td>44</td>\n",
       "      <td>18959</td>\n",
       "      <td>215</td>\n",
       "      <td>4.94</td>\n",
       "      <td>1</td>\n",
       "      <td>0</td>\n",
       "    </tr>\n",
       "    <tr>\n",
       "      <th>4</th>\n",
       "      <td>2021061311187885</td>\n",
       "      <td>2021-06-13</td>\n",
       "      <td>11187885</td>\n",
       "      <td>Little Market Manila</td>\n",
       "      <td>October</td>\n",
       "      <td>18</td>\n",
       "      <td>2016</td>\n",
       "      <td>467</td>\n",
       "      <td>67371</td>\n",
       "      <td>11:40:59</td>\n",
       "      <td>89</td>\n",
       "      <td>Caloocan City,Metro Manila</td>\n",
       "      <td>680</td>\n",
       "      <td>39252</td>\n",
       "      <td>2383</td>\n",
       "      <td>4.73</td>\n",
       "      <td>1</td>\n",
       "      <td>0</td>\n",
       "    </tr>\n",
       "  </tbody>\n",
       "</table>\n",
       "</div>"
      ],
      "text/plain": [
       "             pk_shop date_collected     shopid                  name  \\\n",
       "0  20210613254711738     2021-06-13  254711738          hello.may.ph   \n",
       "1  20210613314198143     2021-06-13  314198143       love.women.shop   \n",
       "2   2021061310377223     2021-06-13   10377223         R&O RedOrange   \n",
       "3   2021061321407329     2021-06-13   21407329           patriciacai   \n",
       "4   2021061311187885     2021-06-13   11187885  Little Market Manila   \n",
       "\n",
       "  join_month  join_day  join_year  item_count  follower_count response_time  \\\n",
       "0      April        27       2020         446           17487      10:13:55   \n",
       "1  September        25       2020         263            8574      10:43:05   \n",
       "2  September        27       2016         209          660417      08:32:07   \n",
       "3      April        30       2017         165           18787      09:10:38   \n",
       "4    October        18       2016         467           67371      11:40:59   \n",
       "\n",
       "   response_rate               shop_location  rating_bad  rating_good  \\\n",
       "0             96                         NaN         181        17510   \n",
       "1             73    San Nicolas,Metro Manila          78         2656   \n",
       "2             90     Pasay City,Metro Manila        4647      1071829   \n",
       "3             94        Binondo,Metro Manila          44        18959   \n",
       "4             89  Caloocan City,Metro Manila         680        39252   \n",
       "\n",
       "   rating_normal  rating_star  is_shopee_verified  is_official_shop  \n",
       "0            729         4.81                   1                 0  \n",
       "1            198         4.68                   0                 0  \n",
       "2          18073         4.91                   1                 0  \n",
       "3            215         4.94                   1                 0  \n",
       "4           2383         4.73                   1                 0  "
      ]
     },
     "execution_count": 49,
     "metadata": {},
     "output_type": "execute_result"
    }
   ],
   "source": [
    "df = pd.read_csv(r'C:\\Users\\HP\\Data_Analysis_Python\\Pandas_codegym\\Bộ dữ liệu Shopee\\shopeep.csv')\n",
    "df.head()"
   ]
  },
  {
   "cell_type": "code",
   "execution_count": 50,
   "id": "5b47a645",
   "metadata": {},
   "outputs": [
    {
     "name": "stdout",
     "output_type": "stream",
     "text": [
      "<class 'pandas.core.frame.DataFrame'>\n",
      "RangeIndex: 746 entries, 0 to 745\n",
      "Data columns (total 18 columns):\n",
      " #   Column              Non-Null Count  Dtype  \n",
      "---  ------              --------------  -----  \n",
      " 0   pk_shop             746 non-null    int64  \n",
      " 1   date_collected      746 non-null    object \n",
      " 2   shopid              746 non-null    int64  \n",
      " 3   name                746 non-null    object \n",
      " 4   join_month          746 non-null    object \n",
      " 5   join_day            746 non-null    int64  \n",
      " 6   join_year           746 non-null    int64  \n",
      " 7   item_count          746 non-null    int64  \n",
      " 8   follower_count      746 non-null    int64  \n",
      " 9   response_time       746 non-null    object \n",
      " 10  response_rate       746 non-null    int64  \n",
      " 11  shop_location       428 non-null    object \n",
      " 12  rating_bad          746 non-null    int64  \n",
      " 13  rating_good         746 non-null    int64  \n",
      " 14  rating_normal       746 non-null    int64  \n",
      " 15  rating_star         740 non-null    float64\n",
      " 16  is_shopee_verified  746 non-null    int64  \n",
      " 17  is_official_shop    746 non-null    int64  \n",
      "dtypes: float64(1), int64(12), object(5)\n",
      "memory usage: 105.0+ KB\n"
     ]
    }
   ],
   "source": [
    "df.info()"
   ]
  },
  {
   "cell_type": "markdown",
   "id": "ea89483e",
   "metadata": {},
   "source": [
    "#### 1. Giữa rating_star và follower_count có tương quan với nhau hay không "
   ]
  },
  {
   "cell_type": "code",
   "execution_count": 51,
   "id": "0d20e39e",
   "metadata": {},
   "outputs": [],
   "source": [
    "from scipy.stats import pearsonr"
   ]
  },
  {
   "cell_type": "markdown",
   "id": "b06720ff",
   "metadata": {},
   "source": [
    "Với mức ý nghĩa 5%:<br>\n",
    "    H0: Giữa rating_star và follower_count không có tương quan với nhau <br> \n",
    "    H1: Giữa rating_star và follower_count có tương quan với nhau "
   ]
  },
  {
   "cell_type": "markdown",
   "id": "70c60a62",
   "metadata": {},
   "source": [
    "Vì rating_star và follower_count là biến định tính nên ta sẽ sử dụng kiểm định pearson để kiểm định mức độ tương quan giữa hai thuộc tính"
   ]
  },
  {
   "cell_type": "code",
   "execution_count": 52,
   "id": "0d121d90",
   "metadata": {},
   "outputs": [],
   "source": [
    "df1 = df[['rating_star', 'follower_count']]\n",
    "df1 = df1.dropna()"
   ]
  },
  {
   "cell_type": "code",
   "execution_count": 53,
   "id": "8b1f07c0",
   "metadata": {},
   "outputs": [
    {
     "name": "stdout",
     "output_type": "stream",
     "text": [
      "0.027490059846301044\n",
      "0.4552522676325689\n"
     ]
    }
   ],
   "source": [
    "r, pvalue = pearsonr(df1['rating_star'],df1['follower_count'])\n",
    "print(r)\n",
    "print(pvalue)"
   ]
  },
  {
   "cell_type": "code",
   "execution_count": 54,
   "id": "fb94342a",
   "metadata": {},
   "outputs": [
    {
     "data": {
      "text/html": [
       "<div>\n",
       "<style scoped>\n",
       "    .dataframe tbody tr th:only-of-type {\n",
       "        vertical-align: middle;\n",
       "    }\n",
       "\n",
       "    .dataframe tbody tr th {\n",
       "        vertical-align: top;\n",
       "    }\n",
       "\n",
       "    .dataframe thead th {\n",
       "        text-align: right;\n",
       "    }\n",
       "</style>\n",
       "<table border=\"1\" class=\"dataframe\">\n",
       "  <thead>\n",
       "    <tr style=\"text-align: right;\">\n",
       "      <th></th>\n",
       "      <th>rating_star</th>\n",
       "      <th>follower_count</th>\n",
       "    </tr>\n",
       "  </thead>\n",
       "  <tbody>\n",
       "    <tr>\n",
       "      <th>rating_star</th>\n",
       "      <td>1.00000</td>\n",
       "      <td>0.02749</td>\n",
       "    </tr>\n",
       "    <tr>\n",
       "      <th>follower_count</th>\n",
       "      <td>0.02749</td>\n",
       "      <td>1.00000</td>\n",
       "    </tr>\n",
       "  </tbody>\n",
       "</table>\n",
       "</div>"
      ],
      "text/plain": [
       "                rating_star  follower_count\n",
       "rating_star         1.00000         0.02749\n",
       "follower_count      0.02749         1.00000"
      ]
     },
     "execution_count": 54,
     "metadata": {},
     "output_type": "execute_result"
    }
   ],
   "source": [
    "df1.corr()"
   ]
  },
  {
   "cell_type": "markdown",
   "id": "7dff0066",
   "metadata": {},
   "source": [
    "p_value>0.05 và r=0.027 rất nhỏ, chưa đủ điều kiện bác bỏ H0, có thể kết luận giữa rating_star và follower_count không có tương quan với nhau"
   ]
  },
  {
   "cell_type": "markdown",
   "id": "9fdfc22e",
   "metadata": {},
   "source": [
    "#### 2. Giữa rating_star và số lượng sản phẩm (item_count) có tương quan với nhau hay không "
   ]
  },
  {
   "cell_type": "markdown",
   "id": "a32b4eb1",
   "metadata": {},
   "source": [
    "Với mức ý nghĩa 5%:<br>\n",
    "    H0: Giữa rating_star và follower_count không có tương quan với nhau <br> \n",
    "    H1: Giữa rating_star và follower_count có tương quan với nhau "
   ]
  },
  {
   "cell_type": "code",
   "execution_count": 55,
   "id": "e513bed9",
   "metadata": {},
   "outputs": [],
   "source": [
    "df2 = df[['rating_star', 'item_count']]\n",
    "df2 = df2.dropna()"
   ]
  },
  {
   "cell_type": "code",
   "execution_count": 56,
   "id": "bb8c0687",
   "metadata": {},
   "outputs": [
    {
     "name": "stdout",
     "output_type": "stream",
     "text": [
      "-0.03732626070920733\n",
      "0.3105727616062792\n"
     ]
    }
   ],
   "source": [
    "r, pvalue = pearsonr(df2['rating_star'],df2['item_count'])\n",
    "print(r)\n",
    "print(pvalue)"
   ]
  },
  {
   "cell_type": "markdown",
   "id": "2448ea2c",
   "metadata": {},
   "source": [
    "p_value>0.05 và r=-0.037 rất nhỏ, chưa đủ điều kiện bác bỏ H0, có thể kết luận giữa rating_star và item_count không có tương quan với nhau"
   ]
  },
  {
   "cell_type": "markdown",
   "id": "10e08f4e",
   "metadata": {},
   "source": [
    "#### 3. Giữa is_shopee_verified và việc có cửa hàng trưng bày (is_official_shop) có tương quan với nhau hay không "
   ]
  },
  {
   "cell_type": "markdown",
   "id": "07634b54",
   "metadata": {},
   "source": [
    "Với mức ý nghĩa 5%:<br>\n",
    "    H0: Giữa is_shopee_verified và is_official_shop không có tương quan với nhau <br> \n",
    "    H1: Giữa is_shopee_verified và is_official_shop có tương quan với nhau "
   ]
  },
  {
   "cell_type": "markdown",
   "id": "364ed9e8",
   "metadata": {},
   "source": [
    "Vì đây là hai biến category nên ta sẽ sử dụng kiểm định chi bình phương"
   ]
  },
  {
   "cell_type": "code",
   "execution_count": 57,
   "id": "1b1c53aa",
   "metadata": {},
   "outputs": [],
   "source": [
    "data = df.pivot_table(values='pk_shop', index='is_shopee_verified', columns='is_official_shop', aggfunc='count')\n",
    "data.fillna(0, inplace=True)"
   ]
  },
  {
   "cell_type": "code",
   "execution_count": 58,
   "id": "ae1a31f9",
   "metadata": {},
   "outputs": [],
   "source": [
    "from scipy.stats import chi2_contingency"
   ]
  },
  {
   "cell_type": "code",
   "execution_count": 59,
   "id": "c640bc5a",
   "metadata": {},
   "outputs": [
    {
     "name": "stdout",
     "output_type": "stream",
     "text": [
      "Chi-square value=  0.4262230293671237\n",
      "pvalue=  0.5138480938615648\n",
      "degree of freedom=  1\n",
      "expected table=  [[542.07774799   2.92225201]\n",
      " [199.92225201   1.07774799]]\n"
     ]
    }
   ],
   "source": [
    "chi, p, dof, expected = chi2_contingency(data)\n",
    "print('Chi-square value= ', chi)\n",
    "print('pvalue= ', p)\n",
    "print('degree of freedom= ', dof)\n",
    "print('expected table= ', expected)"
   ]
  },
  {
   "cell_type": "markdown",
   "id": "a8f87592",
   "metadata": {},
   "source": [
    "pvalue>0.05 nên không đủ điều kiện bác bỏ H0, có thể kết luận Giữa is_shopee_verified và is_official_shop không có tương qới nhau"
   ]
  }
 ],
 "metadata": {
  "kernelspec": {
   "display_name": "Python 3 (ipykernel)",
   "language": "python",
   "name": "python3"
  },
  "language_info": {
   "codemirror_mode": {
    "name": "ipython",
    "version": 3
   },
   "file_extension": ".py",
   "mimetype": "text/x-python",
   "name": "python",
   "nbconvert_exporter": "python",
   "pygments_lexer": "ipython3",
   "version": "3.9.12"
  }
 },
 "nbformat": 4,
 "nbformat_minor": 5
}
