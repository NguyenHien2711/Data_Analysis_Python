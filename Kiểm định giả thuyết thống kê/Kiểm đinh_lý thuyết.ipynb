{
 "cells": [
  {
   "cell_type": "markdown",
   "id": "e99d3089",
   "metadata": {},
   "source": [
    "### 1.Kiểm định giá trị trung bình<br>\n",
    "- One sample T-test"
   ]
  },
  {
   "cell_type": "code",
   "execution_count": 2,
   "id": "cc15c41e",
   "metadata": {},
   "outputs": [],
   "source": [
    "income = [1120, 1450, 2300, 3540, 4120, 4560, 5490, 3460, 4750, 2300, \n",
    "          9050, 8630, 8125, 7230, 3750]"
   ]
  },
  {
   "cell_type": "markdown",
   "id": "e6ce2f08",
   "metadata": {},
   "source": [
    "Bước 1: Viết giả thuyết H0 và HA\n",
    "    - H0: Thu nhập bình quân đầu người/năm của tỉnh Nghệ An bằng 5000$\n",
    "    - H1: Thu nhâp bình quân đầu người/năm khác 5000$"
   ]
  },
  {
   "cell_type": "code",
   "execution_count": 3,
   "id": "1611eac7",
   "metadata": {},
   "outputs": [
    {
     "data": {
      "text/plain": [
       "4658.333333333333"
      ]
     },
     "execution_count": 3,
     "metadata": {},
     "output_type": "execute_result"
    }
   ],
   "source": [
    "sample_mean = sum(income)/len(income)\n",
    "sample_mean"
   ]
  },
  {
   "cell_type": "code",
   "execution_count": 4,
   "id": "7db0fd87",
   "metadata": {},
   "outputs": [],
   "source": [
    "pop_mean = 5000"
   ]
  },
  {
   "cell_type": "code",
   "execution_count": 5,
   "id": "98db27c1",
   "metadata": {},
   "outputs": [
    {
     "data": {
      "text/plain": [
       "2478.441490578751"
      ]
     },
     "execution_count": 5,
     "metadata": {},
     "output_type": "execute_result"
    }
   ],
   "source": [
    "from math import sqrt\n",
    "s_squared = 0\n",
    "for i in income:\n",
    "    s_squared += (i-sample_mean)**2\n",
    "s = sqrt(s_squared/len(income))\n",
    "s"
   ]
  },
  {
   "cell_type": "code",
   "execution_count": 6,
   "id": "b729f553",
   "metadata": {},
   "outputs": [
    {
     "data": {
      "text/plain": [
       "15"
      ]
     },
     "execution_count": 6,
     "metadata": {},
     "output_type": "execute_result"
    }
   ],
   "source": [
    "n =len(income)\n",
    "n"
   ]
  },
  {
   "cell_type": "code",
   "execution_count": 7,
   "id": "a97bdca3",
   "metadata": {},
   "outputs": [
    {
     "data": {
      "text/plain": [
       "-0.533911861540536"
      ]
     },
     "execution_count": 7,
     "metadata": {},
     "output_type": "execute_result"
    }
   ],
   "source": [
    "t_calculated = (sample_mean - pop_mean)*sqrt(n)/s\n",
    "t_calculated"
   ]
  },
  {
   "cell_type": "code",
   "execution_count": 8,
   "id": "35fe1e3a",
   "metadata": {},
   "outputs": [],
   "source": [
    "t_critical = 2.145"
   ]
  },
  {
   "cell_type": "code",
   "execution_count": 9,
   "id": "4bbd8c89",
   "metadata": {},
   "outputs": [
    {
     "name": "stdout",
     "output_type": "stream",
     "text": [
      "Do t_calculated = -0.533911861540536<t_critical = 2.145,     vậy với alpha =0.05, H0 đúng, HA sai, nghĩa là trung bình thu nhập/năm =5000$\n"
     ]
    }
   ],
   "source": [
    "if t_calculated<= t_critical:\n",
    "    print(f'Do t_calculated = {t_calculated}<t_critical = {t_critical}, \\\n",
    "    vậy với alpha =0.05, H0 đúng, HA sai, nghĩa là trung bình thu nhập/năm =5000$')"
   ]
  },
  {
   "cell_type": "code",
   "execution_count": 10,
   "id": "e9a8b3d6",
   "metadata": {},
   "outputs": [],
   "source": [
    "import numpy as np\n",
    "import scipy.stats as stats"
   ]
  },
  {
   "cell_type": "code",
   "execution_count": 11,
   "id": "c596e4c0",
   "metadata": {},
   "outputs": [
    {
     "data": {
      "text/plain": [
       "[1120,\n",
       " 1450,\n",
       " 2300,\n",
       " 3540,\n",
       " 4120,\n",
       " 4560,\n",
       " 5490,\n",
       " 3460,\n",
       " 4750,\n",
       " 2300,\n",
       " 9050,\n",
       " 8630,\n",
       " 8125,\n",
       " 7230,\n",
       " 3750]"
      ]
     },
     "execution_count": 11,
     "metadata": {},
     "output_type": "execute_result"
    }
   ],
   "source": [
    "income"
   ]
  },
  {
   "cell_type": "code",
   "execution_count": 12,
   "id": "88a90702",
   "metadata": {},
   "outputs": [
    {
     "name": "stdout",
     "output_type": "stream",
     "text": [
      "t_statistic =  -0.5158078623228827\n",
      "p_value 0.614037791906036\n"
     ]
    }
   ],
   "source": [
    "t_statistic, p_value = stats.ttest_1samp(a=income, popmean=5000)\n",
    "print('t_statistic = ', t_statistic)\n",
    "print('p_value', p_value)"
   ]
  },
  {
   "cell_type": "markdown",
   "id": "e098a0ef",
   "metadata": {},
   "source": [
    "### 2. Kiểm định giá trị trung bình độc lập"
   ]
  },
  {
   "cell_type": "markdown",
   "id": "a9888c40",
   "metadata": {},
   "source": [
    "Cho 2 tập dữ liệu là chiều cao của một nhóm 15 hs. Kiểm tra hai lớp có cùng chiều cao tb hay không?"
   ]
  },
  {
   "cell_type": "code",
   "execution_count": 13,
   "id": "3b5a6b72",
   "metadata": {},
   "outputs": [
    {
     "name": "stdout",
     "output_type": "stream",
     "text": [
      "Phương sai 1:  5.086875000000001\n",
      "Phương sai 2:  9.711875000000001\n"
     ]
    }
   ],
   "source": [
    "stud_group1 = np.array([14, 15, 15, 16, 13, 14.5, 14,\n",
    "                        17, 16, 14, 19, 20, 21, 15,\n",
    "                        15, 16, 16, 13, 14, 12])\n",
    "stud_group2 = np.array([15, 17, 14, 17, 14, 12.5, 12,\n",
    "                        19, 19, 14, 17, 22, 24, 16,\n",
    "                        13, 16, 13, 18, 15, 13])\n",
    "var_gp1 = np.var(stud_group1)\n",
    "var_gp2 = np.var(stud_group2)\n",
    "print('Phương sai 1: ',var_gp1)\n",
    "print('Phương sai 2: ',var_gp2)"
   ]
  },
  {
   "cell_type": "code",
   "execution_count": 14,
   "id": "1e6cac41",
   "metadata": {},
   "outputs": [
    {
     "data": {
      "text/plain": [
       "'2:1'"
      ]
     },
     "execution_count": 14,
     "metadata": {},
     "output_type": "execute_result"
    }
   ],
   "source": [
    "ratio = f'{round(var_gp1/var_gp2)}:1' if var_gp1>var_gp2 else\\\n",
    "f'{round(var_gp2/var_gp1)}:1'\n",
    "ratio"
   ]
  },
  {
   "cell_type": "code",
   "execution_count": 15,
   "id": "7bc34a7a",
   "metadata": {},
   "outputs": [
    {
     "data": {
      "text/plain": [
       "Ttest_indResult(statistic=-0.6231993234428195, pvalue=0.5368762754915417)"
      ]
     },
     "execution_count": 15,
     "metadata": {},
     "output_type": "execute_result"
    }
   ],
   "source": [
    "#2 sample t-test\n",
    "stats.ttest_ind(a=stud_group1, b=stud_group2, equal_var=True)"
   ]
  },
  {
   "cell_type": "markdown",
   "id": "52729a46",
   "metadata": {},
   "source": [
    "Đọc kết quả<br>\n",
    "H0 chiều cao trung bình của lớp thứ nhất bằng chiều cao trung bình của học sinh lớp thứ 2<br>\n",
    "H1 chiều cao trung bình của lớp thứ nhất khác chiều cao trung bình của học sinh lớp thứ 2<br>\n",
    "Vì pvalue>0.05 nên H0 đúng"
   ]
  },
  {
   "cell_type": "markdown",
   "id": "e4aab9c0",
   "metadata": {},
   "source": [
    "### 3. Kiểm định so sánh cặp "
   ]
  },
  {
   "cell_type": "markdown",
   "id": "a0f2868c",
   "metadata": {},
   "source": [
    "Cho 2 tập dữ liệu là số lít sữa mà mối con bò sữ sản xuất được trước và sau khi ăn cỏ lên men, 10 con bò thực hiên. Kiểm tra sự khác nhau về số lượng sữa tb thu được trước và sau khi thay đổi chế độ ăn"
   ]
  },
  {
   "cell_type": "code",
   "execution_count": 15,
   "id": "4570c60e",
   "metadata": {},
   "outputs": [
    {
     "data": {
      "text/plain": [
       "Ttest_relResult(statistic=-2.7924259052209988, pvalue=0.020970546617932826)"
      ]
     },
     "execution_count": 15,
     "metadata": {},
     "output_type": "execute_result"
    }
   ],
   "source": [
    "milk_group1 = [30,31,32,38,32,31,32,29,28,30]\n",
    "milk_group2 = [30,31,34,40,35,36,34,36,28,30]\n",
    "Ki"
   ]
  },
  {
   "cell_type": "markdown",
   "id": "070fe848",
   "metadata": {},
   "source": [
    "H0: Trung bình năng suất sữa trước và sau khi thay đổi chế độ ăn bằng nhau<br>\n",
    "H1: Trung bình năng suất sữa trước và sau khi thay đổi chế độ ăn không bằng nhau<br>\n",
    "    Giả sử alpha=0.05, ta thấy pvalue<alpha, do đó H0 là sai. Vì vậy với độ sai lệch là 5%, ta có đủ chứng cứ để kết luận rằng năng suất sữa trung bình trước và sau khi thay đổi chế độ ăn trong trang trại là khác nhau"
   ]
  },
  {
   "cell_type": "markdown",
   "id": "7a76a1fe",
   "metadata": {},
   "source": [
    "# KIỂM ĐỊNH TƯƠNG QUAN"
   ]
  },
  {
   "cell_type": "code",
   "execution_count": 4,
   "id": "fd7881da",
   "metadata": {},
   "outputs": [],
   "source": [
    "import pandas as pd\n",
    "import matplotlib.pyplot as plt\n",
    "import seaborn as sns\n",
    "from scipy.stats import pearsonr\n",
    "from math import sqrt"
   ]
  },
  {
   "cell_type": "code",
   "execution_count": 5,
   "id": "a02ba9f6",
   "metadata": {},
   "outputs": [],
   "source": [
    "weight = [3.63, 3.02, 3.15, 3.42, 3.59, 2.87, 3.03, 3.25, 3.36, 3.3]\n",
    "length = [53.1, 49.7, 48.4, 54.2, 54.9, 43.7, 47.2, 45.2, 54.4, 50.4]"
   ]
  },
  {
   "cell_type": "code",
   "execution_count": 6,
   "id": "6f780f3d",
   "metadata": {},
   "outputs": [
    {
     "data": {
      "image/png": "[encoded data removed]",
      "text/plain": [
       "<Figure size 432x288 with 1 Axes>"
      ]
     },
     "metadata": {
      "needs_background": "light"
     },
     "output_type": "display_data"
    }
   ],
   "source": [
    "plt.scatter(x= length, y=weight)\n",
    "plt.show()\n",
    "#có thể có tương quan, xu hướng là đường thẳng"
   ]
  },
  {
   "cell_type": "code",
   "execution_count": 7,
   "id": "84c71bf4",
   "metadata": {},
   "outputs": [
    {
     "data": {
      "text/plain": [
       "7.286599999999996"
      ]
     },
     "execution_count": 7,
     "metadata": {},
     "output_type": "execute_result"
    }
   ],
   "source": [
    "w_mean = sum(weight)/len(weight)\n",
    "ls_mean = sum(length)/len(length)\n",
    "ts = 0\n",
    "for i in range(len(weight)):\n",
    "    ts+=(weight[i] - w_mean)*(length[i] - ls_mean)\n",
    "ts"
   ]
  },
  {
   "cell_type": "code",
   "execution_count": 8,
   "id": "51d828f2",
   "metadata": {},
   "outputs": [
    {
     "data": {
      "text/plain": [
       "8.957517656136655"
      ]
     },
     "execution_count": 8,
     "metadata": {},
     "output_type": "execute_result"
    }
   ],
   "source": [
    "ms1 = 0\n",
    "ms2 = 0\n",
    "for i in range(len(weight)):\n",
    "    ms1 += (weight[i] - w_mean)**2\n",
    "    ms2 += (length[i] - ls_mean)**2\n",
    "ms = sqrt(ms1*ms2)\n",
    "ms"
   ]
  },
  {
   "cell_type": "code",
   "execution_count": 9,
   "id": "a3534b8d",
   "metadata": {},
   "outputs": [
    {
     "data": {
      "text/plain": [
       "0.8134619745915946"
      ]
     },
     "execution_count": 9,
     "metadata": {},
     "output_type": "execute_result"
    }
   ],
   "source": [
    "r = ts/ms\n",
    "r"
   ]
  },
  {
   "cell_type": "code",
   "execution_count": 10,
   "id": "fc0f2ea9",
   "metadata": {},
   "outputs": [],
   "source": [
    "#=> r>0 và gần 1 có thể kết luận chiều dài và cân nặng của trẻ sơ sinh có mối quan hệ chặt chẽ"
   ]
  },
  {
   "cell_type": "code",
   "execution_count": 11,
   "id": "beeae8c6",
   "metadata": {},
   "outputs": [
    {
     "name": "stdout",
     "output_type": "stream",
     "text": [
      "r =  0.8134619745915945\n",
      "pvalue =  0.00420116230004526\n"
     ]
    }
   ],
   "source": [
    "r, pvalue = pearsonr(length, weight)\n",
    "print('r = ', r)\n",
    "print('pvalue = ', pvalue)"
   ]
  },
  {
   "cell_type": "code",
   "execution_count": 12,
   "id": "813fc784",
   "metadata": {},
   "outputs": [],
   "source": [
    "# pvalue<ampha (0.05) =>n bác bỏ H0 tức r khác 0"
   ]
  },
  {
   "cell_type": "code",
   "execution_count": 13,
   "id": "4faf8de7",
   "metadata": {},
   "outputs": [
    {
     "data": {
      "text/html": [
       "<div>\n",
       "<style scoped>\n",
       "    .dataframe tbody tr th:only-of-type {\n",
       "        vertical-align: middle;\n",
       "    }\n",
       "\n",
       "    .dataframe tbody tr th {\n",
       "        vertical-align: top;\n",
       "    }\n",
       "\n",
       "    .dataframe thead th {\n",
       "        text-align: right;\n",
       "    }\n",
       "</style>\n",
       "<table border=\"1\" class=\"dataframe\">\n",
       "  <thead>\n",
       "    <tr style=\"text-align: right;\">\n",
       "      <th></th>\n",
       "      <th>G1</th>\n",
       "      <th>G2</th>\n",
       "      <th>G3</th>\n",
       "      <th>G4</th>\n",
       "      <th>G5</th>\n",
       "      <th>G6</th>\n",
       "      <th>G7</th>\n",
       "      <th>G8</th>\n",
       "      <th>G9</th>\n",
       "      <th>G10</th>\n",
       "      <th>...</th>\n",
       "      <th>G91</th>\n",
       "      <th>G92</th>\n",
       "      <th>G93</th>\n",
       "      <th>G94</th>\n",
       "      <th>G95</th>\n",
       "      <th>G96</th>\n",
       "      <th>G97</th>\n",
       "      <th>G98</th>\n",
       "      <th>G99</th>\n",
       "      <th>G100</th>\n",
       "    </tr>\n",
       "  </thead>\n",
       "  <tbody>\n",
       "    <tr>\n",
       "      <th>0</th>\n",
       "      <td>0.096999</td>\n",
       "      <td>0.227366</td>\n",
       "      <td>0.431403</td>\n",
       "      <td>0.350564</td>\n",
       "      <td>0.614166</td>\n",
       "      <td>0.037278</td>\n",
       "      <td>0.608806</td>\n",
       "      <td>0.402018</td>\n",
       "      <td>0.024301</td>\n",
       "      <td>0.534258</td>\n",
       "      <td>...</td>\n",
       "      <td>0.520794</td>\n",
       "      <td>0.348856</td>\n",
       "      <td>0.648020</td>\n",
       "      <td>0.460299</td>\n",
       "      <td>0.422432</td>\n",
       "      <td>0.640388</td>\n",
       "      <td>0.238413</td>\n",
       "      <td>0.651695</td>\n",
       "      <td>0.536379</td>\n",
       "      <td>0.640927</td>\n",
       "    </tr>\n",
       "    <tr>\n",
       "      <th>1</th>\n",
       "      <td>0.140357</td>\n",
       "      <td>0.116043</td>\n",
       "      <td>0.498218</td>\n",
       "      <td>0.286252</td>\n",
       "      <td>0.708196</td>\n",
       "      <td>0.037699</td>\n",
       "      <td>0.645638</td>\n",
       "      <td>0.447637</td>\n",
       "      <td>0.031831</td>\n",
       "      <td>0.444297</td>\n",
       "      <td>...</td>\n",
       "      <td>0.609565</td>\n",
       "      <td>0.446938</td>\n",
       "      <td>0.655062</td>\n",
       "      <td>0.370700</td>\n",
       "      <td>0.522416</td>\n",
       "      <td>0.594598</td>\n",
       "      <td>0.209250</td>\n",
       "      <td>0.590257</td>\n",
       "      <td>0.561454</td>\n",
       "      <td>0.548147</td>\n",
       "    </tr>\n",
       "    <tr>\n",
       "      <th>2</th>\n",
       "      <td>0.075864</td>\n",
       "      <td>0.215462</td>\n",
       "      <td>0.245413</td>\n",
       "      <td>0.263025</td>\n",
       "      <td>0.695526</td>\n",
       "      <td>0.057789</td>\n",
       "      <td>0.659812</td>\n",
       "      <td>0.423609</td>\n",
       "      <td>0.005288</td>\n",
       "      <td>0.504874</td>\n",
       "      <td>...</td>\n",
       "      <td>0.720783</td>\n",
       "      <td>0.311021</td>\n",
       "      <td>0.637153</td>\n",
       "      <td>0.415287</td>\n",
       "      <td>0.405801</td>\n",
       "      <td>0.523387</td>\n",
       "      <td>0.278230</td>\n",
       "      <td>0.551977</td>\n",
       "      <td>0.588909</td>\n",
       "      <td>0.571148</td>\n",
       "    </tr>\n",
       "    <tr>\n",
       "      <th>3</th>\n",
       "      <td>0.081394</td>\n",
       "      <td>0.193503</td>\n",
       "      <td>0.561137</td>\n",
       "      <td>0.133510</td>\n",
       "      <td>0.657569</td>\n",
       "      <td>0.053319</td>\n",
       "      <td>0.534083</td>\n",
       "      <td>0.415155</td>\n",
       "      <td>0.010994</td>\n",
       "      <td>0.408166</td>\n",
       "      <td>...</td>\n",
       "      <td>0.670272</td>\n",
       "      <td>0.498790</td>\n",
       "      <td>0.549552</td>\n",
       "      <td>0.368304</td>\n",
       "      <td>0.392148</td>\n",
       "      <td>0.643276</td>\n",
       "      <td>0.351833</td>\n",
       "      <td>0.681212</td>\n",
       "      <td>0.554729</td>\n",
       "      <td>0.498315</td>\n",
       "    </tr>\n",
       "    <tr>\n",
       "      <th>4</th>\n",
       "      <td>0.146972</td>\n",
       "      <td>0.019467</td>\n",
       "      <td>0.520126</td>\n",
       "      <td>0.200362</td>\n",
       "      <td>0.289476</td>\n",
       "      <td>0.146236</td>\n",
       "      <td>0.522055</td>\n",
       "      <td>0.325684</td>\n",
       "      <td>0.009394</td>\n",
       "      <td>0.345423</td>\n",
       "      <td>...</td>\n",
       "      <td>0.656710</td>\n",
       "      <td>0.488208</td>\n",
       "      <td>0.530460</td>\n",
       "      <td>0.392846</td>\n",
       "      <td>0.365890</td>\n",
       "      <td>0.637134</td>\n",
       "      <td>0.240219</td>\n",
       "      <td>0.672030</td>\n",
       "      <td>0.520975</td>\n",
       "      <td>0.643914</td>\n",
       "    </tr>\n",
       "    <tr>\n",
       "      <th>...</th>\n",
       "      <td>...</td>\n",
       "      <td>...</td>\n",
       "      <td>...</td>\n",
       "      <td>...</td>\n",
       "      <td>...</td>\n",
       "      <td>...</td>\n",
       "      <td>...</td>\n",
       "      <td>...</td>\n",
       "      <td>...</td>\n",
       "      <td>...</td>\n",
       "      <td>...</td>\n",
       "      <td>...</td>\n",
       "      <td>...</td>\n",
       "      <td>...</td>\n",
       "      <td>...</td>\n",
       "      <td>...</td>\n",
       "      <td>...</td>\n",
       "      <td>...</td>\n",
       "      <td>...</td>\n",
       "      <td>...</td>\n",
       "      <td>...</td>\n",
       "    </tr>\n",
       "    <tr>\n",
       "      <th>95</th>\n",
       "      <td>0.136612</td>\n",
       "      <td>0.218060</td>\n",
       "      <td>0.410735</td>\n",
       "      <td>0.309124</td>\n",
       "      <td>0.623771</td>\n",
       "      <td>0.057232</td>\n",
       "      <td>0.758860</td>\n",
       "      <td>0.430003</td>\n",
       "      <td>0.002582</td>\n",
       "      <td>0.463476</td>\n",
       "      <td>...</td>\n",
       "      <td>0.702393</td>\n",
       "      <td>0.469732</td>\n",
       "      <td>0.639036</td>\n",
       "      <td>0.406945</td>\n",
       "      <td>0.464915</td>\n",
       "      <td>0.352919</td>\n",
       "      <td>0.368327</td>\n",
       "      <td>0.645155</td>\n",
       "      <td>0.459091</td>\n",
       "      <td>0.582123</td>\n",
       "    </tr>\n",
       "    <tr>\n",
       "      <th>96</th>\n",
       "      <td>0.181643</td>\n",
       "      <td>0.254944</td>\n",
       "      <td>0.502419</td>\n",
       "      <td>0.445739</td>\n",
       "      <td>0.604940</td>\n",
       "      <td>0.070491</td>\n",
       "      <td>0.521393</td>\n",
       "      <td>0.399001</td>\n",
       "      <td>0.007459</td>\n",
       "      <td>0.497652</td>\n",
       "      <td>...</td>\n",
       "      <td>0.678336</td>\n",
       "      <td>0.351175</td>\n",
       "      <td>0.651234</td>\n",
       "      <td>0.448695</td>\n",
       "      <td>0.483983</td>\n",
       "      <td>0.610818</td>\n",
       "      <td>0.143644</td>\n",
       "      <td>0.564751</td>\n",
       "      <td>0.593970</td>\n",
       "      <td>0.798616</td>\n",
       "    </tr>\n",
       "    <tr>\n",
       "      <th>97</th>\n",
       "      <td>0.086596</td>\n",
       "      <td>0.248284</td>\n",
       "      <td>0.417322</td>\n",
       "      <td>0.325038</td>\n",
       "      <td>0.642527</td>\n",
       "      <td>0.050735</td>\n",
       "      <td>0.553526</td>\n",
       "      <td>0.410098</td>\n",
       "      <td>0.044201</td>\n",
       "      <td>0.425274</td>\n",
       "      <td>...</td>\n",
       "      <td>0.585763</td>\n",
       "      <td>0.481626</td>\n",
       "      <td>0.624413</td>\n",
       "      <td>0.323185</td>\n",
       "      <td>0.538718</td>\n",
       "      <td>0.611075</td>\n",
       "      <td>0.256141</td>\n",
       "      <td>0.455464</td>\n",
       "      <td>0.264548</td>\n",
       "      <td>0.557122</td>\n",
       "    </tr>\n",
       "    <tr>\n",
       "      <th>98</th>\n",
       "      <td>0.154695</td>\n",
       "      <td>0.240120</td>\n",
       "      <td>0.572381</td>\n",
       "      <td>0.305699</td>\n",
       "      <td>0.612217</td>\n",
       "      <td>0.034965</td>\n",
       "      <td>0.692328</td>\n",
       "      <td>0.418754</td>\n",
       "      <td>0.026105</td>\n",
       "      <td>0.553897</td>\n",
       "      <td>...</td>\n",
       "      <td>0.551415</td>\n",
       "      <td>0.451893</td>\n",
       "      <td>0.601532</td>\n",
       "      <td>0.403350</td>\n",
       "      <td>0.589157</td>\n",
       "      <td>0.586016</td>\n",
       "      <td>0.301276</td>\n",
       "      <td>0.662294</td>\n",
       "      <td>0.233315</td>\n",
       "      <td>0.577539</td>\n",
       "    </tr>\n",
       "    <tr>\n",
       "      <th>99</th>\n",
       "      <td>0.148716</td>\n",
       "      <td>0.177830</td>\n",
       "      <td>0.536524</td>\n",
       "      <td>0.368034</td>\n",
       "      <td>0.599262</td>\n",
       "      <td>0.068033</td>\n",
       "      <td>0.719219</td>\n",
       "      <td>0.378219</td>\n",
       "      <td>0.009443</td>\n",
       "      <td>0.494733</td>\n",
       "      <td>...</td>\n",
       "      <td>0.575103</td>\n",
       "      <td>0.464262</td>\n",
       "      <td>0.676459</td>\n",
       "      <td>0.479599</td>\n",
       "      <td>0.472632</td>\n",
       "      <td>0.655524</td>\n",
       "      <td>0.267327</td>\n",
       "      <td>0.621181</td>\n",
       "      <td>0.500910</td>\n",
       "      <td>0.335473</td>\n",
       "    </tr>\n",
       "  </tbody>\n",
       "</table>\n",
       "<p>100 rows × 100 columns</p>\n",
       "</div>"
      ],
      "text/plain": [
       "          G1        G2        G3        G4        G5        G6        G7  \\\n",
       "0   0.096999  0.227366  0.431403  0.350564  0.614166  0.037278  0.608806   \n",
       "1   0.140357  0.116043  0.498218  0.286252  0.708196  0.037699  0.645638   \n",
       "2   0.075864  0.215462  0.245413  0.263025  0.695526  0.057789  0.659812   \n",
       "3   0.081394  0.193503  0.561137  0.133510  0.657569  0.053319  0.534083   \n",
       "4   0.146972  0.019467  0.520126  0.200362  0.289476  0.146236  0.522055   \n",
       "..       ...       ...       ...       ...       ...       ...       ...   \n",
       "95  0.136612  0.218060  0.410735  0.309124  0.623771  0.057232  0.758860   \n",
       "96  0.181643  0.254944  0.502419  0.445739  0.604940  0.070491  0.521393   \n",
       "97  0.086596  0.248284  0.417322  0.325038  0.642527  0.050735  0.553526   \n",
       "98  0.154695  0.240120  0.572381  0.305699  0.612217  0.034965  0.692328   \n",
       "99  0.148716  0.177830  0.536524  0.368034  0.599262  0.068033  0.719219   \n",
       "\n",
       "          G8        G9       G10  ...       G91       G92       G93       G94  \\\n",
       "0   0.402018  0.024301  0.534258  ...  0.520794  0.348856  0.648020  0.460299   \n",
       "1   0.447637  0.031831  0.444297  ...  0.609565  0.446938  0.655062  0.370700   \n",
       "2   0.423609  0.005288  0.504874  ...  0.720783  0.311021  0.637153  0.415287   \n",
       "3   0.415155  0.010994  0.408166  ...  0.670272  0.498790  0.549552  0.368304   \n",
       "4   0.325684  0.009394  0.345423  ...  0.656710  0.488208  0.530460  0.392846   \n",
       "..       ...       ...       ...  ...       ...       ...       ...       ...   \n",
       "95  0.430003  0.002582  0.463476  ...  0.702393  0.469732  0.639036  0.406945   \n",
       "96  0.399001  0.007459  0.497652  ...  0.678336  0.351175  0.651234  0.448695   \n",
       "97  0.410098  0.044201  0.425274  ...  0.585763  0.481626  0.624413  0.323185   \n",
       "98  0.418754  0.026105  0.553897  ...  0.551415  0.451893  0.601532  0.403350   \n",
       "99  0.378219  0.009443  0.494733  ...  0.575103  0.464262  0.676459  0.479599   \n",
       "\n",
       "         G95       G96       G97       G98       G99      G100  \n",
       "0   0.422432  0.640388  0.238413  0.651695  0.536379  0.640927  \n",
       "1   0.522416  0.594598  0.209250  0.590257  0.561454  0.548147  \n",
       "2   0.405801  0.523387  0.278230  0.551977  0.588909  0.571148  \n",
       "3   0.392148  0.643276  0.351833  0.681212  0.554729  0.498315  \n",
       "4   0.365890  0.637134  0.240219  0.672030  0.520975  0.643914  \n",
       "..       ...       ...       ...       ...       ...       ...  \n",
       "95  0.464915  0.352919  0.368327  0.645155  0.459091  0.582123  \n",
       "96  0.483983  0.610818  0.143644  0.564751  0.593970  0.798616  \n",
       "97  0.538718  0.611075  0.256141  0.455464  0.264548  0.557122  \n",
       "98  0.589157  0.586016  0.301276  0.662294  0.233315  0.577539  \n",
       "99  0.472632  0.655524  0.267327  0.621181  0.500910  0.335473  \n",
       "\n",
       "[100 rows x 100 columns]"
      ]
     },
     "execution_count": 13,
     "metadata": {},
     "output_type": "execute_result"
    }
   ],
   "source": [
    "data = pd.read_csv(r'C:\\Users\\HP\\Pandas\\Untitled Folder\\gene_expression.csv')\n",
    "data"
   ]
  },
  {
   "cell_type": "code",
   "execution_count": 14,
   "id": "a16bd7c0",
   "metadata": {},
   "outputs": [
    {
     "data": {
      "text/html": [
       "<div>\n",
       "<style scoped>\n",
       "    .dataframe tbody tr th:only-of-type {\n",
       "        vertical-align: middle;\n",
       "    }\n",
       "\n",
       "    .dataframe tbody tr th {\n",
       "        vertical-align: top;\n",
       "    }\n",
       "\n",
       "    .dataframe thead th {\n",
       "        text-align: right;\n",
       "    }\n",
       "</style>\n",
       "<table border=\"1\" class=\"dataframe\">\n",
       "  <thead>\n",
       "    <tr style=\"text-align: right;\">\n",
       "      <th></th>\n",
       "      <th>G1</th>\n",
       "      <th>G2</th>\n",
       "      <th>G3</th>\n",
       "      <th>G4</th>\n",
       "      <th>G5</th>\n",
       "      <th>G6</th>\n",
       "      <th>G7</th>\n",
       "      <th>G8</th>\n",
       "      <th>G9</th>\n",
       "      <th>G10</th>\n",
       "      <th>...</th>\n",
       "      <th>G91</th>\n",
       "      <th>G92</th>\n",
       "      <th>G93</th>\n",
       "      <th>G94</th>\n",
       "      <th>G95</th>\n",
       "      <th>G96</th>\n",
       "      <th>G97</th>\n",
       "      <th>G98</th>\n",
       "      <th>G99</th>\n",
       "      <th>G100</th>\n",
       "    </tr>\n",
       "  </thead>\n",
       "  <tbody>\n",
       "    <tr>\n",
       "      <th>G1</th>\n",
       "      <td>1.000000</td>\n",
       "      <td>0.169975</td>\n",
       "      <td>0.109846</td>\n",
       "      <td>0.231553</td>\n",
       "      <td>-0.087381</td>\n",
       "      <td>-0.064209</td>\n",
       "      <td>-0.041415</td>\n",
       "      <td>0.142555</td>\n",
       "      <td>0.002129</td>\n",
       "      <td>-0.110972</td>\n",
       "      <td>...</td>\n",
       "      <td>0.038920</td>\n",
       "      <td>-0.077716</td>\n",
       "      <td>0.006610</td>\n",
       "      <td>0.077009</td>\n",
       "      <td>0.118549</td>\n",
       "      <td>0.021550</td>\n",
       "      <td>0.040970</td>\n",
       "      <td>0.002660</td>\n",
       "      <td>0.074044</td>\n",
       "      <td>-0.032659</td>\n",
       "    </tr>\n",
       "    <tr>\n",
       "      <th>G2</th>\n",
       "      <td>0.169975</td>\n",
       "      <td>1.000000</td>\n",
       "      <td>0.066510</td>\n",
       "      <td>0.243397</td>\n",
       "      <td>0.304204</td>\n",
       "      <td>-0.281620</td>\n",
       "      <td>0.025087</td>\n",
       "      <td>0.156830</td>\n",
       "      <td>0.268010</td>\n",
       "      <td>0.042149</td>\n",
       "      <td>...</td>\n",
       "      <td>-0.086019</td>\n",
       "      <td>-0.241694</td>\n",
       "      <td>0.043114</td>\n",
       "      <td>0.049519</td>\n",
       "      <td>0.221629</td>\n",
       "      <td>-0.084805</td>\n",
       "      <td>0.107109</td>\n",
       "      <td>0.113384</td>\n",
       "      <td>0.163949</td>\n",
       "      <td>0.079985</td>\n",
       "    </tr>\n",
       "    <tr>\n",
       "      <th>G3</th>\n",
       "      <td>0.109846</td>\n",
       "      <td>0.066510</td>\n",
       "      <td>1.000000</td>\n",
       "      <td>-0.152140</td>\n",
       "      <td>-0.041249</td>\n",
       "      <td>0.015172</td>\n",
       "      <td>-0.069908</td>\n",
       "      <td>-0.017355</td>\n",
       "      <td>-0.085911</td>\n",
       "      <td>-0.075624</td>\n",
       "      <td>...</td>\n",
       "      <td>-0.270581</td>\n",
       "      <td>-0.111771</td>\n",
       "      <td>-0.050123</td>\n",
       "      <td>-0.076612</td>\n",
       "      <td>-0.102273</td>\n",
       "      <td>0.009324</td>\n",
       "      <td>0.009409</td>\n",
       "      <td>0.047319</td>\n",
       "      <td>0.009729</td>\n",
       "      <td>0.012087</td>\n",
       "    </tr>\n",
       "    <tr>\n",
       "      <th>G4</th>\n",
       "      <td>0.231553</td>\n",
       "      <td>0.243397</td>\n",
       "      <td>-0.152140</td>\n",
       "      <td>1.000000</td>\n",
       "      <td>0.130446</td>\n",
       "      <td>-0.176197</td>\n",
       "      <td>-0.101741</td>\n",
       "      <td>0.102331</td>\n",
       "      <td>0.163635</td>\n",
       "      <td>0.054257</td>\n",
       "      <td>...</td>\n",
       "      <td>0.113405</td>\n",
       "      <td>0.022586</td>\n",
       "      <td>0.064802</td>\n",
       "      <td>-0.028010</td>\n",
       "      <td>0.041314</td>\n",
       "      <td>-0.006162</td>\n",
       "      <td>-0.091162</td>\n",
       "      <td>-0.022534</td>\n",
       "      <td>0.112366</td>\n",
       "      <td>0.048461</td>\n",
       "    </tr>\n",
       "    <tr>\n",
       "      <th>G5</th>\n",
       "      <td>-0.087381</td>\n",
       "      <td>0.304204</td>\n",
       "      <td>-0.041249</td>\n",
       "      <td>0.130446</td>\n",
       "      <td>1.000000</td>\n",
       "      <td>-0.300190</td>\n",
       "      <td>0.106845</td>\n",
       "      <td>0.114810</td>\n",
       "      <td>0.170687</td>\n",
       "      <td>0.196573</td>\n",
       "      <td>...</td>\n",
       "      <td>-0.067292</td>\n",
       "      <td>0.034273</td>\n",
       "      <td>0.106562</td>\n",
       "      <td>-0.036855</td>\n",
       "      <td>0.095098</td>\n",
       "      <td>-0.045486</td>\n",
       "      <td>-0.020867</td>\n",
       "      <td>0.135653</td>\n",
       "      <td>-0.000613</td>\n",
       "      <td>-0.019104</td>\n",
       "    </tr>\n",
       "    <tr>\n",
       "      <th>...</th>\n",
       "      <td>...</td>\n",
       "      <td>...</td>\n",
       "      <td>...</td>\n",
       "      <td>...</td>\n",
       "      <td>...</td>\n",
       "      <td>...</td>\n",
       "      <td>...</td>\n",
       "      <td>...</td>\n",
       "      <td>...</td>\n",
       "      <td>...</td>\n",
       "      <td>...</td>\n",
       "      <td>...</td>\n",
       "      <td>...</td>\n",
       "      <td>...</td>\n",
       "      <td>...</td>\n",
       "      <td>...</td>\n",
       "      <td>...</td>\n",
       "      <td>...</td>\n",
       "      <td>...</td>\n",
       "      <td>...</td>\n",
       "      <td>...</td>\n",
       "    </tr>\n",
       "    <tr>\n",
       "      <th>G96</th>\n",
       "      <td>0.021550</td>\n",
       "      <td>-0.084805</td>\n",
       "      <td>0.009324</td>\n",
       "      <td>-0.006162</td>\n",
       "      <td>-0.045486</td>\n",
       "      <td>-0.094907</td>\n",
       "      <td>-0.120065</td>\n",
       "      <td>-0.192870</td>\n",
       "      <td>0.000377</td>\n",
       "      <td>-0.072231</td>\n",
       "      <td>...</td>\n",
       "      <td>0.108706</td>\n",
       "      <td>0.226262</td>\n",
       "      <td>-0.034407</td>\n",
       "      <td>0.006273</td>\n",
       "      <td>-0.111574</td>\n",
       "      <td>1.000000</td>\n",
       "      <td>-0.124736</td>\n",
       "      <td>-0.017425</td>\n",
       "      <td>0.161821</td>\n",
       "      <td>0.112051</td>\n",
       "    </tr>\n",
       "    <tr>\n",
       "      <th>G97</th>\n",
       "      <td>0.040970</td>\n",
       "      <td>0.107109</td>\n",
       "      <td>0.009409</td>\n",
       "      <td>-0.091162</td>\n",
       "      <td>-0.020867</td>\n",
       "      <td>-0.055258</td>\n",
       "      <td>0.035858</td>\n",
       "      <td>0.134671</td>\n",
       "      <td>-0.035127</td>\n",
       "      <td>-0.058800</td>\n",
       "      <td>...</td>\n",
       "      <td>0.141618</td>\n",
       "      <td>-0.035408</td>\n",
       "      <td>0.090045</td>\n",
       "      <td>0.065052</td>\n",
       "      <td>0.086067</td>\n",
       "      <td>-0.124736</td>\n",
       "      <td>1.000000</td>\n",
       "      <td>0.139953</td>\n",
       "      <td>0.067760</td>\n",
       "      <td>-0.189140</td>\n",
       "    </tr>\n",
       "    <tr>\n",
       "      <th>G98</th>\n",
       "      <td>0.002660</td>\n",
       "      <td>0.113384</td>\n",
       "      <td>0.047319</td>\n",
       "      <td>-0.022534</td>\n",
       "      <td>0.135653</td>\n",
       "      <td>-0.029765</td>\n",
       "      <td>-0.045836</td>\n",
       "      <td>0.046743</td>\n",
       "      <td>0.039520</td>\n",
       "      <td>0.154447</td>\n",
       "      <td>...</td>\n",
       "      <td>-0.108256</td>\n",
       "      <td>0.117021</td>\n",
       "      <td>0.044302</td>\n",
       "      <td>0.032307</td>\n",
       "      <td>0.080608</td>\n",
       "      <td>-0.017425</td>\n",
       "      <td>0.139953</td>\n",
       "      <td>1.000000</td>\n",
       "      <td>0.202553</td>\n",
       "      <td>0.094383</td>\n",
       "    </tr>\n",
       "    <tr>\n",
       "      <th>G99</th>\n",
       "      <td>0.074044</td>\n",
       "      <td>0.163949</td>\n",
       "      <td>0.009729</td>\n",
       "      <td>0.112366</td>\n",
       "      <td>-0.000613</td>\n",
       "      <td>-0.083346</td>\n",
       "      <td>-0.127955</td>\n",
       "      <td>0.010937</td>\n",
       "      <td>-0.053368</td>\n",
       "      <td>-0.065698</td>\n",
       "      <td>...</td>\n",
       "      <td>0.125972</td>\n",
       "      <td>-0.039583</td>\n",
       "      <td>0.112466</td>\n",
       "      <td>0.186887</td>\n",
       "      <td>-0.166466</td>\n",
       "      <td>0.161821</td>\n",
       "      <td>0.067760</td>\n",
       "      <td>0.202553</td>\n",
       "      <td>1.000000</td>\n",
       "      <td>0.178887</td>\n",
       "    </tr>\n",
       "    <tr>\n",
       "      <th>G100</th>\n",
       "      <td>-0.032659</td>\n",
       "      <td>0.079985</td>\n",
       "      <td>0.012087</td>\n",
       "      <td>0.048461</td>\n",
       "      <td>-0.019104</td>\n",
       "      <td>-0.131633</td>\n",
       "      <td>-0.089657</td>\n",
       "      <td>-0.080313</td>\n",
       "      <td>0.010804</td>\n",
       "      <td>0.011063</td>\n",
       "      <td>...</td>\n",
       "      <td>0.004682</td>\n",
       "      <td>-0.140936</td>\n",
       "      <td>0.065039</td>\n",
       "      <td>0.010728</td>\n",
       "      <td>-0.048871</td>\n",
       "      <td>0.112051</td>\n",
       "      <td>-0.189140</td>\n",
       "      <td>0.094383</td>\n",
       "      <td>0.178887</td>\n",
       "      <td>1.000000</td>\n",
       "    </tr>\n",
       "  </tbody>\n",
       "</table>\n",
       "<p>100 rows × 100 columns</p>\n",
       "</div>"
      ],
      "text/plain": [
       "            G1        G2        G3        G4        G5        G6        G7  \\\n",
       "G1    1.000000  0.169975  0.109846  0.231553 -0.087381 -0.064209 -0.041415   \n",
       "G2    0.169975  1.000000  0.066510  0.243397  0.304204 -0.281620  0.025087   \n",
       "G3    0.109846  0.066510  1.000000 -0.152140 -0.041249  0.015172 -0.069908   \n",
       "G4    0.231553  0.243397 -0.152140  1.000000  0.130446 -0.176197 -0.101741   \n",
       "G5   -0.087381  0.304204 -0.041249  0.130446  1.000000 -0.300190  0.106845   \n",
       "...        ...       ...       ...       ...       ...       ...       ...   \n",
       "G96   0.021550 -0.084805  0.009324 -0.006162 -0.045486 -0.094907 -0.120065   \n",
       "G97   0.040970  0.107109  0.009409 -0.091162 -0.020867 -0.055258  0.035858   \n",
       "G98   0.002660  0.113384  0.047319 -0.022534  0.135653 -0.029765 -0.045836   \n",
       "G99   0.074044  0.163949  0.009729  0.112366 -0.000613 -0.083346 -0.127955   \n",
       "G100 -0.032659  0.079985  0.012087  0.048461 -0.019104 -0.131633 -0.089657   \n",
       "\n",
       "            G8        G9       G10  ...       G91       G92       G93  \\\n",
       "G1    0.142555  0.002129 -0.110972  ...  0.038920 -0.077716  0.006610   \n",
       "G2    0.156830  0.268010  0.042149  ... -0.086019 -0.241694  0.043114   \n",
       "G3   -0.017355 -0.085911 -0.075624  ... -0.270581 -0.111771 -0.050123   \n",
       "G4    0.102331  0.163635  0.054257  ...  0.113405  0.022586  0.064802   \n",
       "G5    0.114810  0.170687  0.196573  ... -0.067292  0.034273  0.106562   \n",
       "...        ...       ...       ...  ...       ...       ...       ...   \n",
       "G96  -0.192870  0.000377 -0.072231  ...  0.108706  0.226262 -0.034407   \n",
       "G97   0.134671 -0.035127 -0.058800  ...  0.141618 -0.035408  0.090045   \n",
       "G98   0.046743  0.039520  0.154447  ... -0.108256  0.117021  0.044302   \n",
       "G99   0.010937 -0.053368 -0.065698  ...  0.125972 -0.039583  0.112466   \n",
       "G100 -0.080313  0.010804  0.011063  ...  0.004682 -0.140936  0.065039   \n",
       "\n",
       "           G94       G95       G96       G97       G98       G99      G100  \n",
       "G1    0.077009  0.118549  0.021550  0.040970  0.002660  0.074044 -0.032659  \n",
       "G2    0.049519  0.221629 -0.084805  0.107109  0.113384  0.163949  0.079985  \n",
       "G3   -0.076612 -0.102273  0.009324  0.009409  0.047319  0.009729  0.012087  \n",
       "G4   -0.028010  0.041314 -0.006162 -0.091162 -0.022534  0.112366  0.048461  \n",
       "G5   -0.036855  0.095098 -0.045486 -0.020867  0.135653 -0.000613 -0.019104  \n",
       "...        ...       ...       ...       ...       ...       ...       ...  \n",
       "G96   0.006273 -0.111574  1.000000 -0.124736 -0.017425  0.161821  0.112051  \n",
       "G97   0.065052  0.086067 -0.124736  1.000000  0.139953  0.067760 -0.189140  \n",
       "G98   0.032307  0.080608 -0.017425  0.139953  1.000000  0.202553  0.094383  \n",
       "G99   0.186887 -0.166466  0.161821  0.067760  0.202553  1.000000  0.178887  \n",
       "G100  0.010728 -0.048871  0.112051 -0.189140  0.094383  0.178887  1.000000  \n",
       "\n",
       "[100 rows x 100 columns]"
      ]
     },
     "execution_count": 14,
     "metadata": {},
     "output_type": "execute_result"
    }
   ],
   "source": [
    "data.corr()"
   ]
  },
  {
   "cell_type": "code",
   "execution_count": null,
   "id": "f24bf50e",
   "metadata": {},
   "outputs": [],
   "source": []
  },
  {
   "cell_type": "code",
   "execution_count": null,
   "id": "86915337",
   "metadata": {},
   "outputs": [],
   "source": []
  },
  {
   "cell_type": "code",
   "execution_count": 15,
   "id": "f55c9d55",
   "metadata": {},
   "outputs": [
    {
     "name": "stdout",
     "output_type": "stream",
     "text": [
      "G2 and G100 have a relation\n",
      "Correlation coefficient =  1.0\n",
      "pvalue =  0.0\n"
     ]
    }
   ],
   "source": [
    "for i in range(len(data.columns)):\n",
    "    r,pvalue = pearsonr(data.iloc[:,99], data.iloc[:, i])\n",
    "#     if r==1: \n",
    "#         continue\n",
    "    if r>0.8:\n",
    "        print(f'{data.columns[1]} and {data.columns[i]} have a relation')\n",
    "        print('Correlation coefficient = ', r)\n",
    "        print('pvalue = ', pvalue)\n",
    "        break\n"
   ]
  },
  {
   "cell_type": "code",
   "execution_count": 16,
   "id": "4eaad69a",
   "metadata": {},
   "outputs": [
    {
     "data": {
      "text/plain": [
       "['G11 - G15', 'G15 - G11', 'G61 - G74', 'G74 - G61']"
      ]
     },
     "execution_count": 16,
     "metadata": {},
     "output_type": "execute_result"
    }
   ],
   "source": [
    "r = []\n",
    "for i in range(1,101, 1):\n",
    "    for j in range(1,101, 1):\n",
    "        if i==j:\n",
    "            continue\n",
    "        r_coef, pv = pearsonr(data[f'G{i}'], data[f'G{j}'])\n",
    "        if r_coef>=0.7:\n",
    "            r.append(f'G{i} - G{j}')\n",
    "r"
   ]
  },
  {
   "cell_type": "code",
   "execution_count": 17,
   "id": "f9a0aa30",
   "metadata": {},
   "outputs": [
    {
     "data": {
      "text/plain": [
       "0.16997459082641037"
      ]
     },
     "execution_count": 17,
     "metadata": {},
     "output_type": "execute_result"
    }
   ],
   "source": [
    "r, pvalue = pearsonr(data['G1'], data['G2'])\n",
    "r"
   ]
  },
  {
   "cell_type": "code",
   "execution_count": 18,
   "id": "b35ee23c",
   "metadata": {},
   "outputs": [
    {
     "data": {
      "text/plain": [
       "<matplotlib.collections.PathCollection at 0x204733966a0>"
      ]
     },
     "execution_count": 18,
     "metadata": {},
     "output_type": "execute_result"
    },
    {
     "data": {
      "image/png": "[encoded data removed]",
      "text/plain": [
       "<Figure size 432x288 with 1 Axes>"
      ]
     },
     "metadata": {
      "needs_background": "light"
     },
     "output_type": "display_data"
    }
   ],
   "source": [
    "plt.scatter(x=data['G1'], y=data['G2'])"
   ]
  },
  {
   "cell_type": "code",
   "execution_count": 19,
   "id": "93978a9f",
   "metadata": {},
   "outputs": [
    {
     "data": {
      "text/plain": [
       "<seaborn.axisgrid.FacetGrid at 0x204733c5a00>"
      ]
     },
     "execution_count": 19,
     "metadata": {},
     "output_type": "execute_result"
    },
    {
     "data": {
      "image/png": "[encoded data removed]",
      "text/plain": [
       "<Figure size 360x360 with 1 Axes>"
      ]
     },
     "metadata": {},
     "output_type": "display_data"
    }
   ],
   "source": [
    "sns.set_style(style='whitegrid')\n",
    "sns.lmplot(x='G1', y='G2', data=data)"
   ]
  },
  {
   "cell_type": "markdown",
   "id": "34031f69",
   "metadata": {},
   "source": [
    "# Kiểm định tương quan giữa 2 thuộc tính định tính"
   ]
  },
  {
   "cell_type": "markdown",
   "id": "5bc1971f",
   "metadata": {},
   "source": [
    "H0: Giới tính và các nhóm khảo sát không có mối tương quan<br>\n",
    "H1: Có mối tương quan"
   ]
  },
  {
   "cell_type": "code",
   "execution_count": 20,
   "id": "e04c1d3a",
   "metadata": {},
   "outputs": [
    {
     "data": {
      "text/html": [
       "<div>\n",
       "<style scoped>\n",
       "    .dataframe tbody tr th:only-of-type {\n",
       "        vertical-align: middle;\n",
       "    }\n",
       "\n",
       "    .dataframe tbody tr th {\n",
       "        vertical-align: top;\n",
       "    }\n",
       "\n",
       "    .dataframe thead th {\n",
       "        text-align: right;\n",
       "    }\n",
       "</style>\n",
       "<table border=\"1\" class=\"dataframe\">\n",
       "  <thead>\n",
       "    <tr style=\"text-align: right;\">\n",
       "      <th></th>\n",
       "      <th>Gender</th>\n",
       "      <th>Nonsmoker</th>\n",
       "      <th>Past smoker</th>\n",
       "      <th>Current smoker</th>\n",
       "    </tr>\n",
       "  </thead>\n",
       "  <tbody>\n",
       "    <tr>\n",
       "      <th>0</th>\n",
       "      <td>Male</td>\n",
       "      <td>149</td>\n",
       "      <td>13</td>\n",
       "      <td>31</td>\n",
       "    </tr>\n",
       "    <tr>\n",
       "      <th>1</th>\n",
       "      <td>Felmale</td>\n",
       "      <td>148</td>\n",
       "      <td>24</td>\n",
       "      <td>37</td>\n",
       "    </tr>\n",
       "  </tbody>\n",
       "</table>\n",
       "</div>"
      ],
      "text/plain": [
       "    Gender  Nonsmoker  Past smoker  Current smoker\n",
       "0     Male        149           13              31\n",
       "1  Felmale        148           24              37"
      ]
     },
     "execution_count": 20,
     "metadata": {},
     "output_type": "execute_result"
    }
   ],
   "source": [
    "dt= pd.DataFrame([['Male',149,13,31],['Felmale',148,24,37]],columns=['Gender','Nonsmoker','Past smoker','Current smoker'])\n",
    "dt"
   ]
  },
  {
   "cell_type": "code",
   "execution_count": 21,
   "id": "a6628d48",
   "metadata": {},
   "outputs": [
    {
     "data": {
      "text/plain": [
       "0    193\n",
       "1    209\n",
       "dtype: int64"
      ]
     },
     "execution_count": 21,
     "metadata": {},
     "output_type": "execute_result"
    }
   ],
   "source": [
    "row_total = dt[dt.columns[1:]].sum(axis=1)\n",
    "row_total"
   ]
  },
  {
   "cell_type": "code",
   "execution_count": 22,
   "id": "b22b99a6",
   "metadata": {},
   "outputs": [
    {
     "data": {
      "text/plain": [
       "Nonsmoker         297\n",
       "Past smoker        37\n",
       "Current smoker     68\n",
       "dtype: int64"
      ]
     },
     "execution_count": 22,
     "metadata": {},
     "output_type": "execute_result"
    }
   ],
   "source": [
    "col_total = dt[dt.columns[1:]].sum(axis=0)\n",
    "col_total"
   ]
  },
  {
   "cell_type": "code",
   "execution_count": 23,
   "id": "10ff4312",
   "metadata": {},
   "outputs": [
    {
     "data": {
      "text/plain": [
       "402"
      ]
     },
     "execution_count": 23,
     "metadata": {},
     "output_type": "execute_result"
    }
   ],
   "source": [
    "dt_total = row_total.sum()\n",
    "dt_total"
   ]
  },
  {
   "cell_type": "code",
   "execution_count": null,
   "id": "ccbc4dd5",
   "metadata": {},
   "outputs": [],
   "source": []
  },
  {
   "cell_type": "code",
   "execution_count": 24,
   "id": "95fad069",
   "metadata": {},
   "outputs": [
    {
     "data": {
      "text/plain": [
       "[['Male', 142.58955223880596, 17.763681592039802, 32.646766169154226],\n",
       " ['Felmale', 154.41044776119404, 19.236318407960198, 35.353233830845774]]"
      ]
     },
     "execution_count": 24,
     "metadata": {},
     "output_type": "execute_result"
    }
   ],
   "source": [
    "#Tạo dữ liệu so sánh (expected variable) for r in dt.index:\n",
    "cal_val = []\n",
    "for r in dt.index:\n",
    "    row_val = [dt['Gender'][r]]\n",
    "    for c in dt.columns[1:]:\n",
    "        val = col_total[c]* row_total[r]/dt_total\n",
    "        row_val.append(val)\n",
    "    cal_val.append(row_val)\n",
    "cal_val\n",
    "    "
   ]
  },
  {
   "cell_type": "code",
   "execution_count": 25,
   "id": "6ef2976a",
   "metadata": {},
   "outputs": [
    {
     "data": {
      "text/html": [
       "<div>\n",
       "<style scoped>\n",
       "    .dataframe tbody tr th:only-of-type {\n",
       "        vertical-align: middle;\n",
       "    }\n",
       "\n",
       "    .dataframe tbody tr th {\n",
       "        vertical-align: top;\n",
       "    }\n",
       "\n",
       "    .dataframe thead th {\n",
       "        text-align: right;\n",
       "    }\n",
       "</style>\n",
       "<table border=\"1\" class=\"dataframe\">\n",
       "  <thead>\n",
       "    <tr style=\"text-align: right;\">\n",
       "      <th></th>\n",
       "      <th>Gender</th>\n",
       "      <th>Nonsmoker</th>\n",
       "      <th>Past smoker</th>\n",
       "      <th>Current smoker</th>\n",
       "    </tr>\n",
       "  </thead>\n",
       "  <tbody>\n",
       "    <tr>\n",
       "      <th>0</th>\n",
       "      <td>Male</td>\n",
       "      <td>142.589552</td>\n",
       "      <td>17.763682</td>\n",
       "      <td>32.646766</td>\n",
       "    </tr>\n",
       "    <tr>\n",
       "      <th>1</th>\n",
       "      <td>Felmale</td>\n",
       "      <td>154.410448</td>\n",
       "      <td>19.236318</td>\n",
       "      <td>35.353234</td>\n",
       "    </tr>\n",
       "  </tbody>\n",
       "</table>\n",
       "</div>"
      ],
      "text/plain": [
       "    Gender   Nonsmoker  Past smoker  Current smoker\n",
       "0     Male  142.589552    17.763682       32.646766\n",
       "1  Felmale  154.410448    19.236318       35.353234"
      ]
     },
     "execution_count": 25,
     "metadata": {},
     "output_type": "execute_result"
    }
   ],
   "source": [
    "expectation = pd.DataFrame(cal_val, columns=dt.columns)\n",
    "expectation"
   ]
  },
  {
   "cell_type": "code",
   "execution_count": 26,
   "id": "1310ba15",
   "metadata": {},
   "outputs": [
    {
     "data": {
      "text/plain": [
       "[149, 13, 31, 148, 24, 37]"
      ]
     },
     "execution_count": 26,
     "metadata": {},
     "output_type": "execute_result"
    }
   ],
   "source": [
    "observed = list(dt[dt.columns[1:]].values.reshape(1,-1)[0])\n",
    "observed"
   ]
  },
  {
   "cell_type": "code",
   "execution_count": 27,
   "id": "e434ce07",
   "metadata": {},
   "outputs": [
    {
     "data": {
      "text/plain": [
       "0    149\n",
       "1     13\n",
       "2     31\n",
       "3    148\n",
       "4     24\n",
       "5     37\n",
       "dtype: int64"
      ]
     },
     "execution_count": 27,
     "metadata": {},
     "output_type": "execute_result"
    }
   ],
   "source": [
    "observed = pd.Series(observed)\n",
    "observed"
   ]
  },
  {
   "cell_type": "code",
   "execution_count": 28,
   "id": "daf214b5",
   "metadata": {},
   "outputs": [
    {
     "data": {
      "text/plain": [
       "[142.58955223880596,\n",
       " 17.763681592039802,\n",
       " 32.646766169154226,\n",
       " 154.41044776119404,\n",
       " 19.236318407960198,\n",
       " 35.353233830845774]"
      ]
     },
     "execution_count": 28,
     "metadata": {},
     "output_type": "execute_result"
    }
   ],
   "source": [
    "expected = list(expectation[expectation.columns[1:]].values.reshape(1,-1)[0])\n",
    "expected"
   ]
  },
  {
   "cell_type": "code",
   "execution_count": 29,
   "id": "b6985e7e",
   "metadata": {},
   "outputs": [
    {
     "data": {
      "text/plain": [
       "0    142.589552\n",
       "1     17.763682\n",
       "2     32.646766\n",
       "3    154.410448\n",
       "4     19.236318\n",
       "5     35.353234\n",
       "dtype: float64"
      ]
     },
     "execution_count": 29,
     "metadata": {},
     "output_type": "execute_result"
    }
   ],
   "source": [
    "expected = pd.Series(expected)\n",
    "expected"
   ]
  },
  {
   "cell_type": "code",
   "execution_count": 30,
   "id": "30cc7bce",
   "metadata": {},
   "outputs": [
    {
     "data": {
      "text/html": [
       "<div>\n",
       "<style scoped>\n",
       "    .dataframe tbody tr th:only-of-type {\n",
       "        vertical-align: middle;\n",
       "    }\n",
       "\n",
       "    .dataframe tbody tr th {\n",
       "        vertical-align: top;\n",
       "    }\n",
       "\n",
       "    .dataframe thead th {\n",
       "        text-align: right;\n",
       "    }\n",
       "</style>\n",
       "<table border=\"1\" class=\"dataframe\">\n",
       "  <thead>\n",
       "    <tr style=\"text-align: right;\">\n",
       "      <th></th>\n",
       "      <th>observed</th>\n",
       "      <th>expected</th>\n",
       "    </tr>\n",
       "  </thead>\n",
       "  <tbody>\n",
       "    <tr>\n",
       "      <th>0</th>\n",
       "      <td>149</td>\n",
       "      <td>142.589552</td>\n",
       "    </tr>\n",
       "    <tr>\n",
       "      <th>1</th>\n",
       "      <td>13</td>\n",
       "      <td>17.763682</td>\n",
       "    </tr>\n",
       "    <tr>\n",
       "      <th>2</th>\n",
       "      <td>31</td>\n",
       "      <td>32.646766</td>\n",
       "    </tr>\n",
       "    <tr>\n",
       "      <th>3</th>\n",
       "      <td>148</td>\n",
       "      <td>154.410448</td>\n",
       "    </tr>\n",
       "    <tr>\n",
       "      <th>4</th>\n",
       "      <td>24</td>\n",
       "      <td>19.236318</td>\n",
       "    </tr>\n",
       "    <tr>\n",
       "      <th>5</th>\n",
       "      <td>37</td>\n",
       "      <td>35.353234</td>\n",
       "    </tr>\n",
       "  </tbody>\n",
       "</table>\n",
       "</div>"
      ],
      "text/plain": [
       "   observed    expected\n",
       "0       149  142.589552\n",
       "1        13   17.763682\n",
       "2        31   32.646766\n",
       "3       148  154.410448\n",
       "4        24   19.236318\n",
       "5        37   35.353234"
      ]
     },
     "execution_count": 30,
     "metadata": {},
     "output_type": "execute_result"
    }
   ],
   "source": [
    "cs_table = pd.DataFrame({'observed': observed, 'expected': expected})\n",
    "cs_table"
   ]
  },
  {
   "cell_type": "code",
   "execution_count": 31,
   "id": "2efd5e46",
   "metadata": {},
   "outputs": [
    {
     "data": {
      "text/html": [
       "<div>\n",
       "<style scoped>\n",
       "    .dataframe tbody tr th:only-of-type {\n",
       "        vertical-align: middle;\n",
       "    }\n",
       "\n",
       "    .dataframe tbody tr th {\n",
       "        vertical-align: top;\n",
       "    }\n",
       "\n",
       "    .dataframe thead th {\n",
       "        text-align: right;\n",
       "    }\n",
       "</style>\n",
       "<table border=\"1\" class=\"dataframe\">\n",
       "  <thead>\n",
       "    <tr style=\"text-align: right;\">\n",
       "      <th></th>\n",
       "      <th>observed</th>\n",
       "      <th>expected</th>\n",
       "      <th>cs_val</th>\n",
       "    </tr>\n",
       "  </thead>\n",
       "  <tbody>\n",
       "    <tr>\n",
       "      <th>0</th>\n",
       "      <td>149</td>\n",
       "      <td>142.589552</td>\n",
       "      <td>0.288197</td>\n",
       "    </tr>\n",
       "    <tr>\n",
       "      <th>1</th>\n",
       "      <td>13</td>\n",
       "      <td>17.763682</td>\n",
       "      <td>1.277475</td>\n",
       "    </tr>\n",
       "    <tr>\n",
       "      <th>2</th>\n",
       "      <td>31</td>\n",
       "      <td>32.646766</td>\n",
       "      <td>0.083066</td>\n",
       "    </tr>\n",
       "    <tr>\n",
       "      <th>3</th>\n",
       "      <td>148</td>\n",
       "      <td>154.410448</td>\n",
       "      <td>0.266134</td>\n",
       "    </tr>\n",
       "    <tr>\n",
       "      <th>4</th>\n",
       "      <td>24</td>\n",
       "      <td>19.236318</td>\n",
       "      <td>1.179678</td>\n",
       "    </tr>\n",
       "    <tr>\n",
       "      <th>5</th>\n",
       "      <td>37</td>\n",
       "      <td>35.353234</td>\n",
       "      <td>0.076707</td>\n",
       "    </tr>\n",
       "  </tbody>\n",
       "</table>\n",
       "</div>"
      ],
      "text/plain": [
       "   observed    expected    cs_val\n",
       "0       149  142.589552  0.288197\n",
       "1        13   17.763682  1.277475\n",
       "2        31   32.646766  0.083066\n",
       "3       148  154.410448  0.266134\n",
       "4        24   19.236318  1.179678\n",
       "5        37   35.353234  0.076707"
      ]
     },
     "execution_count": 31,
     "metadata": {},
     "output_type": "execute_result"
    }
   ],
   "source": [
    "cs_table['cs_val'] = (cs_table['observed'] - cs_table['expected'])**2/cs_table['expected']\n",
    "cs_table"
   ]
  },
  {
   "cell_type": "code",
   "execution_count": 32,
   "id": "0ae97684",
   "metadata": {},
   "outputs": [
    {
     "data": {
      "text/plain": [
       "3.171256766693158"
      ]
     },
     "execution_count": 32,
     "metadata": {},
     "output_type": "execute_result"
    }
   ],
   "source": [
    "chi_square_value = cs_table['cs_val'].sum()\n",
    "chi_square_value"
   ]
  },
  {
   "cell_type": "code",
   "execution_count": 33,
   "id": "dab7fc32",
   "metadata": {},
   "outputs": [],
   "source": [
    "dof =2\n",
    "critical_value = 5.991"
   ]
  },
  {
   "cell_type": "code",
   "execution_count": 34,
   "id": "51c9a7a8",
   "metadata": {},
   "outputs": [],
   "source": [
    "from scipy.stats import chi2_contingency"
   ]
  },
  {
   "cell_type": "code",
   "execution_count": 35,
   "id": "ccf2d151",
   "metadata": {},
   "outputs": [
    {
     "data": {
      "text/html": [
       "<div>\n",
       "<style scoped>\n",
       "    .dataframe tbody tr th:only-of-type {\n",
       "        vertical-align: middle;\n",
       "    }\n",
       "\n",
       "    .dataframe tbody tr th {\n",
       "        vertical-align: top;\n",
       "    }\n",
       "\n",
       "    .dataframe thead th {\n",
       "        text-align: right;\n",
       "    }\n",
       "</style>\n",
       "<table border=\"1\" class=\"dataframe\">\n",
       "  <thead>\n",
       "    <tr style=\"text-align: right;\">\n",
       "      <th></th>\n",
       "      <th>Gender</th>\n",
       "      <th>Nonsmoker</th>\n",
       "      <th>Past smoker</th>\n",
       "      <th>Current smoker</th>\n",
       "    </tr>\n",
       "  </thead>\n",
       "  <tbody>\n",
       "    <tr>\n",
       "      <th>0</th>\n",
       "      <td>Male</td>\n",
       "      <td>149</td>\n",
       "      <td>13</td>\n",
       "      <td>31</td>\n",
       "    </tr>\n",
       "    <tr>\n",
       "      <th>1</th>\n",
       "      <td>Felmale</td>\n",
       "      <td>148</td>\n",
       "      <td>24</td>\n",
       "      <td>37</td>\n",
       "    </tr>\n",
       "  </tbody>\n",
       "</table>\n",
       "</div>"
      ],
      "text/plain": [
       "    Gender  Nonsmoker  Past smoker  Current smoker\n",
       "0     Male        149           13              31\n",
       "1  Felmale        148           24              37"
      ]
     },
     "execution_count": 35,
     "metadata": {},
     "output_type": "execute_result"
    }
   ],
   "source": [
    "dt"
   ]
  },
  {
   "cell_type": "code",
   "execution_count": 36,
   "id": "f34d4cac",
   "metadata": {},
   "outputs": [
    {
     "data": {
      "text/plain": [
       "[array([149, 13, 31], dtype=object), array([148, 24, 37], dtype=object)]"
      ]
     },
     "execution_count": 36,
     "metadata": {},
     "output_type": "execute_result"
    }
   ],
   "source": [
    "data = [dt.iloc[0][dt.columns[1:]].values, dt.iloc[1][dt.columns[1:]].values]\n",
    "data"
   ]
  },
  {
   "cell_type": "code",
   "execution_count": 37,
   "id": "d63a73a3",
   "metadata": {},
   "outputs": [
    {
     "data": {
      "text/plain": [
       "[array([149, 13, 31], dtype=object), array([148, 24, 37], dtype=object)]"
      ]
     },
     "execution_count": 37,
     "metadata": {},
     "output_type": "execute_result"
    }
   ],
   "source": [
    "data = [dt.iloc[0,1:].values, dt.iloc[1, 1:].values]\n",
    "data"
   ]
  },
  {
   "cell_type": "code",
   "execution_count": 38,
   "id": "e69d872c",
   "metadata": {},
   "outputs": [
    {
     "name": "stdout",
     "output_type": "stream",
     "text": [
      "Chi-square value=  3.171256766693158\n",
      "pvalue=  0.20481904779163018\n",
      "degree of freedom=  2\n",
      "expected table=  [[142.58955224  17.76368159  32.64676617]\n",
      " [154.41044776  19.23631841  35.35323383]]\n"
     ]
    }
   ],
   "source": [
    "chi, p, dof, expected = chi2_contingency(data)\n",
    "#data là 1 list, chỉ lọc lấy định lượng tần suất\n",
    "print('Chi-square value= ', chi)\n",
    "print('pvalue= ', p)\n",
    "print('degree of freedom= ', dof)\n",
    "print('expected table= ', expected)"
   ]
  },
  {
   "cell_type": "code",
   "execution_count": 39,
   "id": "0aaaf4d8",
   "metadata": {},
   "outputs": [
    {
     "data": {
      "text/html": [
       "<div>\n",
       "<style scoped>\n",
       "    .dataframe tbody tr th:only-of-type {\n",
       "        vertical-align: middle;\n",
       "    }\n",
       "\n",
       "    .dataframe tbody tr th {\n",
       "        vertical-align: top;\n",
       "    }\n",
       "\n",
       "    .dataframe thead th {\n",
       "        text-align: right;\n",
       "    }\n",
       "</style>\n",
       "<table border=\"1\" class=\"dataframe\">\n",
       "  <thead>\n",
       "    <tr style=\"text-align: right;\">\n",
       "      <th></th>\n",
       "      <th>Mã học sinh</th>\n",
       "      <th>Họ tên</th>\n",
       "      <th>Ngày sinh</th>\n",
       "      <th>Giới tính</th>\n",
       "      <th>Quê quán</th>\n",
       "      <th>Toán</th>\n",
       "      <th>Lý</th>\n",
       "      <th>Hoá</th>\n",
       "      <th>Sinh</th>\n",
       "      <th>Văn</th>\n",
       "      <th>Sử</th>\n",
       "      <th>Địa</th>\n",
       "      <th>Tiếng Anh</th>\n",
       "    </tr>\n",
       "  </thead>\n",
       "  <tbody>\n",
       "    <tr>\n",
       "      <th>0</th>\n",
       "      <td>20205210</td>\n",
       "      <td>Nguyễn Đức Bình</td>\n",
       "      <td>3/10/2000</td>\n",
       "      <td>Nam</td>\n",
       "      <td>Hà Nội</td>\n",
       "      <td>7.0</td>\n",
       "      <td>8.0</td>\n",
       "      <td>8.8</td>\n",
       "      <td>6.8</td>\n",
       "      <td>4.0</td>\n",
       "      <td>5.4</td>\n",
       "      <td>5.6</td>\n",
       "      <td>8.5</td>\n",
       "    </tr>\n",
       "    <tr>\n",
       "      <th>1</th>\n",
       "      <td>20205211</td>\n",
       "      <td>Lê Minh Hoàng</td>\n",
       "      <td>2/11/2001</td>\n",
       "      <td>Nam</td>\n",
       "      <td>Quảng Bình</td>\n",
       "      <td>5.6</td>\n",
       "      <td>7.7</td>\n",
       "      <td>6.0</td>\n",
       "      <td>7.0</td>\n",
       "      <td>6.5</td>\n",
       "      <td>6.0</td>\n",
       "      <td>3.4</td>\n",
       "      <td>9.0</td>\n",
       "    </tr>\n",
       "    <tr>\n",
       "      <th>2</th>\n",
       "      <td>20205212</td>\n",
       "      <td>Trần Trang Nhung</td>\n",
       "      <td>7/5/2002</td>\n",
       "      <td>Nữ</td>\n",
       "      <td>Hà Nam</td>\n",
       "      <td>4.2</td>\n",
       "      <td>6.5</td>\n",
       "      <td>5.4</td>\n",
       "      <td>8.0</td>\n",
       "      <td>7.0</td>\n",
       "      <td>7.5</td>\n",
       "      <td>4.3</td>\n",
       "      <td>5.5</td>\n",
       "    </tr>\n",
       "  </tbody>\n",
       "</table>\n",
       "</div>"
      ],
      "text/plain": [
       "   Mã học sinh            Họ tên  Ngày sinh Giới tính    Quê quán  Toán   Lý  \\\n",
       "0     20205210   Nguyễn Đức Bình  3/10/2000       Nam      Hà Nội   7.0  8.0   \n",
       "1     20205211     Lê Minh Hoàng  2/11/2001       Nam  Quảng Bình   5.6  7.7   \n",
       "2     20205212  Trần Trang Nhung   7/5/2002        Nữ      Hà Nam   4.2  6.5   \n",
       "\n",
       "   Hoá  Sinh  Văn   Sử  Địa  Tiếng Anh  \n",
       "0  8.8   6.8  4.0  5.4  5.6        8.5  \n",
       "1  6.0   7.0  6.5  6.0  3.4        9.0  \n",
       "2  5.4   8.0  7.0  7.5  4.3        5.5  "
      ]
     },
     "execution_count": 39,
     "metadata": {},
     "output_type": "execute_result"
    }
   ],
   "source": [
    "#Kiểm tra mối tương quan giữa gioi tính học sinh và số học sinh đạt điểm khối A(Toán, Lý Hóa >7)\n",
    "data = pd.read_csv(r'C:\\Users\\HP\\Matplot\\students.csv')\n",
    "data.head(3)"
   ]
  },
  {
   "cell_type": "code",
   "execution_count": 49,
   "id": "2baeaa94",
   "metadata": {
    "scrolled": true
   },
   "outputs": [
    {
     "data": {
      "text/html": [
       "<div>\n",
       "<style scoped>\n",
       "    .dataframe tbody tr th:only-of-type {\n",
       "        vertical-align: middle;\n",
       "    }\n",
       "\n",
       "    .dataframe tbody tr th {\n",
       "        vertical-align: top;\n",
       "    }\n",
       "\n",
       "    .dataframe thead th {\n",
       "        text-align: right;\n",
       "    }\n",
       "</style>\n",
       "<table border=\"1\" class=\"dataframe\">\n",
       "  <thead>\n",
       "    <tr style=\"text-align: right;\">\n",
       "      <th></th>\n",
       "      <th>Toán</th>\n",
       "      <th>Lý</th>\n",
       "      <th>Hoá</th>\n",
       "    </tr>\n",
       "    <tr>\n",
       "      <th>Giới tính</th>\n",
       "      <th></th>\n",
       "      <th></th>\n",
       "      <th></th>\n",
       "    </tr>\n",
       "  </thead>\n",
       "  <tbody>\n",
       "    <tr>\n",
       "      <th>Nam</th>\n",
       "      <td>5</td>\n",
       "      <td>5</td>\n",
       "      <td>5</td>\n",
       "    </tr>\n",
       "    <tr>\n",
       "      <th>Nữ</th>\n",
       "      <td>3</td>\n",
       "      <td>1</td>\n",
       "      <td>2</td>\n",
       "    </tr>\n",
       "  </tbody>\n",
       "</table>\n",
       "</div>"
      ],
      "text/plain": [
       "           Toán  Lý  Hoá\n",
       "Giới tính               \n",
       "Nam           5   5    5\n",
       "Nữ            3   1    2"
      ]
     },
     "execution_count": 49,
     "metadata": {},
     "output_type": "execute_result"
    }
   ],
   "source": [
    "data_new = data[(data['Toán']>7)].groupby('Giới tính')['Mã học sinh'].count()\n",
    "data_new_1 = data[(data['Lý']>7)].groupby('Giới tính')['Mã học sinh'].count()\n",
    "data_new_2 = data[(data['Hoá']>7)].groupby('Giới tính')['Mã học sinh'].count()\n",
    "result = pd.DataFrame({'Toán': data_new, 'Lý': data_new_1, 'Hoá': data_new_2})\n",
    "result"
   ]
  },
  {
   "cell_type": "code",
   "execution_count": 53,
   "id": "73be645f",
   "metadata": {},
   "outputs": [
    {
     "data": {
      "text/plain": [
       "[array([5, 5, 5], dtype=int64), array([3, 1, 2], dtype=int64)]"
      ]
     },
     "execution_count": 53,
     "metadata": {},
     "output_type": "execute_result"
    }
   ],
   "source": [
    "data = [result.iloc[0,:].values, result.iloc[1,:].values]\n",
    "data"
   ]
  },
  {
   "cell_type": "code",
   "execution_count": 54,
   "id": "341795cb",
   "metadata": {},
   "outputs": [
    {
     "name": "stdout",
     "output_type": "stream",
     "text": [
      "Chi-square value=  0.7291666666666669\n",
      "pvalue=  0.6944859597510076\n",
      "degree of freedom=  2\n",
      "expected table=  [[5.71428571 4.28571429 5.        ]\n",
      " [2.28571429 1.71428571 2.        ]]\n"
     ]
    }
   ],
   "source": [
    "chi, p, dof, expected = chi2_contingency(data)\n",
    "#data là 1 list, chỉ lọc lấy định lượng tần suất\n",
    "print('Chi-square value= ', chi)\n",
    "print('pvalue= ', p)\n",
    "print('degree of freedom= ', dof)\n",
    "print('expected table= ', expected)"
   ]
  },
  {
   "cell_type": "markdown",
   "id": "9b359173",
   "metadata": {},
   "source": [
    "H0: Không có mối quan hệ giữa yếu tố giới tính và kết quả các khổi Toán, Lý, Hóa lớn hơn 7<br>\n",
    "H1: Có mối quan hệ giữa yếu tố giới tính và kết quả các khổi Toán, Lý, Hóa lớn hơn 7<br>\n",
    "Mức alpha được chọn là 5%<br>\n",
    "pvalue>0.05, chưa thể bác bỏ H0 tức Không có mối quan hệ giữa nam nữ và kết quả các khối"
   ]
  },
  {
   "cell_type": "code",
   "execution_count": 3,
   "id": "4caa0819",
   "metadata": {},
   "outputs": [],
   "source": [
    "import pandas as pd\n",
    "import matplotlib.pyplot as plt\n",
    "import seaborn as sns\n",
    "from scipy.stats import pearsonr\n",
    "from math import sqrt"
   ]
  },
  {
   "cell_type": "code",
   "execution_count": 4,
   "id": "f5dff77a",
   "metadata": {},
   "outputs": [
    {
     "data": {
      "text/html": [
       "<div>\n",
       "<style scoped>\n",
       "    .dataframe tbody tr th:only-of-type {\n",
       "        vertical-align: middle;\n",
       "    }\n",
       "\n",
       "    .dataframe tbody tr th {\n",
       "        vertical-align: top;\n",
       "    }\n",
       "\n",
       "    .dataframe thead th {\n",
       "        text-align: right;\n",
       "    }\n",
       "</style>\n",
       "<table border=\"1\" class=\"dataframe\">\n",
       "  <thead>\n",
       "    <tr style=\"text-align: right;\">\n",
       "      <th></th>\n",
       "      <th>Height</th>\n",
       "      <th>Size</th>\n",
       "    </tr>\n",
       "  </thead>\n",
       "  <tbody>\n",
       "    <tr>\n",
       "      <th>0</th>\n",
       "      <td>168</td>\n",
       "      <td>XL</td>\n",
       "    </tr>\n",
       "    <tr>\n",
       "      <th>1</th>\n",
       "      <td>174</td>\n",
       "      <td>XXL</td>\n",
       "    </tr>\n",
       "    <tr>\n",
       "      <th>2</th>\n",
       "      <td>156</td>\n",
       "      <td>M</td>\n",
       "    </tr>\n",
       "    <tr>\n",
       "      <th>3</th>\n",
       "      <td>154</td>\n",
       "      <td>M</td>\n",
       "    </tr>\n",
       "    <tr>\n",
       "      <th>4</th>\n",
       "      <td>175</td>\n",
       "      <td>XXL</td>\n",
       "    </tr>\n",
       "    <tr>\n",
       "      <th>5</th>\n",
       "      <td>181</td>\n",
       "      <td>XXL</td>\n",
       "    </tr>\n",
       "    <tr>\n",
       "      <th>6</th>\n",
       "      <td>165</td>\n",
       "      <td>L</td>\n",
       "    </tr>\n",
       "    <tr>\n",
       "      <th>7</th>\n",
       "      <td>175</td>\n",
       "      <td>XXL</td>\n",
       "    </tr>\n",
       "    <tr>\n",
       "      <th>8</th>\n",
       "      <td>172</td>\n",
       "      <td>XL</td>\n",
       "    </tr>\n",
       "    <tr>\n",
       "      <th>9</th>\n",
       "      <td>171</td>\n",
       "      <td>XL</td>\n",
       "    </tr>\n",
       "    <tr>\n",
       "      <th>10</th>\n",
       "      <td>173</td>\n",
       "      <td>XXL</td>\n",
       "    </tr>\n",
       "    <tr>\n",
       "      <th>11</th>\n",
       "      <td>189</td>\n",
       "      <td>XXXL</td>\n",
       "    </tr>\n",
       "    <tr>\n",
       "      <th>12</th>\n",
       "      <td>192</td>\n",
       "      <td>XXL</td>\n",
       "    </tr>\n",
       "    <tr>\n",
       "      <th>13</th>\n",
       "      <td>159</td>\n",
       "      <td>L</td>\n",
       "    </tr>\n",
       "    <tr>\n",
       "      <th>14</th>\n",
       "      <td>194</td>\n",
       "      <td>XXXL</td>\n",
       "    </tr>\n",
       "  </tbody>\n",
       "</table>\n",
       "</div>"
      ],
      "text/plain": [
       "    Height  Size\n",
       "0      168    XL\n",
       "1      174   XXL\n",
       "2      156     M\n",
       "3      154     M\n",
       "4      175   XXL\n",
       "5      181   XXL\n",
       "6      165     L\n",
       "7      175   XXL\n",
       "8      172    XL\n",
       "9      171    XL\n",
       "10     173   XXL\n",
       "11     189  XXXL\n",
       "12     192   XXL\n",
       "13     159     L\n",
       "14     194  XXXL"
      ]
     },
     "execution_count": 4,
     "metadata": {},
     "output_type": "execute_result"
    }
   ],
   "source": [
    "data =pd.read_csv('spearman_demo.csv')\n",
    "data"
   ]
  },
  {
   "cell_type": "code",
   "execution_count": 5,
   "id": "7b2a3799",
   "metadata": {},
   "outputs": [
    {
     "data": {
      "text/plain": [
       "{194: 1,\n",
       " 192: 2,\n",
       " 189: 3,\n",
       " 181: 4,\n",
       " 175: 5,\n",
       " 174: 6,\n",
       " 173: 7,\n",
       " 172: 8,\n",
       " 171: 9,\n",
       " 168: 10,\n",
       " 165: 11,\n",
       " 159: 12,\n",
       " 156: 13,\n",
       " 154: 14}"
      ]
     },
     "execution_count": 5,
     "metadata": {},
     "output_type": "execute_result"
    }
   ],
   "source": [
    "heights = sorted(data['Height'].unique(), reverse=True)\n",
    "rank_height = {heights[i]: i+ 1 for i in range(len(heights))}\n",
    "rank_height"
   ]
  },
  {
   "cell_type": "code",
   "execution_count": 7,
   "id": "3445a1df",
   "metadata": {},
   "outputs": [
    {
     "data": {
      "text/html": [
       "<div>\n",
       "<style scoped>\n",
       "    .dataframe tbody tr th:only-of-type {\n",
       "        vertical-align: middle;\n",
       "    }\n",
       "\n",
       "    .dataframe tbody tr th {\n",
       "        vertical-align: top;\n",
       "    }\n",
       "\n",
       "    .dataframe thead th {\n",
       "        text-align: right;\n",
       "    }\n",
       "</style>\n",
       "<table border=\"1\" class=\"dataframe\">\n",
       "  <thead>\n",
       "    <tr style=\"text-align: right;\">\n",
       "      <th></th>\n",
       "      <th>Height</th>\n",
       "      <th>Size</th>\n",
       "      <th>Height_Rank</th>\n",
       "    </tr>\n",
       "  </thead>\n",
       "  <tbody>\n",
       "    <tr>\n",
       "      <th>0</th>\n",
       "      <td>168</td>\n",
       "      <td>XL</td>\n",
       "      <td>10</td>\n",
       "    </tr>\n",
       "    <tr>\n",
       "      <th>1</th>\n",
       "      <td>174</td>\n",
       "      <td>XXL</td>\n",
       "      <td>6</td>\n",
       "    </tr>\n",
       "    <tr>\n",
       "      <th>2</th>\n",
       "      <td>156</td>\n",
       "      <td>M</td>\n",
       "      <td>13</td>\n",
       "    </tr>\n",
       "    <tr>\n",
       "      <th>3</th>\n",
       "      <td>154</td>\n",
       "      <td>M</td>\n",
       "      <td>14</td>\n",
       "    </tr>\n",
       "    <tr>\n",
       "      <th>4</th>\n",
       "      <td>175</td>\n",
       "      <td>XXL</td>\n",
       "      <td>5</td>\n",
       "    </tr>\n",
       "    <tr>\n",
       "      <th>5</th>\n",
       "      <td>181</td>\n",
       "      <td>XXL</td>\n",
       "      <td>4</td>\n",
       "    </tr>\n",
       "    <tr>\n",
       "      <th>6</th>\n",
       "      <td>165</td>\n",
       "      <td>L</td>\n",
       "      <td>11</td>\n",
       "    </tr>\n",
       "    <tr>\n",
       "      <th>7</th>\n",
       "      <td>175</td>\n",
       "      <td>XXL</td>\n",
       "      <td>5</td>\n",
       "    </tr>\n",
       "    <tr>\n",
       "      <th>8</th>\n",
       "      <td>172</td>\n",
       "      <td>XL</td>\n",
       "      <td>8</td>\n",
       "    </tr>\n",
       "    <tr>\n",
       "      <th>9</th>\n",
       "      <td>171</td>\n",
       "      <td>XL</td>\n",
       "      <td>9</td>\n",
       "    </tr>\n",
       "    <tr>\n",
       "      <th>10</th>\n",
       "      <td>173</td>\n",
       "      <td>XXL</td>\n",
       "      <td>7</td>\n",
       "    </tr>\n",
       "    <tr>\n",
       "      <th>11</th>\n",
       "      <td>189</td>\n",
       "      <td>XXXL</td>\n",
       "      <td>3</td>\n",
       "    </tr>\n",
       "    <tr>\n",
       "      <th>12</th>\n",
       "      <td>192</td>\n",
       "      <td>XXL</td>\n",
       "      <td>2</td>\n",
       "    </tr>\n",
       "    <tr>\n",
       "      <th>13</th>\n",
       "      <td>159</td>\n",
       "      <td>L</td>\n",
       "      <td>12</td>\n",
       "    </tr>\n",
       "    <tr>\n",
       "      <th>14</th>\n",
       "      <td>194</td>\n",
       "      <td>XXXL</td>\n",
       "      <td>1</td>\n",
       "    </tr>\n",
       "  </tbody>\n",
       "</table>\n",
       "</div>"
      ],
      "text/plain": [
       "    Height  Size  Height_Rank\n",
       "0      168    XL           10\n",
       "1      174   XXL            6\n",
       "2      156     M           13\n",
       "3      154     M           14\n",
       "4      175   XXL            5\n",
       "5      181   XXL            4\n",
       "6      165     L           11\n",
       "7      175   XXL            5\n",
       "8      172    XL            8\n",
       "9      171    XL            9\n",
       "10     173   XXL            7\n",
       "11     189  XXXL            3\n",
       "12     192   XXL            2\n",
       "13     159     L           12\n",
       "14     194  XXXL            1"
      ]
     },
     "execution_count": 7,
     "metadata": {},
     "output_type": "execute_result"
    }
   ],
   "source": [
    "h = data['Height']\n",
    "data['Height_Rank'] = h.map(rank_height)\n",
    "data"
   ]
  },
  {
   "cell_type": "code",
   "execution_count": 8,
   "id": "06ed7586",
   "metadata": {},
   "outputs": [
    {
     "data": {
      "text/html": [
       "<div>\n",
       "<style scoped>\n",
       "    .dataframe tbody tr th:only-of-type {\n",
       "        vertical-align: middle;\n",
       "    }\n",
       "\n",
       "    .dataframe tbody tr th {\n",
       "        vertical-align: top;\n",
       "    }\n",
       "\n",
       "    .dataframe thead th {\n",
       "        text-align: right;\n",
       "    }\n",
       "</style>\n",
       "<table border=\"1\" class=\"dataframe\">\n",
       "  <thead>\n",
       "    <tr style=\"text-align: right;\">\n",
       "      <th></th>\n",
       "      <th>Height</th>\n",
       "      <th>Size</th>\n",
       "      <th>Height_Rank</th>\n",
       "      <th>Size_Rank</th>\n",
       "    </tr>\n",
       "  </thead>\n",
       "  <tbody>\n",
       "    <tr>\n",
       "      <th>0</th>\n",
       "      <td>168</td>\n",
       "      <td>XL</td>\n",
       "      <td>10</td>\n",
       "      <td>10.0</td>\n",
       "    </tr>\n",
       "    <tr>\n",
       "      <th>1</th>\n",
       "      <td>174</td>\n",
       "      <td>XXL</td>\n",
       "      <td>6</td>\n",
       "      <td>5.5</td>\n",
       "    </tr>\n",
       "    <tr>\n",
       "      <th>2</th>\n",
       "      <td>156</td>\n",
       "      <td>M</td>\n",
       "      <td>13</td>\n",
       "      <td>14.5</td>\n",
       "    </tr>\n",
       "    <tr>\n",
       "      <th>3</th>\n",
       "      <td>154</td>\n",
       "      <td>M</td>\n",
       "      <td>14</td>\n",
       "      <td>14.5</td>\n",
       "    </tr>\n",
       "    <tr>\n",
       "      <th>4</th>\n",
       "      <td>175</td>\n",
       "      <td>XXL</td>\n",
       "      <td>5</td>\n",
       "      <td>5.5</td>\n",
       "    </tr>\n",
       "    <tr>\n",
       "      <th>5</th>\n",
       "      <td>181</td>\n",
       "      <td>XXL</td>\n",
       "      <td>4</td>\n",
       "      <td>5.5</td>\n",
       "    </tr>\n",
       "    <tr>\n",
       "      <th>6</th>\n",
       "      <td>165</td>\n",
       "      <td>L</td>\n",
       "      <td>11</td>\n",
       "      <td>12.5</td>\n",
       "    </tr>\n",
       "    <tr>\n",
       "      <th>7</th>\n",
       "      <td>175</td>\n",
       "      <td>XXL</td>\n",
       "      <td>5</td>\n",
       "      <td>5.5</td>\n",
       "    </tr>\n",
       "    <tr>\n",
       "      <th>8</th>\n",
       "      <td>172</td>\n",
       "      <td>XL</td>\n",
       "      <td>8</td>\n",
       "      <td>10.0</td>\n",
       "    </tr>\n",
       "    <tr>\n",
       "      <th>9</th>\n",
       "      <td>171</td>\n",
       "      <td>XL</td>\n",
       "      <td>9</td>\n",
       "      <td>10.0</td>\n",
       "    </tr>\n",
       "    <tr>\n",
       "      <th>10</th>\n",
       "      <td>173</td>\n",
       "      <td>XXL</td>\n",
       "      <td>7</td>\n",
       "      <td>5.5</td>\n",
       "    </tr>\n",
       "    <tr>\n",
       "      <th>11</th>\n",
       "      <td>189</td>\n",
       "      <td>XXXL</td>\n",
       "      <td>3</td>\n",
       "      <td>1.5</td>\n",
       "    </tr>\n",
       "    <tr>\n",
       "      <th>12</th>\n",
       "      <td>192</td>\n",
       "      <td>XXL</td>\n",
       "      <td>2</td>\n",
       "      <td>5.5</td>\n",
       "    </tr>\n",
       "    <tr>\n",
       "      <th>13</th>\n",
       "      <td>159</td>\n",
       "      <td>L</td>\n",
       "      <td>12</td>\n",
       "      <td>12.5</td>\n",
       "    </tr>\n",
       "    <tr>\n",
       "      <th>14</th>\n",
       "      <td>194</td>\n",
       "      <td>XXXL</td>\n",
       "      <td>1</td>\n",
       "      <td>1.5</td>\n",
       "    </tr>\n",
       "  </tbody>\n",
       "</table>\n",
       "</div>"
      ],
      "text/plain": [
       "    Height  Size  Height_Rank  Size_Rank\n",
       "0      168    XL           10       10.0\n",
       "1      174   XXL            6        5.5\n",
       "2      156     M           13       14.5\n",
       "3      154     M           14       14.5\n",
       "4      175   XXL            5        5.5\n",
       "5      181   XXL            4        5.5\n",
       "6      165     L           11       12.5\n",
       "7      175   XXL            5        5.5\n",
       "8      172    XL            8       10.0\n",
       "9      171    XL            9       10.0\n",
       "10     173   XXL            7        5.5\n",
       "11     189  XXXL            3        1.5\n",
       "12     192   XXL            2        5.5\n",
       "13     159     L           12       12.5\n",
       "14     194  XXXL            1        1.5"
      ]
     },
     "execution_count": 8,
     "metadata": {},
     "output_type": "execute_result"
    }
   ],
   "source": [
    "size_rank = [10,5.5, 14.5, 14.5, 5.5, 5.5, 12.5,5.5, 10,10, 5.5, 1.5, 5.5, 12.5, 1.5]\n",
    "data['Size_Rank'] = pd.Series(size_rank)\n",
    "data"
   ]
  },
  {
   "cell_type": "code",
   "execution_count": 9,
   "id": "2a61f4d5",
   "metadata": {},
   "outputs": [
    {
     "data": {
      "text/html": [
       "<div>\n",
       "<style scoped>\n",
       "    .dataframe tbody tr th:only-of-type {\n",
       "        vertical-align: middle;\n",
       "    }\n",
       "\n",
       "    .dataframe tbody tr th {\n",
       "        vertical-align: top;\n",
       "    }\n",
       "\n",
       "    .dataframe thead th {\n",
       "        text-align: right;\n",
       "    }\n",
       "</style>\n",
       "<table border=\"1\" class=\"dataframe\">\n",
       "  <thead>\n",
       "    <tr style=\"text-align: right;\">\n",
       "      <th></th>\n",
       "      <th>Height</th>\n",
       "      <th>Size</th>\n",
       "      <th>Height_Rank</th>\n",
       "      <th>Size_Rank</th>\n",
       "      <th>d</th>\n",
       "    </tr>\n",
       "  </thead>\n",
       "  <tbody>\n",
       "    <tr>\n",
       "      <th>0</th>\n",
       "      <td>168</td>\n",
       "      <td>XL</td>\n",
       "      <td>10</td>\n",
       "      <td>10.0</td>\n",
       "      <td>0.0</td>\n",
       "    </tr>\n",
       "    <tr>\n",
       "      <th>1</th>\n",
       "      <td>174</td>\n",
       "      <td>XXL</td>\n",
       "      <td>6</td>\n",
       "      <td>5.5</td>\n",
       "      <td>0.5</td>\n",
       "    </tr>\n",
       "    <tr>\n",
       "      <th>2</th>\n",
       "      <td>156</td>\n",
       "      <td>M</td>\n",
       "      <td>13</td>\n",
       "      <td>14.5</td>\n",
       "      <td>1.5</td>\n",
       "    </tr>\n",
       "    <tr>\n",
       "      <th>3</th>\n",
       "      <td>154</td>\n",
       "      <td>M</td>\n",
       "      <td>14</td>\n",
       "      <td>14.5</td>\n",
       "      <td>0.5</td>\n",
       "    </tr>\n",
       "    <tr>\n",
       "      <th>4</th>\n",
       "      <td>175</td>\n",
       "      <td>XXL</td>\n",
       "      <td>5</td>\n",
       "      <td>5.5</td>\n",
       "      <td>0.5</td>\n",
       "    </tr>\n",
       "    <tr>\n",
       "      <th>5</th>\n",
       "      <td>181</td>\n",
       "      <td>XXL</td>\n",
       "      <td>4</td>\n",
       "      <td>5.5</td>\n",
       "      <td>1.5</td>\n",
       "    </tr>\n",
       "    <tr>\n",
       "      <th>6</th>\n",
       "      <td>165</td>\n",
       "      <td>L</td>\n",
       "      <td>11</td>\n",
       "      <td>12.5</td>\n",
       "      <td>1.5</td>\n",
       "    </tr>\n",
       "    <tr>\n",
       "      <th>7</th>\n",
       "      <td>175</td>\n",
       "      <td>XXL</td>\n",
       "      <td>5</td>\n",
       "      <td>5.5</td>\n",
       "      <td>0.5</td>\n",
       "    </tr>\n",
       "    <tr>\n",
       "      <th>8</th>\n",
       "      <td>172</td>\n",
       "      <td>XL</td>\n",
       "      <td>8</td>\n",
       "      <td>10.0</td>\n",
       "      <td>2.0</td>\n",
       "    </tr>\n",
       "    <tr>\n",
       "      <th>9</th>\n",
       "      <td>171</td>\n",
       "      <td>XL</td>\n",
       "      <td>9</td>\n",
       "      <td>10.0</td>\n",
       "      <td>1.0</td>\n",
       "    </tr>\n",
       "    <tr>\n",
       "      <th>10</th>\n",
       "      <td>173</td>\n",
       "      <td>XXL</td>\n",
       "      <td>7</td>\n",
       "      <td>5.5</td>\n",
       "      <td>1.5</td>\n",
       "    </tr>\n",
       "    <tr>\n",
       "      <th>11</th>\n",
       "      <td>189</td>\n",
       "      <td>XXXL</td>\n",
       "      <td>3</td>\n",
       "      <td>1.5</td>\n",
       "      <td>1.5</td>\n",
       "    </tr>\n",
       "    <tr>\n",
       "      <th>12</th>\n",
       "      <td>192</td>\n",
       "      <td>XXL</td>\n",
       "      <td>2</td>\n",
       "      <td>5.5</td>\n",
       "      <td>3.5</td>\n",
       "    </tr>\n",
       "    <tr>\n",
       "      <th>13</th>\n",
       "      <td>159</td>\n",
       "      <td>L</td>\n",
       "      <td>12</td>\n",
       "      <td>12.5</td>\n",
       "      <td>0.5</td>\n",
       "    </tr>\n",
       "    <tr>\n",
       "      <th>14</th>\n",
       "      <td>194</td>\n",
       "      <td>XXXL</td>\n",
       "      <td>1</td>\n",
       "      <td>1.5</td>\n",
       "      <td>0.5</td>\n",
       "    </tr>\n",
       "  </tbody>\n",
       "</table>\n",
       "</div>"
      ],
      "text/plain": [
       "    Height  Size  Height_Rank  Size_Rank    d\n",
       "0      168    XL           10       10.0  0.0\n",
       "1      174   XXL            6        5.5  0.5\n",
       "2      156     M           13       14.5  1.5\n",
       "3      154     M           14       14.5  0.5\n",
       "4      175   XXL            5        5.5  0.5\n",
       "5      181   XXL            4        5.5  1.5\n",
       "6      165     L           11       12.5  1.5\n",
       "7      175   XXL            5        5.5  0.5\n",
       "8      172    XL            8       10.0  2.0\n",
       "9      171    XL            9       10.0  1.0\n",
       "10     173   XXL            7        5.5  1.5\n",
       "11     189  XXXL            3        1.5  1.5\n",
       "12     192   XXL            2        5.5  3.5\n",
       "13     159     L           12       12.5  0.5\n",
       "14     194  XXXL            1        1.5  0.5"
      ]
     },
     "execution_count": 9,
     "metadata": {},
     "output_type": "execute_result"
    }
   ],
   "source": [
    "data['d'] = abs(data['Size_Rank'] - data['Height_Rank'])\n",
    "data"
   ]
  },
  {
   "cell_type": "code",
   "execution_count": 13,
   "id": "763c36b8",
   "metadata": {},
   "outputs": [],
   "source": [
    "data['d_square']=data['d']**2"
   ]
  },
  {
   "cell_type": "code",
   "execution_count": 14,
   "id": "f0937f28",
   "metadata": {},
   "outputs": [
    {
     "data": {
      "text/plain": [
       "30.0"
      ]
     },
     "execution_count": 14,
     "metadata": {},
     "output_type": "execute_result"
    }
   ],
   "source": [
    "sum_d_square = data['d_square'].sum()\n",
    "sum_d_square"
   ]
  },
  {
   "cell_type": "code",
   "execution_count": 15,
   "id": "3b1ddc63",
   "metadata": {},
   "outputs": [
    {
     "data": {
      "text/plain": [
       "0.9464285714285714"
      ]
     },
     "execution_count": 15,
     "metadata": {},
     "output_type": "execute_result"
    }
   ],
   "source": [
    "n =15\n",
    "r = 1- (6*sum_d_square)/(n*(n**2-1))\n",
    "r"
   ]
  },
  {
   "cell_type": "code",
   "execution_count": 12,
   "id": "8c321ad0",
   "metadata": {},
   "outputs": [
    {
     "name": "stdout",
     "output_type": "stream",
     "text": [
      "r= 0.9477622190373591\n",
      "pvalue= 8.046032464072492e-08\n"
     ]
    }
   ],
   "source": [
    "from scipy import stats\n",
    "r, pvalue = stats.spearmanr(data['Height_Rank'], data['Size_Rank'])\n",
    "print('r=', r)\n",
    "print('pvalue=', pvalue)"
   ]
  },
  {
   "cell_type": "code",
   "execution_count": 36,
   "id": "20ab98c4",
   "metadata": {},
   "outputs": [],
   "source": [
    "import pandas as pd\n",
    "import matplotlib.pyplot as plt\n",
    "import seaborn as sns\n",
    "from scipy.stats import pearsonr, stats, chi2_contingency\n",
    "from math import sqrt"
   ]
  },
  {
   "cell_type": "code",
   "execution_count": 47,
   "id": "c4bbb2e4",
   "metadata": {},
   "outputs": [
    {
     "data": {
      "text/html": [
       "<div>\n",
       "<style scoped>\n",
       "    .dataframe tbody tr th:only-of-type {\n",
       "        vertical-align: middle;\n",
       "    }\n",
       "\n",
       "    .dataframe tbody tr th {\n",
       "        vertical-align: top;\n",
       "    }\n",
       "\n",
       "    .dataframe thead th {\n",
       "        text-align: right;\n",
       "    }\n",
       "</style>\n",
       "<table border=\"1\" class=\"dataframe\">\n",
       "  <thead>\n",
       "    <tr style=\"text-align: right;\">\n",
       "      <th></th>\n",
       "      <th>Country/Region</th>\n",
       "      <th>Confirmed</th>\n",
       "      <th>Deaths</th>\n",
       "      <th>Recovered</th>\n",
       "      <th>Active</th>\n",
       "      <th>New cases</th>\n",
       "      <th>New deaths</th>\n",
       "      <th>New recovered</th>\n",
       "      <th>Deaths / 100 Cases</th>\n",
       "      <th>Recovered / 100 Cases</th>\n",
       "      <th>Deaths / 100 Recovered</th>\n",
       "      <th>Confirmed last week</th>\n",
       "      <th>1 week change</th>\n",
       "      <th>1 week % increase</th>\n",
       "      <th>WHO Region</th>\n",
       "    </tr>\n",
       "  </thead>\n",
       "  <tbody>\n",
       "    <tr>\n",
       "      <th>0</th>\n",
       "      <td>Afghanistan</td>\n",
       "      <td>36263</td>\n",
       "      <td>1269</td>\n",
       "      <td>25198</td>\n",
       "      <td>9796</td>\n",
       "      <td>106</td>\n",
       "      <td>10</td>\n",
       "      <td>18</td>\n",
       "      <td>3.50</td>\n",
       "      <td>69.49</td>\n",
       "      <td>5.04</td>\n",
       "      <td>35526</td>\n",
       "      <td>737</td>\n",
       "      <td>2.07</td>\n",
       "      <td>Eastern Mediterranean</td>\n",
       "    </tr>\n",
       "    <tr>\n",
       "      <th>1</th>\n",
       "      <td>Albania</td>\n",
       "      <td>4880</td>\n",
       "      <td>144</td>\n",
       "      <td>2745</td>\n",
       "      <td>1991</td>\n",
       "      <td>117</td>\n",
       "      <td>6</td>\n",
       "      <td>63</td>\n",
       "      <td>2.95</td>\n",
       "      <td>56.25</td>\n",
       "      <td>5.25</td>\n",
       "      <td>4171</td>\n",
       "      <td>709</td>\n",
       "      <td>17.00</td>\n",
       "      <td>Europe</td>\n",
       "    </tr>\n",
       "    <tr>\n",
       "      <th>2</th>\n",
       "      <td>Algeria</td>\n",
       "      <td>27973</td>\n",
       "      <td>1163</td>\n",
       "      <td>18837</td>\n",
       "      <td>7973</td>\n",
       "      <td>616</td>\n",
       "      <td>8</td>\n",
       "      <td>749</td>\n",
       "      <td>4.16</td>\n",
       "      <td>67.34</td>\n",
       "      <td>6.17</td>\n",
       "      <td>23691</td>\n",
       "      <td>4282</td>\n",
       "      <td>18.07</td>\n",
       "      <td>Africa</td>\n",
       "    </tr>\n",
       "  </tbody>\n",
       "</table>\n",
       "</div>"
      ],
      "text/plain": [
       "  Country/Region  Confirmed  Deaths  Recovered  Active  New cases  New deaths  \\\n",
       "0    Afghanistan      36263    1269      25198    9796        106          10   \n",
       "1        Albania       4880     144       2745    1991        117           6   \n",
       "2        Algeria      27973    1163      18837    7973        616           8   \n",
       "\n",
       "   New recovered  Deaths / 100 Cases  Recovered / 100 Cases  \\\n",
       "0             18                3.50                  69.49   \n",
       "1             63                2.95                  56.25   \n",
       "2            749                4.16                  67.34   \n",
       "\n",
       "   Deaths / 100 Recovered  Confirmed last week  1 week change  \\\n",
       "0                    5.04                35526            737   \n",
       "1                    5.25                 4171            709   \n",
       "2                    6.17                23691           4282   \n",
       "\n",
       "   1 week % increase             WHO Region  \n",
       "0               2.07  Eastern Mediterranean  \n",
       "1              17.00                 Europe  \n",
       "2              18.07                 Africa  "
      ]
     },
     "execution_count": 47,
     "metadata": {},
     "output_type": "execute_result"
    }
   ],
   "source": [
    "df = pd.read_csv('covid19_country_wise_latest.csv')\n",
    "df.head(3)"
   ]
  },
  {
   "cell_type": "markdown",
   "id": "92481ffe",
   "metadata": {},
   "source": [
    "Kiểm tra mối tương quan của:<br>\n",
    "    - Tổng sốc ca nhiễm (Confirmed) và Tổng ca tử vong(Deaths)<br>\n",
    "    - Số ca nhiễm mới và số ca tử vong mới<br>\n",
    "    - Tổng số ca đang điều trị và số ca mới khỏi bệnh<br>"
   ]
  },
  {
   "cell_type": "code",
   "execution_count": 48,
   "id": "56b4a66e",
   "metadata": {},
   "outputs": [
    {
     "name": "stdout",
     "output_type": "stream",
     "text": [
      "r =  0.9346984343393536\n",
      "pvalue =  4.8856399457692993e-85\n"
     ]
    }
   ],
   "source": [
    "r, pvalue = pearsonr(df['Confirmed'], df['Deaths'])\n",
    "print('r = ', r)\n",
    "print('pvalue = ', pvalue)\n",
    "#Có mối tương quan"
   ]
  },
  {
   "cell_type": "code",
   "execution_count": 49,
   "id": "0a33de0f",
   "metadata": {},
   "outputs": [
    {
     "name": "stdout",
     "output_type": "stream",
     "text": [
      "r =  0.9359465775223121\n",
      "pvalue =  8.68942718357175e-86\n"
     ]
    }
   ],
   "source": [
    "r, pvalue = pearsonr(df['New cases'], df['New deaths'])\n",
    "print('r = ', r)\n",
    "print('pvalue = ', pvalue)\n",
    "#Có mối tương quan"
   ]
  },
  {
   "cell_type": "code",
   "execution_count": 56,
   "id": "86ecb99f",
   "metadata": {},
   "outputs": [
    {
     "name": "stdout",
     "output_type": "stream",
     "text": [
      "r =  0.6738870306866048\n",
      "pvalue =  4.146163682549936e-26\n"
     ]
    }
   ],
   "source": [
    "r, pvalue = pearsonr(df['Active'], df['New recovered'])\n",
    "print('r = ', r)\n",
    "print('pvalue = ', pvalue)\n",
    "#Có mối tương quan"
   ]
  },
  {
   "cell_type": "markdown",
   "id": "8fc50f72",
   "metadata": {},
   "source": [
    "Kiểm tra mối tương quan giữa các châu lục với các thuộc tính Confirmed, Deaths, Recovered, Active"
   ]
  },
  {
   "cell_type": "code",
   "execution_count": 73,
   "id": "6244dcbb",
   "metadata": {},
   "outputs": [
    {
     "data": {
      "text/html": [
       "<div>\n",
       "<style scoped>\n",
       "    .dataframe tbody tr th:only-of-type {\n",
       "        vertical-align: middle;\n",
       "    }\n",
       "\n",
       "    .dataframe tbody tr th {\n",
       "        vertical-align: top;\n",
       "    }\n",
       "\n",
       "    .dataframe thead th {\n",
       "        text-align: right;\n",
       "    }\n",
       "</style>\n",
       "<table border=\"1\" class=\"dataframe\">\n",
       "  <thead>\n",
       "    <tr style=\"text-align: right;\">\n",
       "      <th></th>\n",
       "      <th>Confirmed</th>\n",
       "      <th>Deaths</th>\n",
       "      <th>Recovered</th>\n",
       "      <th>Active</th>\n",
       "      <th>WHO Region</th>\n",
       "    </tr>\n",
       "  </thead>\n",
       "  <tbody>\n",
       "    <tr>\n",
       "      <th>0</th>\n",
       "      <td>36263</td>\n",
       "      <td>1269</td>\n",
       "      <td>25198</td>\n",
       "      <td>9796</td>\n",
       "      <td>Eastern Mediterranean</td>\n",
       "    </tr>\n",
       "    <tr>\n",
       "      <th>1</th>\n",
       "      <td>4880</td>\n",
       "      <td>144</td>\n",
       "      <td>2745</td>\n",
       "      <td>1991</td>\n",
       "      <td>Europe</td>\n",
       "    </tr>\n",
       "    <tr>\n",
       "      <th>2</th>\n",
       "      <td>27973</td>\n",
       "      <td>1163</td>\n",
       "      <td>18837</td>\n",
       "      <td>7973</td>\n",
       "      <td>Africa</td>\n",
       "    </tr>\n",
       "    <tr>\n",
       "      <th>3</th>\n",
       "      <td>907</td>\n",
       "      <td>52</td>\n",
       "      <td>803</td>\n",
       "      <td>52</td>\n",
       "      <td>Europe</td>\n",
       "    </tr>\n",
       "    <tr>\n",
       "      <th>4</th>\n",
       "      <td>950</td>\n",
       "      <td>41</td>\n",
       "      <td>242</td>\n",
       "      <td>667</td>\n",
       "      <td>Africa</td>\n",
       "    </tr>\n",
       "    <tr>\n",
       "      <th>...</th>\n",
       "      <td>...</td>\n",
       "      <td>...</td>\n",
       "      <td>...</td>\n",
       "      <td>...</td>\n",
       "      <td>...</td>\n",
       "    </tr>\n",
       "    <tr>\n",
       "      <th>182</th>\n",
       "      <td>10621</td>\n",
       "      <td>78</td>\n",
       "      <td>3752</td>\n",
       "      <td>6791</td>\n",
       "      <td>Eastern Mediterranean</td>\n",
       "    </tr>\n",
       "    <tr>\n",
       "      <th>183</th>\n",
       "      <td>10</td>\n",
       "      <td>1</td>\n",
       "      <td>8</td>\n",
       "      <td>1</td>\n",
       "      <td>Africa</td>\n",
       "    </tr>\n",
       "    <tr>\n",
       "      <th>184</th>\n",
       "      <td>1691</td>\n",
       "      <td>483</td>\n",
       "      <td>833</td>\n",
       "      <td>375</td>\n",
       "      <td>Eastern Mediterranean</td>\n",
       "    </tr>\n",
       "    <tr>\n",
       "      <th>185</th>\n",
       "      <td>4552</td>\n",
       "      <td>140</td>\n",
       "      <td>2815</td>\n",
       "      <td>1597</td>\n",
       "      <td>Africa</td>\n",
       "    </tr>\n",
       "    <tr>\n",
       "      <th>186</th>\n",
       "      <td>2704</td>\n",
       "      <td>36</td>\n",
       "      <td>542</td>\n",
       "      <td>2126</td>\n",
       "      <td>Africa</td>\n",
       "    </tr>\n",
       "  </tbody>\n",
       "</table>\n",
       "<p>187 rows × 5 columns</p>\n",
       "</div>"
      ],
      "text/plain": [
       "     Confirmed  Deaths  Recovered  Active             WHO Region\n",
       "0        36263    1269      25198    9796  Eastern Mediterranean\n",
       "1         4880     144       2745    1991                 Europe\n",
       "2        27973    1163      18837    7973                 Africa\n",
       "3          907      52        803      52                 Europe\n",
       "4          950      41        242     667                 Africa\n",
       "..         ...     ...        ...     ...                    ...\n",
       "182      10621      78       3752    6791  Eastern Mediterranean\n",
       "183         10       1          8       1                 Africa\n",
       "184       1691     483        833     375  Eastern Mediterranean\n",
       "185       4552     140       2815    1597                 Africa\n",
       "186       2704      36        542    2126                 Africa\n",
       "\n",
       "[187 rows x 5 columns]"
      ]
     },
     "execution_count": 73,
     "metadata": {},
     "output_type": "execute_result"
    }
   ],
   "source": [
    "data = df.iloc[:,[1,2,3,4,-1]]\n",
    "data"
   ]
  },
  {
   "cell_type": "code",
   "execution_count": 74,
   "id": "58bba69b",
   "metadata": {},
   "outputs": [
    {
     "data": {
      "text/html": [
       "<div>\n",
       "<style scoped>\n",
       "    .dataframe tbody tr th:only-of-type {\n",
       "        vertical-align: middle;\n",
       "    }\n",
       "\n",
       "    .dataframe tbody tr th {\n",
       "        vertical-align: top;\n",
       "    }\n",
       "\n",
       "    .dataframe thead th {\n",
       "        text-align: right;\n",
       "    }\n",
       "</style>\n",
       "<table border=\"1\" class=\"dataframe\">\n",
       "  <thead>\n",
       "    <tr style=\"text-align: right;\">\n",
       "      <th></th>\n",
       "      <th>Confirmed</th>\n",
       "      <th>Deaths</th>\n",
       "      <th>Recovered</th>\n",
       "      <th>Active</th>\n",
       "    </tr>\n",
       "    <tr>\n",
       "      <th>WHO Region</th>\n",
       "      <th></th>\n",
       "      <th></th>\n",
       "      <th></th>\n",
       "      <th></th>\n",
       "    </tr>\n",
       "  </thead>\n",
       "  <tbody>\n",
       "    <tr>\n",
       "      <th>Africa</th>\n",
       "      <td>723207</td>\n",
       "      <td>12223</td>\n",
       "      <td>440645</td>\n",
       "      <td>270339</td>\n",
       "    </tr>\n",
       "    <tr>\n",
       "      <th>Americas</th>\n",
       "      <td>8839286</td>\n",
       "      <td>342732</td>\n",
       "      <td>4468616</td>\n",
       "      <td>4027938</td>\n",
       "    </tr>\n",
       "    <tr>\n",
       "      <th>Eastern Mediterranean</th>\n",
       "      <td>1490744</td>\n",
       "      <td>38339</td>\n",
       "      <td>1201400</td>\n",
       "      <td>251005</td>\n",
       "    </tr>\n",
       "    <tr>\n",
       "      <th>Europe</th>\n",
       "      <td>3299523</td>\n",
       "      <td>211144</td>\n",
       "      <td>1993723</td>\n",
       "      <td>1094656</td>\n",
       "    </tr>\n",
       "    <tr>\n",
       "      <th>South-East Asia</th>\n",
       "      <td>1835297</td>\n",
       "      <td>41349</td>\n",
       "      <td>1156933</td>\n",
       "      <td>637015</td>\n",
       "    </tr>\n",
       "    <tr>\n",
       "      <th>Western Pacific</th>\n",
       "      <td>292428</td>\n",
       "      <td>8249</td>\n",
       "      <td>206770</td>\n",
       "      <td>77409</td>\n",
       "    </tr>\n",
       "  </tbody>\n",
       "</table>\n",
       "</div>"
      ],
      "text/plain": [
       "                       Confirmed  Deaths  Recovered   Active\n",
       "WHO Region                                                  \n",
       "Africa                    723207   12223     440645   270339\n",
       "Americas                 8839286  342732    4468616  4027938\n",
       "Eastern Mediterranean    1490744   38339    1201400   251005\n",
       "Europe                   3299523  211144    1993723  1094656\n",
       "South-East Asia          1835297   41349    1156933   637015\n",
       "Western Pacific           292428    8249     206770    77409"
      ]
     },
     "execution_count": 74,
     "metadata": {},
     "output_type": "execute_result"
    }
   ],
   "source": [
    "data = data.groupby('WHO Region').sum()\n",
    "data"
   ]
  },
  {
   "cell_type": "markdown",
   "id": "e93025a3",
   "metadata": {},
   "source": [
    "H0: Không có mối tương quan giữa các châu lục với các thuộc tính Confirmed, Deaths, Recovered, Active, mức apha 5%<br>\n",
    "H1: Có mối tương quan giữa các châu lục với các thuộc tính Confirmed, Deaths, Recovered, Active"
   ]
  },
  {
   "cell_type": "code",
   "execution_count": 75,
   "id": "9a9c9c6b",
   "metadata": {},
   "outputs": [
    {
     "name": "stdout",
     "output_type": "stream",
     "text": [
      "Chi-square value=  656364.9337897515\n",
      "pvalue=  0.0\n",
      "degree of freedom=  15\n",
      "expected table=  [[ 723207.           28700.81878367  415484.54399303  279021.6372233 ]\n",
      " [8839286.          350791.33037019 5078195.74884368 3410298.92078613]\n",
      " [1490744.           59160.8950091   856436.80308729  575146.30190362]\n",
      " [3299523.          130943.16246324 1895585.64705474 1272994.19048202]\n",
      " [1835297.           72834.64708059 1054383.5127934   708078.840126  ]\n",
      " [ 292428.           11605.14629321  168000.74422785  112822.10947894]]\n"
     ]
    }
   ],
   "source": [
    "chi, p, dof, expected = chi2_contingency(data)\n",
    "#data là 1 list, chỉ lọc lấy định lượng tần suất\n",
    "print('Chi-square value= ', chi)\n",
    "print('pvalue= ', p)\n",
    "print('degree of freedom= ', dof)\n",
    "print('expected table= ', expected)"
   ]
  },
  {
   "cell_type": "code",
   "execution_count": null,
   "id": "ae3c2216",
   "metadata": {},
   "outputs": [],
   "source": [
    "#Bác bỏ H0"
   ]
  },
  {
   "cell_type": "markdown",
   "id": "02db4a61",
   "metadata": {},
   "source": [
    "Dùng kiểm định Spearman để kiểm định mối tương quan giữa các thuộc tính như yêu cầu 1\n"
   ]
  },
  {
   "cell_type": "code",
   "execution_count": 78,
   "id": "e2811fb8",
   "metadata": {},
   "outputs": [
    {
     "data": {
      "text/plain": [
       "{4290259: 1,\n",
       " 2442375: 2,\n",
       " 1480073: 3,\n",
       " 816680: 4,\n",
       " 452529: 5,\n",
       " 395489: 6,\n",
       " 389717: 7,\n",
       " 347923: 8,\n",
       " 301708: 9,\n",
       " 293606: 10,\n",
       " 274289: 11,\n",
       " 272421: 12,\n",
       " 268934: 13,\n",
       " 257101: 14,\n",
       " 246286: 15,\n",
       " 227019: 16,\n",
       " 226225: 17,\n",
       " 220352: 18,\n",
       " 207112: 19,\n",
       " 167416: 20,\n",
       " 116458: 21,\n",
       " 112585: 22,\n",
       " 109597: 23,\n",
       " 100303: 24,\n",
       " 92482: 25,\n",
       " 86783: 26,\n",
       " 84648: 27,\n",
       " 82040: 28,\n",
       " 81161: 29,\n",
       " 79395: 30,\n",
       " 77058: 31,\n",
       " 71181: 32,\n",
       " 67251: 33,\n",
       " 67096: 34,\n",
       " 66428: 35,\n",
       " 64379: 36,\n",
       " 64156: 37,\n",
       " 63985: 38,\n",
       " 61442: 39,\n",
       " 59177: 40,\n",
       " 53413: 41,\n",
       " 50838: 42,\n",
       " 50299: 43,\n",
       " 45902: 44,\n",
       " 45309: 45,\n",
       " 43402: 46,\n",
       " 41180: 47,\n",
       " 39741: 48,\n",
       " 39482: 49,\n",
       " 37390: 50,\n",
       " 36263: 51,\n",
       " 34477: 52,\n",
       " 33624: 53,\n",
       " 33296: 54,\n",
       " 31142: 55,\n",
       " 30446: 56,\n",
       " 27973: 57,\n",
       " 25892: 58,\n",
       " 24141: 59,\n",
       " 23154: 60,\n",
       " 21209: 61,\n",
       " 20887: 62,\n",
       " 20558: 63,\n",
       " 18752: 64,\n",
       " 17975: 65,\n",
       " 17110: 66,\n",
       " 15988: 67,\n",
       " 15841: 68,\n",
       " 15655: 69,\n",
       " 15516: 70,\n",
       " 15303: 71,\n",
       " 15035: 72,\n",
       " 14547: 73,\n",
       " 14203: 74,\n",
       " 13761: 75,\n",
       " 11424: 76,\n",
       " 10621: 77,\n",
       " 10498: 78,\n",
       " 10213: 79,\n",
       " 9764: 80,\n",
       " 9690: 81,\n",
       " 9132: 82,\n",
       " 8904: 83,\n",
       " 8844: 84,\n",
       " 7413: 85,\n",
       " 7398: 86,\n",
       " 7340: 87,\n",
       " 7235: 88,\n",
       " 7189: 89,\n",
       " 7055: 90,\n",
       " 6321: 91,\n",
       " 6208: 92,\n",
       " 5059: 93,\n",
       " 4881: 94,\n",
       " 4880: 95,\n",
       " 4599: 96,\n",
       " 4552: 97,\n",
       " 4548: 98,\n",
       " 4448: 99,\n",
       " 4227: 100,\n",
       " 3882: 101,\n",
       " 3664: 102,\n",
       " 3439: 103,\n",
       " 3369: 104,\n",
       " 3297: 105,\n",
       " 3200: 106,\n",
       " 3196: 107,\n",
       " 3071: 108,\n",
       " 2893: 109,\n",
       " 2827: 110,\n",
       " 2805: 111,\n",
       " 2704: 112,\n",
       " 2532: 113,\n",
       " 2513: 114,\n",
       " 2328: 115,\n",
       " 2316: 116,\n",
       " 2305: 117,\n",
       " 2181: 118,\n",
       " 2087: 119,\n",
       " 2034: 120,\n",
       " 2019: 121,\n",
       " 1954: 122,\n",
       " 1879: 123,\n",
       " 1854: 124,\n",
       " 1843: 125,\n",
       " 1783: 126,\n",
       " 1770: 127,\n",
       " 1701: 128,\n",
       " 1691: 129,\n",
       " 1557: 130,\n",
       " 1483: 131,\n",
       " 1455: 132,\n",
       " 1219: 133,\n",
       " 1202: 134,\n",
       " 1176: 135,\n",
       " 1167: 136,\n",
       " 1137: 137,\n",
       " 1132: 138,\n",
       " 1128: 139,\n",
       " 1100: 140,\n",
       " 1060: 141,\n",
       " 950: 142,\n",
       " 922: 143,\n",
       " 907: 144,\n",
       " 874: 145,\n",
       " 865: 146,\n",
       " 853: 147,\n",
       " 739: 148,\n",
       " 701: 149,\n",
       " 699: 150,\n",
       " 674: 151,\n",
       " 509: 152,\n",
       " 505: 153,\n",
       " 462: 154,\n",
       " 431: 155,\n",
       " 389: 156,\n",
       " 382: 157,\n",
       " 378: 158,\n",
       " 354: 159,\n",
       " 350: 160,\n",
       " 344: 161,\n",
       " 326: 162,\n",
       " 289: 163,\n",
       " 265: 164,\n",
       " 226: 165,\n",
       " 148: 166,\n",
       " 141: 167,\n",
       " 116: 168,\n",
       " 114: 169,\n",
       " 110: 170,\n",
       " 99: 171,\n",
       " 86: 172,\n",
       " 62: 173,\n",
       " 52: 174,\n",
       " 48: 175,\n",
       " 27: 176,\n",
       " 24: 177,\n",
       " 23: 178,\n",
       " 20: 179,\n",
       " 18: 180,\n",
       " 17: 181,\n",
       " 14: 182,\n",
       " 12: 183,\n",
       " 10: 184}"
      ]
     },
     "execution_count": 78,
     "metadata": {},
     "output_type": "execute_result"
    }
   ],
   "source": [
    "confirmed = sorted(df['Confirmed'].unique(), reverse=True)\n",
    "rank_confirmed = {confirmed[i]: i+ 1 for i in range(len(confirmed))}\n",
    "rank_confirmed"
   ]
  },
  {
   "cell_type": "code",
   "execution_count": 82,
   "id": "20a0abd6",
   "metadata": {},
   "outputs": [
    {
     "ename": "AttributeError",
     "evalue": "'DataFrame' object has no attribute 'map'",
     "output_type": "error",
     "traceback": [
      "\u001b[1;31m---------------------------------------------------------------------------\u001b[0m",
      "\u001b[1;31mAttributeError\u001b[0m                            Traceback (most recent call last)",
      "Input \u001b[1;32mIn [82]\u001b[0m, in \u001b[0;36m<cell line: 1>\u001b[1;34m()\u001b[0m\n\u001b[1;32m----> 1\u001b[0m df[\u001b[38;5;124m'\u001b[39m\u001b[38;5;124mRank_confirmed\u001b[39m\u001b[38;5;124m'\u001b[39m] \u001b[38;5;241m=\u001b[39m \u001b[43mdf\u001b[49m\u001b[38;5;241;43m.\u001b[39;49m\u001b[43mmap\u001b[49m(rank_confirmed)\n\u001b[0;32m      2\u001b[0m df\n",
      "File \u001b[1;32m~\\anaconda3\\lib\\site-packages\\pandas\\core\\generic.py:5575\u001b[0m, in \u001b[0;36mNDFrame.__getattr__\u001b[1;34m(self, name)\u001b[0m\n\u001b[0;32m   5568\u001b[0m \u001b[38;5;28;01mif\u001b[39;00m (\n\u001b[0;32m   5569\u001b[0m     name \u001b[38;5;129;01mnot\u001b[39;00m \u001b[38;5;129;01min\u001b[39;00m \u001b[38;5;28mself\u001b[39m\u001b[38;5;241m.\u001b[39m_internal_names_set\n\u001b[0;32m   5570\u001b[0m     \u001b[38;5;129;01mand\u001b[39;00m name \u001b[38;5;129;01mnot\u001b[39;00m \u001b[38;5;129;01min\u001b[39;00m \u001b[38;5;28mself\u001b[39m\u001b[38;5;241m.\u001b[39m_metadata\n\u001b[0;32m   5571\u001b[0m     \u001b[38;5;129;01mand\u001b[39;00m name \u001b[38;5;129;01mnot\u001b[39;00m \u001b[38;5;129;01min\u001b[39;00m \u001b[38;5;28mself\u001b[39m\u001b[38;5;241m.\u001b[39m_accessors\n\u001b[0;32m   5572\u001b[0m     \u001b[38;5;129;01mand\u001b[39;00m \u001b[38;5;28mself\u001b[39m\u001b[38;5;241m.\u001b[39m_info_axis\u001b[38;5;241m.\u001b[39m_can_hold_identifiers_and_holds_name(name)\n\u001b[0;32m   5573\u001b[0m ):\n\u001b[0;32m   5574\u001b[0m     \u001b[38;5;28;01mreturn\u001b[39;00m \u001b[38;5;28mself\u001b[39m[name]\n\u001b[1;32m-> 5575\u001b[0m \u001b[38;5;28;01mreturn\u001b[39;00m \u001b[38;5;28;43mobject\u001b[39;49m\u001b[38;5;241;43m.\u001b[39;49m\u001b[38;5;21;43m__getattribute__\u001b[39;49m\u001b[43m(\u001b[49m\u001b[38;5;28;43mself\u001b[39;49m\u001b[43m,\u001b[49m\u001b[43m \u001b[49m\u001b[43mname\u001b[49m\u001b[43m)\u001b[49m\n",
      "\u001b[1;31mAttributeError\u001b[0m: 'DataFrame' object has no attribute 'map'"
     ]
    }
   ],
   "source": [
    "df['Rank_confirmed'] = df.map(rank_confirmed)\n",
    "df"
   ]
  },
  {
   "cell_type": "code",
   "execution_count": null,
   "id": "afb57c25",
   "metadata": {},
   "outputs": [],
   "source": []
  }
 ],
 "metadata": {
  "kernelspec": {
   "display_name": "Python 3 (ipykernel)",
   "language": "python",
   "name": "python3"
  },
  "language_info": {
   "codemirror_mode": {
    "name": "ipython",
    "version": 3
   },
   "file_extension": ".py",
   "mimetype": "text/x-python",
   "name": "python",
   "nbconvert_exporter": "python",
   "pygments_lexer": "ipython3",
   "version": "3.9.12"
  }
 },
 "nbformat": 4,
 "nbformat_minor": 5
}
