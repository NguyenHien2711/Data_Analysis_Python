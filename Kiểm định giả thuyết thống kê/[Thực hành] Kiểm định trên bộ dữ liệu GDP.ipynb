{
 "cells": [
  {
   "cell_type": "code",
   "execution_count": 18,
   "id": "4e550253",
   "metadata": {},
   "outputs": [],
   "source": [
    "import pandas as pd\n",
    "import numpy as np\n",
    "from scipy import stats\n",
    "import seaborn as sns"
   ]
  },
  {
   "cell_type": "code",
   "execution_count": 19,
   "id": "0b8d238e",
   "metadata": {},
   "outputs": [
    {
     "data": {
      "text/html": [
       "<div>\n",
       "<style scoped>\n",
       "    .dataframe tbody tr th:only-of-type {\n",
       "        vertical-align: middle;\n",
       "    }\n",
       "\n",
       "    .dataframe tbody tr th {\n",
       "        vertical-align: top;\n",
       "    }\n",
       "\n",
       "    .dataframe thead th {\n",
       "        text-align: right;\n",
       "    }\n",
       "</style>\n",
       "<table border=\"1\" class=\"dataframe\">\n",
       "  <thead>\n",
       "    <tr style=\"text-align: right;\">\n",
       "      <th></th>\n",
       "      <th>Country</th>\n",
       "      <th>Continent</th>\n",
       "      <th>GDP (millions of US$)</th>\n",
       "    </tr>\n",
       "  </thead>\n",
       "  <tbody>\n",
       "    <tr>\n",
       "      <th>0</th>\n",
       "      <td>Afghanistan</td>\n",
       "      <td>Asia</td>\n",
       "      <td>18181</td>\n",
       "    </tr>\n",
       "    <tr>\n",
       "      <th>1</th>\n",
       "      <td>Albania</td>\n",
       "      <td>Europe</td>\n",
       "      <td>12847</td>\n",
       "    </tr>\n",
       "    <tr>\n",
       "      <th>2</th>\n",
       "      <td>Algeria</td>\n",
       "      <td>Africa</td>\n",
       "      <td>190709</td>\n",
       "    </tr>\n",
       "    <tr>\n",
       "      <th>3</th>\n",
       "      <td>Angola</td>\n",
       "      <td>Africa</td>\n",
       "      <td>100948</td>\n",
       "    </tr>\n",
       "    <tr>\n",
       "      <th>4</th>\n",
       "      <td>Argentina</td>\n",
       "      <td>South America</td>\n",
       "      <td>447644</td>\n",
       "    </tr>\n",
       "  </tbody>\n",
       "</table>\n",
       "</div>"
      ],
      "text/plain": [
       "        Country      Continent  GDP (millions of US$)\n",
       "0   Afghanistan           Asia                  18181\n",
       "1       Albania         Europe                  12847\n",
       "2       Algeria         Africa                 190709\n",
       "3        Angola         Africa                 100948\n",
       "4     Argentina  South America                 447644"
      ]
     },
     "execution_count": 19,
     "metadata": {},
     "output_type": "execute_result"
    }
   ],
   "source": [
    "data = pd.read_csv(r'C:\\Users\\HP\\Data_Analysis_Python\\Pandas_codegym\\Pandas_phân tích trên bộ dữ liệu GDP\\GDPlist.csv', encoding ='unicode_escape')\n",
    "data.head()"
   ]
  },
  {
   "cell_type": "code",
   "execution_count": 21,
   "id": "6bfeb331",
   "metadata": {},
   "outputs": [
    {
     "data": {
      "text/html": [
       "<div>\n",
       "<style scoped>\n",
       "    .dataframe tbody tr th:only-of-type {\n",
       "        vertical-align: middle;\n",
       "    }\n",
       "\n",
       "    .dataframe tbody tr th {\n",
       "        vertical-align: top;\n",
       "    }\n",
       "\n",
       "    .dataframe thead th {\n",
       "        text-align: right;\n",
       "    }\n",
       "</style>\n",
       "<table border=\"1\" class=\"dataframe\">\n",
       "  <thead>\n",
       "    <tr style=\"text-align: right;\">\n",
       "      <th></th>\n",
       "      <th>GDP (millions of US$)</th>\n",
       "    </tr>\n",
       "  </thead>\n",
       "  <tbody>\n",
       "    <tr>\n",
       "      <th>count</th>\n",
       "      <td>1.250000e+02</td>\n",
       "    </tr>\n",
       "    <tr>\n",
       "      <th>mean</th>\n",
       "      <td>5.554278e+05</td>\n",
       "    </tr>\n",
       "    <tr>\n",
       "      <th>std</th>\n",
       "      <td>1.649266e+06</td>\n",
       "    </tr>\n",
       "    <tr>\n",
       "      <th>min</th>\n",
       "      <td>1.060000e+04</td>\n",
       "    </tr>\n",
       "    <tr>\n",
       "      <th>25%</th>\n",
       "      <td>2.574200e+04</td>\n",
       "    </tr>\n",
       "    <tr>\n",
       "      <th>50%</th>\n",
       "      <td>9.608900e+04</td>\n",
       "    </tr>\n",
       "    <tr>\n",
       "      <th>75%</th>\n",
       "      <td>3.332380e+05</td>\n",
       "    </tr>\n",
       "    <tr>\n",
       "      <th>max</th>\n",
       "      <td>1.509402e+07</td>\n",
       "    </tr>\n",
       "  </tbody>\n",
       "</table>\n",
       "</div>"
      ],
      "text/plain": [
       "       GDP (millions of US$)\n",
       "count           1.250000e+02\n",
       "mean            5.554278e+05\n",
       "std             1.649266e+06\n",
       "min             1.060000e+04\n",
       "25%             2.574200e+04\n",
       "50%             9.608900e+04\n",
       "75%             3.332380e+05\n",
       "max             1.509402e+07"
      ]
     },
     "execution_count": 21,
     "metadata": {},
     "output_type": "execute_result"
    }
   ],
   "source": [
    "data.describe()"
   ]
  },
  {
   "cell_type": "markdown",
   "id": "3ff84bc4",
   "metadata": {},
   "source": [
    "- Trung bình GDP của các quốc gia trên thế giới là 500 tỉ usd/năm\n",
    "- GDP trung bình ở các quốc gia ở châu Âu cao hơn châu Á không\n",
    "- GDP trung bình của các quốc gia ở châu Âu và châu Mỹ là bằng nhau"
   ]
  },
  {
   "cell_type": "markdown",
   "id": "cdbb22d0",
   "metadata": {},
   "source": [
    "Với mức ý nghĩa 5%<br>\n",
    "H0: Trung bình GDP của các quốc gia trên thế giới là 500 tỉ usd/năm<br>\n",
    "H1: Trung bình GDP của các quốc gia trên thế giới là khác 500 tỉ usd/năm\n"
   ]
  },
  {
   "cell_type": "code",
   "execution_count": 22,
   "id": "d0d6ac0e",
   "metadata": {},
   "outputs": [
    {
     "name": "stdout",
     "output_type": "stream",
     "text": [
      "3.7618446272211066 0.0002588173871939586\n"
     ]
    }
   ],
   "source": [
    "t_statistic, p_value = stats.ttest_1samp(a=data['GDP (millions of US$)'], popmean=500)\n",
    "print(t_statistic, p_value)"
   ]
  },
  {
   "cell_type": "markdown",
   "id": "2517367f",
   "metadata": {},
   "source": [
    "p_value<0.05=> Đủ điều kiện để bác bỏ H0, vậy Trung bình GDP của các quốc gia trên thế giới là khác 500 tỷ usd/năm"
   ]
  },
  {
   "cell_type": "markdown",
   "id": "b4a04573",
   "metadata": {},
   "source": [
    "Với mức ý nghĩa 5%<br>\n",
    "H0: GDP trung bình ở các quốc gia ở châu Âu bằng châu Á <br>\n",
    "H1: GDP trung bình ở các quốc gia ở châu Âu cao hơn châu Á \n"
   ]
  },
  {
   "cell_type": "code",
   "execution_count": 23,
   "id": "a02697df",
   "metadata": {},
   "outputs": [],
   "source": [
    "data_europe = data[data['Continent']=='Europe']['GDP (millions of US$)']\n",
    "data_asia = data[data['Continent']=='Asia']['GDP (millions of US$)']"
   ]
  },
  {
   "cell_type": "code",
   "execution_count": 54,
   "id": "b1d8e000",
   "metadata": {},
   "outputs": [
    {
     "data": {
      "text/plain": [
       "678496.9722222222"
      ]
     },
     "execution_count": 54,
     "metadata": {},
     "output_type": "execute_result"
    }
   ],
   "source": [
    "data_asia.mean()"
   ]
  },
  {
   "cell_type": "code",
   "execution_count": 53,
   "id": "96d29731",
   "metadata": {},
   "outputs": [
    {
     "data": {
      "text/plain": [
       "517280.54054054053"
      ]
     },
     "execution_count": 53,
     "metadata": {},
     "output_type": "execute_result"
    }
   ],
   "source": [
    "data_europe.mean()"
   ]
  },
  {
   "cell_type": "code",
   "execution_count": 25,
   "id": "57d0b34c",
   "metadata": {},
   "outputs": [
    {
     "data": {
      "text/plain": [
       "<AxesSubplot:xlabel='Continent', ylabel='GDP (millions of US$)'>"
      ]
     },
     "execution_count": 25,
     "metadata": {},
     "output_type": "execute_result"
    },
    {
     "data": {
      "image/png": "[encoded data removed]",
      "text/plain": [
       "<Figure size 432x288 with 1 Axes>"
      ]
     },
     "metadata": {
      "needs_background": "light"
     },
     "output_type": "display_data"
    }
   ],
   "source": [
    "data_europe_asia = data[data['Continent'].isin(['Europe','Asia'])]\n",
    "sns.boxplot(data=data_europe_asia, x='Continent', y='GDP (millions of US$)')"
   ]
  },
  {
   "cell_type": "code",
   "execution_count": 38,
   "id": "88984d33",
   "metadata": {},
   "outputs": [
    {
     "name": "stdout",
     "output_type": "stream",
     "text": [
      "ration = 3.1729263359586093\n"
     ]
    }
   ],
   "source": [
    "var_europe = np.var(data_europe)\n",
    "var_asia = np.var(data_asia)\n",
    "print(f'ration = {var_europe/var_asia if var_europe>var_asia else var_asia/var_europe}')"
   ]
  },
  {
   "cell_type": "code",
   "execution_count": 39,
   "id": "9dd2f9e9",
   "metadata": {},
   "outputs": [
    {
     "name": "stdout",
     "output_type": "stream",
     "text": [
      "Ttest_indResult(statistic=-0.5586877419842815, pvalue=0.5781326801926459)\n"
     ]
    }
   ],
   "source": [
    "print(stats.ttest_ind(a=data_europe, b=data_asia, equal_var=True))"
   ]
  },
  {
   "cell_type": "markdown",
   "id": "ffb2691d",
   "metadata": {},
   "source": [
    "P_value>0.05 => Không đủ điều kiên bác bỏ H0, vậy trung bình GDP ở các quốc gia châu Á bằng Châu Âu"
   ]
  },
  {
   "cell_type": "markdown",
   "id": "522532f7",
   "metadata": {},
   "source": [
    "Với mức ý nghĩa 5%: <br>\n",
    "    H0: GDP trung bình của các quốc gia ở châu Âu và châu Mỹ là bằng nhau <br>\n",
    "    H1: GDP trung bình của các quốc gia ở châu Âu và châu Mỹ là không bằng nhau"
   ]
  },
  {
   "cell_type": "code",
   "execution_count": 40,
   "id": "adc67e48",
   "metadata": {},
   "outputs": [
    {
     "data": {
      "text/plain": [
       "<AxesSubplot:xlabel='Continent', ylabel='GDP (millions of US$)'>"
      ]
     },
     "execution_count": 40,
     "metadata": {},
     "output_type": "execute_result"
    },
    {
     "data": {
      "image/png": "[encoded data removed]",
      "text/plain": [
       "<Figure size 432x288 with 1 Axes>"
      ]
     },
     "metadata": {
      "needs_background": "light"
     },
     "output_type": "display_data"
    }
   ],
   "source": [
    "data_europe_sa = data[data['Continent'].isin(['Europe','South America'])]\n",
    "sns.boxplot(data=data_europe_sa, x='Continent', y='GDP (millions of US$)')"
   ]
  },
  {
   "cell_type": "code",
   "execution_count": 46,
   "id": "6b8cc681",
   "metadata": {},
   "outputs": [],
   "source": [
    "data_europe = data[data['Continent']=='Europe']['GDP (millions of US$)']\n",
    "data_sa = data[data['Continent']=='South America']['GDP (millions of US$)']"
   ]
  },
  {
   "cell_type": "code",
   "execution_count": 48,
   "id": "441285f2",
   "metadata": {},
   "outputs": [
    {
     "name": "stdout",
     "output_type": "stream",
     "text": [
      "ration = 1.333082744250538\n"
     ]
    }
   ],
   "source": [
    "var_europe = np.var(data_europe)\n",
    "var_sa = np.var(data_sa)\n",
    "print(f'ration = {var_europe/var_sa if var_europe>var_sa else var_sa/var_europe}')"
   ]
  },
  {
   "cell_type": "code",
   "execution_count": 56,
   "id": "0f73c64e",
   "metadata": {},
   "outputs": [
    {
     "name": "stdout",
     "output_type": "stream",
     "text": [
      "Ttest_indResult(statistic=0.18256063896239497, pvalue=0.8559813353785171)\n"
     ]
    }
   ],
   "source": [
    "print(stats.ttest_ind(a=data_europe, b=data_sa, equal_var=True))"
   ]
  },
  {
   "cell_type": "markdown",
   "id": "37d8f775",
   "metadata": {},
   "source": [
    "P_value>0.05 => Không đủ điều kiên bác bỏ H0, vậy trung bình GDP ở các quốc gia châu Nam Mỹ bằng Châu Âu"
   ]
  }
 ],
 "metadata": {
  "kernelspec": {
   "display_name": "Python 3 (ipykernel)",
   "language": "python",
   "name": "python3"
  },
  "language_info": {
   "codemirror_mode": {
    "name": "ipython",
    "version": 3
   },
   "file_extension": ".py",
   "mimetype": "text/x-python",
   "name": "python",
   "nbconvert_exporter": "python",
   "pygments_lexer": "ipython3",
   "version": "3.9.12"
  }
 },
 "nbformat": 4,
 "nbformat_minor": 5
}
