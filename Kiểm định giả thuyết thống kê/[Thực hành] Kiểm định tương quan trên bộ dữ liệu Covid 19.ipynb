{
 "cells": [
  {
   "cell_type": "markdown",
   "id": "4f3bd656",
   "metadata": {},
   "source": [
    "### Mô tả bài toán\n",
    "Bộ dữ liệu subset-covid-data.csv chứa thông tin về tình hình covid ngày 12/4/2020 Hãy thực hiện những kiểm định sau với mức ý nghĩa 5%:\n",
    "\n",
    "1. Có mối tương quan nào giữa dân số và số ca nhiễm bệnh hay không\n",
    "2. Có mối tương quan nào giữa số ca mắc và ca tử vong ở các quốc gia hay không\n",
    "3. Hãy tiến hành rời rạc hóa thuộc tính population thành các nhóm theo thứ tự tăng dần đặt tên là biến population_ordinal:\n",
    "- 1: nếu population < tứ phân vị thứ nhất\n",
    "- 2: Population nằm trong khoảng từ tứ phân vị thứ nhất tới tứ phân vị thứ 2\n",
    "- 3: nếu population nằm trong khoảng từ tứ phân vị thứ 2 tới thứ 3\n",
    "- 4: nếu population >= tứ phân vị thứ 3\n",
    "Hãy kiểm tra mối tương quan giữa thuộc tính population_ordinaly với số ca nhiễm bệnh"
   ]
  },
  {
   "cell_type": "code",
   "execution_count": 2,
   "id": "849da739",
   "metadata": {},
   "outputs": [],
   "source": [
    "import pandas as pd\n",
    "import seaborn as sns\n",
    "import matplotlib.pyplot as plt\n",
    "from scipy.stats import pearsonr"
   ]
  },
  {
   "cell_type": "code",
   "execution_count": 3,
   "id": "b0da7ac4",
   "metadata": {},
   "outputs": [
    {
     "data": {
      "text/html": [
       "<div>\n",
       "<style scoped>\n",
       "    .dataframe tbody tr th:only-of-type {\n",
       "        vertical-align: middle;\n",
       "    }\n",
       "\n",
       "    .dataframe tbody tr th {\n",
       "        vertical-align: top;\n",
       "    }\n",
       "\n",
       "    .dataframe thead th {\n",
       "        text-align: right;\n",
       "    }\n",
       "</style>\n",
       "<table border=\"1\" class=\"dataframe\">\n",
       "  <thead>\n",
       "    <tr style=\"text-align: right;\">\n",
       "      <th></th>\n",
       "      <th>country</th>\n",
       "      <th>continent</th>\n",
       "      <th>date</th>\n",
       "      <th>day</th>\n",
       "      <th>month</th>\n",
       "      <th>year</th>\n",
       "      <th>cases</th>\n",
       "      <th>deaths</th>\n",
       "      <th>country_code</th>\n",
       "      <th>population</th>\n",
       "    </tr>\n",
       "  </thead>\n",
       "  <tbody>\n",
       "    <tr>\n",
       "      <th>0</th>\n",
       "      <td>Afghanistan</td>\n",
       "      <td>Asia</td>\n",
       "      <td>2020-04-12</td>\n",
       "      <td>12</td>\n",
       "      <td>4</td>\n",
       "      <td>2020</td>\n",
       "      <td>34</td>\n",
       "      <td>3</td>\n",
       "      <td>AFG</td>\n",
       "      <td>37172386.0</td>\n",
       "    </tr>\n",
       "    <tr>\n",
       "      <th>1</th>\n",
       "      <td>Albania</td>\n",
       "      <td>Europe</td>\n",
       "      <td>2020-04-12</td>\n",
       "      <td>12</td>\n",
       "      <td>4</td>\n",
       "      <td>2020</td>\n",
       "      <td>17</td>\n",
       "      <td>0</td>\n",
       "      <td>ALB</td>\n",
       "      <td>2866376.0</td>\n",
       "    </tr>\n",
       "    <tr>\n",
       "      <th>2</th>\n",
       "      <td>Algeria</td>\n",
       "      <td>Africa</td>\n",
       "      <td>2020-04-12</td>\n",
       "      <td>12</td>\n",
       "      <td>4</td>\n",
       "      <td>2020</td>\n",
       "      <td>64</td>\n",
       "      <td>19</td>\n",
       "      <td>DZA</td>\n",
       "      <td>42228429.0</td>\n",
       "    </tr>\n",
       "  </tbody>\n",
       "</table>\n",
       "</div>"
      ],
      "text/plain": [
       "       country continent        date  day  month  year  cases  deaths  \\\n",
       "0  Afghanistan      Asia  2020-04-12   12      4  2020     34       3   \n",
       "1      Albania    Europe  2020-04-12   12      4  2020     17       0   \n",
       "2      Algeria    Africa  2020-04-12   12      4  2020     64      19   \n",
       "\n",
       "  country_code  population  \n",
       "0          AFG  37172386.0  \n",
       "1          ALB   2866376.0  \n",
       "2          DZA  42228429.0  "
      ]
     },
     "execution_count": 3,
     "metadata": {},
     "output_type": "execute_result"
    }
   ],
   "source": [
    "data = pd.read_csv('subset-covid-data.csv')\n",
    "data.head(3)"
   ]
  },
  {
   "cell_type": "code",
   "execution_count": 4,
   "id": "fab7af61",
   "metadata": {},
   "outputs": [
    {
     "name": "stdout",
     "output_type": "stream",
     "text": [
      "<class 'pandas.core.frame.DataFrame'>\n",
      "RangeIndex: 206 entries, 0 to 205\n",
      "Data columns (total 10 columns):\n",
      " #   Column        Non-Null Count  Dtype  \n",
      "---  ------        --------------  -----  \n",
      " 0   country       206 non-null    object \n",
      " 1   continent     206 non-null    object \n",
      " 2   date          206 non-null    object \n",
      " 3   day           206 non-null    int64  \n",
      " 4   month         206 non-null    int64  \n",
      " 5   year          206 non-null    int64  \n",
      " 6   cases         206 non-null    int64  \n",
      " 7   deaths        206 non-null    int64  \n",
      " 8   country_code  202 non-null    object \n",
      " 9   population    202 non-null    float64\n",
      "dtypes: float64(1), int64(5), object(4)\n",
      "memory usage: 16.2+ KB\n"
     ]
    }
   ],
   "source": [
    "data.info()"
   ]
  },
  {
   "cell_type": "code",
   "execution_count": 5,
   "id": "104132b2",
   "metadata": {},
   "outputs": [
    {
     "data": {
      "text/html": [
       "<div>\n",
       "<style scoped>\n",
       "    .dataframe tbody tr th:only-of-type {\n",
       "        vertical-align: middle;\n",
       "    }\n",
       "\n",
       "    .dataframe tbody tr th {\n",
       "        vertical-align: top;\n",
       "    }\n",
       "\n",
       "    .dataframe thead th {\n",
       "        text-align: right;\n",
       "    }\n",
       "</style>\n",
       "<table border=\"1\" class=\"dataframe\">\n",
       "  <thead>\n",
       "    <tr style=\"text-align: right;\">\n",
       "      <th></th>\n",
       "      <th>day</th>\n",
       "      <th>month</th>\n",
       "      <th>year</th>\n",
       "      <th>cases</th>\n",
       "      <th>deaths</th>\n",
       "      <th>population</th>\n",
       "    </tr>\n",
       "  </thead>\n",
       "  <tbody>\n",
       "    <tr>\n",
       "      <th>count</th>\n",
       "      <td>206.000000</td>\n",
       "      <td>206.000000</td>\n",
       "      <td>206.0</td>\n",
       "      <td>206.000000</td>\n",
       "      <td>206.000000</td>\n",
       "      <td>2.020000e+02</td>\n",
       "    </tr>\n",
       "    <tr>\n",
       "      <th>mean</th>\n",
       "      <td>12.024272</td>\n",
       "      <td>3.985437</td>\n",
       "      <td>2020.0</td>\n",
       "      <td>395.247573</td>\n",
       "      <td>29.713592</td>\n",
       "      <td>3.731716e+07</td>\n",
       "    </tr>\n",
       "    <tr>\n",
       "      <th>std</th>\n",
       "      <td>0.424141</td>\n",
       "      <td>0.209020</td>\n",
       "      <td>0.0</td>\n",
       "      <td>2160.176439</td>\n",
       "      <td>159.533131</td>\n",
       "      <td>1.413776e+08</td>\n",
       "    </tr>\n",
       "    <tr>\n",
       "      <th>min</th>\n",
       "      <td>11.000000</td>\n",
       "      <td>1.000000</td>\n",
       "      <td>2020.0</td>\n",
       "      <td>0.000000</td>\n",
       "      <td>0.000000</td>\n",
       "      <td>1.000000e+03</td>\n",
       "    </tr>\n",
       "    <tr>\n",
       "      <th>25%</th>\n",
       "      <td>12.000000</td>\n",
       "      <td>4.000000</td>\n",
       "      <td>2020.0</td>\n",
       "      <td>0.000000</td>\n",
       "      <td>0.000000</td>\n",
       "      <td>1.278222e+06</td>\n",
       "    </tr>\n",
       "    <tr>\n",
       "      <th>50%</th>\n",
       "      <td>12.000000</td>\n",
       "      <td>4.000000</td>\n",
       "      <td>2020.0</td>\n",
       "      <td>11.500000</td>\n",
       "      <td>0.000000</td>\n",
       "      <td>7.042862e+06</td>\n",
       "    </tr>\n",
       "    <tr>\n",
       "      <th>75%</th>\n",
       "      <td>12.000000</td>\n",
       "      <td>4.000000</td>\n",
       "      <td>2020.0</td>\n",
       "      <td>88.750000</td>\n",
       "      <td>3.000000</td>\n",
       "      <td>2.600084e+07</td>\n",
       "    </tr>\n",
       "    <tr>\n",
       "      <th>max</th>\n",
       "      <td>18.000000</td>\n",
       "      <td>4.000000</td>\n",
       "      <td>2020.0</td>\n",
       "      <td>28391.000000</td>\n",
       "      <td>1831.000000</td>\n",
       "      <td>1.392730e+09</td>\n",
       "    </tr>\n",
       "  </tbody>\n",
       "</table>\n",
       "</div>"
      ],
      "text/plain": [
       "              day       month    year         cases       deaths    population\n",
       "count  206.000000  206.000000   206.0    206.000000   206.000000  2.020000e+02\n",
       "mean    12.024272    3.985437  2020.0    395.247573    29.713592  3.731716e+07\n",
       "std      0.424141    0.209020     0.0   2160.176439   159.533131  1.413776e+08\n",
       "min     11.000000    1.000000  2020.0      0.000000     0.000000  1.000000e+03\n",
       "25%     12.000000    4.000000  2020.0      0.000000     0.000000  1.278222e+06\n",
       "50%     12.000000    4.000000  2020.0     11.500000     0.000000  7.042862e+06\n",
       "75%     12.000000    4.000000  2020.0     88.750000     3.000000  2.600084e+07\n",
       "max     18.000000    4.000000  2020.0  28391.000000  1831.000000  1.392730e+09"
      ]
     },
     "execution_count": 5,
     "metadata": {},
     "output_type": "execute_result"
    }
   ],
   "source": [
    "data.describe()"
   ]
  },
  {
   "cell_type": "markdown",
   "id": "1dc205cd",
   "metadata": {},
   "source": [
    "#### 1. Có mối tương quan nào giữa dân số và số ca nhiễm bệnh hay không"
   ]
  },
  {
   "cell_type": "markdown",
   "id": "984bbe5a",
   "metadata": {},
   "source": [
    "Với mức ý nghĩa 5%: <br>\n",
    "    H0: Giữa dân số và số ca nhiễm bệnh không có mối tương quan <br>\n",
    "    H1: Giữa dân số và số ca nhiễm bệnh có mối tương quan"
   ]
  },
  {
   "cell_type": "markdown",
   "id": "dcd50417",
   "metadata": {},
   "source": [
    "Vì đây là hai biến định lượng nên ta sẽ sử dụng kiểm định pearsonr"
   ]
  },
  {
   "cell_type": "code",
   "execution_count": 6,
   "id": "be4b3246",
   "metadata": {},
   "outputs": [],
   "source": [
    "data_1 = data.filter(['cases', 'population'])\n",
    "data_1.dropna(inplace=True)"
   ]
  },
  {
   "cell_type": "code",
   "execution_count": 7,
   "id": "e21ef30c",
   "metadata": {},
   "outputs": [
    {
     "name": "stdout",
     "output_type": "stream",
     "text": [
      "r =  0.1755392659429401\n",
      "pvalue =  0.01246031070420873\n"
     ]
    }
   ],
   "source": [
    "r, pvalue = pearsonr(data_1['population'], data_1['cases'])\n",
    "print('r = ', r)\n",
    "print('pvalue = ', pvalue)"
   ]
  },
  {
   "cell_type": "markdown",
   "id": "27d1077e",
   "metadata": {},
   "source": [
    "Do p_value<0.05, bác bỏ H0, kết luận Giữa biến dân số và số ca nhiễm bệnh có mối tương quan"
   ]
  },
  {
   "cell_type": "markdown",
   "id": "61fae675",
   "metadata": {},
   "source": [
    "#### 2. Có mối tương quan nào giữa số ca mắc và ca tử vong ở các quốc gia hay không"
   ]
  },
  {
   "cell_type": "markdown",
   "id": "1e6d2b40",
   "metadata": {},
   "source": [
    "Với mức ý nghĩa 5%: <br>\n",
    "    H0: Giữa số ca mắc và ca tử vong không có mối tương quan <br>\n",
    "    H1: Giữa số ca mắc và ca tử vong có mối tương quan"
   ]
  },
  {
   "cell_type": "code",
   "execution_count": 8,
   "id": "b00677c2",
   "metadata": {},
   "outputs": [
    {
     "name": "stdout",
     "output_type": "stream",
     "text": [
      "r =  0.9432201374746727\n",
      "pvalue =  1.3451948745846463e-99\n"
     ]
    }
   ],
   "source": [
    "r, pvalue = pearsonr(data['cases'], data['deaths'])\n",
    "print('r = ', r)\n",
    "print('pvalue = ', pvalue)"
   ]
  },
  {
   "cell_type": "markdown",
   "id": "4f7e3c4e",
   "metadata": {},
   "source": [
    "pvalue <0.05 nên bác bỏ H0, chấp nhận H1, kết luận giữa ca mắc và số ca tử vong có tương quan tuyến tính mạnh với nhau"
   ]
  },
  {
   "cell_type": "markdown",
   "id": "74f99dde",
   "metadata": {},
   "source": [
    "#### 3. Hãy tiến hành rời rạc hóa thuộc tính population thành các nhóm theo thứ tự tăng dần đặt tên là biến population_ordinal:\n",
    "- 1: nếu population < tứ phân vị thứ nhất\n",
    "- 2: Population nằm trong khoảng từ tứ phân vị thứ nhất tới tứ phân vị thứ 2\n",
    "- 3: nếu population nằm trong khoảng từ tứ phân vị thứ 2 tới thứ 3\n",
    "- 4: nếu population >= tứ phân vị thứ 3"
   ]
  },
  {
   "cell_type": "code",
   "execution_count": 9,
   "id": "08c7ef42",
   "metadata": {},
   "outputs": [
    {
     "data": {
      "text/html": [
       "<div>\n",
       "<style scoped>\n",
       "    .dataframe tbody tr th:only-of-type {\n",
       "        vertical-align: middle;\n",
       "    }\n",
       "\n",
       "    .dataframe tbody tr th {\n",
       "        vertical-align: top;\n",
       "    }\n",
       "\n",
       "    .dataframe thead th {\n",
       "        text-align: right;\n",
       "    }\n",
       "</style>\n",
       "<table border=\"1\" class=\"dataframe\">\n",
       "  <thead>\n",
       "    <tr style=\"text-align: right;\">\n",
       "      <th></th>\n",
       "      <th>cases</th>\n",
       "      <th>population</th>\n",
       "      <th>population_ordinal</th>\n",
       "    </tr>\n",
       "  </thead>\n",
       "  <tbody>\n",
       "    <tr>\n",
       "      <th>0</th>\n",
       "      <td>34</td>\n",
       "      <td>37172386.0</td>\n",
       "      <td>4</td>\n",
       "    </tr>\n",
       "    <tr>\n",
       "      <th>1</th>\n",
       "      <td>17</td>\n",
       "      <td>2866376.0</td>\n",
       "      <td>2</td>\n",
       "    </tr>\n",
       "    <tr>\n",
       "      <th>2</th>\n",
       "      <td>64</td>\n",
       "      <td>42228429.0</td>\n",
       "      <td>4</td>\n",
       "    </tr>\n",
       "    <tr>\n",
       "      <th>3</th>\n",
       "      <td>21</td>\n",
       "      <td>77006.0</td>\n",
       "      <td>1</td>\n",
       "    </tr>\n",
       "    <tr>\n",
       "      <th>4</th>\n",
       "      <td>0</td>\n",
       "      <td>30809762.0</td>\n",
       "      <td>4</td>\n",
       "    </tr>\n",
       "  </tbody>\n",
       "</table>\n",
       "</div>"
      ],
      "text/plain": [
       "   cases  population  population_ordinal\n",
       "0     34  37172386.0                   4\n",
       "1     17   2866376.0                   2\n",
       "2     64  42228429.0                   4\n",
       "3     21     77006.0                   1\n",
       "4      0  30809762.0                   4"
      ]
     },
     "execution_count": 9,
     "metadata": {},
     "output_type": "execute_result"
    }
   ],
   "source": [
    "q1,q2,q3 = data_1['population'].quantile(0.25), data_1['population'].quantile(0.5), data_1['population'].quantile(0.75)\n",
    "def population_order(population): ##một cách ordinal_encoding\n",
    "    if population <q1:\n",
    "        return 1\n",
    "    elif population>=q1 and population <q2:\n",
    "        return 2\n",
    "    elif population>=q2 and population <q3:\n",
    "        return 3\n",
    "    else: \n",
    "        return 4\n",
    "data_1['population_ordinal'] = data_1['population'].apply(population_order)\n",
    "data_1.head()"
   ]
  },
  {
   "cell_type": "markdown",
   "id": "4df974dd",
   "metadata": {},
   "source": [
    "Do population_ordinal là dữ liệu kiểu thứ bậc nên sử dụng kiểm định spearman để kiểm định tương quan giữa population_ordinal và cases"
   ]
  },
  {
   "cell_type": "code",
   "execution_count": 10,
   "id": "7c2cec6b",
   "metadata": {},
   "outputs": [
    {
     "name": "stdout",
     "output_type": "stream",
     "text": [
      "r:  0.49498466493711596 ; pvalue:  6.982786622314858e-14\n"
     ]
    }
   ],
   "source": [
    "from scipy import stats\n",
    "r,pvalue = stats.spearmanr(data_1['population_ordinal'], data_1['cases'])\n",
    "print (\"r: \", r, \"; pvalue: \", pvalue)"
   ]
  },
  {
   "cell_type": "markdown",
   "id": "beb25212",
   "metadata": {},
   "source": [
    "Pvalue gần bằng 0 <0.05, và r=0.49 chứng tỏ giữa thuộc tính population_ordinal và số ca nhiễm bệnh có tương quan với nhau. Như vậy có thể thấy, việc biến đổi dữ liệu thành các khoảng có thể làm nổi bật thông tin tương quan giữa các thuộc tính."
   ]
  },
  {
   "cell_type": "code",
   "execution_count": null,
   "id": "be7f32ca",
   "metadata": {},
   "outputs": [],
   "source": []
  }
 ],
 "metadata": {
  "kernelspec": {
   "display_name": "Python 3 (ipykernel)",
   "language": "python",
   "name": "python3"
  },
  "language_info": {
   "codemirror_mode": {
    "name": "ipython",
    "version": 3
   },
   "file_extension": ".py",
   "mimetype": "text/x-python",
   "name": "python",
   "nbconvert_exporter": "python",
   "pygments_lexer": "ipython3",
   "version": "3.9.12"
  }
 },
 "nbformat": 4,
 "nbformat_minor": 5
}
