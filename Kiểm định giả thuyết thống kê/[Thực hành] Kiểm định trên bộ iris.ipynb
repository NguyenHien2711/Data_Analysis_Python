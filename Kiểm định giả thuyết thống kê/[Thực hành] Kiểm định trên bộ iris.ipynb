{
 "cells": [
  {
   "cell_type": "code",
   "execution_count": 1,
   "id": "44503edf",
   "metadata": {},
   "outputs": [],
   "source": [
    "import numpy as np\n",
    "import pandas as pd\n",
    "import matplotlib.pyplot as plt\n",
    "import scipy.stats as stats\n",
    "import seaborn as sns"
   ]
  },
  {
   "cell_type": "code",
   "execution_count": 52,
   "id": "cc3a5f11",
   "metadata": {
    "scrolled": true
   },
   "outputs": [
    {
     "data": {
      "text/html": [
       "<div>\n",
       "<style scoped>\n",
       "    .dataframe tbody tr th:only-of-type {\n",
       "        vertical-align: middle;\n",
       "    }\n",
       "\n",
       "    .dataframe tbody tr th {\n",
       "        vertical-align: top;\n",
       "    }\n",
       "\n",
       "    .dataframe thead th {\n",
       "        text-align: right;\n",
       "    }\n",
       "</style>\n",
       "<table border=\"1\" class=\"dataframe\">\n",
       "  <thead>\n",
       "    <tr style=\"text-align: right;\">\n",
       "      <th></th>\n",
       "      <th>sepal_length</th>\n",
       "      <th>sepal_width</th>\n",
       "      <th>petal_length</th>\n",
       "      <th>petal_width</th>\n",
       "      <th>species</th>\n",
       "    </tr>\n",
       "  </thead>\n",
       "  <tbody>\n",
       "    <tr>\n",
       "      <th>0</th>\n",
       "      <td>5.1</td>\n",
       "      <td>3.5</td>\n",
       "      <td>1.4</td>\n",
       "      <td>0.2</td>\n",
       "      <td>setosa</td>\n",
       "    </tr>\n",
       "    <tr>\n",
       "      <th>1</th>\n",
       "      <td>4.9</td>\n",
       "      <td>3.0</td>\n",
       "      <td>1.4</td>\n",
       "      <td>0.2</td>\n",
       "      <td>setosa</td>\n",
       "    </tr>\n",
       "    <tr>\n",
       "      <th>2</th>\n",
       "      <td>4.7</td>\n",
       "      <td>3.2</td>\n",
       "      <td>1.3</td>\n",
       "      <td>0.2</td>\n",
       "      <td>setosa</td>\n",
       "    </tr>\n",
       "    <tr>\n",
       "      <th>3</th>\n",
       "      <td>4.6</td>\n",
       "      <td>3.1</td>\n",
       "      <td>1.5</td>\n",
       "      <td>0.2</td>\n",
       "      <td>setosa</td>\n",
       "    </tr>\n",
       "    <tr>\n",
       "      <th>4</th>\n",
       "      <td>5.0</td>\n",
       "      <td>3.6</td>\n",
       "      <td>1.4</td>\n",
       "      <td>0.2</td>\n",
       "      <td>setosa</td>\n",
       "    </tr>\n",
       "  </tbody>\n",
       "</table>\n",
       "</div>"
      ],
      "text/plain": [
       "   sepal_length  sepal_width  petal_length  petal_width species\n",
       "0           5.1          3.5           1.4          0.2  setosa\n",
       "1           4.9          3.0           1.4          0.2  setosa\n",
       "2           4.7          3.2           1.3          0.2  setosa\n",
       "3           4.6          3.1           1.5          0.2  setosa\n",
       "4           5.0          3.6           1.4          0.2  setosa"
      ]
     },
     "execution_count": 52,
     "metadata": {},
     "output_type": "execute_result"
    }
   ],
   "source": [
    "iris = sns.load_dataset('iris')\n",
    "iris.head()"
   ]
  },
  {
   "cell_type": "markdown",
   "id": "baa0f108",
   "metadata": {},
   "source": [
    "Kiểm định giả thuyết chiều dài đài hoa trung bình của loài setosa là 5.0, độ rộng đài hoa versicolor là 3.5 chiều dài cánh hoa virginica là 1.4 "
   ]
  },
  {
   "cell_type": "markdown",
   "id": "e60ad1a6",
   "metadata": {},
   "source": [
    "H0: Chiều dài đài hoa trung bình của loài setosa là 5.0<br>\n",
    "H1: Chiều dài đài hoa trung bình của loài setosa khác 5.0<br>"
   ]
  },
  {
   "cell_type": "code",
   "execution_count": 53,
   "id": "f7c9ce38",
   "metadata": {},
   "outputs": [
    {
     "name": "stdout",
     "output_type": "stream",
     "text": [
      "0.3495270022268392\n",
      "0.7297421135161855\n"
     ]
    }
   ],
   "source": [
    "flower_setosa = iris[iris['species']=='setosa']['sepal_length']\n",
    "setosa = flower_setosa.iloc[:25]\n",
    "t_statistic, p_value = stats.ttest_1samp(a=setosa, popmean=5)\n",
    "print(t_statistic)\n",
    "print(p_value)"
   ]
  },
  {
   "cell_type": "markdown",
   "id": "b3df216c",
   "metadata": {},
   "source": [
    "p_value>0.05 nên H0 đúng"
   ]
  },
  {
   "cell_type": "code",
   "execution_count": 54,
   "id": "255852cf",
   "metadata": {},
   "outputs": [
    {
     "data": {
      "text/plain": [
       "5.005999999999999"
      ]
     },
     "execution_count": 54,
     "metadata": {},
     "output_type": "execute_result"
    }
   ],
   "source": [
    "setosa_mean = iris[iris['species']=='setosa']['sepal_length'].mean()\n",
    "setosa_mean"
   ]
  },
  {
   "cell_type": "markdown",
   "id": "1bf9d05e",
   "metadata": {},
   "source": [
    "H0: Chiều rộng đài hoa trung bình của loài versicolor là 3.5<br>\n",
    "H1: Chiều rộng đài hoa trung bình của loài versicolor khác 3.5<br>"
   ]
  },
  {
   "cell_type": "code",
   "execution_count": 55,
   "id": "d7b167c6",
   "metadata": {},
   "outputs": [
    {
     "name": "stdout",
     "output_type": "stream",
     "text": [
      "-10.26356838593974\n",
      "2.950231929091389e-10\n"
     ]
    }
   ],
   "source": [
    "flower_versicolor = iris[iris['species']=='versicolor']['sepal_width']\n",
    "versicolor = flower_versicolor.iloc[:25]\n",
    "t_statistic, p_value = stats.ttest_1samp(a=versicolor, popmean=3.5)\n",
    "print(t_statistic)\n",
    "print(p_value)\n",
    "#=> Bác bỏ H0"
   ]
  },
  {
   "cell_type": "code",
   "execution_count": 56,
   "id": "12f7221e",
   "metadata": {},
   "outputs": [
    {
     "data": {
      "text/plain": [
       "2.7700000000000005"
      ]
     },
     "execution_count": 56,
     "metadata": {},
     "output_type": "execute_result"
    }
   ],
   "source": [
    "flower_versicolor.mean()"
   ]
  },
  {
   "cell_type": "markdown",
   "id": "58e42b01",
   "metadata": {},
   "source": [
    "H0: Chiều dài cách hoa trung bình của loài virginica là 1.4<br>\n",
    "H1: Chiều dài cách hoa trung bình của loài virginica khác 1.4<br>"
   ]
  },
  {
   "cell_type": "code",
   "execution_count": 57,
   "id": "586c5ceb",
   "metadata": {},
   "outputs": [
    {
     "name": "stdout",
     "output_type": "stream",
     "text": [
      "32.8101050594474\n",
      "1.8843793148369172e-21\n"
     ]
    }
   ],
   "source": [
    "flower_virginica = iris[iris['species']=='virginica']['petal_length']\n",
    "virginica = flower_virginica.iloc[:25]\n",
    "t_statistic, p_value = stats.ttest_1samp(a=virginica, popmean=1.4)\n",
    "print(t_statistic)\n",
    "print(p_value)\n",
    "#Bác bỏ H0"
   ]
  },
  {
   "cell_type": "markdown",
   "id": "45b64f31",
   "metadata": {},
   "source": [
    "H0: Giá trị trung bình của chiều dài đài hoa setosa vườn 1 bằng với giá trị trung bình của hoa setosa vườn 2<br>\n",
    "H1: Giá trị trung bình của chiều dài đài hoa setosa vườn 1 khác với giá trị trung bình của hoa setosa vườn 2"
   ]
  },
  {
   "cell_type": "code",
   "execution_count": 65,
   "id": "e656cbff",
   "metadata": {},
   "outputs": [
    {
     "data": {
      "text/plain": [
       "'2 : 1'"
      ]
     },
     "execution_count": 65,
     "metadata": {},
     "output_type": "execute_result"
    }
   ],
   "source": [
    "var_setosa_garden1= np.var(flower_setosa.iloc[:25])\n",
    "var_setosa_garden2= np.var(flower_setosa.iloc[25:])\n",
    "ratio = f'{round(var_setosa_garden1/var_setosa_garden2)} : 1' if var_setosa_garden1>var_setosa_garden2\\\n",
    "else f'{round(var_setosa_garden2/var_setosa_garden1)} : 1'\n",
    "ratio"
   ]
  },
  {
   "cell_type": "code",
   "execution_count": 66,
   "id": "f99e67d0",
   "metadata": {},
   "outputs": [
    {
     "data": {
      "text/plain": [
       "Ttest_indResult(statistic=0.4376719413352727, pvalue=0.6635872571303114)"
      ]
     },
     "execution_count": 66,
     "metadata": {},
     "output_type": "execute_result"
    }
   ],
   "source": [
    "stats.ttest_ind(a = flower_setosa.iloc[:25], b = flower_setosa.iloc[25:], equal_var=True)\n",
    "#Giả định độ tin cậy là 95%, pvalue>0.05 nên kết luận không thể bác bỏ H0"
   ]
  },
  {
   "cell_type": "markdown",
   "id": "040d39e8",
   "metadata": {},
   "source": [
    "#### Kiểm định so sánh cặp"
   ]
  },
  {
   "cell_type": "markdown",
   "id": "00640c07",
   "metadata": {},
   "source": [
    "H0:Giá trị trung bình các thông tin của loài hoa không phụ thuộc vào quá trình căm sóc<br>\n",
    "H1:Giá trị trung bình các thông tin của loài hoa phụ thuộc vào quá trình căm sóc"
   ]
  },
  {
   "cell_type": "code",
   "execution_count": 67,
   "id": "0dd14c22",
   "metadata": {},
   "outputs": [
    {
     "data": {
      "text/plain": [
       "Ttest_relResult(statistic=0.41325941622093887, pvalue=0.6830857467767293)"
      ]
     },
     "execution_count": 67,
     "metadata": {},
     "output_type": "execute_result"
    }
   ],
   "source": [
    "stats.ttest_rel(flower_setosa.iloc[:25],flower_setosa.iloc[25:])"
   ]
  },
  {
   "cell_type": "code",
   "execution_count": null,
   "id": "765ee0fa",
   "metadata": {},
   "outputs": [],
   "source": []
  }
 ],
 "metadata": {
  "kernelspec": {
   "display_name": "Python 3 (ipykernel)",
   "language": "python",
   "name": "python3"
  },
  "language_info": {
   "codemirror_mode": {
    "name": "ipython",
    "version": 3
   },
   "file_extension": ".py",
   "mimetype": "text/x-python",
   "name": "python",
   "nbconvert_exporter": "python",
   "pygments_lexer": "ipython3",
   "version": "3.9.12"
  }
 },
 "nbformat": 4,
 "nbformat_minor": 5
}
