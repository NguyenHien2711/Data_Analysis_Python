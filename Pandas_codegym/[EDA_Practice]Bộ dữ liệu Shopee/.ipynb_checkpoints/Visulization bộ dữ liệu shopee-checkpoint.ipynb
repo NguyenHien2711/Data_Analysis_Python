{
 "cells": [
  {
   "cell_type": "markdown",
   "id": "664d0f55",
   "metadata": {},
   "source": [
    "#### Sự phổ biến ngày càng tăng của thời trang lấy cảm hứng từ Hàn Quốc đã tiếp quản bán lẻ điện tử ở Philippines. Các doanh nhân đang bắt kịp xu hướng ngày càng tăng này bằng cách bán các sản phẩm lấy cảm hứng từ thời trang Hàn Quốc của họ trên các nền tảng trực tuyến khác nhau: Thông tin thu thập được từ shop bao gồm:<br>\n",
    "- date_collected\tngày lấy dữ liệu<br>\n",
    "- shopid\tshopid<br>\n",
    "- name\ttên shop<br>\n",
    "- join_month\tTháng  gia nhập<br>\n",
    "- join_day\tNgày gia nhập<br>\n",
    "- join_year\tNăm gia nhập <br>\n",
    "- item_count\tsố lượng sản phẩm<br>\n",
    "- follower_count\tSố lượng theo dõi<br>\n",
    "- response_time\tThời gian phản hồi<br>\n",
    "- response_rate\tTỷ lệ phản hồi<br>\n",
    "- shop_location\tĐịa chỉ cửa hàng<br>\n",
    "- rating_bad\tsố lượt khách hàng đánh giá xấu<br>\n",
    "- rating_good\tsố lượt khách hàng đánh giá tốt<br>\n",
    "- rating_normal\tsố lượt khách hàng đánh giá trung bình<br>\n",
    "- rating_star\tĐiểm đánh giá trung bình<br>\n",
    "- is_shopee_verified\tcửa hàng đã được xác thực hay chưa<br>\n",
    "- is_official_shop\tCó cửa hàng chính thức hay không<br>\n",
    "\n",
    "1. Vẽ biểu đồ so sánh số lượng shop gia nhập theo các năm.<br>\n",
    "2. Vẽ biểu đồ thể hiện mối quan hệ giữa tỉ lệ phản hồi với số lượt khách hàng đánh giá tốt.<br>\n",
    "3. Vẽ biểu đồ thể hiện mối quan hệ giữa thời gian phản hồi (đơn vị giây) với số lượt khách hàng đánh giá xấu.<br>\n",
    "4. Vẽ biểu đồ thể hiện xu hướng của số lượng shop gia nhập theo thời gian.<br>\n",
    "5. Vẽ biểu đồ thể hiện phân bố của điểm đánh giá trung bình. <br>\n",
    "6. Vẽ biểu đồ kết hợp để trực quan hóa thông tin sau:\n",
    "- So sánh số lượng shop gia nhập theo các năm.\n",
    "- Xu hướng của số lượng shop gia nhập theo từng tháng trong từng năm.\n",
    "7. Vẽ biểu đồ tần số số lượng shop gia nhập theo các năm.\n",
    "8. Vẽ biểu đồ tần số của cửa hàng chính thức và không chính thức. \n",
    "9. Vẽ biểu đồ tần số của cửa hàng được xác thực với chưa xác thực. "
   ]
  },
  {
   "cell_type": "code",
   "execution_count": 3,
   "id": "3b2ca795",
   "metadata": {},
   "outputs": [
    {
     "data": {
      "text/html": [
       "<div>\n",
       "<style scoped>\n",
       "    .dataframe tbody tr th:only-of-type {\n",
       "        vertical-align: middle;\n",
       "    }\n",
       "\n",
       "    .dataframe tbody tr th {\n",
       "        vertical-align: top;\n",
       "    }\n",
       "\n",
       "    .dataframe thead th {\n",
       "        text-align: right;\n",
       "    }\n",
       "</style>\n",
       "<table border=\"1\" class=\"dataframe\">\n",
       "  <thead>\n",
       "    <tr style=\"text-align: right;\">\n",
       "      <th></th>\n",
       "      <th>pk_shop</th>\n",
       "      <th>date_collected</th>\n",
       "      <th>shopid</th>\n",
       "      <th>name</th>\n",
       "      <th>join_month</th>\n",
       "      <th>join_day</th>\n",
       "      <th>join_year</th>\n",
       "      <th>item_count</th>\n",
       "      <th>follower_count</th>\n",
       "      <th>response_time</th>\n",
       "      <th>response_rate</th>\n",
       "      <th>shop_location</th>\n",
       "      <th>rating_bad</th>\n",
       "      <th>rating_good</th>\n",
       "      <th>rating_normal</th>\n",
       "      <th>rating_star</th>\n",
       "      <th>is_shopee_verified</th>\n",
       "      <th>is_official_shop</th>\n",
       "    </tr>\n",
       "  </thead>\n",
       "  <tbody>\n",
       "    <tr>\n",
       "      <th>0</th>\n",
       "      <td>20210613254711738</td>\n",
       "      <td>2021-06-13</td>\n",
       "      <td>254711738</td>\n",
       "      <td>hello.may.ph</td>\n",
       "      <td>April</td>\n",
       "      <td>27</td>\n",
       "      <td>2020</td>\n",
       "      <td>446</td>\n",
       "      <td>17487</td>\n",
       "      <td>10:13:55</td>\n",
       "      <td>96</td>\n",
       "      <td>NaN</td>\n",
       "      <td>181</td>\n",
       "      <td>17510</td>\n",
       "      <td>729</td>\n",
       "      <td>4.81</td>\n",
       "      <td>1</td>\n",
       "      <td>0</td>\n",
       "    </tr>\n",
       "    <tr>\n",
       "      <th>1</th>\n",
       "      <td>20210613314198143</td>\n",
       "      <td>2021-06-13</td>\n",
       "      <td>314198143</td>\n",
       "      <td>love.women.shop</td>\n",
       "      <td>September</td>\n",
       "      <td>25</td>\n",
       "      <td>2020</td>\n",
       "      <td>263</td>\n",
       "      <td>8574</td>\n",
       "      <td>10:43:05</td>\n",
       "      <td>73</td>\n",
       "      <td>San Nicolas,Metro Manila</td>\n",
       "      <td>78</td>\n",
       "      <td>2656</td>\n",
       "      <td>198</td>\n",
       "      <td>4.68</td>\n",
       "      <td>0</td>\n",
       "      <td>0</td>\n",
       "    </tr>\n",
       "    <tr>\n",
       "      <th>2</th>\n",
       "      <td>2021061310377223</td>\n",
       "      <td>2021-06-13</td>\n",
       "      <td>10377223</td>\n",
       "      <td>R&amp;O RedOrange</td>\n",
       "      <td>September</td>\n",
       "      <td>27</td>\n",
       "      <td>2016</td>\n",
       "      <td>209</td>\n",
       "      <td>660417</td>\n",
       "      <td>08:32:07</td>\n",
       "      <td>90</td>\n",
       "      <td>Pasay City,Metro Manila</td>\n",
       "      <td>4647</td>\n",
       "      <td>1071829</td>\n",
       "      <td>18073</td>\n",
       "      <td>4.91</td>\n",
       "      <td>1</td>\n",
       "      <td>0</td>\n",
       "    </tr>\n",
       "    <tr>\n",
       "      <th>3</th>\n",
       "      <td>2021061321407329</td>\n",
       "      <td>2021-06-13</td>\n",
       "      <td>21407329</td>\n",
       "      <td>patriciacai</td>\n",
       "      <td>April</td>\n",
       "      <td>30</td>\n",
       "      <td>2017</td>\n",
       "      <td>165</td>\n",
       "      <td>18787</td>\n",
       "      <td>09:10:38</td>\n",
       "      <td>94</td>\n",
       "      <td>Binondo,Metro Manila</td>\n",
       "      <td>44</td>\n",
       "      <td>18959</td>\n",
       "      <td>215</td>\n",
       "      <td>4.94</td>\n",
       "      <td>1</td>\n",
       "      <td>0</td>\n",
       "    </tr>\n",
       "    <tr>\n",
       "      <th>4</th>\n",
       "      <td>2021061311187885</td>\n",
       "      <td>2021-06-13</td>\n",
       "      <td>11187885</td>\n",
       "      <td>Little Market Manila</td>\n",
       "      <td>October</td>\n",
       "      <td>18</td>\n",
       "      <td>2016</td>\n",
       "      <td>467</td>\n",
       "      <td>67371</td>\n",
       "      <td>11:40:59</td>\n",
       "      <td>89</td>\n",
       "      <td>Caloocan City,Metro Manila</td>\n",
       "      <td>680</td>\n",
       "      <td>39252</td>\n",
       "      <td>2383</td>\n",
       "      <td>4.73</td>\n",
       "      <td>1</td>\n",
       "      <td>0</td>\n",
       "    </tr>\n",
       "  </tbody>\n",
       "</table>\n",
       "</div>"
      ],
      "text/plain": [
       "             pk_shop date_collected     shopid                  name  \\\n",
       "0  20210613254711738     2021-06-13  254711738          hello.may.ph   \n",
       "1  20210613314198143     2021-06-13  314198143       love.women.shop   \n",
       "2   2021061310377223     2021-06-13   10377223         R&O RedOrange   \n",
       "3   2021061321407329     2021-06-13   21407329           patriciacai   \n",
       "4   2021061311187885     2021-06-13   11187885  Little Market Manila   \n",
       "\n",
       "  join_month  join_day  join_year  item_count  follower_count response_time  \\\n",
       "0      April        27       2020         446           17487      10:13:55   \n",
       "1  September        25       2020         263            8574      10:43:05   \n",
       "2  September        27       2016         209          660417      08:32:07   \n",
       "3      April        30       2017         165           18787      09:10:38   \n",
       "4    October        18       2016         467           67371      11:40:59   \n",
       "\n",
       "   response_rate               shop_location  rating_bad  rating_good  \\\n",
       "0             96                         NaN         181        17510   \n",
       "1             73    San Nicolas,Metro Manila          78         2656   \n",
       "2             90     Pasay City,Metro Manila        4647      1071829   \n",
       "3             94        Binondo,Metro Manila          44        18959   \n",
       "4             89  Caloocan City,Metro Manila         680        39252   \n",
       "\n",
       "   rating_normal  rating_star  is_shopee_verified  is_official_shop  \n",
       "0            729         4.81                   1                 0  \n",
       "1            198         4.68                   0                 0  \n",
       "2          18073         4.91                   1                 0  \n",
       "3            215         4.94                   1                 0  \n",
       "4           2383         4.73                   1                 0  "
      ]
     },
     "execution_count": 3,
     "metadata": {},
     "output_type": "execute_result"
    }
   ],
   "source": [
    "import pandas as pd\n",
    "import numpy as np\n",
    "import matplotlib.pyplot as plt\n",
    "import seaborn as sns\n",
    "df = pd.read_csv('shopeep.csv')\n",
    "df.head(5)"
   ]
  },
  {
   "cell_type": "code",
   "execution_count": 4,
   "id": "570948d3",
   "metadata": {},
   "outputs": [
    {
     "name": "stdout",
     "output_type": "stream",
     "text": [
      "<class 'pandas.core.frame.DataFrame'>\n",
      "RangeIndex: 746 entries, 0 to 745\n",
      "Data columns (total 18 columns):\n",
      " #   Column              Non-Null Count  Dtype  \n",
      "---  ------              --------------  -----  \n",
      " 0   pk_shop             746 non-null    int64  \n",
      " 1   date_collected      746 non-null    object \n",
      " 2   shopid              746 non-null    int64  \n",
      " 3   name                746 non-null    object \n",
      " 4   join_month          746 non-null    object \n",
      " 5   join_day            746 non-null    int64  \n",
      " 6   join_year           746 non-null    int64  \n",
      " 7   item_count          746 non-null    int64  \n",
      " 8   follower_count      746 non-null    int64  \n",
      " 9   response_time       746 non-null    object \n",
      " 10  response_rate       746 non-null    int64  \n",
      " 11  shop_location       428 non-null    object \n",
      " 12  rating_bad          746 non-null    int64  \n",
      " 13  rating_good         746 non-null    int64  \n",
      " 14  rating_normal       746 non-null    int64  \n",
      " 15  rating_star         740 non-null    float64\n",
      " 16  is_shopee_verified  746 non-null    int64  \n",
      " 17  is_official_shop    746 non-null    int64  \n",
      "dtypes: float64(1), int64(12), object(5)\n",
      "memory usage: 105.0+ KB\n"
     ]
    }
   ],
   "source": [
    "df.info()"
   ]
  },
  {
   "cell_type": "markdown",
   "id": "d78f4b17",
   "metadata": {},
   "source": [
    "KIỂM tra khuyết thiếu và giá trị ngoại lai"
   ]
  },
  {
   "cell_type": "code",
   "execution_count": 5,
   "id": "811a6c00",
   "metadata": {},
   "outputs": [
    {
     "data": {
      "text/plain": [
       "pk_shop                 0\n",
       "date_collected          0\n",
       "shopid                  0\n",
       "name                    0\n",
       "join_month              0\n",
       "join_day                0\n",
       "join_year               0\n",
       "item_count              0\n",
       "follower_count          0\n",
       "response_time           0\n",
       "response_rate           0\n",
       "shop_location         318\n",
       "rating_bad              0\n",
       "rating_good             0\n",
       "rating_normal           0\n",
       "rating_star             6\n",
       "is_shopee_verified      0\n",
       "is_official_shop        0\n",
       "dtype: int64"
      ]
     },
     "execution_count": 5,
     "metadata": {},
     "output_type": "execute_result"
    }
   ],
   "source": [
    "df.isnull().sum()"
   ]
  },
  {
   "cell_type": "code",
   "execution_count": 6,
   "id": "c702336e",
   "metadata": {},
   "outputs": [
    {
     "data": {
      "text/plain": [
       "<AxesSubplot:>"
      ]
     },
     "execution_count": 6,
     "metadata": {},
     "output_type": "execute_result"
    },
    {
     "data": {
      "image/png": "[encoded data removed]",
      "text/plain": [
       "<Figure size 432x288 with 1 Axes>"
      ]
     },
     "metadata": {
      "needs_background": "light"
     },
     "output_type": "display_data"
    }
   ],
   "source": [
    "sns.boxplot(data=df)"
   ]
  },
  {
   "cell_type": "markdown",
   "id": "8bd1ee28",
   "metadata": {},
   "source": [
    "#### 1. Vẽ biểu đồ so sánh số lượng shop gia nhập theo các năm.<br>"
   ]
  },
  {
   "cell_type": "code",
   "execution_count": 7,
   "id": "c0ef1b19",
   "metadata": {
    "scrolled": true
   },
   "outputs": [
    {
     "data": {
      "image/png": "[encoded data removed]",
      "text/plain": [
       "<Figure size 432x288 with 2 Axes>"
      ]
     },
     "metadata": {
      "needs_background": "light"
     },
     "output_type": "display_data"
    }
   ],
   "source": [
    "data1 = df.groupby(df['join_year'])['shopid'].count()\n",
    "plt.bar(x=data1.index, height=data1.values, width=0.4)\n",
    "plt.title('The number of entry shop every year')\n",
    "ax1 = plt.gca()\n",
    "ax1.set_xlabel('Year',color='y')\n",
    "ax1.set_ylabel('Quantity', color='y')\n",
    "for bar in ax1.containers:\n",
    "    ax1.bar_label(bar, color='y')\n",
    "ax2 = ax1.twinx()\n",
    "ax2.plot(data1.index,data1.values)\n",
    "plt.show()"
   ]
  },
  {
   "cell_type": "markdown",
   "id": "b2f81222",
   "metadata": {},
   "source": [
    "#### 2. Vẽ biểu đồ thể hiện mối quan hệ giữa tỉ lệ phản hồi với số lượt khách hàng đánh giá tốt.<br>"
   ]
  },
  {
   "cell_type": "code",
   "execution_count": 11,
   "id": "e05f8225",
   "metadata": {},
   "outputs": [
    {
     "data": {
      "text/plain": [
       "<function matplotlib.pyplot.show(close=None, block=None)>"
      ]
     },
     "execution_count": 11,
     "metadata": {},
     "output_type": "execute_result"
    },
    {
     "data": {
      "image/png": "[encoded data removed]",
      "text/plain": [
       "<Figure size 432x288 with 1 Axes>"
      ]
     },
     "metadata": {
      "needs_background": "light"
     },
     "output_type": "display_data"
    }
   ],
   "source": [
    "plt.scatter(x=df['response_rate'].values, y= df['rating_good'].values)\n",
    "plt.title(' Tỉ lệ phản hồi với số lượt khách hàng đánh giá tốt')\n",
    "plt.xlabel('response_rate',color='b')\n",
    "plt.ylabel('rating_good', color='b')\n",
    "plt.show"
   ]
  },
  {
   "cell_type": "markdown",
   "id": "a977d614",
   "metadata": {},
   "source": [
    "#### 3. Vẽ biểu đồ thể hiện mối quan hệ giữa thời gian phản hồi (đơn vị giây) với số lượt khách hàng đánh giá xấu."
   ]
  },
  {
   "cell_type": "code",
   "execution_count": 17,
   "id": "c3ae0d17",
   "metadata": {},
   "outputs": [
    {
     "data": {
      "text/plain": [
       "<function matplotlib.pyplot.show(close=None, block=None)>"
      ]
     },
     "execution_count": 17,
     "metadata": {},
     "output_type": "execute_result"
    },
    {
     "data": {
      "image/png": "[encoded data removed]",
      "text/plain": [
       "<Figure size 432x288 with 1 Axes>"
      ]
     },
     "metadata": {
      "needs_background": "light"
     },
     "output_type": "display_data"
    }
   ],
   "source": [
    "plt.scatter(x=df['response_time'].values, y= df['rating_bad'].values)\n",
    "plt.show"
   ]
  },
  {
   "cell_type": "markdown",
   "id": "01e089f2",
   "metadata": {},
   "source": [
    "#### 4. Vẽ biểu đồ thể hiện xu hướng của số lượng shop gia nhập theo thời gian."
   ]
  },
  {
   "cell_type": "code",
   "execution_count": null,
   "id": "2085c196",
   "metadata": {},
   "outputs": [],
   "source": []
  },
  {
   "cell_type": "markdown",
   "id": "12f4bd57",
   "metadata": {},
   "source": [
    "#### 5. Vẽ biểu đồ thể hiện phân bố của điểm đánh giá trung bình."
   ]
  },
  {
   "cell_type": "code",
   "execution_count": 18,
   "id": "fae2fc59",
   "metadata": {},
   "outputs": [
    {
     "data": {
      "image/png": "[encoded data removed]",
      "text/plain": [
       "<Figure size 432x288 with 1 Axes>"
      ]
     },
     "metadata": {
      "needs_background": "light"
     },
     "output_type": "display_data"
    }
   ],
   "source": [
    "plt.hist(df['rating_star'], bins=5)\n",
    "plt.show()"
   ]
  },
  {
   "cell_type": "code",
   "execution_count": 19,
   "id": "19dc5cf7",
   "metadata": {},
   "outputs": [
    {
     "data": {
      "text/plain": [
       "array([' 10:13:55', ' 10:43:05', ' 08:32:07', ' 09:10:38', ' 11:40:59',\n",
       "       ' 12:33:58', ' 11:00:46', ' 11:03:13', ' 10:14:49', ' 09:41:23',\n",
       "       ' 08:55:06', ' 12:07:08', ' 11:57:43', ' 10:43:46', ' 11:46:01',\n",
       "       ' 09:36:00', ' 10:28:02', ' 08:05:48', ' 10:13:30', ' 10:03:06',\n",
       "       ' 09:34:41', ' 09:52:55', ' 11:25:23', ' 09:26:55', ' 14:56:24',\n",
       "       ' 11:43:29', ' 13:09:38', ' 11:14:33', ' 09:44:54', ' 08:35:40',\n",
       "       ' 11:43:52', ' 09:37:23', ' 11:03:30', ' 09:13:35', ' 10:13:24',\n",
       "       ' 10:40:12', ' 08:28:44', ' 11:45:05', ' 13:16:46', ' 12:48:36',\n",
       "       ' 10:58:45', ' 11:42:04', ' 08:25:22', ' 08:07:02', ' 11:01:08',\n",
       "       ' 11:49:38', ' 09:56:42', ' 11:32:50', ' 11:00:36', ' 10:10:57',\n",
       "       ' 11:41:13', ' 11:45:46', ' 11:30:22', ' 09:05:28', ' 10:40:10',\n",
       "       ' 12:45:44', ' 09:30:37', ' 12:06:34', ' 09:19:38', ' 10:24:59',\n",
       "       ' 12:30:35', ' 09:42:10', ' 08:54:58', ' 08:38:18', ' 11:21:03',\n",
       "       ' 10:54:52', ' 09:30:18', ' 08:00:13', ' 12:23:35', ' 11:17:17',\n",
       "       ' 11:17:25', ' 08:52:37', ' 09:06:59', ' 11:09:56', ' 09:39:04',\n",
       "       ' 12:41:50', ' 10:15:46', ' 13:14:25', ' 09:55:24', ' 10:44:06',\n",
       "       ' 11:20:03', ' 09:48:05', ' 09:06:02', ' 10:18:28', ' 09:47:04',\n",
       "       ' 09:28:00', ' 08:28:04', ' 09:49:47', ' 12:56:29', ' 09:37:05',\n",
       "       ' 12:30:55', ' 11:54:58', ' 11:32:09', ' 10:42:00', ' 10:46:36',\n",
       "       ' 09:48:54', ' 08:26:28', ' 09:54:54', ' 10:10:24', ' 11:20:07',\n",
       "       ' 11:21:13', ' 08:13:15', ' 09:18:17', ' 08:46:11', ' 10:43:03',\n",
       "       ' 11:14:21', ' 10:51:16', ' 09:13:18', ' 09:43:53', ' 10:40:19',\n",
       "       ' 09:28:13', ' 10:30:23', ' 10:09:57', ' 10:10:54', ' 09:49:57',\n",
       "       ' 11:53:55', ' 12:32:27', ' 08:55:41', ' 08:19:55', ' 09:42:13',\n",
       "       ' 09:41:36', ' 09:43:17', ' 09:25:42', ' 10:33:07', ' 10:16:57',\n",
       "       ' 08:46:30', ' 10:32:53', ' 09:08:34', ' 10:52:21', ' 11:14:00',\n",
       "       ' 08:58:06', ' 10:26:29', ' 10:27:10', ' 09:28:40', ' 10:13:44',\n",
       "       ' 10:03:02', ' 13:44:38', ' 10:55:11', ' 09:05:17', ' 12:05:33',\n",
       "       ' 11:26:35', ' 11:13:46', ' 09:20:42', ' 08:29:42', ' 11:28:29',\n",
       "       ' 13:25:29', ' 11:36:34', ' 09:19:53', ' 11:43:40', ' 09:50:40',\n",
       "       ' 09:48:26', ' 10:19:05', ' 12:16:57', ' 11:08:59', ' 09:42:23',\n",
       "       ' 10:35:10', ' 10:59:29', ' 10:36:47', ' 11:26:36', ' 11:40:56',\n",
       "       ' 09:17:20', ' 10:02:45', ' 10:27:14', ' 10:32:37', ' 10:17:58',\n",
       "       ' 09:24:32', ' 11:52:47', ' 08:03:34', ' 10:37:11', ' 10:40:51',\n",
       "       ' 11:50:52', ' 12:00:06', ' 08:35:13', ' 11:14:41', ' 09:03:07',\n",
       "       ' 11:18:18', ' 11:28:00', ' 11:21:34', ' 09:18:37', ' 10:17:37',\n",
       "       ' 10:47:39', ' 12:13:00', ' 08:54:28', ' 10:13:49', ' 11:08:36',\n",
       "       ' 12:12:37', ' 08:03:08', ' 10:09:16', ' 08:42:19', ' 08:00:01',\n",
       "       ' 10:30:02', ' 09:55:25', ' 12:01:35', ' 10:43:49', ' 10:14:16',\n",
       "       ' 08:05:03', ' 10:41:17', ' 11:45:37', ' 12:02:33', ' 10:17:14',\n",
       "       ' 10:51:12', ' 10:12:48', ' 10:42:26', ' 08:00:01', ' 11:04:43',\n",
       "       ' 09:09:05', ' 11:07:02', ' 12:58:25', ' 10:09:49', ' 08:08:40',\n",
       "       ' 11:56:51', ' 09:24:33', ' 09:35:49', ' 09:40:33', ' 08:34:25',\n",
       "       ' 08:34:11', ' 11:57:04', ' 11:05:38', ' 11:08:30', ' 10:13:50',\n",
       "       ' 11:54:22', ' 10:03:44', ' 09:20:04', ' 12:03:39', ' 12:11:09',\n",
       "       ' 11:56:24', ' 08:25:10', ' 10:02:29', ' 10:45:25', ' 09:52:27',\n",
       "       ' 11:53:53', ' 11:47:03', ' 10:42:14', ' 09:05:33', ' 12:22:33',\n",
       "       ' 11:28:04', ' 11:31:04', ' 09:55:14', ' 10:00:39', ' 12:25:59',\n",
       "       ' 09:56:37', ' 11:29:41', ' 12:05:11', ' 12:19:37', ' 09:32:00',\n",
       "       ' 12:33:31', ' 08:31:09', ' 11:22:37', ' 10:35:14', ' 11:35:22',\n",
       "       ' 10:14:13', ' 09:39:18', ' 08:48:19', ' 09:55:38', ' 11:43:57',\n",
       "       ' 12:52:46', ' 09:32:24', ' 13:15:52', ' 12:24:38', ' 10:03:33',\n",
       "       ' 09:07:15', ' 08:52:29', ' 09:36:40', ' 09:43:02', ' 11:18:49',\n",
       "       ' 09:43:03', ' 10:15:58', ' 11:10:20', ' 10:23:35', ' 10:11:57',\n",
       "       ' 10:25:23', ' 09:01:03', ' 11:05:53', ' 08:36:38', ' 09:07:50',\n",
       "       ' 10:02:14', ' 08:12:03', ' 10:37:31', ' 11:20:27', ' 08:56:26',\n",
       "       ' 10:19:43', ' 09:11:48', ' 09:55:40', ' 09:56:39', ' 09:17:11',\n",
       "       ' 10:40:07', ' 10:51:31', ' 09:29:06', ' 09:53:03', ' 10:38:36',\n",
       "       ' 11:24:28', ' 12:11:17', ' 10:37:57', ' 09:53:51', ' 09:10:18',\n",
       "       ' 08:43:56', ' 10:19:42', ' 10:03:37', ' 11:19:33', ' 11:08:13',\n",
       "       ' 12:59:56', ' 09:13:25', ' 11:43:48', ' 09:41:59', ' 08:15:20',\n",
       "       ' 08:30:34', ' 13:37:37', ' 10:02:24', ' 10:46:45', ' 09:17:43',\n",
       "       ' 10:21:16', ' 12:45:01', ' 11:10:19', ' 08:49:13', ' 13:06:38',\n",
       "       ' 09:33:56', ' 12:08:23', ' 08:25:33', ' 10:00:04', ' 12:01:09',\n",
       "       ' 10:56:38', ' 11:21:12', ' 09:53:09', ' 12:10:29', ' 11:21:25',\n",
       "       ' 11:37:23', ' 09:01:18', ' 09:24:50', ' 12:54:46', ' 10:29:33',\n",
       "       ' 08:33:08', ' 10:34:16', ' 10:58:42', ' 10:52:10', ' 11:45:58',\n",
       "       ' 09:34:35', ' 08:39:17', ' 10:34:00', ' 11:26:24', ' 09:56:38',\n",
       "       ' 09:29:36', ' 12:18:54', ' 10:19:41', ' 09:46:46', ' 09:00:01',\n",
       "       ' 10:03:52', ' 10:21:49', ' 09:55:39', ' 09:11:44', ' 10:19:41',\n",
       "       ' 10:35:27', ' 11:12:36', ' 09:39:55', ' 09:25:06', ' 10:11:36',\n",
       "       ' 12:36:17', ' 09:04:03', ' 11:20:15', ' 09:31:09', ' 09:51:51',\n",
       "       ' 10:06:38', ' 10:13:22', ' 08:33:50', ' 09:37:10', ' 10:15:51',\n",
       "       ' 10:23:37', ' 10:30:18', ' 12:30:06', ' 11:08:00', ' 11:05:56',\n",
       "       ' 09:38:54', ' 11:09:12', ' 13:01:03', ' 09:39:45', ' 10:30:27',\n",
       "       ' 12:53:26', ' 08:08:20', ' 09:46:28', ' 08:59:52', ' 09:12:01',\n",
       "       ' 11:38:09', ' 11:49:04', ' 08:28:20', ' 12:04:41', ' 10:25:46',\n",
       "       ' 11:30:10', ' 12:05:23', ' 08:45:23', ' 11:12:00', ' 10:17:41',\n",
       "       ' 09:22:41', ' 11:34:07', ' 11:45:09', ' 09:48:29', ' 12:54:31',\n",
       "       ' 12:15:06', ' 09:16:33', ' 10:11:05', ' 09:25:14', ' 09:30:50',\n",
       "       ' 10:08:22', ' 10:45:25', ' 11:37:58', ' 12:07:50', ' 12:00:27',\n",
       "       ' 08:40:39', ' 11:44:29', ' 10:06:09', ' 11:20:33', ' 10:49:48',\n",
       "       ' 09:55:14', ' 11:42:35', ' 11:13:04', ' 10:00:24', ' 09:51:31',\n",
       "       ' 09:39:47', ' 12:24:28', ' 11:35:49', ' 09:18:02', ' 10:11:14',\n",
       "       ' 11:40:58', ' 12:00:15', ' 09:01:09', ' 08:54:28', ' 09:32:39',\n",
       "       ' 09:29:02', ' 08:28:58', ' 08:28:16', ' 12:55:26', ' 10:11:57',\n",
       "       ' 08:30:06', ' 13:04:30', ' 11:34:42', ' 11:24:46', ' 11:17:57',\n",
       "       ' 08:51:54', ' 09:20:44', ' 10:50:56', ' 13:12:00', ' 11:06:45',\n",
       "       ' 12:54:35', ' 08:47:32', ' 11:11:09', ' 09:33:05', ' 09:02:00',\n",
       "       ' 09:32:02', ' 10:03:31', ' 08:33:48', ' 09:02:09', ' 08:50:42',\n",
       "       ' 09:41:53', ' 11:38:20', ' 09:54:56', ' 08:22:14', ' 09:28:46',\n",
       "       ' 09:52:49', ' 10:13:49', ' 08:43:49', ' 10:20:30', ' 10:59:15',\n",
       "       ' 13:23:50', ' 08:32:54', ' 10:01:56', ' 10:14:36', ' 10:32:31',\n",
       "       ' 11:22:08', ' 09:43:13', ' 11:48:12', ' 09:51:38', ' 09:27:17',\n",
       "       ' 08:45:24', ' 08:13:20', ' 09:40:07', ' 10:39:00', ' 10:17:48',\n",
       "       ' 10:04:28', ' 09:31:01', ' 11:08:29', ' 12:37:07', ' 08:15:07',\n",
       "       ' 09:46:05', ' 11:12:31', ' 10:10:32', ' 08:37:34', ' 08:37:56',\n",
       "       ' 10:24:27', ' 11:43:38', ' 10:37:21', ' 11:21:07', ' 09:30:23',\n",
       "       ' 09:20:27', ' 10:50:30', ' 11:56:46', ' 10:34:35', ' 13:04:59',\n",
       "       ' 09:52:57', ' 10:12:12', ' 09:24:43', ' 10:49:57', ' 09:42:36',\n",
       "       ' 09:44:14', ' 11:19:09', ' 11:02:09', ' 12:22:38', ' 09:57:56',\n",
       "       ' 09:08:57', ' 11:59:49', ' 10:07:36', ' 09:50:05', ' 11:12:21',\n",
       "       ' 12:10:46', ' 08:11:57', ' 10:47:28', ' 10:04:59', ' 09:02:22',\n",
       "       ' 10:04:56', ' 09:14:17', ' 09:26:40', ' 11:24:09', ' 11:01:51',\n",
       "       ' 13:02:10', ' 10:13:05', ' 09:48:59', ' 11:19:55', ' 10:12:52',\n",
       "       ' 12:59:26', ' 10:00:53', ' 10:26:56', ' 10:07:06', ' 08:48:54',\n",
       "       ' 08:37:39', ' 08:31:53', ' 09:15:47', ' 08:02:03', ' 11:42:18',\n",
       "       ' 12:56:46', ' 11:59:08', ' 08:39:46', ' 08:56:53', ' 09:25:07',\n",
       "       ' 11:32:13', ' 08:26:48', ' 10:20:00', ' 08:47:31', ' 08:47:03',\n",
       "       ' 11:49:58', ' 10:00:57', ' 11:16:19', ' 09:41:11', ' 08:53:57',\n",
       "       ' 10:16:18', ' 09:31:38', ' 10:17:43', ' 10:40:13', ' 10:26:03',\n",
       "       ' 11:55:58', ' 10:44:35', ' 11:22:33', ' 09:25:24', ' 09:27:10',\n",
       "       ' 11:37:10', ' 10:08:14', ' 09:48:38', ' 11:40:48', ' 11:09:45',\n",
       "       ' 10:54:39', ' 08:40:43', ' 11:44:18', ' 13:11:38', ' 09:52:01',\n",
       "       ' 10:19:30', ' 10:42:56', ' 10:23:31', ' 12:31:36', ' 11:58:19',\n",
       "       ' 10:36:34', ' 08:52:48', ' 11:26:54', ' 11:58:29', ' 08:39:13',\n",
       "       ' 08:33:53', ' 08:27:19', ' 11:22:00', ' 08:43:25', ' 11:49:11',\n",
       "       ' 10:10:32', ' 10:24:42', ' 08:07:41', ' 10:19:22', ' 08:05:12',\n",
       "       ' 09:40:10', ' 08:27:28', ' 10:17:49', ' 11:34:29', ' 10:55:45',\n",
       "       ' 10:13:25', ' 12:14:52', ' 11:33:48', ' 10:13:04', ' 09:02:09',\n",
       "       ' 09:54:26', ' 08:59:39', ' 10:00:17', ' 10:27:18', ' 10:01:56',\n",
       "       ' 08:00:11', ' 08:01:26', ' 10:55:07', ' 10:40:10', ' 08:34:14',\n",
       "       ' 08:43:42', ' 09:09:57', ' 13:09:40', ' 09:51:46', ' 11:32:48',\n",
       "       ' 10:33:04', ' 12:29:44', ' 10:55:27', ' 10:09:26', ' 12:26:31',\n",
       "       ' 09:28:56', ' 12:49:01', ' 09:27:33', ' 10:04:28', ' 11:15:29',\n",
       "       ' 10:31:52', ' 10:12:28', ' 11:16:14', ' 08:21:56', ' 08:43:30',\n",
       "       ' 09:16:37', ' 10:28:07', ' 09:43:44', ' 12:42:31', ' 11:42:32',\n",
       "       ' 08:43:25', ' 14:01:39', ' 08:39:57', ' 09:18:14', ' 11:11:56',\n",
       "       ' 17:16:55', ' 10:51:47', ' 10:51:36', ' 09:54:35', ' 10:06:34',\n",
       "       ' 08:59:06', ' 09:02:02', ' 09:24:55', ' 12:27:29', ' 10:08:57',\n",
       "       ' 11:07:43', ' 09:01:11', ' 09:15:29', ' 09:51:00', ' 08:39:22',\n",
       "       ' 11:41:08', ' 09:25:47', ' 10:10:32', ' 10:05:06', ' 09:18:54',\n",
       "       ' 08:48:08', ' 10:05:14', ' 12:22:41', ' 10:03:31', ' 10:58:48',\n",
       "       ' 09:56:11', ' 09:52:02', ' 11:17:14', ' 10:14:30', ' 09:51:07',\n",
       "       ' 09:23:57', ' 13:19:32', ' 10:58:31', ' 10:34:46', ' 12:44:06',\n",
       "       ' 09:23:04', ' 12:47:18', ' 10:13:53', ' 10:03:52', ' 10:02:32',\n",
       "       ' 10:55:57', ' 10:30:11', ' 08:44:36', ' 10:04:27', ' 09:01:19',\n",
       "       ' 12:56:07', ' 10:35:29', ' 09:52:49', ' 10:24:36', ' 09:34:50',\n",
       "       ' 10:41:24', ' 08:05:20', ' 08:00:12', ' 12:43:37', ' 11:05:57',\n",
       "       ' 10:01:57', ' 09:34:04', ' 11:16:09', ' 11:15:25', ' 11:14:20',\n",
       "       ' 11:35:43', ' 10:40:39', ' 08:25:45', ' 13:10:14', ' 09:49:41',\n",
       "       ' 13:02:52', ' 09:28:50', ' 09:21:12', ' 12:15:55', ' 09:36:02',\n",
       "       ' 09:36:42', ' 10:10:33', ' 09:02:09', ' 13:27:40', ' 09:17:29',\n",
       "       ' 12:04:06', ' 09:21:56', ' 08:21:26', ' 09:45:30', ' 11:57:49',\n",
       "       ' 11:17:06', ' 11:40:11', ' 11:06:30', ' 08:27:54', ' 09:04:02',\n",
       "       ' 12:23:40', ' 10:12:24', ' 12:31:26', ' 12:01:30', ' 11:15:52',\n",
       "       ' 10:18:05', ' 09:28:38', ' 10:36:44', ' 10:01:49', ' 11:16:00',\n",
       "       ' 08:20:51', ' 09:40:53', ' 09:44:25', ' 09:33:28', ' 10:41:36',\n",
       "       ' 12:55:27', ' 08:45:30', ' 08:01:23', ' 08:46:30', ' 12:19:44',\n",
       "       ' 10:02:42'], dtype=object)"
      ]
     },
     "execution_count": 19,
     "metadata": {},
     "output_type": "execute_result"
    }
   ],
   "source": [
    "df['response_time'].values"
   ]
  },
  {
   "cell_type": "code",
   "execution_count": 21,
   "id": "1f3047d1",
   "metadata": {},
   "outputs": [
    {
     "ename": "AttributeError",
     "evalue": "'DatetimeProperties' object has no attribute 'total_seconds'",
     "output_type": "error",
     "traceback": [
      "\u001b[1;31m---------------------------------------------------------------------------\u001b[0m",
      "\u001b[1;31mAttributeError\u001b[0m                            Traceback (most recent call last)",
      "Input \u001b[1;32mIn [21]\u001b[0m, in \u001b[0;36m<cell line: 1>\u001b[1;34m()\u001b[0m\n\u001b[1;32m----> 1\u001b[0m df[\u001b[38;5;124m'\u001b[39m\u001b[38;5;124mresponse_time\u001b[39m\u001b[38;5;124m'\u001b[39m] \u001b[38;5;241m=\u001b[39m \u001b[43mpd\u001b[49m\u001b[38;5;241;43m.\u001b[39;49m\u001b[43mto_datetime\u001b[49m\u001b[43m(\u001b[49m\u001b[43mdf\u001b[49m\u001b[43m[\u001b[49m\u001b[38;5;124;43m'\u001b[39;49m\u001b[38;5;124;43mresponse_time\u001b[39;49m\u001b[38;5;124;43m'\u001b[39;49m\u001b[43m]\u001b[49m\u001b[43m,\u001b[49m\u001b[43m \u001b[49m\u001b[38;5;28;43mformat\u001b[39;49m\u001b[38;5;241;43m=\u001b[39;49m\u001b[38;5;124;43m'\u001b[39;49m\u001b[38;5;124;43m \u001b[39;49m\u001b[38;5;124;43m%\u001b[39;49m\u001b[38;5;124;43mH:\u001b[39;49m\u001b[38;5;124;43m%\u001b[39;49m\u001b[38;5;124;43mM:\u001b[39;49m\u001b[38;5;124;43m%\u001b[39;49m\u001b[38;5;124;43mS\u001b[39;49m\u001b[38;5;124;43m'\u001b[39;49m\u001b[43m)\u001b[49m\u001b[38;5;241;43m.\u001b[39;49m\u001b[43mdt\u001b[49m\u001b[38;5;241;43m.\u001b[39;49m\u001b[43mtotal_seconds\u001b[49m()\n",
      "\u001b[1;31mAttributeError\u001b[0m: 'DatetimeProperties' object has no attribute 'total_seconds'"
     ]
    }
   ],
   "source": [
    "df['response_time'] = pd.to_datetime(df['response_time'], format=' %H:%M:%S').dt.total_seconds()"
   ]
  },
  {
   "cell_type": "code",
   "execution_count": null,
   "id": "9d71eac4",
   "metadata": {},
   "outputs": [],
   "source": [
    "# df['response_time'].astype('datetime64')"
   ]
  },
  {
   "cell_type": "code",
   "execution_count": null,
   "id": "f3f4629f",
   "metadata": {},
   "outputs": [],
   "source": []
  },
  {
   "cell_type": "code",
   "execution_count": null,
   "id": "384bdc6e",
   "metadata": {},
   "outputs": [],
   "source": [
    "# df['response_time'] = pd.to_datetime(df['response_time'], format='%H:%M:%S').dt.time\n",
    "# df['response_time']"
   ]
  },
  {
   "cell_type": "code",
   "execution_count": null,
   "id": "32f13596",
   "metadata": {},
   "outputs": [],
   "source": []
  },
  {
   "cell_type": "code",
   "execution_count": null,
   "id": "ee493799",
   "metadata": {},
   "outputs": [],
   "source": []
  }
 ],
 "metadata": {
  "kernelspec": {
   "display_name": "Python 3 (ipykernel)",
   "language": "python",
   "name": "python3"
  },
  "language_info": {
   "codemirror_mode": {
    "name": "ipython",
    "version": 3
   },
   "file_extension": ".py",
   "mimetype": "text/x-python",
   "name": "python",
   "nbconvert_exporter": "python",
   "pygments_lexer": "ipython3",
   "version": "3.9.12"
  }
 },
 "nbformat": 4,
 "nbformat_minor": 5
}
