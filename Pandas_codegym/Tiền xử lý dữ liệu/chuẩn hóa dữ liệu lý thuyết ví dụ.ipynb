{
 "cells": [
  {
   "cell_type": "code",
   "execution_count": 1,
   "id": "e3ad29ea",
   "metadata": {},
   "outputs": [],
   "source": [
    "import pandas as pd \n",
    "import numpy as np\n",
    "import matplotlib.pyplot as plt\n",
    "import seaborn as sns\n",
    "from sklearn.preprocessing import StandardScaler\n"
   ]
  },
  {
   "cell_type": "code",
   "execution_count": 2,
   "id": "b3921c86",
   "metadata": {},
   "outputs": [
    {
     "data": {
      "text/html": [
       "<div>\n",
       "<style scoped>\n",
       "    .dataframe tbody tr th:only-of-type {\n",
       "        vertical-align: middle;\n",
       "    }\n",
       "\n",
       "    .dataframe tbody tr th {\n",
       "        vertical-align: top;\n",
       "    }\n",
       "\n",
       "    .dataframe thead th {\n",
       "        text-align: right;\n",
       "    }\n",
       "</style>\n",
       "<table border=\"1\" class=\"dataframe\">\n",
       "  <thead>\n",
       "    <tr style=\"text-align: right;\">\n",
       "      <th></th>\n",
       "      <th>beta</th>\n",
       "      <th>exponential</th>\n",
       "      <th>normal_p</th>\n",
       "      <th>normal_l</th>\n",
       "      <th>bimodal</th>\n",
       "    </tr>\n",
       "  </thead>\n",
       "  <tbody>\n",
       "    <tr>\n",
       "      <th>0</th>\n",
       "      <td>57.901064</td>\n",
       "      <td>23.414535</td>\n",
       "      <td>7.662850</td>\n",
       "      <td>18.317888</td>\n",
       "      <td>20.436051</td>\n",
       "    </tr>\n",
       "    <tr>\n",
       "      <th>1</th>\n",
       "      <td>55.341577</td>\n",
       "      <td>2.971013</td>\n",
       "      <td>7.310655</td>\n",
       "      <td>29.475570</td>\n",
       "      <td>19.644843</td>\n",
       "    </tr>\n",
       "    <tr>\n",
       "      <th>2</th>\n",
       "      <td>56.600023</td>\n",
       "      <td>7.318999</td>\n",
       "      <td>13.324409</td>\n",
       "      <td>18.378797</td>\n",
       "      <td>23.537768</td>\n",
       "    </tr>\n",
       "    <tr>\n",
       "      <th>3</th>\n",
       "      <td>48.105031</td>\n",
       "      <td>10.594554</td>\n",
       "      <td>9.545876</td>\n",
       "      <td>-5.005605</td>\n",
       "      <td>16.739702</td>\n",
       "    </tr>\n",
       "    <tr>\n",
       "      <th>4</th>\n",
       "      <td>51.931292</td>\n",
       "      <td>0.647610</td>\n",
       "      <td>6.284058</td>\n",
       "      <td>14.796602</td>\n",
       "      <td>15.438889</td>\n",
       "    </tr>\n",
       "  </tbody>\n",
       "</table>\n",
       "</div>"
      ],
      "text/plain": [
       "        beta  exponential   normal_p   normal_l    bimodal\n",
       "0  57.901064    23.414535   7.662850  18.317888  20.436051\n",
       "1  55.341577     2.971013   7.310655  29.475570  19.644843\n",
       "2  56.600023     7.318999  13.324409  18.378797  23.537768\n",
       "3  48.105031    10.594554   9.545876  -5.005605  16.739702\n",
       "4  51.931292     0.647610   6.284058  14.796602  15.438889"
      ]
     },
     "execution_count": 2,
     "metadata": {},
     "output_type": "execute_result"
    }
   ],
   "source": [
    "df = pd.DataFrame({ \n",
    "    'beta': np.random.beta(5, 1, 1000) * 60,        # beta\n",
    "    'exponential': np.random.exponential(10, 1000), # exponential\n",
    "    'normal_p': np.random.normal(10, 2, 1000),      # normal platykurtic\n",
    "    'normal_l': np.random.normal(10, 10, 1000),     # normal leptokurtic\n",
    "})\n",
    "first_half = np.random.normal(20, 3, 500) \n",
    "second_half = np.random.normal(-20, 3, 500) \n",
    "bimodal = np.concatenate([first_half, second_half])\n",
    "\n",
    "df['bimodal'] = bimodal\n",
    "df.head()"
   ]
  },
  {
   "cell_type": "code",
   "execution_count": 3,
   "id": "f7330aad",
   "metadata": {},
   "outputs": [
    {
     "data": {
      "text/plain": [
       "<AxesSubplot:ylabel='Density'>"
      ]
     },
     "execution_count": 3,
     "metadata": {},
     "output_type": "execute_result"
    },
    {
     "data": {
      "image/png": "[encoded data removed]",
      "text/plain": [
       "<Figure size 432x288 with 1 Axes>"
      ]
     },
     "metadata": {
      "needs_background": "light"
     },
     "output_type": "display_data"
    }
   ],
   "source": [
    "sns.kdeplot(data=df)"
   ]
  },
  {
   "cell_type": "code",
   "execution_count": 4,
   "id": "650c9be0",
   "metadata": {},
   "outputs": [
    {
     "data": {
      "text/html": [
       "<div>\n",
       "<style scoped>\n",
       "    .dataframe tbody tr th:only-of-type {\n",
       "        vertical-align: middle;\n",
       "    }\n",
       "\n",
       "    .dataframe tbody tr th {\n",
       "        vertical-align: top;\n",
       "    }\n",
       "\n",
       "    .dataframe thead th {\n",
       "        text-align: right;\n",
       "    }\n",
       "</style>\n",
       "<table border=\"1\" class=\"dataframe\">\n",
       "  <thead>\n",
       "    <tr style=\"text-align: right;\">\n",
       "      <th></th>\n",
       "      <th>beta</th>\n",
       "      <th>exponential</th>\n",
       "      <th>normal_p</th>\n",
       "      <th>normal_l</th>\n",
       "      <th>bimodal</th>\n",
       "    </tr>\n",
       "  </thead>\n",
       "  <tbody>\n",
       "    <tr>\n",
       "      <th>count</th>\n",
       "      <td>1000.000000</td>\n",
       "      <td>1000.000000</td>\n",
       "      <td>1000.000000</td>\n",
       "      <td>1000.000000</td>\n",
       "      <td>1000.000000</td>\n",
       "    </tr>\n",
       "    <tr>\n",
       "      <th>mean</th>\n",
       "      <td>50.044432</td>\n",
       "      <td>10.216293</td>\n",
       "      <td>10.060866</td>\n",
       "      <td>10.291598</td>\n",
       "      <td>-0.048407</td>\n",
       "    </tr>\n",
       "    <tr>\n",
       "      <th>std</th>\n",
       "      <td>8.628725</td>\n",
       "      <td>10.538946</td>\n",
       "      <td>2.083770</td>\n",
       "      <td>9.845005</td>\n",
       "      <td>20.281789</td>\n",
       "    </tr>\n",
       "    <tr>\n",
       "      <th>min</th>\n",
       "      <td>16.433826</td>\n",
       "      <td>0.002906</td>\n",
       "      <td>2.363044</td>\n",
       "      <td>-26.482704</td>\n",
       "      <td>-29.011356</td>\n",
       "    </tr>\n",
       "    <tr>\n",
       "      <th>25%</th>\n",
       "      <td>46.126382</td>\n",
       "      <td>2.997837</td>\n",
       "      <td>8.719807</td>\n",
       "      <td>3.624910</td>\n",
       "      <td>-20.302978</td>\n",
       "    </tr>\n",
       "    <tr>\n",
       "      <th>50%</th>\n",
       "      <td>52.388029</td>\n",
       "      <td>6.959940</td>\n",
       "      <td>10.011734</td>\n",
       "      <td>10.047060</td>\n",
       "      <td>0.522577</td>\n",
       "    </tr>\n",
       "    <tr>\n",
       "      <th>75%</th>\n",
       "      <td>56.565742</td>\n",
       "      <td>13.522314</td>\n",
       "      <td>11.368985</td>\n",
       "      <td>16.879298</td>\n",
       "      <td>19.934442</td>\n",
       "    </tr>\n",
       "    <tr>\n",
       "      <th>max</th>\n",
       "      <td>59.995934</td>\n",
       "      <td>72.600145</td>\n",
       "      <td>16.450279</td>\n",
       "      <td>47.531271</td>\n",
       "      <td>27.399637</td>\n",
       "    </tr>\n",
       "  </tbody>\n",
       "</table>\n",
       "</div>"
      ],
      "text/plain": [
       "              beta  exponential     normal_p     normal_l      bimodal\n",
       "count  1000.000000  1000.000000  1000.000000  1000.000000  1000.000000\n",
       "mean     50.044432    10.216293    10.060866    10.291598    -0.048407\n",
       "std       8.628725    10.538946     2.083770     9.845005    20.281789\n",
       "min      16.433826     0.002906     2.363044   -26.482704   -29.011356\n",
       "25%      46.126382     2.997837     8.719807     3.624910   -20.302978\n",
       "50%      52.388029     6.959940    10.011734    10.047060     0.522577\n",
       "75%      56.565742    13.522314    11.368985    16.879298    19.934442\n",
       "max      59.995934    72.600145    16.450279    47.531271    27.399637"
      ]
     },
     "execution_count": 4,
     "metadata": {},
     "output_type": "execute_result"
    }
   ],
   "source": [
    "df.describe()"
   ]
  },
  {
   "cell_type": "code",
   "execution_count": 11,
   "id": "81ae1776",
   "metadata": {},
   "outputs": [
    {
     "data": {
      "text/plain": [
       "<AxesSubplot:ylabel='Density'>"
      ]
     },
     "execution_count": 11,
     "metadata": {},
     "output_type": "execute_result"
    },
    {
     "data": {
      "image/png": "[encoded data removed]",
      "text/plain": [
       "<Figure size 432x288 with 1 Axes>"
      ]
     },
     "metadata": {
      "needs_background": "light"
     },
     "output_type": "display_data"
    }
   ],
   "source": [
    "normal_big = np.random.normal(1000000, 10000, (1000,1))  # normal distribution of large values\n",
    "df['normal_big'] = normal_big\n",
    "sns.kdeplot(data=df)"
   ]
  },
  {
   "cell_type": "code",
   "execution_count": 9,
   "id": "87301a39",
   "metadata": {},
   "outputs": [
    {
     "data": {
      "text/html": [
       "<div>\n",
       "<style scoped>\n",
       "    .dataframe tbody tr th:only-of-type {\n",
       "        vertical-align: middle;\n",
       "    }\n",
       "\n",
       "    .dataframe tbody tr th {\n",
       "        vertical-align: top;\n",
       "    }\n",
       "\n",
       "    .dataframe thead th {\n",
       "        text-align: right;\n",
       "    }\n",
       "</style>\n",
       "<table border=\"1\" class=\"dataframe\">\n",
       "  <thead>\n",
       "    <tr style=\"text-align: right;\">\n",
       "      <th></th>\n",
       "      <th>beta</th>\n",
       "      <th>exponential</th>\n",
       "      <th>normal_p</th>\n",
       "      <th>normal_l</th>\n",
       "      <th>bimodal</th>\n",
       "      <th>normal_big</th>\n",
       "    </tr>\n",
       "  </thead>\n",
       "  <tbody>\n",
       "    <tr>\n",
       "      <th>count</th>\n",
       "      <td>1000.000000</td>\n",
       "      <td>1000.000000</td>\n",
       "      <td>1000.000000</td>\n",
       "      <td>1000.000000</td>\n",
       "      <td>1000.000000</td>\n",
       "      <td>1.000000e+03</td>\n",
       "    </tr>\n",
       "    <tr>\n",
       "      <th>mean</th>\n",
       "      <td>50.044432</td>\n",
       "      <td>10.216293</td>\n",
       "      <td>10.060866</td>\n",
       "      <td>10.291598</td>\n",
       "      <td>-0.048407</td>\n",
       "      <td>1.000821e+06</td>\n",
       "    </tr>\n",
       "    <tr>\n",
       "      <th>std</th>\n",
       "      <td>8.628725</td>\n",
       "      <td>10.538946</td>\n",
       "      <td>2.083770</td>\n",
       "      <td>9.845005</td>\n",
       "      <td>20.281789</td>\n",
       "      <td>1.002120e+04</td>\n",
       "    </tr>\n",
       "    <tr>\n",
       "      <th>min</th>\n",
       "      <td>16.433826</td>\n",
       "      <td>0.002906</td>\n",
       "      <td>2.363044</td>\n",
       "      <td>-26.482704</td>\n",
       "      <td>-29.011356</td>\n",
       "      <td>9.710368e+05</td>\n",
       "    </tr>\n",
       "    <tr>\n",
       "      <th>25%</th>\n",
       "      <td>46.126382</td>\n",
       "      <td>2.997837</td>\n",
       "      <td>8.719807</td>\n",
       "      <td>3.624910</td>\n",
       "      <td>-20.302978</td>\n",
       "      <td>9.941856e+05</td>\n",
       "    </tr>\n",
       "    <tr>\n",
       "      <th>50%</th>\n",
       "      <td>52.388029</td>\n",
       "      <td>6.959940</td>\n",
       "      <td>10.011734</td>\n",
       "      <td>10.047060</td>\n",
       "      <td>0.522577</td>\n",
       "      <td>1.000546e+06</td>\n",
       "    </tr>\n",
       "    <tr>\n",
       "      <th>75%</th>\n",
       "      <td>56.565742</td>\n",
       "      <td>13.522314</td>\n",
       "      <td>11.368985</td>\n",
       "      <td>16.879298</td>\n",
       "      <td>19.934442</td>\n",
       "      <td>1.007887e+06</td>\n",
       "    </tr>\n",
       "    <tr>\n",
       "      <th>max</th>\n",
       "      <td>59.995934</td>\n",
       "      <td>72.600145</td>\n",
       "      <td>16.450279</td>\n",
       "      <td>47.531271</td>\n",
       "      <td>27.399637</td>\n",
       "      <td>1.033513e+06</td>\n",
       "    </tr>\n",
       "  </tbody>\n",
       "</table>\n",
       "</div>"
      ],
      "text/plain": [
       "              beta  exponential     normal_p     normal_l      bimodal  \\\n",
       "count  1000.000000  1000.000000  1000.000000  1000.000000  1000.000000   \n",
       "mean     50.044432    10.216293    10.060866    10.291598    -0.048407   \n",
       "std       8.628725    10.538946     2.083770     9.845005    20.281789   \n",
       "min      16.433826     0.002906     2.363044   -26.482704   -29.011356   \n",
       "25%      46.126382     2.997837     8.719807     3.624910   -20.302978   \n",
       "50%      52.388029     6.959940    10.011734    10.047060     0.522577   \n",
       "75%      56.565742    13.522314    11.368985    16.879298    19.934442   \n",
       "max      59.995934    72.600145    16.450279    47.531271    27.399637   \n",
       "\n",
       "         normal_big  \n",
       "count  1.000000e+03  \n",
       "mean   1.000821e+06  \n",
       "std    1.002120e+04  \n",
       "min    9.710368e+05  \n",
       "25%    9.941856e+05  \n",
       "50%    1.000546e+06  \n",
       "75%    1.007887e+06  \n",
       "max    1.033513e+06  "
      ]
     },
     "execution_count": 9,
     "metadata": {},
     "output_type": "execute_result"
    }
   ],
   "source": [
    "df.describe()"
   ]
  },
  {
   "cell_type": "code",
   "execution_count": 6,
   "id": "aab1062f",
   "metadata": {},
   "outputs": [
    {
     "data": {
      "text/plain": [
       "<AxesSubplot:>"
      ]
     },
     "execution_count": 6,
     "metadata": {},
     "output_type": "execute_result"
    },
    {
     "data": {
      "image/png": "[encoded data removed]",
      "text/plain": [
       "<Figure size 432x288 with 1 Axes>"
      ]
     },
     "metadata": {
      "needs_background": "light"
     },
     "output_type": "display_data"
    }
   ],
   "source": [
    "# trực quan hóa bằng biểu đồ box plot\n",
    "df.boxplot()"
   ]
  },
  {
   "cell_type": "code",
   "execution_count": 7,
   "id": "dcc94ed8",
   "metadata": {},
   "outputs": [],
   "source": [
    "# Khai báo đối tượng StandardScaler\n",
    "s_scaler = StandardScaler()\n",
    "# Chuẩn hóa dữ liệu trong df với StandardScaler\n",
    "df_s = s_scaler.fit_transform(df)\n",
    "\n",
    "# lấy danh sáchc cột\n",
    "col_names = list(df.columns)\n",
    "\n",
    "# chuyển về DataFrame, gán các cột của df cho dữ liệu đã được chuẩn hóa\n",
    "df_s = pd.DataFrame(df_s, columns=col_names)"
   ]
  },
  {
   "cell_type": "code",
   "execution_count": 8,
   "id": "4420dce9",
   "metadata": {},
   "outputs": [
    {
     "data": {
      "text/html": [
       "<div>\n",
       "<style scoped>\n",
       "    .dataframe tbody tr th:only-of-type {\n",
       "        vertical-align: middle;\n",
       "    }\n",
       "\n",
       "    .dataframe tbody tr th {\n",
       "        vertical-align: top;\n",
       "    }\n",
       "\n",
       "    .dataframe thead th {\n",
       "        text-align: right;\n",
       "    }\n",
       "</style>\n",
       "<table border=\"1\" class=\"dataframe\">\n",
       "  <thead>\n",
       "    <tr style=\"text-align: right;\">\n",
       "      <th></th>\n",
       "      <th>beta</th>\n",
       "      <th>exponential</th>\n",
       "      <th>normal_p</th>\n",
       "      <th>normal_l</th>\n",
       "      <th>bimodal</th>\n",
       "      <th>normal_big</th>\n",
       "    </tr>\n",
       "  </thead>\n",
       "  <tbody>\n",
       "    <tr>\n",
       "      <th>0</th>\n",
       "      <td>-1.234024</td>\n",
       "      <td>-0.336003</td>\n",
       "      <td>0.012537</td>\n",
       "      <td>0.274593</td>\n",
       "      <td>0.825741</td>\n",
       "      <td>0.110465</td>\n",
       "    </tr>\n",
       "    <tr>\n",
       "      <th>1</th>\n",
       "      <td>0.493946</td>\n",
       "      <td>-0.880348</td>\n",
       "      <td>-1.498144</td>\n",
       "      <td>0.220749</td>\n",
       "      <td>1.100203</td>\n",
       "      <td>-0.800081</td>\n",
       "    </tr>\n",
       "    <tr>\n",
       "      <th>2</th>\n",
       "      <td>0.619910</td>\n",
       "      <td>-0.926098</td>\n",
       "      <td>-0.803126</td>\n",
       "      <td>0.475934</td>\n",
       "      <td>1.158542</td>\n",
       "      <td>1.297560</td>\n",
       "    </tr>\n",
       "    <tr>\n",
       "      <th>3</th>\n",
       "      <td>0.687534</td>\n",
       "      <td>0.483036</td>\n",
       "      <td>-0.666442</td>\n",
       "      <td>1.765624</td>\n",
       "      <td>1.064769</td>\n",
       "      <td>-0.681522</td>\n",
       "    </tr>\n",
       "    <tr>\n",
       "      <th>4</th>\n",
       "      <td>1.143794</td>\n",
       "      <td>1.746038</td>\n",
       "      <td>-0.961397</td>\n",
       "      <td>0.908080</td>\n",
       "      <td>0.875760</td>\n",
       "      <td>-0.746581</td>\n",
       "    </tr>\n",
       "  </tbody>\n",
       "</table>\n",
       "</div>"
      ],
      "text/plain": [
       "       beta  exponential  normal_p  normal_l   bimodal  normal_big\n",
       "0 -1.234024    -0.336003  0.012537  0.274593  0.825741    0.110465\n",
       "1  0.493946    -0.880348 -1.498144  0.220749  1.100203   -0.800081\n",
       "2  0.619910    -0.926098 -0.803126  0.475934  1.158542    1.297560\n",
       "3  0.687534     0.483036 -0.666442  1.765624  1.064769   -0.681522\n",
       "4  1.143794     1.746038 -0.961397  0.908080  0.875760   -0.746581"
      ]
     },
     "execution_count": 8,
     "metadata": {},
     "output_type": "execute_result"
    }
   ],
   "source": [
    "df_s.head()\n"
   ]
  },
  {
   "cell_type": "code",
   "execution_count": 9,
   "id": "d7d939da",
   "metadata": {},
   "outputs": [
    {
     "data": {
      "text/plain": [
       "<AxesSubplot:ylabel='Density'>"
      ]
     },
     "execution_count": 9,
     "metadata": {},
     "output_type": "execute_result"
    },
    {
     "data": {
      "image/png": "[encoded data removed]",
      "text/plain": [
       "<Figure size 432x288 with 1 Axes>"
      ]
     },
     "metadata": {
      "needs_background": "light"
     },
     "output_type": "display_data"
    }
   ],
   "source": [
    "# biểu diễn dữ liệu đã được chuẩn hóa\n",
    "sns.kdeplot(data=df_s)"
   ]
  },
  {
   "cell_type": "code",
   "execution_count": 10,
   "id": "f7ae592f",
   "metadata": {},
   "outputs": [
    {
     "data": {
      "text/html": [
       "<div>\n",
       "<style scoped>\n",
       "    .dataframe tbody tr th:only-of-type {\n",
       "        vertical-align: middle;\n",
       "    }\n",
       "\n",
       "    .dataframe tbody tr th {\n",
       "        vertical-align: top;\n",
       "    }\n",
       "\n",
       "    .dataframe thead th {\n",
       "        text-align: right;\n",
       "    }\n",
       "</style>\n",
       "<table border=\"1\" class=\"dataframe\">\n",
       "  <thead>\n",
       "    <tr style=\"text-align: right;\">\n",
       "      <th></th>\n",
       "      <th>beta</th>\n",
       "      <th>exponential</th>\n",
       "      <th>normal_p</th>\n",
       "      <th>normal_l</th>\n",
       "      <th>bimodal</th>\n",
       "      <th>normal_big</th>\n",
       "    </tr>\n",
       "  </thead>\n",
       "  <tbody>\n",
       "    <tr>\n",
       "      <th>count</th>\n",
       "      <td>1.000000e+03</td>\n",
       "      <td>1.000000e+03</td>\n",
       "      <td>1.000000e+03</td>\n",
       "      <td>1.000000e+03</td>\n",
       "      <td>1.000000e+03</td>\n",
       "      <td>1.000000e+03</td>\n",
       "    </tr>\n",
       "    <tr>\n",
       "      <th>mean</th>\n",
       "      <td>1.909584e-16</td>\n",
       "      <td>-8.015810e-17</td>\n",
       "      <td>4.875544e-16</td>\n",
       "      <td>-1.757622e-17</td>\n",
       "      <td>-4.362066e-16</td>\n",
       "      <td>-3.710698e-15</td>\n",
       "    </tr>\n",
       "    <tr>\n",
       "      <th>std</th>\n",
       "      <td>1.000500e+00</td>\n",
       "      <td>1.000500e+00</td>\n",
       "      <td>1.000500e+00</td>\n",
       "      <td>1.000500e+00</td>\n",
       "      <td>1.000500e+00</td>\n",
       "      <td>1.000500e+00</td>\n",
       "    </tr>\n",
       "    <tr>\n",
       "      <th>min</th>\n",
       "      <td>-4.224700e+00</td>\n",
       "      <td>-1.012783e+00</td>\n",
       "      <td>-3.185400e+00</td>\n",
       "      <td>-4.633774e+00</td>\n",
       "      <td>-1.459757e+00</td>\n",
       "      <td>-3.544222e+00</td>\n",
       "    </tr>\n",
       "    <tr>\n",
       "      <th>25%</th>\n",
       "      <td>-4.701959e-01</td>\n",
       "      <td>-7.331020e-01</td>\n",
       "      <td>-6.744989e-01</td>\n",
       "      <td>-7.211026e-01</td>\n",
       "      <td>-9.793360e-01</td>\n",
       "      <td>-7.040899e-01</td>\n",
       "    </tr>\n",
       "    <tr>\n",
       "      <th>50%</th>\n",
       "      <td>2.714692e-01</td>\n",
       "      <td>-3.247363e-01</td>\n",
       "      <td>-1.983805e-02</td>\n",
       "      <td>-2.655914e-02</td>\n",
       "      <td>-3.374662e-02</td>\n",
       "      <td>3.638998e-02</td>\n",
       "    </tr>\n",
       "    <tr>\n",
       "      <th>75%</th>\n",
       "      <td>7.584779e-01</td>\n",
       "      <td>4.394463e-01</td>\n",
       "      <td>6.940754e-01</td>\n",
       "      <td>6.566217e-01</td>\n",
       "      <td>9.886963e-01</td>\n",
       "      <td>6.569256e-01</td>\n",
       "    </tr>\n",
       "    <tr>\n",
       "      <th>max</th>\n",
       "      <td>1.187096e+00</td>\n",
       "      <td>6.724474e+00</td>\n",
       "      <td>3.689684e+00</td>\n",
       "      <td>3.331877e+00</td>\n",
       "      <td>1.479289e+00</td>\n",
       "      <td>3.426135e+00</td>\n",
       "    </tr>\n",
       "  </tbody>\n",
       "</table>\n",
       "</div>"
      ],
      "text/plain": [
       "               beta   exponential      normal_p      normal_l       bimodal  \\\n",
       "count  1.000000e+03  1.000000e+03  1.000000e+03  1.000000e+03  1.000000e+03   \n",
       "mean   1.909584e-16 -8.015810e-17  4.875544e-16 -1.757622e-17 -4.362066e-16   \n",
       "std    1.000500e+00  1.000500e+00  1.000500e+00  1.000500e+00  1.000500e+00   \n",
       "min   -4.224700e+00 -1.012783e+00 -3.185400e+00 -4.633774e+00 -1.459757e+00   \n",
       "25%   -4.701959e-01 -7.331020e-01 -6.744989e-01 -7.211026e-01 -9.793360e-01   \n",
       "50%    2.714692e-01 -3.247363e-01 -1.983805e-02 -2.655914e-02 -3.374662e-02   \n",
       "75%    7.584779e-01  4.394463e-01  6.940754e-01  6.566217e-01  9.886963e-01   \n",
       "max    1.187096e+00  6.724474e+00  3.689684e+00  3.331877e+00  1.479289e+00   \n",
       "\n",
       "         normal_big  \n",
       "count  1.000000e+03  \n",
       "mean  -3.710698e-15  \n",
       "std    1.000500e+00  \n",
       "min   -3.544222e+00  \n",
       "25%   -7.040899e-01  \n",
       "50%    3.638998e-02  \n",
       "75%    6.569256e-01  \n",
       "max    3.426135e+00  "
      ]
     },
     "execution_count": 10,
     "metadata": {},
     "output_type": "execute_result"
    }
   ],
   "source": [
    "# thống kê về dữ liệu được sinh ra\n",
    "df_s.describe()"
   ]
  },
  {
   "cell_type": "code",
   "execution_count": 11,
   "id": "0e9ed8c3",
   "metadata": {},
   "outputs": [
    {
     "data": {
      "text/plain": [
       "<AxesSubplot:>"
      ]
     },
     "execution_count": 11,
     "metadata": {},
     "output_type": "execute_result"
    },
    {
     "data": {
      "image/png": "[encoded data removed]",
      "text/plain": [
       "<Figure size 432x288 with 1 Axes>"
      ]
     },
     "metadata": {
      "needs_background": "light"
     },
     "output_type": "display_data"
    }
   ],
   "source": [
    "# trực quan hóa bằng biểu đồ box plot\n",
    "df_s.boxplot()"
   ]
  },
  {
   "cell_type": "code",
   "execution_count": 12,
   "id": "3dec4017",
   "metadata": {},
   "outputs": [
    {
     "data": {
      "text/html": [
       "<div>\n",
       "<style scoped>\n",
       "    .dataframe tbody tr th:only-of-type {\n",
       "        vertical-align: middle;\n",
       "    }\n",
       "\n",
       "    .dataframe tbody tr th {\n",
       "        vertical-align: top;\n",
       "    }\n",
       "\n",
       "    .dataframe thead th {\n",
       "        text-align: right;\n",
       "    }\n",
       "</style>\n",
       "<table border=\"1\" class=\"dataframe\">\n",
       "  <thead>\n",
       "    <tr style=\"text-align: right;\">\n",
       "      <th></th>\n",
       "      <th>beta</th>\n",
       "      <th>exponential</th>\n",
       "      <th>normal_p</th>\n",
       "      <th>normal_l</th>\n",
       "      <th>bimodal</th>\n",
       "      <th>normal_big</th>\n",
       "    </tr>\n",
       "  </thead>\n",
       "  <tbody>\n",
       "    <tr>\n",
       "      <th>0</th>\n",
       "      <td>0.552622</td>\n",
       "      <td>0.087470</td>\n",
       "      <td>0.465149</td>\n",
       "      <td>0.616192</td>\n",
       "      <td>0.777633</td>\n",
       "      <td>0.524318</td>\n",
       "    </tr>\n",
       "    <tr>\n",
       "      <th>1</th>\n",
       "      <td>0.871919</td>\n",
       "      <td>0.017117</td>\n",
       "      <td>0.245416</td>\n",
       "      <td>0.609432</td>\n",
       "      <td>0.871018</td>\n",
       "      <td>0.393687</td>\n",
       "    </tr>\n",
       "    <tr>\n",
       "      <th>2</th>\n",
       "      <td>0.895194</td>\n",
       "      <td>0.011204</td>\n",
       "      <td>0.346508</td>\n",
       "      <td>0.641468</td>\n",
       "      <td>0.890867</td>\n",
       "      <td>0.694625</td>\n",
       "    </tr>\n",
       "    <tr>\n",
       "      <th>3</th>\n",
       "      <td>0.907690</td>\n",
       "      <td>0.193327</td>\n",
       "      <td>0.366389</td>\n",
       "      <td>0.803374</td>\n",
       "      <td>0.858961</td>\n",
       "      <td>0.410696</td>\n",
       "    </tr>\n",
       "    <tr>\n",
       "      <th>4</th>\n",
       "      <td>0.991999</td>\n",
       "      <td>0.356563</td>\n",
       "      <td>0.323487</td>\n",
       "      <td>0.695719</td>\n",
       "      <td>0.794651</td>\n",
       "      <td>0.401363</td>\n",
       "    </tr>\n",
       "    <tr>\n",
       "      <th>...</th>\n",
       "      <td>...</td>\n",
       "      <td>...</td>\n",
       "      <td>...</td>\n",
       "      <td>...</td>\n",
       "      <td>...</td>\n",
       "      <td>...</td>\n",
       "    </tr>\n",
       "    <tr>\n",
       "      <th>995</th>\n",
       "      <td>0.987039</td>\n",
       "      <td>0.066062</td>\n",
       "      <td>0.334756</td>\n",
       "      <td>0.501688</td>\n",
       "      <td>0.157852</td>\n",
       "      <td>0.536519</td>\n",
       "    </tr>\n",
       "    <tr>\n",
       "      <th>996</th>\n",
       "      <td>0.821932</td>\n",
       "      <td>0.215944</td>\n",
       "      <td>0.532357</td>\n",
       "      <td>0.607491</td>\n",
       "      <td>0.202592</td>\n",
       "      <td>0.519498</td>\n",
       "    </tr>\n",
       "    <tr>\n",
       "      <th>997</th>\n",
       "      <td>0.813877</td>\n",
       "      <td>0.025628</td>\n",
       "      <td>0.277826</td>\n",
       "      <td>0.463082</td>\n",
       "      <td>0.138196</td>\n",
       "      <td>0.474823</td>\n",
       "    </tr>\n",
       "    <tr>\n",
       "      <th>998</th>\n",
       "      <td>0.843835</td>\n",
       "      <td>0.081446</td>\n",
       "      <td>0.419804</td>\n",
       "      <td>0.647765</td>\n",
       "      <td>0.010617</td>\n",
       "      <td>0.493907</td>\n",
       "    </tr>\n",
       "    <tr>\n",
       "      <th>999</th>\n",
       "      <td>0.458036</td>\n",
       "      <td>0.134182</td>\n",
       "      <td>0.444626</td>\n",
       "      <td>0.577483</td>\n",
       "      <td>0.173038</td>\n",
       "      <td>0.623709</td>\n",
       "    </tr>\n",
       "  </tbody>\n",
       "</table>\n",
       "<p>1000 rows × 6 columns</p>\n",
       "</div>"
      ],
      "text/plain": [
       "         beta  exponential  normal_p  normal_l   bimodal  normal_big\n",
       "0    0.552622     0.087470  0.465149  0.616192  0.777633    0.524318\n",
       "1    0.871919     0.017117  0.245416  0.609432  0.871018    0.393687\n",
       "2    0.895194     0.011204  0.346508  0.641468  0.890867    0.694625\n",
       "3    0.907690     0.193327  0.366389  0.803374  0.858961    0.410696\n",
       "4    0.991999     0.356563  0.323487  0.695719  0.794651    0.401363\n",
       "..        ...          ...       ...       ...       ...         ...\n",
       "995  0.987039     0.066062  0.334756  0.501688  0.157852    0.536519\n",
       "996  0.821932     0.215944  0.532357  0.607491  0.202592    0.519498\n",
       "997  0.813877     0.025628  0.277826  0.463082  0.138196    0.474823\n",
       "998  0.843835     0.081446  0.419804  0.647765  0.010617    0.493907\n",
       "999  0.458036     0.134182  0.444626  0.577483  0.173038    0.623709\n",
       "\n",
       "[1000 rows x 6 columns]"
      ]
     },
     "execution_count": 12,
     "metadata": {},
     "output_type": "execute_result"
    }
   ],
   "source": [
    "from sklearn.preprocessing import MinMaxScaler\n",
    "scaler = MinMaxScaler()\n",
    "df_s = scaler.fit_transform(df)\n",
    "col_names = list(df.columns)\n",
    "df_s = pd.DataFrame(df_s, columns=col_names)\n",
    "df_s\n"
   ]
  },
  {
   "cell_type": "code",
   "execution_count": 13,
   "id": "c1f91ac5",
   "metadata": {},
   "outputs": [
    {
     "data": {
      "text/plain": [
       "[0.0, 0.0, 0.0, 0.0, 0.0, 0.0]"
      ]
     },
     "execution_count": 13,
     "metadata": {},
     "output_type": "execute_result"
    }
   ],
   "source": [
    "mins=[df_s[col].min() for col in df_s.columns]\n",
    "mins\n"
   ]
  },
  {
   "cell_type": "code",
   "execution_count": 14,
   "id": "91dd234b",
   "metadata": {},
   "outputs": [
    {
     "data": {
      "text/plain": [
       "<AxesSubplot:ylabel='Density'>"
      ]
     },
     "execution_count": 14,
     "metadata": {},
     "output_type": "execute_result"
    },
    {
     "data": {
      "image/png": "[encoded data removed]",
      "text/plain": [
       "<Figure size 432x288 with 1 Axes>"
      ]
     },
     "metadata": {
      "needs_background": "light"
     },
     "output_type": "display_data"
    }
   ],
   "source": [
    "sns.kdeplot(data=df_s)"
   ]
  },
  {
   "cell_type": "markdown",
   "id": "c24c8cc7",
   "metadata": {},
   "source": [
    "### Chuẩn hóa dữ liệu với Robust Scaling"
   ]
  },
  {
   "cell_type": "code",
   "execution_count": 17,
   "id": "3c1d70fd",
   "metadata": {},
   "outputs": [
    {
     "data": {
      "text/html": [
       "<div>\n",
       "<style scoped>\n",
       "    .dataframe tbody tr th:only-of-type {\n",
       "        vertical-align: middle;\n",
       "    }\n",
       "\n",
       "    .dataframe tbody tr th {\n",
       "        vertical-align: top;\n",
       "    }\n",
       "\n",
       "    .dataframe thead th {\n",
       "        text-align: right;\n",
       "    }\n",
       "</style>\n",
       "<table border=\"1\" class=\"dataframe\">\n",
       "  <thead>\n",
       "    <tr style=\"text-align: right;\">\n",
       "      <th></th>\n",
       "      <th>beta</th>\n",
       "      <th>exponential</th>\n",
       "      <th>normal_p</th>\n",
       "      <th>normal_l</th>\n",
       "      <th>bimodal</th>\n",
       "      <th>normal_big</th>\n",
       "    </tr>\n",
       "  </thead>\n",
       "  <tbody>\n",
       "    <tr>\n",
       "      <th>0</th>\n",
       "      <td>-1.225300</td>\n",
       "      <td>-0.009609</td>\n",
       "      <td>0.023656</td>\n",
       "      <td>0.218587</td>\n",
       "      <td>0.436724</td>\n",
       "      <td>0.054426</td>\n",
       "    </tr>\n",
       "    <tr>\n",
       "      <th>1</th>\n",
       "      <td>0.181071</td>\n",
       "      <td>-0.473850</td>\n",
       "      <td>-1.080180</td>\n",
       "      <td>0.179505</td>\n",
       "      <td>0.576185</td>\n",
       "      <td>-0.614593</td>\n",
       "    </tr>\n",
       "    <tr>\n",
       "      <th>2</th>\n",
       "      <td>0.283591</td>\n",
       "      <td>-0.512867</td>\n",
       "      <td>-0.572338</td>\n",
       "      <td>0.364727</td>\n",
       "      <td>0.605828</td>\n",
       "      <td>0.926639</td>\n",
       "    </tr>\n",
       "    <tr>\n",
       "      <th>3</th>\n",
       "      <td>0.338629</td>\n",
       "      <td>0.688903</td>\n",
       "      <td>-0.472465</td>\n",
       "      <td>1.300829</td>\n",
       "      <td>0.558179</td>\n",
       "      <td>-0.527482</td>\n",
       "    </tr>\n",
       "    <tr>\n",
       "      <th>4</th>\n",
       "      <td>0.709973</td>\n",
       "      <td>1.766046</td>\n",
       "      <td>-0.687985</td>\n",
       "      <td>0.678394</td>\n",
       "      <td>0.462140</td>\n",
       "      <td>-0.575285</td>\n",
       "    </tr>\n",
       "  </tbody>\n",
       "</table>\n",
       "</div>"
      ],
      "text/plain": [
       "       beta  exponential  normal_p  normal_l   bimodal  normal_big\n",
       "0 -1.225300    -0.009609  0.023656  0.218587  0.436724    0.054426\n",
       "1  0.181071    -0.473850 -1.080180  0.179505  0.576185   -0.614593\n",
       "2  0.283591    -0.512867 -0.572338  0.364727  0.605828    0.926639\n",
       "3  0.338629     0.688903 -0.472465  1.300829  0.558179   -0.527482\n",
       "4  0.709973     1.766046 -0.687985  0.678394  0.462140   -0.575285"
      ]
     },
     "execution_count": 17,
     "metadata": {},
     "output_type": "execute_result"
    }
   ],
   "source": [
    "from sklearn.preprocessing import RobustScaler\n",
    "#khai báo đối tượng RobustScaler\n",
    "scaler = RobustScaler()\n",
    "df_s = scaler.fit_transform(df)\n",
    "col_names=list(df.columns)\n",
    "df_s = pd.DataFrame(df_s, columns=col_names)\n",
    "df_s.head()"
   ]
  },
  {
   "cell_type": "code",
   "execution_count": 18,
   "id": "fc7e6577",
   "metadata": {},
   "outputs": [
    {
     "data": {
      "text/plain": [
       "<AxesSubplot:ylabel='Density'>"
      ]
     },
     "execution_count": 18,
     "metadata": {},
     "output_type": "execute_result"
    },
    {
     "data": {
      "image/png": "[encoded data removed]",
      "text/plain": [
       "<Figure size 432x288 with 1 Axes>"
      ]
     },
     "metadata": {
      "needs_background": "light"
     },
     "output_type": "display_data"
    }
   ],
   "source": [
    "sns.kdeplot(data=df_s)"
   ]
  },
  {
   "cell_type": "code",
   "execution_count": null,
   "id": "214780b2",
   "metadata": {},
   "outputs": [],
   "source": []
  }
 ],
 "metadata": {
  "kernelspec": {
   "display_name": "Python 3 (ipykernel)",
   "language": "python",
   "name": "python3"
  },
  "language_info": {
   "codemirror_mode": {
    "name": "ipython",
    "version": 3
   },
   "file_extension": ".py",
   "mimetype": "text/x-python",
   "name": "python",
   "nbconvert_exporter": "python",
   "pygments_lexer": "ipython3",
   "version": "3.9.12"
  }
 },
 "nbformat": 4,
 "nbformat_minor": 5
}
