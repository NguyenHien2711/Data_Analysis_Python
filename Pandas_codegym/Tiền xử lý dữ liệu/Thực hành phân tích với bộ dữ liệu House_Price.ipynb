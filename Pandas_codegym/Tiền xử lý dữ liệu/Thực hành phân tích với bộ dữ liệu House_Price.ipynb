{
 "cells": [
  {
   "cell_type": "code",
   "execution_count": 1,
   "id": "357df240",
   "metadata": {},
   "outputs": [
    {
     "data": {
      "text/html": [
       "<div>\n",
       "<style scoped>\n",
       "    .dataframe tbody tr th:only-of-type {\n",
       "        vertical-align: middle;\n",
       "    }\n",
       "\n",
       "    .dataframe tbody tr th {\n",
       "        vertical-align: top;\n",
       "    }\n",
       "\n",
       "    .dataframe thead th {\n",
       "        text-align: right;\n",
       "    }\n",
       "</style>\n",
       "<table border=\"1\" class=\"dataframe\">\n",
       "  <thead>\n",
       "    <tr style=\"text-align: right;\">\n",
       "      <th></th>\n",
       "      <th>area</th>\n",
       "      <th>price</th>\n",
       "      <th>postDate</th>\n",
       "      <th>land_certificate</th>\n",
       "      <th>house_direction</th>\n",
       "      <th>balcony_direction</th>\n",
       "      <th>toilet</th>\n",
       "      <th>bedroom</th>\n",
       "      <th>floor</th>\n",
       "      <th>lat</th>\n",
       "      <th>long</th>\n",
       "      <th>property_type</th>\n",
       "    </tr>\n",
       "  </thead>\n",
       "  <tbody>\n",
       "    <tr>\n",
       "      <th>0</th>\n",
       "      <td>50.0</td>\n",
       "      <td>14700.0</td>\n",
       "      <td>44197</td>\n",
       "      <td>So do</td>\n",
       "      <td>NaN</td>\n",
       "      <td>NaN</td>\n",
       "      <td>4.0</td>\n",
       "      <td>6.0</td>\n",
       "      <td>6.0</td>\n",
       "      <td>21.015698</td>\n",
       "      <td>105.824583</td>\n",
       "      <td>trong ngo</td>\n",
       "    </tr>\n",
       "    <tr>\n",
       "      <th>1</th>\n",
       "      <td>57.0</td>\n",
       "      <td>4200.0</td>\n",
       "      <td>44265</td>\n",
       "      <td>So do</td>\n",
       "      <td>Nam</td>\n",
       "      <td>Nam</td>\n",
       "      <td>3.0</td>\n",
       "      <td>8.0</td>\n",
       "      <td>4.0</td>\n",
       "      <td>21.025208</td>\n",
       "      <td>105.833111</td>\n",
       "      <td>trong ngo</td>\n",
       "    </tr>\n",
       "    <tr>\n",
       "      <th>2</th>\n",
       "      <td>62.0</td>\n",
       "      <td>11000.0</td>\n",
       "      <td>44268</td>\n",
       "      <td>So do</td>\n",
       "      <td>NaN</td>\n",
       "      <td>dong-Nam</td>\n",
       "      <td>6.0</td>\n",
       "      <td>5.0</td>\n",
       "      <td>6.0</td>\n",
       "      <td>21.025379</td>\n",
       "      <td>105.801011</td>\n",
       "      <td>trong ngo</td>\n",
       "    </tr>\n",
       "    <tr>\n",
       "      <th>3</th>\n",
       "      <td>26.0</td>\n",
       "      <td>2900.0</td>\n",
       "      <td>44292</td>\n",
       "      <td>So do</td>\n",
       "      <td>NaN</td>\n",
       "      <td>NaN</td>\n",
       "      <td>4.0</td>\n",
       "      <td>3.0</td>\n",
       "      <td>4.0</td>\n",
       "      <td>21.014325</td>\n",
       "      <td>105.834918</td>\n",
       "      <td>trong ngo</td>\n",
       "    </tr>\n",
       "    <tr>\n",
       "      <th>4</th>\n",
       "      <td>40.0</td>\n",
       "      <td>3950.0</td>\n",
       "      <td>44292</td>\n",
       "      <td>So do</td>\n",
       "      <td>NaN</td>\n",
       "      <td>NaN</td>\n",
       "      <td>NaN</td>\n",
       "      <td>NaN</td>\n",
       "      <td>5.0</td>\n",
       "      <td>21.009862</td>\n",
       "      <td>105.838083</td>\n",
       "      <td>trong ngo</td>\n",
       "    </tr>\n",
       "  </tbody>\n",
       "</table>\n",
       "</div>"
      ],
      "text/plain": [
       "   area    price  postDate land_certificate house_direction balcony_direction  \\\n",
       "0  50.0  14700.0     44197            So do             NaN               NaN   \n",
       "1  57.0   4200.0     44265            So do             Nam               Nam   \n",
       "2  62.0  11000.0     44268            So do             NaN          dong-Nam   \n",
       "3  26.0   2900.0     44292            So do             NaN               NaN   \n",
       "4  40.0   3950.0     44292            So do             NaN               NaN   \n",
       "\n",
       "   toilet  bedroom  floor        lat        long property_type  \n",
       "0     4.0      6.0    6.0  21.015698  105.824583     trong ngo  \n",
       "1     3.0      8.0    4.0  21.025208  105.833111     trong ngo  \n",
       "2     6.0      5.0    6.0  21.025379  105.801011     trong ngo  \n",
       "3     4.0      3.0    4.0  21.014325  105.834918     trong ngo  \n",
       "4     NaN      NaN    5.0  21.009862  105.838083     trong ngo  "
      ]
     },
     "execution_count": 1,
     "metadata": {},
     "output_type": "execute_result"
    }
   ],
   "source": [
    "import pandas as pd\n",
    "import numpy as np\n",
    "import matplotlib.pyplot as plt\n",
    "import seaborn as sns\n",
    "from scipy import stats\n",
    "from sklearn.preprocessing import StandardScaler, MinMaxScaler, RobustScaler\n",
    "data = pd.read_csv(r'C:\\Users\\HP\\Pandas_codegym\\Phân tích dữ liệu HousePrice\\house_price.csv',encoding= 'unicode_escape')\n",
    "data.head()"
   ]
  },
  {
   "cell_type": "code",
   "execution_count": 2,
   "id": "0cf48c56",
   "metadata": {},
   "outputs": [
    {
     "data": {
      "text/plain": [
       "671"
      ]
     },
     "execution_count": 2,
     "metadata": {},
     "output_type": "execute_result"
    }
   ],
   "source": [
    "data.shape[0]"
   ]
  },
  {
   "cell_type": "code",
   "execution_count": 3,
   "id": "8e06d7f4",
   "metadata": {},
   "outputs": [
    {
     "name": "stdout",
     "output_type": "stream",
     "text": [
      "<class 'pandas.core.frame.DataFrame'>\n",
      "RangeIndex: 671 entries, 0 to 670\n",
      "Data columns (total 12 columns):\n",
      " #   Column             Non-Null Count  Dtype  \n",
      "---  ------             --------------  -----  \n",
      " 0   area               665 non-null    float64\n",
      " 1   price              617 non-null    float64\n",
      " 2   postDate           671 non-null    int64  \n",
      " 3   land_certificate   369 non-null    object \n",
      " 4   house_direction    42 non-null     object \n",
      " 5   balcony_direction  24 non-null     object \n",
      " 6   toilet             240 non-null    float64\n",
      " 7   bedroom            320 non-null    float64\n",
      " 8   floor              366 non-null    float64\n",
      " 9   lat                671 non-null    float64\n",
      " 10  long               671 non-null    float64\n",
      " 11  property_type      671 non-null    object \n",
      "dtypes: float64(7), int64(1), object(4)\n",
      "memory usage: 63.0+ KB\n"
     ]
    }
   ],
   "source": [
    "data.info()"
   ]
  },
  {
   "cell_type": "markdown",
   "id": "ce39cd75",
   "metadata": {},
   "source": [
    "Nhìn tổng quan thì số hàng là 671 nhưng nhiều thuộc tính có số lượng ít hơn 671, có thể có dữ liệu ngoại lai"
   ]
  },
  {
   "cell_type": "markdown",
   "id": "090f8196",
   "metadata": {},
   "source": [
    "### Xử lý giá trị khuyết thiếu"
   ]
  },
  {
   "cell_type": "code",
   "execution_count": 4,
   "id": "8a11a8b9",
   "metadata": {},
   "outputs": [
    {
     "data": {
      "text/plain": [
       "balcony_direction    647\n",
       "house_direction      629\n",
       "toilet               431\n",
       "bedroom              351\n",
       "floor                305\n",
       "land_certificate     302\n",
       "price                 54\n",
       "area                   6\n",
       "postDate               0\n",
       "lat                    0\n",
       "long                   0\n",
       "property_type          0\n",
       "dtype: int64"
      ]
     },
     "execution_count": 4,
     "metadata": {},
     "output_type": "execute_result"
    }
   ],
   "source": [
    "df = data.isna().sum().sort_values(ascending=False)\n",
    "df"
   ]
  },
  {
   "cell_type": "code",
   "execution_count": 5,
   "id": "32c314a1",
   "metadata": {},
   "outputs": [
    {
     "data": {
      "image/png": "[encoded data removed]",
      "text/plain": [
       "<Figure size 432x288 with 1 Axes>"
      ]
     },
     "metadata": {
      "needs_background": "light"
     },
     "output_type": "display_data"
    }
   ],
   "source": [
    "x=df.index\n",
    "y=100*df.values/data.shape[0]\n",
    "plt.bar(x,y)\n",
    "plt.xticks(rotation=90)\n",
    "plt.show()"
   ]
  },
  {
   "cell_type": "markdown",
   "id": "69775fa9",
   "metadata": {},
   "source": [
    "##### 1. Xóa bỏ hết tất cả những dòng dữ liệu không có thông tin về giá"
   ]
  },
  {
   "cell_type": "code",
   "execution_count": 6,
   "id": "69b9b5d6",
   "metadata": {},
   "outputs": [
    {
     "data": {
      "text/html": [
       "<div>\n",
       "<style scoped>\n",
       "    .dataframe tbody tr th:only-of-type {\n",
       "        vertical-align: middle;\n",
       "    }\n",
       "\n",
       "    .dataframe tbody tr th {\n",
       "        vertical-align: top;\n",
       "    }\n",
       "\n",
       "    .dataframe thead th {\n",
       "        text-align: right;\n",
       "    }\n",
       "</style>\n",
       "<table border=\"1\" class=\"dataframe\">\n",
       "  <thead>\n",
       "    <tr style=\"text-align: right;\">\n",
       "      <th></th>\n",
       "      <th>area</th>\n",
       "      <th>price</th>\n",
       "      <th>postDate</th>\n",
       "      <th>land_certificate</th>\n",
       "      <th>house_direction</th>\n",
       "      <th>balcony_direction</th>\n",
       "      <th>toilet</th>\n",
       "      <th>bedroom</th>\n",
       "      <th>floor</th>\n",
       "      <th>lat</th>\n",
       "      <th>long</th>\n",
       "      <th>property_type</th>\n",
       "    </tr>\n",
       "  </thead>\n",
       "  <tbody>\n",
       "    <tr>\n",
       "      <th>0</th>\n",
       "      <td>50.0</td>\n",
       "      <td>14700.0</td>\n",
       "      <td>44197</td>\n",
       "      <td>So do</td>\n",
       "      <td>NaN</td>\n",
       "      <td>NaN</td>\n",
       "      <td>4.0</td>\n",
       "      <td>6.0</td>\n",
       "      <td>6.0</td>\n",
       "      <td>21.015698</td>\n",
       "      <td>105.824583</td>\n",
       "      <td>trong ngo</td>\n",
       "    </tr>\n",
       "    <tr>\n",
       "      <th>1</th>\n",
       "      <td>57.0</td>\n",
       "      <td>4200.0</td>\n",
       "      <td>44265</td>\n",
       "      <td>So do</td>\n",
       "      <td>Nam</td>\n",
       "      <td>Nam</td>\n",
       "      <td>3.0</td>\n",
       "      <td>8.0</td>\n",
       "      <td>4.0</td>\n",
       "      <td>21.025208</td>\n",
       "      <td>105.833111</td>\n",
       "      <td>trong ngo</td>\n",
       "    </tr>\n",
       "    <tr>\n",
       "      <th>2</th>\n",
       "      <td>62.0</td>\n",
       "      <td>11000.0</td>\n",
       "      <td>44268</td>\n",
       "      <td>So do</td>\n",
       "      <td>NaN</td>\n",
       "      <td>dong-Nam</td>\n",
       "      <td>6.0</td>\n",
       "      <td>5.0</td>\n",
       "      <td>6.0</td>\n",
       "      <td>21.025379</td>\n",
       "      <td>105.801011</td>\n",
       "      <td>trong ngo</td>\n",
       "    </tr>\n",
       "    <tr>\n",
       "      <th>3</th>\n",
       "      <td>26.0</td>\n",
       "      <td>2900.0</td>\n",
       "      <td>44292</td>\n",
       "      <td>So do</td>\n",
       "      <td>NaN</td>\n",
       "      <td>NaN</td>\n",
       "      <td>4.0</td>\n",
       "      <td>3.0</td>\n",
       "      <td>4.0</td>\n",
       "      <td>21.014325</td>\n",
       "      <td>105.834918</td>\n",
       "      <td>trong ngo</td>\n",
       "    </tr>\n",
       "    <tr>\n",
       "      <th>4</th>\n",
       "      <td>40.0</td>\n",
       "      <td>3950.0</td>\n",
       "      <td>44292</td>\n",
       "      <td>So do</td>\n",
       "      <td>NaN</td>\n",
       "      <td>NaN</td>\n",
       "      <td>NaN</td>\n",
       "      <td>NaN</td>\n",
       "      <td>5.0</td>\n",
       "      <td>21.009862</td>\n",
       "      <td>105.838083</td>\n",
       "      <td>trong ngo</td>\n",
       "    </tr>\n",
       "    <tr>\n",
       "      <th>...</th>\n",
       "      <td>...</td>\n",
       "      <td>...</td>\n",
       "      <td>...</td>\n",
       "      <td>...</td>\n",
       "      <td>...</td>\n",
       "      <td>...</td>\n",
       "      <td>...</td>\n",
       "      <td>...</td>\n",
       "      <td>...</td>\n",
       "      <td>...</td>\n",
       "      <td>...</td>\n",
       "      <td>...</td>\n",
       "    </tr>\n",
       "    <tr>\n",
       "      <th>666</th>\n",
       "      <td>168.0</td>\n",
       "      <td>23500.0</td>\n",
       "      <td>44325</td>\n",
       "      <td>NaN</td>\n",
       "      <td>NaN</td>\n",
       "      <td>NaN</td>\n",
       "      <td>3.0</td>\n",
       "      <td>3.0</td>\n",
       "      <td>3.0</td>\n",
       "      <td>21.000823</td>\n",
       "      <td>105.829097</td>\n",
       "      <td>mat pho</td>\n",
       "    </tr>\n",
       "    <tr>\n",
       "      <th>667</th>\n",
       "      <td>65.0</td>\n",
       "      <td>17500.0</td>\n",
       "      <td>44325</td>\n",
       "      <td>So do</td>\n",
       "      <td>NaN</td>\n",
       "      <td>NaN</td>\n",
       "      <td>NaN</td>\n",
       "      <td>6.0</td>\n",
       "      <td>5.0</td>\n",
       "      <td>21.011495</td>\n",
       "      <td>105.816666</td>\n",
       "      <td>mat pho</td>\n",
       "    </tr>\n",
       "    <tr>\n",
       "      <th>668</th>\n",
       "      <td>60.0</td>\n",
       "      <td>17500.0</td>\n",
       "      <td>44197</td>\n",
       "      <td>NaN</td>\n",
       "      <td>NaN</td>\n",
       "      <td>NaN</td>\n",
       "      <td>NaN</td>\n",
       "      <td>NaN</td>\n",
       "      <td>NaN</td>\n",
       "      <td>21.011495</td>\n",
       "      <td>105.816666</td>\n",
       "      <td>mat pho</td>\n",
       "    </tr>\n",
       "    <tr>\n",
       "      <th>669</th>\n",
       "      <td>45.0</td>\n",
       "      <td>24800.0</td>\n",
       "      <td>44197</td>\n",
       "      <td>NaN</td>\n",
       "      <td>NaN</td>\n",
       "      <td>NaN</td>\n",
       "      <td>NaN</td>\n",
       "      <td>NaN</td>\n",
       "      <td>NaN</td>\n",
       "      <td>21.016106</td>\n",
       "      <td>105.832157</td>\n",
       "      <td>mat pho</td>\n",
       "    </tr>\n",
       "    <tr>\n",
       "      <th>670</th>\n",
       "      <td>107.0</td>\n",
       "      <td>45000.0</td>\n",
       "      <td>44325</td>\n",
       "      <td>So do</td>\n",
       "      <td>NaN</td>\n",
       "      <td>NaN</td>\n",
       "      <td>NaN</td>\n",
       "      <td>NaN</td>\n",
       "      <td>5.0</td>\n",
       "      <td>21.009123</td>\n",
       "      <td>105.824428</td>\n",
       "      <td>mat pho</td>\n",
       "    </tr>\n",
       "  </tbody>\n",
       "</table>\n",
       "<p>617 rows × 12 columns</p>\n",
       "</div>"
      ],
      "text/plain": [
       "      area    price  postDate land_certificate house_direction  \\\n",
       "0     50.0  14700.0     44197            So do             NaN   \n",
       "1     57.0   4200.0     44265            So do             Nam   \n",
       "2     62.0  11000.0     44268            So do             NaN   \n",
       "3     26.0   2900.0     44292            So do             NaN   \n",
       "4     40.0   3950.0     44292            So do             NaN   \n",
       "..     ...      ...       ...              ...             ...   \n",
       "666  168.0  23500.0     44325              NaN             NaN   \n",
       "667   65.0  17500.0     44325            So do             NaN   \n",
       "668   60.0  17500.0     44197              NaN             NaN   \n",
       "669   45.0  24800.0     44197              NaN             NaN   \n",
       "670  107.0  45000.0     44325            So do             NaN   \n",
       "\n",
       "    balcony_direction  toilet  bedroom  floor        lat        long  \\\n",
       "0                 NaN     4.0      6.0    6.0  21.015698  105.824583   \n",
       "1                 Nam     3.0      8.0    4.0  21.025208  105.833111   \n",
       "2            dong-Nam     6.0      5.0    6.0  21.025379  105.801011   \n",
       "3                 NaN     4.0      3.0    4.0  21.014325  105.834918   \n",
       "4                 NaN     NaN      NaN    5.0  21.009862  105.838083   \n",
       "..                ...     ...      ...    ...        ...         ...   \n",
       "666               NaN     3.0      3.0    3.0  21.000823  105.829097   \n",
       "667               NaN     NaN      6.0    5.0  21.011495  105.816666   \n",
       "668               NaN     NaN      NaN    NaN  21.011495  105.816666   \n",
       "669               NaN     NaN      NaN    NaN  21.016106  105.832157   \n",
       "670               NaN     NaN      NaN    5.0  21.009123  105.824428   \n",
       "\n",
       "    property_type  \n",
       "0       trong ngo  \n",
       "1       trong ngo  \n",
       "2       trong ngo  \n",
       "3       trong ngo  \n",
       "4       trong ngo  \n",
       "..            ...  \n",
       "666       mat pho  \n",
       "667       mat pho  \n",
       "668       mat pho  \n",
       "669       mat pho  \n",
       "670       mat pho  \n",
       "\n",
       "[617 rows x 12 columns]"
      ]
     },
     "execution_count": 6,
     "metadata": {},
     "output_type": "execute_result"
    }
   ],
   "source": [
    "price_null_index = data[data['price'].isnull()].index\n",
    "data.drop(price_null_index, inplace = True)\n",
    "data"
   ]
  },
  {
   "cell_type": "markdown",
   "id": "afa49be8",
   "metadata": {},
   "source": [
    "##### 2. Thực hiện xử lý giá trị khuyết thiếu: Thay thế giá trị khuyết thiếu của land_certificate bằng =”không có thông tin”, house_direction, balcony_direction, toilet, bedroom, Floor  bằng giá trị có tần số xuất hiện lớn nhất của các thuộc tính đó,"
   ]
  },
  {
   "cell_type": "code",
   "execution_count": 10,
   "id": "c3935dc6",
   "metadata": {},
   "outputs": [],
   "source": [
    "mode = data[['house_direction','balcony_direction','toilet','bedroom','floor']].mode()\n",
    "mode.loc[0,'house_direction' ]\n",
    "# dict_data = {i:mode.loc[0,i] for i in mode.index}\n",
    "dict_data = {i: mode.loc[0,i] for i in mode.columns}"
   ]
  },
  {
   "cell_type": "code",
   "execution_count": 11,
   "id": "418ae933",
   "metadata": {},
   "outputs": [],
   "source": [
    "data.fillna({'land_certificate': 'không có thông tin'}, inplace=True)\n",
    "data.fillna(dict_data, inplace=True) #dùng pp thay thế trên các cột cụ thể \n",
    "# data['house_direction']=data['house_direction'].fillna(data['house_direction'].mode(), inplace=True)"
   ]
  },
  {
   "cell_type": "code",
   "execution_count": 12,
   "id": "0fee15df",
   "metadata": {},
   "outputs": [
    {
     "data": {
      "text/html": [
       "<div>\n",
       "<style scoped>\n",
       "    .dataframe tbody tr th:only-of-type {\n",
       "        vertical-align: middle;\n",
       "    }\n",
       "\n",
       "    .dataframe tbody tr th {\n",
       "        vertical-align: top;\n",
       "    }\n",
       "\n",
       "    .dataframe thead th {\n",
       "        text-align: right;\n",
       "    }\n",
       "</style>\n",
       "<table border=\"1\" class=\"dataframe\">\n",
       "  <thead>\n",
       "    <tr style=\"text-align: right;\">\n",
       "      <th></th>\n",
       "      <th>area</th>\n",
       "      <th>price</th>\n",
       "      <th>postDate</th>\n",
       "      <th>land_certificate</th>\n",
       "      <th>house_direction</th>\n",
       "      <th>balcony_direction</th>\n",
       "      <th>toilet</th>\n",
       "      <th>bedroom</th>\n",
       "      <th>floor</th>\n",
       "      <th>lat</th>\n",
       "      <th>long</th>\n",
       "      <th>property_type</th>\n",
       "    </tr>\n",
       "  </thead>\n",
       "  <tbody>\n",
       "    <tr>\n",
       "      <th>0</th>\n",
       "      <td>50.0</td>\n",
       "      <td>14700.0</td>\n",
       "      <td>44197</td>\n",
       "      <td>So do</td>\n",
       "      <td>dong-Nam</td>\n",
       "      <td>dong-Nam</td>\n",
       "      <td>4.0</td>\n",
       "      <td>6.0</td>\n",
       "      <td>6.0</td>\n",
       "      <td>21.015698</td>\n",
       "      <td>105.824583</td>\n",
       "      <td>trong ngo</td>\n",
       "    </tr>\n",
       "    <tr>\n",
       "      <th>1</th>\n",
       "      <td>57.0</td>\n",
       "      <td>4200.0</td>\n",
       "      <td>44265</td>\n",
       "      <td>So do</td>\n",
       "      <td>Nam</td>\n",
       "      <td>Nam</td>\n",
       "      <td>3.0</td>\n",
       "      <td>8.0</td>\n",
       "      <td>4.0</td>\n",
       "      <td>21.025208</td>\n",
       "      <td>105.833111</td>\n",
       "      <td>trong ngo</td>\n",
       "    </tr>\n",
       "    <tr>\n",
       "      <th>2</th>\n",
       "      <td>62.0</td>\n",
       "      <td>11000.0</td>\n",
       "      <td>44268</td>\n",
       "      <td>So do</td>\n",
       "      <td>dong-Nam</td>\n",
       "      <td>dong-Nam</td>\n",
       "      <td>6.0</td>\n",
       "      <td>5.0</td>\n",
       "      <td>6.0</td>\n",
       "      <td>21.025379</td>\n",
       "      <td>105.801011</td>\n",
       "      <td>trong ngo</td>\n",
       "    </tr>\n",
       "    <tr>\n",
       "      <th>3</th>\n",
       "      <td>26.0</td>\n",
       "      <td>2900.0</td>\n",
       "      <td>44292</td>\n",
       "      <td>So do</td>\n",
       "      <td>dong-Nam</td>\n",
       "      <td>dong-Nam</td>\n",
       "      <td>4.0</td>\n",
       "      <td>3.0</td>\n",
       "      <td>4.0</td>\n",
       "      <td>21.014325</td>\n",
       "      <td>105.834918</td>\n",
       "      <td>trong ngo</td>\n",
       "    </tr>\n",
       "    <tr>\n",
       "      <th>4</th>\n",
       "      <td>40.0</td>\n",
       "      <td>3950.0</td>\n",
       "      <td>44292</td>\n",
       "      <td>So do</td>\n",
       "      <td>dong-Nam</td>\n",
       "      <td>dong-Nam</td>\n",
       "      <td>4.0</td>\n",
       "      <td>3.0</td>\n",
       "      <td>5.0</td>\n",
       "      <td>21.009862</td>\n",
       "      <td>105.838083</td>\n",
       "      <td>trong ngo</td>\n",
       "    </tr>\n",
       "    <tr>\n",
       "      <th>...</th>\n",
       "      <td>...</td>\n",
       "      <td>...</td>\n",
       "      <td>...</td>\n",
       "      <td>...</td>\n",
       "      <td>...</td>\n",
       "      <td>...</td>\n",
       "      <td>...</td>\n",
       "      <td>...</td>\n",
       "      <td>...</td>\n",
       "      <td>...</td>\n",
       "      <td>...</td>\n",
       "      <td>...</td>\n",
       "    </tr>\n",
       "    <tr>\n",
       "      <th>666</th>\n",
       "      <td>168.0</td>\n",
       "      <td>23500.0</td>\n",
       "      <td>44325</td>\n",
       "      <td>không có thông tin</td>\n",
       "      <td>dong-Nam</td>\n",
       "      <td>dong-Nam</td>\n",
       "      <td>3.0</td>\n",
       "      <td>3.0</td>\n",
       "      <td>3.0</td>\n",
       "      <td>21.000823</td>\n",
       "      <td>105.829097</td>\n",
       "      <td>mat pho</td>\n",
       "    </tr>\n",
       "    <tr>\n",
       "      <th>667</th>\n",
       "      <td>65.0</td>\n",
       "      <td>17500.0</td>\n",
       "      <td>44325</td>\n",
       "      <td>So do</td>\n",
       "      <td>dong-Nam</td>\n",
       "      <td>dong-Nam</td>\n",
       "      <td>4.0</td>\n",
       "      <td>6.0</td>\n",
       "      <td>5.0</td>\n",
       "      <td>21.011495</td>\n",
       "      <td>105.816666</td>\n",
       "      <td>mat pho</td>\n",
       "    </tr>\n",
       "    <tr>\n",
       "      <th>668</th>\n",
       "      <td>60.0</td>\n",
       "      <td>17500.0</td>\n",
       "      <td>44197</td>\n",
       "      <td>không có thông tin</td>\n",
       "      <td>dong-Nam</td>\n",
       "      <td>dong-Nam</td>\n",
       "      <td>4.0</td>\n",
       "      <td>3.0</td>\n",
       "      <td>5.0</td>\n",
       "      <td>21.011495</td>\n",
       "      <td>105.816666</td>\n",
       "      <td>mat pho</td>\n",
       "    </tr>\n",
       "    <tr>\n",
       "      <th>669</th>\n",
       "      <td>45.0</td>\n",
       "      <td>24800.0</td>\n",
       "      <td>44197</td>\n",
       "      <td>không có thông tin</td>\n",
       "      <td>dong-Nam</td>\n",
       "      <td>dong-Nam</td>\n",
       "      <td>4.0</td>\n",
       "      <td>3.0</td>\n",
       "      <td>5.0</td>\n",
       "      <td>21.016106</td>\n",
       "      <td>105.832157</td>\n",
       "      <td>mat pho</td>\n",
       "    </tr>\n",
       "    <tr>\n",
       "      <th>670</th>\n",
       "      <td>107.0</td>\n",
       "      <td>45000.0</td>\n",
       "      <td>44325</td>\n",
       "      <td>So do</td>\n",
       "      <td>dong-Nam</td>\n",
       "      <td>dong-Nam</td>\n",
       "      <td>4.0</td>\n",
       "      <td>3.0</td>\n",
       "      <td>5.0</td>\n",
       "      <td>21.009123</td>\n",
       "      <td>105.824428</td>\n",
       "      <td>mat pho</td>\n",
       "    </tr>\n",
       "  </tbody>\n",
       "</table>\n",
       "<p>617 rows × 12 columns</p>\n",
       "</div>"
      ],
      "text/plain": [
       "      area    price  postDate    land_certificate house_direction  \\\n",
       "0     50.0  14700.0     44197               So do        dong-Nam   \n",
       "1     57.0   4200.0     44265               So do             Nam   \n",
       "2     62.0  11000.0     44268               So do        dong-Nam   \n",
       "3     26.0   2900.0     44292               So do        dong-Nam   \n",
       "4     40.0   3950.0     44292               So do        dong-Nam   \n",
       "..     ...      ...       ...                 ...             ...   \n",
       "666  168.0  23500.0     44325  không có thông tin        dong-Nam   \n",
       "667   65.0  17500.0     44325               So do        dong-Nam   \n",
       "668   60.0  17500.0     44197  không có thông tin        dong-Nam   \n",
       "669   45.0  24800.0     44197  không có thông tin        dong-Nam   \n",
       "670  107.0  45000.0     44325               So do        dong-Nam   \n",
       "\n",
       "    balcony_direction  toilet  bedroom  floor        lat        long  \\\n",
       "0            dong-Nam     4.0      6.0    6.0  21.015698  105.824583   \n",
       "1                 Nam     3.0      8.0    4.0  21.025208  105.833111   \n",
       "2            dong-Nam     6.0      5.0    6.0  21.025379  105.801011   \n",
       "3            dong-Nam     4.0      3.0    4.0  21.014325  105.834918   \n",
       "4            dong-Nam     4.0      3.0    5.0  21.009862  105.838083   \n",
       "..                ...     ...      ...    ...        ...         ...   \n",
       "666          dong-Nam     3.0      3.0    3.0  21.000823  105.829097   \n",
       "667          dong-Nam     4.0      6.0    5.0  21.011495  105.816666   \n",
       "668          dong-Nam     4.0      3.0    5.0  21.011495  105.816666   \n",
       "669          dong-Nam     4.0      3.0    5.0  21.016106  105.832157   \n",
       "670          dong-Nam     4.0      3.0    5.0  21.009123  105.824428   \n",
       "\n",
       "    property_type  \n",
       "0       trong ngo  \n",
       "1       trong ngo  \n",
       "2       trong ngo  \n",
       "3       trong ngo  \n",
       "4       trong ngo  \n",
       "..            ...  \n",
       "666       mat pho  \n",
       "667       mat pho  \n",
       "668       mat pho  \n",
       "669       mat pho  \n",
       "670       mat pho  \n",
       "\n",
       "[617 rows x 12 columns]"
      ]
     },
     "execution_count": 12,
     "metadata": {},
     "output_type": "execute_result"
    }
   ],
   "source": [
    "data"
   ]
  },
  {
   "cell_type": "code",
   "execution_count": 13,
   "id": "be3a9226",
   "metadata": {},
   "outputs": [],
   "source": [
    "# data['house_direction']=data['house_direction'].fillna(data['house_direction'].mode(), inplace=True)\n",
    "# data['house_direction'].mode()[0] phải lấy 0 vì mode() trả về 1 series,muốn access vô giá trị phải tiếp cận qua pp slide"
   ]
  },
  {
   "cell_type": "markdown",
   "id": "25e2b95f",
   "metadata": {},
   "source": [
    "##### 3. Lọc thông tin những bất động sản ở trong ngõ thành bộ dữ liệu nhà ngõ\n"
   ]
  },
  {
   "cell_type": "code",
   "execution_count": 14,
   "id": "ea1926cf",
   "metadata": {},
   "outputs": [
    {
     "data": {
      "text/plain": [
       "trong ngo    407\n",
       "mat pho      210\n",
       "Name: property_type, dtype: int64"
      ]
     },
     "execution_count": 14,
     "metadata": {},
     "output_type": "execute_result"
    }
   ],
   "source": [
    "data['property_type'].value_counts() \n",
    "# => kiểm tra Dữ liệu có 2 loại nhà, format ko cần thay đổi"
   ]
  },
  {
   "cell_type": "code",
   "execution_count": 15,
   "id": "8feff98b",
   "metadata": {},
   "outputs": [
    {
     "data": {
      "text/html": [
       "<div>\n",
       "<style scoped>\n",
       "    .dataframe tbody tr th:only-of-type {\n",
       "        vertical-align: middle;\n",
       "    }\n",
       "\n",
       "    .dataframe tbody tr th {\n",
       "        vertical-align: top;\n",
       "    }\n",
       "\n",
       "    .dataframe thead th {\n",
       "        text-align: right;\n",
       "    }\n",
       "</style>\n",
       "<table border=\"1\" class=\"dataframe\">\n",
       "  <thead>\n",
       "    <tr style=\"text-align: right;\">\n",
       "      <th></th>\n",
       "      <th>area</th>\n",
       "      <th>price</th>\n",
       "      <th>postDate</th>\n",
       "      <th>land_certificate</th>\n",
       "      <th>house_direction</th>\n",
       "      <th>balcony_direction</th>\n",
       "      <th>toilet</th>\n",
       "      <th>bedroom</th>\n",
       "      <th>floor</th>\n",
       "      <th>lat</th>\n",
       "      <th>long</th>\n",
       "      <th>property_type</th>\n",
       "    </tr>\n",
       "  </thead>\n",
       "  <tbody>\n",
       "    <tr>\n",
       "      <th>0</th>\n",
       "      <td>50.0</td>\n",
       "      <td>14700.0</td>\n",
       "      <td>44197</td>\n",
       "      <td>So do</td>\n",
       "      <td>dong-Nam</td>\n",
       "      <td>dong-Nam</td>\n",
       "      <td>4.0</td>\n",
       "      <td>6.0</td>\n",
       "      <td>6.0</td>\n",
       "      <td>21.015698</td>\n",
       "      <td>105.824583</td>\n",
       "      <td>trong ngo</td>\n",
       "    </tr>\n",
       "    <tr>\n",
       "      <th>1</th>\n",
       "      <td>57.0</td>\n",
       "      <td>4200.0</td>\n",
       "      <td>44265</td>\n",
       "      <td>So do</td>\n",
       "      <td>Nam</td>\n",
       "      <td>Nam</td>\n",
       "      <td>3.0</td>\n",
       "      <td>8.0</td>\n",
       "      <td>4.0</td>\n",
       "      <td>21.025208</td>\n",
       "      <td>105.833111</td>\n",
       "      <td>trong ngo</td>\n",
       "    </tr>\n",
       "    <tr>\n",
       "      <th>2</th>\n",
       "      <td>62.0</td>\n",
       "      <td>11000.0</td>\n",
       "      <td>44268</td>\n",
       "      <td>So do</td>\n",
       "      <td>dong-Nam</td>\n",
       "      <td>dong-Nam</td>\n",
       "      <td>6.0</td>\n",
       "      <td>5.0</td>\n",
       "      <td>6.0</td>\n",
       "      <td>21.025379</td>\n",
       "      <td>105.801011</td>\n",
       "      <td>trong ngo</td>\n",
       "    </tr>\n",
       "    <tr>\n",
       "      <th>3</th>\n",
       "      <td>26.0</td>\n",
       "      <td>2900.0</td>\n",
       "      <td>44292</td>\n",
       "      <td>So do</td>\n",
       "      <td>dong-Nam</td>\n",
       "      <td>dong-Nam</td>\n",
       "      <td>4.0</td>\n",
       "      <td>3.0</td>\n",
       "      <td>4.0</td>\n",
       "      <td>21.014325</td>\n",
       "      <td>105.834918</td>\n",
       "      <td>trong ngo</td>\n",
       "    </tr>\n",
       "    <tr>\n",
       "      <th>4</th>\n",
       "      <td>40.0</td>\n",
       "      <td>3950.0</td>\n",
       "      <td>44292</td>\n",
       "      <td>So do</td>\n",
       "      <td>dong-Nam</td>\n",
       "      <td>dong-Nam</td>\n",
       "      <td>4.0</td>\n",
       "      <td>3.0</td>\n",
       "      <td>5.0</td>\n",
       "      <td>21.009862</td>\n",
       "      <td>105.838083</td>\n",
       "      <td>trong ngo</td>\n",
       "    </tr>\n",
       "    <tr>\n",
       "      <th>...</th>\n",
       "      <td>...</td>\n",
       "      <td>...</td>\n",
       "      <td>...</td>\n",
       "      <td>...</td>\n",
       "      <td>...</td>\n",
       "      <td>...</td>\n",
       "      <td>...</td>\n",
       "      <td>...</td>\n",
       "      <td>...</td>\n",
       "      <td>...</td>\n",
       "      <td>...</td>\n",
       "      <td>...</td>\n",
       "    </tr>\n",
       "    <tr>\n",
       "      <th>444</th>\n",
       "      <td>90.0</td>\n",
       "      <td>32000.0</td>\n",
       "      <td>44325</td>\n",
       "      <td>không có thông tin</td>\n",
       "      <td>dong-Bac</td>\n",
       "      <td>Tay-Bac</td>\n",
       "      <td>4.0</td>\n",
       "      <td>3.0</td>\n",
       "      <td>8.0</td>\n",
       "      <td>21.017799</td>\n",
       "      <td>105.810572</td>\n",
       "      <td>trong ngo</td>\n",
       "    </tr>\n",
       "    <tr>\n",
       "      <th>445</th>\n",
       "      <td>58.0</td>\n",
       "      <td>15800.0</td>\n",
       "      <td>44325</td>\n",
       "      <td>So do</td>\n",
       "      <td>dong-Nam</td>\n",
       "      <td>dong-Nam</td>\n",
       "      <td>4.0</td>\n",
       "      <td>5.0</td>\n",
       "      <td>7.0</td>\n",
       "      <td>21.020556</td>\n",
       "      <td>105.828657</td>\n",
       "      <td>trong ngo</td>\n",
       "    </tr>\n",
       "    <tr>\n",
       "      <th>446</th>\n",
       "      <td>96.0</td>\n",
       "      <td>10200.0</td>\n",
       "      <td>44325</td>\n",
       "      <td>So do</td>\n",
       "      <td>dong-Nam</td>\n",
       "      <td>dong-Nam</td>\n",
       "      <td>4.0</td>\n",
       "      <td>3.0</td>\n",
       "      <td>4.0</td>\n",
       "      <td>21.012310</td>\n",
       "      <td>105.828978</td>\n",
       "      <td>trong ngo</td>\n",
       "    </tr>\n",
       "    <tr>\n",
       "      <th>447</th>\n",
       "      <td>38.0</td>\n",
       "      <td>3900.0</td>\n",
       "      <td>44325</td>\n",
       "      <td>So do</td>\n",
       "      <td>dong-Nam</td>\n",
       "      <td>dong-Nam</td>\n",
       "      <td>4.0</td>\n",
       "      <td>3.0</td>\n",
       "      <td>5.0</td>\n",
       "      <td>21.006694</td>\n",
       "      <td>105.835635</td>\n",
       "      <td>trong ngo</td>\n",
       "    </tr>\n",
       "    <tr>\n",
       "      <th>448</th>\n",
       "      <td>25.0</td>\n",
       "      <td>2850.0</td>\n",
       "      <td>44325</td>\n",
       "      <td>không có thông tin</td>\n",
       "      <td>dong-Nam</td>\n",
       "      <td>dong-Nam</td>\n",
       "      <td>3.0</td>\n",
       "      <td>2.0</td>\n",
       "      <td>4.0</td>\n",
       "      <td>21.026821</td>\n",
       "      <td>105.825845</td>\n",
       "      <td>trong ngo</td>\n",
       "    </tr>\n",
       "  </tbody>\n",
       "</table>\n",
       "<p>407 rows × 12 columns</p>\n",
       "</div>"
      ],
      "text/plain": [
       "     area    price  postDate    land_certificate house_direction  \\\n",
       "0    50.0  14700.0     44197               So do        dong-Nam   \n",
       "1    57.0   4200.0     44265               So do             Nam   \n",
       "2    62.0  11000.0     44268               So do        dong-Nam   \n",
       "3    26.0   2900.0     44292               So do        dong-Nam   \n",
       "4    40.0   3950.0     44292               So do        dong-Nam   \n",
       "..    ...      ...       ...                 ...             ...   \n",
       "444  90.0  32000.0     44325  không có thông tin        dong-Bac   \n",
       "445  58.0  15800.0     44325               So do        dong-Nam   \n",
       "446  96.0  10200.0     44325               So do        dong-Nam   \n",
       "447  38.0   3900.0     44325               So do        dong-Nam   \n",
       "448  25.0   2850.0     44325  không có thông tin        dong-Nam   \n",
       "\n",
       "    balcony_direction  toilet  bedroom  floor        lat        long  \\\n",
       "0            dong-Nam     4.0      6.0    6.0  21.015698  105.824583   \n",
       "1                 Nam     3.0      8.0    4.0  21.025208  105.833111   \n",
       "2            dong-Nam     6.0      5.0    6.0  21.025379  105.801011   \n",
       "3            dong-Nam     4.0      3.0    4.0  21.014325  105.834918   \n",
       "4            dong-Nam     4.0      3.0    5.0  21.009862  105.838083   \n",
       "..                ...     ...      ...    ...        ...         ...   \n",
       "444           Tay-Bac     4.0      3.0    8.0  21.017799  105.810572   \n",
       "445          dong-Nam     4.0      5.0    7.0  21.020556  105.828657   \n",
       "446          dong-Nam     4.0      3.0    4.0  21.012310  105.828978   \n",
       "447          dong-Nam     4.0      3.0    5.0  21.006694  105.835635   \n",
       "448          dong-Nam     3.0      2.0    4.0  21.026821  105.825845   \n",
       "\n",
       "    property_type  \n",
       "0       trong ngo  \n",
       "1       trong ngo  \n",
       "2       trong ngo  \n",
       "3       trong ngo  \n",
       "4       trong ngo  \n",
       "..            ...  \n",
       "444     trong ngo  \n",
       "445     trong ngo  \n",
       "446     trong ngo  \n",
       "447     trong ngo  \n",
       "448     trong ngo  \n",
       "\n",
       "[407 rows x 12 columns]"
      ]
     },
     "execution_count": 15,
     "metadata": {},
     "output_type": "execute_result"
    }
   ],
   "source": [
    "data_nhango = data[data['property_type']=='trong ngo']\n",
    "data_nhango"
   ]
  },
  {
   "cell_type": "markdown",
   "id": "8cd047e2",
   "metadata": {},
   "source": [
    "##### 4. Tính toán giá/m2  ( đơn vị triệu/m2) với loại hình nhà ngõ"
   ]
  },
  {
   "cell_type": "code",
   "execution_count": 16,
   "id": "c4c2408d",
   "metadata": {},
   "outputs": [
    {
     "name": "stderr",
     "output_type": "stream",
     "text": [
      "C:\\Users\\HP\\AppData\\Local\\Temp\\ipykernel_17640\\2552636453.py:1: SettingWithCopyWarning: \n",
      "A value is trying to be set on a copy of a slice from a DataFrame.\n",
      "Try using .loc[row_indexer,col_indexer] = value instead\n",
      "\n",
      "See the caveats in the documentation: https://pandas.pydata.org/pandas-docs/stable/user_guide/indexing.html#returning-a-view-versus-a-copy\n",
      "  data_nhango['Giá/m2'] = round(10**3*data_nhango['price']/data_nhango['area'])\n"
     ]
    },
    {
     "data": {
      "text/html": [
       "<div>\n",
       "<style scoped>\n",
       "    .dataframe tbody tr th:only-of-type {\n",
       "        vertical-align: middle;\n",
       "    }\n",
       "\n",
       "    .dataframe tbody tr th {\n",
       "        vertical-align: top;\n",
       "    }\n",
       "\n",
       "    .dataframe thead th {\n",
       "        text-align: right;\n",
       "    }\n",
       "</style>\n",
       "<table border=\"1\" class=\"dataframe\">\n",
       "  <thead>\n",
       "    <tr style=\"text-align: right;\">\n",
       "      <th></th>\n",
       "      <th>area</th>\n",
       "      <th>price</th>\n",
       "      <th>postDate</th>\n",
       "      <th>land_certificate</th>\n",
       "      <th>house_direction</th>\n",
       "      <th>balcony_direction</th>\n",
       "      <th>toilet</th>\n",
       "      <th>bedroom</th>\n",
       "      <th>floor</th>\n",
       "      <th>lat</th>\n",
       "      <th>long</th>\n",
       "      <th>property_type</th>\n",
       "      <th>Giá/m2</th>\n",
       "    </tr>\n",
       "  </thead>\n",
       "  <tbody>\n",
       "    <tr>\n",
       "      <th>0</th>\n",
       "      <td>50.0</td>\n",
       "      <td>14700.0</td>\n",
       "      <td>44197</td>\n",
       "      <td>So do</td>\n",
       "      <td>dong-Nam</td>\n",
       "      <td>dong-Nam</td>\n",
       "      <td>4.0</td>\n",
       "      <td>6.0</td>\n",
       "      <td>6.0</td>\n",
       "      <td>21.015698</td>\n",
       "      <td>105.824583</td>\n",
       "      <td>trong ngo</td>\n",
       "      <td>294000.0</td>\n",
       "    </tr>\n",
       "    <tr>\n",
       "      <th>1</th>\n",
       "      <td>57.0</td>\n",
       "      <td>4200.0</td>\n",
       "      <td>44265</td>\n",
       "      <td>So do</td>\n",
       "      <td>Nam</td>\n",
       "      <td>Nam</td>\n",
       "      <td>3.0</td>\n",
       "      <td>8.0</td>\n",
       "      <td>4.0</td>\n",
       "      <td>21.025208</td>\n",
       "      <td>105.833111</td>\n",
       "      <td>trong ngo</td>\n",
       "      <td>73684.0</td>\n",
       "    </tr>\n",
       "    <tr>\n",
       "      <th>2</th>\n",
       "      <td>62.0</td>\n",
       "      <td>11000.0</td>\n",
       "      <td>44268</td>\n",
       "      <td>So do</td>\n",
       "      <td>dong-Nam</td>\n",
       "      <td>dong-Nam</td>\n",
       "      <td>6.0</td>\n",
       "      <td>5.0</td>\n",
       "      <td>6.0</td>\n",
       "      <td>21.025379</td>\n",
       "      <td>105.801011</td>\n",
       "      <td>trong ngo</td>\n",
       "      <td>177419.0</td>\n",
       "    </tr>\n",
       "    <tr>\n",
       "      <th>3</th>\n",
       "      <td>26.0</td>\n",
       "      <td>2900.0</td>\n",
       "      <td>44292</td>\n",
       "      <td>So do</td>\n",
       "      <td>dong-Nam</td>\n",
       "      <td>dong-Nam</td>\n",
       "      <td>4.0</td>\n",
       "      <td>3.0</td>\n",
       "      <td>4.0</td>\n",
       "      <td>21.014325</td>\n",
       "      <td>105.834918</td>\n",
       "      <td>trong ngo</td>\n",
       "      <td>111538.0</td>\n",
       "    </tr>\n",
       "    <tr>\n",
       "      <th>4</th>\n",
       "      <td>40.0</td>\n",
       "      <td>3950.0</td>\n",
       "      <td>44292</td>\n",
       "      <td>So do</td>\n",
       "      <td>dong-Nam</td>\n",
       "      <td>dong-Nam</td>\n",
       "      <td>4.0</td>\n",
       "      <td>3.0</td>\n",
       "      <td>5.0</td>\n",
       "      <td>21.009862</td>\n",
       "      <td>105.838083</td>\n",
       "      <td>trong ngo</td>\n",
       "      <td>98750.0</td>\n",
       "    </tr>\n",
       "    <tr>\n",
       "      <th>...</th>\n",
       "      <td>...</td>\n",
       "      <td>...</td>\n",
       "      <td>...</td>\n",
       "      <td>...</td>\n",
       "      <td>...</td>\n",
       "      <td>...</td>\n",
       "      <td>...</td>\n",
       "      <td>...</td>\n",
       "      <td>...</td>\n",
       "      <td>...</td>\n",
       "      <td>...</td>\n",
       "      <td>...</td>\n",
       "      <td>...</td>\n",
       "    </tr>\n",
       "    <tr>\n",
       "      <th>444</th>\n",
       "      <td>90.0</td>\n",
       "      <td>32000.0</td>\n",
       "      <td>44325</td>\n",
       "      <td>không có thông tin</td>\n",
       "      <td>dong-Bac</td>\n",
       "      <td>Tay-Bac</td>\n",
       "      <td>4.0</td>\n",
       "      <td>3.0</td>\n",
       "      <td>8.0</td>\n",
       "      <td>21.017799</td>\n",
       "      <td>105.810572</td>\n",
       "      <td>trong ngo</td>\n",
       "      <td>355556.0</td>\n",
       "    </tr>\n",
       "    <tr>\n",
       "      <th>445</th>\n",
       "      <td>58.0</td>\n",
       "      <td>15800.0</td>\n",
       "      <td>44325</td>\n",
       "      <td>So do</td>\n",
       "      <td>dong-Nam</td>\n",
       "      <td>dong-Nam</td>\n",
       "      <td>4.0</td>\n",
       "      <td>5.0</td>\n",
       "      <td>7.0</td>\n",
       "      <td>21.020556</td>\n",
       "      <td>105.828657</td>\n",
       "      <td>trong ngo</td>\n",
       "      <td>272414.0</td>\n",
       "    </tr>\n",
       "    <tr>\n",
       "      <th>446</th>\n",
       "      <td>96.0</td>\n",
       "      <td>10200.0</td>\n",
       "      <td>44325</td>\n",
       "      <td>So do</td>\n",
       "      <td>dong-Nam</td>\n",
       "      <td>dong-Nam</td>\n",
       "      <td>4.0</td>\n",
       "      <td>3.0</td>\n",
       "      <td>4.0</td>\n",
       "      <td>21.012310</td>\n",
       "      <td>105.828978</td>\n",
       "      <td>trong ngo</td>\n",
       "      <td>106250.0</td>\n",
       "    </tr>\n",
       "    <tr>\n",
       "      <th>447</th>\n",
       "      <td>38.0</td>\n",
       "      <td>3900.0</td>\n",
       "      <td>44325</td>\n",
       "      <td>So do</td>\n",
       "      <td>dong-Nam</td>\n",
       "      <td>dong-Nam</td>\n",
       "      <td>4.0</td>\n",
       "      <td>3.0</td>\n",
       "      <td>5.0</td>\n",
       "      <td>21.006694</td>\n",
       "      <td>105.835635</td>\n",
       "      <td>trong ngo</td>\n",
       "      <td>102632.0</td>\n",
       "    </tr>\n",
       "    <tr>\n",
       "      <th>448</th>\n",
       "      <td>25.0</td>\n",
       "      <td>2850.0</td>\n",
       "      <td>44325</td>\n",
       "      <td>không có thông tin</td>\n",
       "      <td>dong-Nam</td>\n",
       "      <td>dong-Nam</td>\n",
       "      <td>3.0</td>\n",
       "      <td>2.0</td>\n",
       "      <td>4.0</td>\n",
       "      <td>21.026821</td>\n",
       "      <td>105.825845</td>\n",
       "      <td>trong ngo</td>\n",
       "      <td>114000.0</td>\n",
       "    </tr>\n",
       "  </tbody>\n",
       "</table>\n",
       "<p>407 rows × 13 columns</p>\n",
       "</div>"
      ],
      "text/plain": [
       "     area    price  postDate    land_certificate house_direction  \\\n",
       "0    50.0  14700.0     44197               So do        dong-Nam   \n",
       "1    57.0   4200.0     44265               So do             Nam   \n",
       "2    62.0  11000.0     44268               So do        dong-Nam   \n",
       "3    26.0   2900.0     44292               So do        dong-Nam   \n",
       "4    40.0   3950.0     44292               So do        dong-Nam   \n",
       "..    ...      ...       ...                 ...             ...   \n",
       "444  90.0  32000.0     44325  không có thông tin        dong-Bac   \n",
       "445  58.0  15800.0     44325               So do        dong-Nam   \n",
       "446  96.0  10200.0     44325               So do        dong-Nam   \n",
       "447  38.0   3900.0     44325               So do        dong-Nam   \n",
       "448  25.0   2850.0     44325  không có thông tin        dong-Nam   \n",
       "\n",
       "    balcony_direction  toilet  bedroom  floor        lat        long  \\\n",
       "0            dong-Nam     4.0      6.0    6.0  21.015698  105.824583   \n",
       "1                 Nam     3.0      8.0    4.0  21.025208  105.833111   \n",
       "2            dong-Nam     6.0      5.0    6.0  21.025379  105.801011   \n",
       "3            dong-Nam     4.0      3.0    4.0  21.014325  105.834918   \n",
       "4            dong-Nam     4.0      3.0    5.0  21.009862  105.838083   \n",
       "..                ...     ...      ...    ...        ...         ...   \n",
       "444           Tay-Bac     4.0      3.0    8.0  21.017799  105.810572   \n",
       "445          dong-Nam     4.0      5.0    7.0  21.020556  105.828657   \n",
       "446          dong-Nam     4.0      3.0    4.0  21.012310  105.828978   \n",
       "447          dong-Nam     4.0      3.0    5.0  21.006694  105.835635   \n",
       "448          dong-Nam     3.0      2.0    4.0  21.026821  105.825845   \n",
       "\n",
       "    property_type    Giá/m2  \n",
       "0       trong ngo  294000.0  \n",
       "1       trong ngo   73684.0  \n",
       "2       trong ngo  177419.0  \n",
       "3       trong ngo  111538.0  \n",
       "4       trong ngo   98750.0  \n",
       "..            ...       ...  \n",
       "444     trong ngo  355556.0  \n",
       "445     trong ngo  272414.0  \n",
       "446     trong ngo  106250.0  \n",
       "447     trong ngo  102632.0  \n",
       "448     trong ngo  114000.0  \n",
       "\n",
       "[407 rows x 13 columns]"
      ]
     },
     "execution_count": 16,
     "metadata": {},
     "output_type": "execute_result"
    }
   ],
   "source": [
    "data_nhango['Giá/m2'] = round(10**3*data_nhango['price']/data_nhango['area'])\n",
    "data_nhango"
   ]
  },
  {
   "cell_type": "markdown",
   "id": "80643043",
   "metadata": {},
   "source": [
    "##### 5. Phát hiện giá trị ngoại lai của các thuộc tính: diện tích, giá/m2 bằng phương pháp IQR"
   ]
  },
  {
   "cell_type": "code",
   "execution_count": 17,
   "id": "ed596719",
   "metadata": {},
   "outputs": [
    {
     "data": {
      "text/plain": [
       "<AxesSubplot:xlabel='Giá/m2'>"
      ]
     },
     "execution_count": 17,
     "metadata": {},
     "output_type": "execute_result"
    },
    {
     "data": {
      "image/png": "[encoded data removed]",
      "text/plain": [
       "<Figure size 432x288 with 1 Axes>"
      ]
     },
     "metadata": {
      "needs_background": "light"
     },
     "output_type": "display_data"
    }
   ],
   "source": [
    "sns.boxplot(x=data_nhango['Giá/m2'])"
   ]
  },
  {
   "cell_type": "code",
   "execution_count": 18,
   "id": "21081179",
   "metadata": {},
   "outputs": [
    {
     "data": {
      "text/plain": [
       "area         27.75\n",
       "Giá/m2    99080.75\n",
       "dtype: float64"
      ]
     },
     "execution_count": 18,
     "metadata": {},
     "output_type": "execute_result"
    }
   ],
   "source": [
    "df = data_nhango[['area','Giá/m2']]\n",
    "Q1 = df.quantile(0.25)\n",
    "Q3 = df.quantile(0.75)\n",
    "IQR = Q3 - Q1\n",
    "IQR"
   ]
  },
  {
   "cell_type": "code",
   "execution_count": null,
   "id": "8bc4d3c3",
   "metadata": {},
   "outputs": [],
   "source": []
  },
  {
   "cell_type": "markdown",
   "id": "9036b901",
   "metadata": {},
   "source": [
    "##### 6. Thực hiện loại bỏ các dòng dữ liệu ngoại lai"
   ]
  },
  {
   "cell_type": "code",
   "execution_count": 19,
   "id": "073fe239",
   "metadata": {},
   "outputs": [],
   "source": [
    "# def quantile_outliers(df, colum):\n",
    "#     Q1 = df[colum].quantile(0.25)\n",
    "#     Q3 = df[colum].quantile(0.75)\n",
    "#     IQR = Q3- Q1\n",
    "#     index = df[(df[colum] < (Q1 - 1.5*IQR)) | (df[colum]>(Q3 + 1.5*IQR))].index\n",
    "#     return index\n",
    "# list_index = []\n",
    "# for i in ['area','Giá/m2']:\n",
    "#     list_index.extend(quantile_outliers(data_nhango,i))\n",
    "# data_nhango.drop(list_index, inplace=True)\n",
    "# data_nhango"
   ]
  },
  {
   "cell_type": "code",
   "execution_count": 20,
   "id": "bbb486b5",
   "metadata": {},
   "outputs": [
    {
     "data": {
      "text/plain": [
       "area                 1\n",
       "price                0\n",
       "postDate             0\n",
       "land_certificate     0\n",
       "house_direction      0\n",
       "balcony_direction    0\n",
       "toilet               0\n",
       "bedroom              0\n",
       "floor                0\n",
       "lat                  0\n",
       "long                 0\n",
       "property_type        0\n",
       "Giá/m2               1\n",
       "dtype: int64"
      ]
     },
     "execution_count": 20,
     "metadata": {},
     "output_type": "execute_result"
    }
   ],
   "source": [
    "data_not_outliers= data_nhango[~((df<(Q1-1.5*IQR)) | (df> (Q3 + 1.5*IQR))).any(axis=1)]\n",
    "# data_nhango.drop(data_outliers_index, inplace=True)\n",
    "# data_nhango\n",
    "data_not_outliers.isnull().sum()"
   ]
  },
  {
   "cell_type": "markdown",
   "id": "6ae7a66c",
   "metadata": {},
   "source": [
    "##### 7. Chuẩn hóa dữ liệu của tất cả các thuộc tính: price/m2 bằng các phương pháp: min-max scaling, z- score scaling, Robust scaling, và so sánh phân bố của thuộc tính này trước và sau khi chuẩn hóa"
   ]
  },
  {
   "cell_type": "code",
   "execution_count": 21,
   "id": "fea0985a",
   "metadata": {},
   "outputs": [
    {
     "data": {
      "text/plain": [
       "<AxesSubplot:xlabel='Giá/m2'>"
      ]
     },
     "execution_count": 21,
     "metadata": {},
     "output_type": "execute_result"
    },
    {
     "data": {
      "image/png": "[encoded data removed]",
      "text/plain": [
       "<Figure size 432x288 with 1 Axes>"
      ]
     },
     "metadata": {
      "needs_background": "light"
     },
     "output_type": "display_data"
    }
   ],
   "source": [
    "#Trước khi chuẩn hóa dữ liệu\n",
    "sns.boxplot(x=data_not_outliers['Giá/m2'])"
   ]
  },
  {
   "cell_type": "code",
   "execution_count": 22,
   "id": "8d1ffbf5",
   "metadata": {},
   "outputs": [
    {
     "data": {
      "text/plain": [
       "<AxesSubplot:xlabel='Giá/m2', ylabel='Density'>"
      ]
     },
     "execution_count": 22,
     "metadata": {},
     "output_type": "execute_result"
    },
    {
     "data": {
      "image/png": "[encoded data removed]",
      "text/plain": [
       "<Figure size 432x288 with 1 Axes>"
      ]
     },
     "metadata": {
      "needs_background": "light"
     },
     "output_type": "display_data"
    }
   ],
   "source": [
    "sns.kdeplot(data=data_not_outliers['Giá/m2'])"
   ]
  },
  {
   "cell_type": "code",
   "execution_count": 23,
   "id": "a9c48ab7",
   "metadata": {},
   "outputs": [
    {
     "name": "stderr",
     "output_type": "stream",
     "text": [
      "C:\\Users\\HP\\AppData\\Local\\Temp\\ipykernel_17640\\3306087489.py:4: SettingWithCopyWarning: \n",
      "A value is trying to be set on a copy of a slice from a DataFrame.\n",
      "Try using .loc[row_indexer,col_indexer] = value instead\n",
      "\n",
      "See the caveats in the documentation: https://pandas.pydata.org/pandas-docs/stable/user_guide/indexing.html#returning-a-view-versus-a-copy\n",
      "  data_not_outliers['Giá/m2'] = s_scaler.fit_transform(df_s)\n"
     ]
    },
    {
     "data": {
      "text/html": [
       "<div>\n",
       "<style scoped>\n",
       "    .dataframe tbody tr th:only-of-type {\n",
       "        vertical-align: middle;\n",
       "    }\n",
       "\n",
       "    .dataframe tbody tr th {\n",
       "        vertical-align: top;\n",
       "    }\n",
       "\n",
       "    .dataframe thead th {\n",
       "        text-align: right;\n",
       "    }\n",
       "</style>\n",
       "<table border=\"1\" class=\"dataframe\">\n",
       "  <thead>\n",
       "    <tr style=\"text-align: right;\">\n",
       "      <th></th>\n",
       "      <th>area</th>\n",
       "      <th>price</th>\n",
       "      <th>postDate</th>\n",
       "      <th>land_certificate</th>\n",
       "      <th>house_direction</th>\n",
       "      <th>balcony_direction</th>\n",
       "      <th>toilet</th>\n",
       "      <th>bedroom</th>\n",
       "      <th>floor</th>\n",
       "      <th>lat</th>\n",
       "      <th>long</th>\n",
       "      <th>property_type</th>\n",
       "      <th>Giá/m2</th>\n",
       "    </tr>\n",
       "  </thead>\n",
       "  <tbody>\n",
       "    <tr>\n",
       "      <th>0</th>\n",
       "      <td>50.0</td>\n",
       "      <td>14700.0</td>\n",
       "      <td>44197</td>\n",
       "      <td>So do</td>\n",
       "      <td>dong-Nam</td>\n",
       "      <td>dong-Nam</td>\n",
       "      <td>4.0</td>\n",
       "      <td>6.0</td>\n",
       "      <td>6.0</td>\n",
       "      <td>21.015698</td>\n",
       "      <td>105.824583</td>\n",
       "      <td>trong ngo</td>\n",
       "      <td>0.898209</td>\n",
       "    </tr>\n",
       "    <tr>\n",
       "      <th>1</th>\n",
       "      <td>57.0</td>\n",
       "      <td>4200.0</td>\n",
       "      <td>44265</td>\n",
       "      <td>So do</td>\n",
       "      <td>Nam</td>\n",
       "      <td>Nam</td>\n",
       "      <td>3.0</td>\n",
       "      <td>8.0</td>\n",
       "      <td>4.0</td>\n",
       "      <td>21.025208</td>\n",
       "      <td>105.833111</td>\n",
       "      <td>trong ngo</td>\n",
       "      <td>0.174782</td>\n",
       "    </tr>\n",
       "    <tr>\n",
       "      <th>2</th>\n",
       "      <td>62.0</td>\n",
       "      <td>11000.0</td>\n",
       "      <td>44268</td>\n",
       "      <td>So do</td>\n",
       "      <td>dong-Nam</td>\n",
       "      <td>dong-Nam</td>\n",
       "      <td>6.0</td>\n",
       "      <td>5.0</td>\n",
       "      <td>6.0</td>\n",
       "      <td>21.025379</td>\n",
       "      <td>105.801011</td>\n",
       "      <td>trong ngo</td>\n",
       "      <td>0.515405</td>\n",
       "    </tr>\n",
       "    <tr>\n",
       "      <th>3</th>\n",
       "      <td>26.0</td>\n",
       "      <td>2900.0</td>\n",
       "      <td>44292</td>\n",
       "      <td>So do</td>\n",
       "      <td>dong-Nam</td>\n",
       "      <td>dong-Nam</td>\n",
       "      <td>4.0</td>\n",
       "      <td>3.0</td>\n",
       "      <td>4.0</td>\n",
       "      <td>21.014325</td>\n",
       "      <td>105.834918</td>\n",
       "      <td>trong ngo</td>\n",
       "      <td>0.299079</td>\n",
       "    </tr>\n",
       "    <tr>\n",
       "      <th>4</th>\n",
       "      <td>40.0</td>\n",
       "      <td>3950.0</td>\n",
       "      <td>44292</td>\n",
       "      <td>So do</td>\n",
       "      <td>dong-Nam</td>\n",
       "      <td>dong-Nam</td>\n",
       "      <td>4.0</td>\n",
       "      <td>3.0</td>\n",
       "      <td>5.0</td>\n",
       "      <td>21.009862</td>\n",
       "      <td>105.838083</td>\n",
       "      <td>trong ngo</td>\n",
       "      <td>0.257088</td>\n",
       "    </tr>\n",
       "    <tr>\n",
       "      <th>...</th>\n",
       "      <td>...</td>\n",
       "      <td>...</td>\n",
       "      <td>...</td>\n",
       "      <td>...</td>\n",
       "      <td>...</td>\n",
       "      <td>...</td>\n",
       "      <td>...</td>\n",
       "      <td>...</td>\n",
       "      <td>...</td>\n",
       "      <td>...</td>\n",
       "      <td>...</td>\n",
       "      <td>...</td>\n",
       "      <td>...</td>\n",
       "    </tr>\n",
       "    <tr>\n",
       "      <th>443</th>\n",
       "      <td>25.0</td>\n",
       "      <td>2850.0</td>\n",
       "      <td>44325</td>\n",
       "      <td>không có thông tin</td>\n",
       "      <td>dong-Nam</td>\n",
       "      <td>dong-Nam</td>\n",
       "      <td>3.0</td>\n",
       "      <td>2.0</td>\n",
       "      <td>4.0</td>\n",
       "      <td>21.029522</td>\n",
       "      <td>105.827353</td>\n",
       "      <td>trong ngo</td>\n",
       "      <td>0.307163</td>\n",
       "    </tr>\n",
       "    <tr>\n",
       "      <th>445</th>\n",
       "      <td>58.0</td>\n",
       "      <td>15800.0</td>\n",
       "      <td>44325</td>\n",
       "      <td>So do</td>\n",
       "      <td>dong-Nam</td>\n",
       "      <td>dong-Nam</td>\n",
       "      <td>4.0</td>\n",
       "      <td>5.0</td>\n",
       "      <td>7.0</td>\n",
       "      <td>21.020556</td>\n",
       "      <td>105.828657</td>\n",
       "      <td>trong ngo</td>\n",
       "      <td>0.827329</td>\n",
       "    </tr>\n",
       "    <tr>\n",
       "      <th>446</th>\n",
       "      <td>96.0</td>\n",
       "      <td>10200.0</td>\n",
       "      <td>44325</td>\n",
       "      <td>So do</td>\n",
       "      <td>dong-Nam</td>\n",
       "      <td>dong-Nam</td>\n",
       "      <td>4.0</td>\n",
       "      <td>3.0</td>\n",
       "      <td>4.0</td>\n",
       "      <td>21.012310</td>\n",
       "      <td>105.828978</td>\n",
       "      <td>trong ngo</td>\n",
       "      <td>0.281715</td>\n",
       "    </tr>\n",
       "    <tr>\n",
       "      <th>447</th>\n",
       "      <td>38.0</td>\n",
       "      <td>3900.0</td>\n",
       "      <td>44325</td>\n",
       "      <td>So do</td>\n",
       "      <td>dong-Nam</td>\n",
       "      <td>dong-Nam</td>\n",
       "      <td>4.0</td>\n",
       "      <td>3.0</td>\n",
       "      <td>5.0</td>\n",
       "      <td>21.006694</td>\n",
       "      <td>105.835635</td>\n",
       "      <td>trong ngo</td>\n",
       "      <td>0.269835</td>\n",
       "    </tr>\n",
       "    <tr>\n",
       "      <th>448</th>\n",
       "      <td>25.0</td>\n",
       "      <td>2850.0</td>\n",
       "      <td>44325</td>\n",
       "      <td>không có thông tin</td>\n",
       "      <td>dong-Nam</td>\n",
       "      <td>dong-Nam</td>\n",
       "      <td>3.0</td>\n",
       "      <td>2.0</td>\n",
       "      <td>4.0</td>\n",
       "      <td>21.026821</td>\n",
       "      <td>105.825845</td>\n",
       "      <td>trong ngo</td>\n",
       "      <td>0.307163</td>\n",
       "    </tr>\n",
       "  </tbody>\n",
       "</table>\n",
       "<p>354 rows × 13 columns</p>\n",
       "</div>"
      ],
      "text/plain": [
       "     area    price  postDate    land_certificate house_direction  \\\n",
       "0    50.0  14700.0     44197               So do        dong-Nam   \n",
       "1    57.0   4200.0     44265               So do             Nam   \n",
       "2    62.0  11000.0     44268               So do        dong-Nam   \n",
       "3    26.0   2900.0     44292               So do        dong-Nam   \n",
       "4    40.0   3950.0     44292               So do        dong-Nam   \n",
       "..    ...      ...       ...                 ...             ...   \n",
       "443  25.0   2850.0     44325  không có thông tin        dong-Nam   \n",
       "445  58.0  15800.0     44325               So do        dong-Nam   \n",
       "446  96.0  10200.0     44325               So do        dong-Nam   \n",
       "447  38.0   3900.0     44325               So do        dong-Nam   \n",
       "448  25.0   2850.0     44325  không có thông tin        dong-Nam   \n",
       "\n",
       "    balcony_direction  toilet  bedroom  floor        lat        long  \\\n",
       "0            dong-Nam     4.0      6.0    6.0  21.015698  105.824583   \n",
       "1                 Nam     3.0      8.0    4.0  21.025208  105.833111   \n",
       "2            dong-Nam     6.0      5.0    6.0  21.025379  105.801011   \n",
       "3            dong-Nam     4.0      3.0    4.0  21.014325  105.834918   \n",
       "4            dong-Nam     4.0      3.0    5.0  21.009862  105.838083   \n",
       "..                ...     ...      ...    ...        ...         ...   \n",
       "443          dong-Nam     3.0      2.0    4.0  21.029522  105.827353   \n",
       "445          dong-Nam     4.0      5.0    7.0  21.020556  105.828657   \n",
       "446          dong-Nam     4.0      3.0    4.0  21.012310  105.828978   \n",
       "447          dong-Nam     4.0      3.0    5.0  21.006694  105.835635   \n",
       "448          dong-Nam     3.0      2.0    4.0  21.026821  105.825845   \n",
       "\n",
       "    property_type    Giá/m2  \n",
       "0       trong ngo  0.898209  \n",
       "1       trong ngo  0.174782  \n",
       "2       trong ngo  0.515405  \n",
       "3       trong ngo  0.299079  \n",
       "4       trong ngo  0.257088  \n",
       "..            ...       ...  \n",
       "443     trong ngo  0.307163  \n",
       "445     trong ngo  0.827329  \n",
       "446     trong ngo  0.281715  \n",
       "447     trong ngo  0.269835  \n",
       "448     trong ngo  0.307163  \n",
       "\n",
       "[354 rows x 13 columns]"
      ]
     },
     "execution_count": 23,
     "metadata": {},
     "output_type": "execute_result"
    }
   ],
   "source": [
    "#Chuẩn hóa bằng pp MinMaxScaler\n",
    "s_scaler = MinMaxScaler()\n",
    "df_s = np.array(data_not_outliers['Giá/m2']).reshape(-1,1)\n",
    "data_not_outliers['Giá/m2'] = s_scaler.fit_transform(df_s)\n",
    "data_not_outliers"
   ]
  },
  {
   "cell_type": "code",
   "execution_count": 24,
   "id": "e0836de2",
   "metadata": {},
   "outputs": [
    {
     "data": {
      "text/plain": [
       "<AxesSubplot:xlabel='Giá/m2', ylabel='Density'>"
      ]
     },
     "execution_count": 24,
     "metadata": {},
     "output_type": "execute_result"
    },
    {
     "data": {
      "image/png": "[encoded data removed]",
      "text/plain": [
       "<Figure size 432x288 with 1 Axes>"
      ]
     },
     "metadata": {
      "needs_background": "light"
     },
     "output_type": "display_data"
    }
   ],
   "source": [
    "sns.kdeplot(data=data_not_outliers['Giá/m2'])"
   ]
  },
  {
   "cell_type": "code",
   "execution_count": 25,
   "id": "0a1dd03b",
   "metadata": {},
   "outputs": [
    {
     "data": {
      "text/plain": [
       "<AxesSubplot:xlabel='Giá/m2'>"
      ]
     },
     "execution_count": 25,
     "metadata": {},
     "output_type": "execute_result"
    },
    {
     "data": {
      "image/png": "[encoded data removed]",
      "text/plain": [
       "<Figure size 432x288 with 1 Axes>"
      ]
     },
     "metadata": {
      "needs_background": "light"
     },
     "output_type": "display_data"
    }
   ],
   "source": [
    "sns.boxplot(x=data_not_outliers['Giá/m2'])"
   ]
  },
  {
   "cell_type": "code",
   "execution_count": 26,
   "id": "1dd9d07c",
   "metadata": {},
   "outputs": [],
   "source": [
    "#Hầu như không có sự thay đổi về hình dáng biểu đồ, sau khi chuẩn hóa dữ liệu thu lại về khoảng giá trị nhỏ hơn giá trị ban đầu"
   ]
  },
  {
   "cell_type": "markdown",
   "id": "c6efeed7",
   "metadata": {},
   "source": [
    "Yêu cầu<br>\n",
    "Vẽ biểu đồ phân tích mối liên hệ giữa diện tích với giá nhà, giữa số phòng ngủ với giá nhà, giữa số toilet với giá nhà.<br>\n",
    "Vẽ biểu đồ so sánh giá nhà trung bình trên 1 m2 giữa các hình thức nhà (type_of_land).<br>"
   ]
  },
  {
   "cell_type": "code",
   "execution_count": 27,
   "id": "e83b58d0",
   "metadata": {},
   "outputs": [
    {
     "data": {
      "text/html": [
       "<div>\n",
       "<style scoped>\n",
       "    .dataframe tbody tr th:only-of-type {\n",
       "        vertical-align: middle;\n",
       "    }\n",
       "\n",
       "    .dataframe tbody tr th {\n",
       "        vertical-align: top;\n",
       "    }\n",
       "\n",
       "    .dataframe thead th {\n",
       "        text-align: right;\n",
       "    }\n",
       "</style>\n",
       "<table border=\"1\" class=\"dataframe\">\n",
       "  <thead>\n",
       "    <tr style=\"text-align: right;\">\n",
       "      <th></th>\n",
       "      <th>area</th>\n",
       "      <th>price</th>\n",
       "      <th>postDate</th>\n",
       "      <th>land_certificate</th>\n",
       "      <th>house_direction</th>\n",
       "      <th>balcony_direction</th>\n",
       "      <th>toilet</th>\n",
       "      <th>bedroom</th>\n",
       "      <th>floor</th>\n",
       "      <th>lat</th>\n",
       "      <th>long</th>\n",
       "      <th>property_type</th>\n",
       "    </tr>\n",
       "  </thead>\n",
       "  <tbody>\n",
       "    <tr>\n",
       "      <th>0</th>\n",
       "      <td>50.0</td>\n",
       "      <td>14700.0</td>\n",
       "      <td>44197</td>\n",
       "      <td>So do</td>\n",
       "      <td>dong-Nam</td>\n",
       "      <td>dong-Nam</td>\n",
       "      <td>4.0</td>\n",
       "      <td>6.0</td>\n",
       "      <td>6.0</td>\n",
       "      <td>21.015698</td>\n",
       "      <td>105.824583</td>\n",
       "      <td>trong ngo</td>\n",
       "    </tr>\n",
       "    <tr>\n",
       "      <th>1</th>\n",
       "      <td>57.0</td>\n",
       "      <td>4200.0</td>\n",
       "      <td>44265</td>\n",
       "      <td>So do</td>\n",
       "      <td>Nam</td>\n",
       "      <td>Nam</td>\n",
       "      <td>3.0</td>\n",
       "      <td>8.0</td>\n",
       "      <td>4.0</td>\n",
       "      <td>21.025208</td>\n",
       "      <td>105.833111</td>\n",
       "      <td>trong ngo</td>\n",
       "    </tr>\n",
       "    <tr>\n",
       "      <th>2</th>\n",
       "      <td>62.0</td>\n",
       "      <td>11000.0</td>\n",
       "      <td>44268</td>\n",
       "      <td>So do</td>\n",
       "      <td>dong-Nam</td>\n",
       "      <td>dong-Nam</td>\n",
       "      <td>6.0</td>\n",
       "      <td>5.0</td>\n",
       "      <td>6.0</td>\n",
       "      <td>21.025379</td>\n",
       "      <td>105.801011</td>\n",
       "      <td>trong ngo</td>\n",
       "    </tr>\n",
       "    <tr>\n",
       "      <th>3</th>\n",
       "      <td>26.0</td>\n",
       "      <td>2900.0</td>\n",
       "      <td>44292</td>\n",
       "      <td>So do</td>\n",
       "      <td>dong-Nam</td>\n",
       "      <td>dong-Nam</td>\n",
       "      <td>4.0</td>\n",
       "      <td>3.0</td>\n",
       "      <td>4.0</td>\n",
       "      <td>21.014325</td>\n",
       "      <td>105.834918</td>\n",
       "      <td>trong ngo</td>\n",
       "    </tr>\n",
       "    <tr>\n",
       "      <th>4</th>\n",
       "      <td>40.0</td>\n",
       "      <td>3950.0</td>\n",
       "      <td>44292</td>\n",
       "      <td>So do</td>\n",
       "      <td>dong-Nam</td>\n",
       "      <td>dong-Nam</td>\n",
       "      <td>4.0</td>\n",
       "      <td>3.0</td>\n",
       "      <td>5.0</td>\n",
       "      <td>21.009862</td>\n",
       "      <td>105.838083</td>\n",
       "      <td>trong ngo</td>\n",
       "    </tr>\n",
       "    <tr>\n",
       "      <th>...</th>\n",
       "      <td>...</td>\n",
       "      <td>...</td>\n",
       "      <td>...</td>\n",
       "      <td>...</td>\n",
       "      <td>...</td>\n",
       "      <td>...</td>\n",
       "      <td>...</td>\n",
       "      <td>...</td>\n",
       "      <td>...</td>\n",
       "      <td>...</td>\n",
       "      <td>...</td>\n",
       "      <td>...</td>\n",
       "    </tr>\n",
       "    <tr>\n",
       "      <th>666</th>\n",
       "      <td>168.0</td>\n",
       "      <td>23500.0</td>\n",
       "      <td>44325</td>\n",
       "      <td>không có thông tin</td>\n",
       "      <td>dong-Nam</td>\n",
       "      <td>dong-Nam</td>\n",
       "      <td>3.0</td>\n",
       "      <td>3.0</td>\n",
       "      <td>3.0</td>\n",
       "      <td>21.000823</td>\n",
       "      <td>105.829097</td>\n",
       "      <td>mat pho</td>\n",
       "    </tr>\n",
       "    <tr>\n",
       "      <th>667</th>\n",
       "      <td>65.0</td>\n",
       "      <td>17500.0</td>\n",
       "      <td>44325</td>\n",
       "      <td>So do</td>\n",
       "      <td>dong-Nam</td>\n",
       "      <td>dong-Nam</td>\n",
       "      <td>4.0</td>\n",
       "      <td>6.0</td>\n",
       "      <td>5.0</td>\n",
       "      <td>21.011495</td>\n",
       "      <td>105.816666</td>\n",
       "      <td>mat pho</td>\n",
       "    </tr>\n",
       "    <tr>\n",
       "      <th>668</th>\n",
       "      <td>60.0</td>\n",
       "      <td>17500.0</td>\n",
       "      <td>44197</td>\n",
       "      <td>không có thông tin</td>\n",
       "      <td>dong-Nam</td>\n",
       "      <td>dong-Nam</td>\n",
       "      <td>4.0</td>\n",
       "      <td>3.0</td>\n",
       "      <td>5.0</td>\n",
       "      <td>21.011495</td>\n",
       "      <td>105.816666</td>\n",
       "      <td>mat pho</td>\n",
       "    </tr>\n",
       "    <tr>\n",
       "      <th>669</th>\n",
       "      <td>45.0</td>\n",
       "      <td>24800.0</td>\n",
       "      <td>44197</td>\n",
       "      <td>không có thông tin</td>\n",
       "      <td>dong-Nam</td>\n",
       "      <td>dong-Nam</td>\n",
       "      <td>4.0</td>\n",
       "      <td>3.0</td>\n",
       "      <td>5.0</td>\n",
       "      <td>21.016106</td>\n",
       "      <td>105.832157</td>\n",
       "      <td>mat pho</td>\n",
       "    </tr>\n",
       "    <tr>\n",
       "      <th>670</th>\n",
       "      <td>107.0</td>\n",
       "      <td>45000.0</td>\n",
       "      <td>44325</td>\n",
       "      <td>So do</td>\n",
       "      <td>dong-Nam</td>\n",
       "      <td>dong-Nam</td>\n",
       "      <td>4.0</td>\n",
       "      <td>3.0</td>\n",
       "      <td>5.0</td>\n",
       "      <td>21.009123</td>\n",
       "      <td>105.824428</td>\n",
       "      <td>mat pho</td>\n",
       "    </tr>\n",
       "  </tbody>\n",
       "</table>\n",
       "<p>617 rows × 12 columns</p>\n",
       "</div>"
      ],
      "text/plain": [
       "      area    price  postDate    land_certificate house_direction  \\\n",
       "0     50.0  14700.0     44197               So do        dong-Nam   \n",
       "1     57.0   4200.0     44265               So do             Nam   \n",
       "2     62.0  11000.0     44268               So do        dong-Nam   \n",
       "3     26.0   2900.0     44292               So do        dong-Nam   \n",
       "4     40.0   3950.0     44292               So do        dong-Nam   \n",
       "..     ...      ...       ...                 ...             ...   \n",
       "666  168.0  23500.0     44325  không có thông tin        dong-Nam   \n",
       "667   65.0  17500.0     44325               So do        dong-Nam   \n",
       "668   60.0  17500.0     44197  không có thông tin        dong-Nam   \n",
       "669   45.0  24800.0     44197  không có thông tin        dong-Nam   \n",
       "670  107.0  45000.0     44325               So do        dong-Nam   \n",
       "\n",
       "    balcony_direction  toilet  bedroom  floor        lat        long  \\\n",
       "0            dong-Nam     4.0      6.0    6.0  21.015698  105.824583   \n",
       "1                 Nam     3.0      8.0    4.0  21.025208  105.833111   \n",
       "2            dong-Nam     6.0      5.0    6.0  21.025379  105.801011   \n",
       "3            dong-Nam     4.0      3.0    4.0  21.014325  105.834918   \n",
       "4            dong-Nam     4.0      3.0    5.0  21.009862  105.838083   \n",
       "..                ...     ...      ...    ...        ...         ...   \n",
       "666          dong-Nam     3.0      3.0    3.0  21.000823  105.829097   \n",
       "667          dong-Nam     4.0      6.0    5.0  21.011495  105.816666   \n",
       "668          dong-Nam     4.0      3.0    5.0  21.011495  105.816666   \n",
       "669          dong-Nam     4.0      3.0    5.0  21.016106  105.832157   \n",
       "670          dong-Nam     4.0      3.0    5.0  21.009123  105.824428   \n",
       "\n",
       "    property_type  \n",
       "0       trong ngo  \n",
       "1       trong ngo  \n",
       "2       trong ngo  \n",
       "3       trong ngo  \n",
       "4       trong ngo  \n",
       "..            ...  \n",
       "666       mat pho  \n",
       "667       mat pho  \n",
       "668       mat pho  \n",
       "669       mat pho  \n",
       "670       mat pho  \n",
       "\n",
       "[617 rows x 12 columns]"
      ]
     },
     "execution_count": 27,
     "metadata": {},
     "output_type": "execute_result"
    }
   ],
   "source": [
    "data\n",
    "#data đã xử lý dữ liệu khuyết thiếu, xóa dữ liệu price ko có giá trị, thay thế các dữ liệu khuyết thiếu"
   ]
  },
  {
   "cell_type": "code",
   "execution_count": 28,
   "id": "20c44187",
   "metadata": {},
   "outputs": [
    {
     "data": {
      "text/plain": [
       "<AxesSubplot:>"
      ]
     },
     "execution_count": 28,
     "metadata": {},
     "output_type": "execute_result"
    },
    {
     "data": {
      "image/png": "[encoded data removed]",
      "text/plain": [
       "<Figure size 432x288 with 1 Axes>"
      ]
     },
     "metadata": {
      "needs_background": "light"
     },
     "output_type": "display_data"
    }
   ],
   "source": [
    "data.boxplot()"
   ]
  },
  {
   "cell_type": "code",
   "execution_count": 29,
   "id": "339f7f63",
   "metadata": {},
   "outputs": [
    {
     "name": "stderr",
     "output_type": "stream",
     "text": [
      "C:\\Users\\HP\\anaconda3\\lib\\site-packages\\seaborn\\_decorators.py:36: FutureWarning: Pass the following variable as a keyword arg: x. From version 0.12, the only valid positional argument will be `data`, and passing other arguments without an explicit keyword will result in an error or misinterpretation.\n",
      "  warnings.warn(\n"
     ]
    },
    {
     "data": {
      "text/plain": [
       "<AxesSubplot:xlabel='area'>"
      ]
     },
     "execution_count": 29,
     "metadata": {},
     "output_type": "execute_result"
    },
    {
     "data": {
      "image/png": "[encoded data removed]",
      "text/plain": [
       "<Figure size 432x288 with 1 Axes>"
      ]
     },
     "metadata": {
      "needs_background": "light"
     },
     "output_type": "display_data"
    }
   ],
   "source": [
    "sns.boxplot(data['area'])"
   ]
  },
  {
   "cell_type": "code",
   "execution_count": 30,
   "id": "9b89b821",
   "metadata": {},
   "outputs": [
    {
     "name": "stderr",
     "output_type": "stream",
     "text": [
      "C:\\Users\\HP\\anaconda3\\lib\\site-packages\\seaborn\\_decorators.py:36: FutureWarning: Pass the following variable as a keyword arg: x. From version 0.12, the only valid positional argument will be `data`, and passing other arguments without an explicit keyword will result in an error or misinterpretation.\n",
      "  warnings.warn(\n"
     ]
    },
    {
     "data": {
      "text/plain": [
       "<AxesSubplot:xlabel='price'>"
      ]
     },
     "execution_count": 30,
     "metadata": {},
     "output_type": "execute_result"
    },
    {
     "data": {
      "image/png": "[encoded data removed]",
      "text/plain": [
       "<Figure size 432x288 with 1 Axes>"
      ]
     },
     "metadata": {
      "needs_background": "light"
     },
     "output_type": "display_data"
    }
   ],
   "source": [
    "sns.boxplot(data['price'])"
   ]
  },
  {
   "cell_type": "code",
   "execution_count": 31,
   "id": "493536b3",
   "metadata": {},
   "outputs": [],
   "source": [
    "data.isnull().sum()\n",
    "#=> còn dữ liệu area chưa có thông tin 2 cột, tiến hành xóa dữ liệu này để không ảnh hưởng đến tính giá\n",
    "data.dropna(inplace=True)\n",
    "data = data[data['area']>0]"
   ]
  },
  {
   "cell_type": "code",
   "execution_count": 32,
   "id": "18c561d8",
   "metadata": {},
   "outputs": [
    {
     "data": {
      "text/html": [
       "<div>\n",
       "<style scoped>\n",
       "    .dataframe tbody tr th:only-of-type {\n",
       "        vertical-align: middle;\n",
       "    }\n",
       "\n",
       "    .dataframe tbody tr th {\n",
       "        vertical-align: top;\n",
       "    }\n",
       "\n",
       "    .dataframe thead th {\n",
       "        text-align: right;\n",
       "    }\n",
       "</style>\n",
       "<table border=\"1\" class=\"dataframe\">\n",
       "  <thead>\n",
       "    <tr style=\"text-align: right;\">\n",
       "      <th></th>\n",
       "      <th>area</th>\n",
       "      <th>price</th>\n",
       "      <th>postDate</th>\n",
       "      <th>land_certificate</th>\n",
       "      <th>house_direction</th>\n",
       "      <th>balcony_direction</th>\n",
       "      <th>toilet</th>\n",
       "      <th>bedroom</th>\n",
       "      <th>floor</th>\n",
       "      <th>lat</th>\n",
       "      <th>long</th>\n",
       "      <th>property_type</th>\n",
       "    </tr>\n",
       "  </thead>\n",
       "  <tbody>\n",
       "    <tr>\n",
       "      <th>0</th>\n",
       "      <td>50.0</td>\n",
       "      <td>14700.0</td>\n",
       "      <td>44197</td>\n",
       "      <td>So do</td>\n",
       "      <td>dong-Nam</td>\n",
       "      <td>dong-Nam</td>\n",
       "      <td>4.0</td>\n",
       "      <td>6.0</td>\n",
       "      <td>6.0</td>\n",
       "      <td>21.015698</td>\n",
       "      <td>105.824583</td>\n",
       "      <td>trong ngo</td>\n",
       "    </tr>\n",
       "    <tr>\n",
       "      <th>1</th>\n",
       "      <td>57.0</td>\n",
       "      <td>4200.0</td>\n",
       "      <td>44265</td>\n",
       "      <td>So do</td>\n",
       "      <td>Nam</td>\n",
       "      <td>Nam</td>\n",
       "      <td>3.0</td>\n",
       "      <td>8.0</td>\n",
       "      <td>4.0</td>\n",
       "      <td>21.025208</td>\n",
       "      <td>105.833111</td>\n",
       "      <td>trong ngo</td>\n",
       "    </tr>\n",
       "    <tr>\n",
       "      <th>2</th>\n",
       "      <td>62.0</td>\n",
       "      <td>11000.0</td>\n",
       "      <td>44268</td>\n",
       "      <td>So do</td>\n",
       "      <td>dong-Nam</td>\n",
       "      <td>dong-Nam</td>\n",
       "      <td>6.0</td>\n",
       "      <td>5.0</td>\n",
       "      <td>6.0</td>\n",
       "      <td>21.025379</td>\n",
       "      <td>105.801011</td>\n",
       "      <td>trong ngo</td>\n",
       "    </tr>\n",
       "    <tr>\n",
       "      <th>3</th>\n",
       "      <td>26.0</td>\n",
       "      <td>2900.0</td>\n",
       "      <td>44292</td>\n",
       "      <td>So do</td>\n",
       "      <td>dong-Nam</td>\n",
       "      <td>dong-Nam</td>\n",
       "      <td>4.0</td>\n",
       "      <td>3.0</td>\n",
       "      <td>4.0</td>\n",
       "      <td>21.014325</td>\n",
       "      <td>105.834918</td>\n",
       "      <td>trong ngo</td>\n",
       "    </tr>\n",
       "    <tr>\n",
       "      <th>4</th>\n",
       "      <td>40.0</td>\n",
       "      <td>3950.0</td>\n",
       "      <td>44292</td>\n",
       "      <td>So do</td>\n",
       "      <td>dong-Nam</td>\n",
       "      <td>dong-Nam</td>\n",
       "      <td>4.0</td>\n",
       "      <td>3.0</td>\n",
       "      <td>5.0</td>\n",
       "      <td>21.009862</td>\n",
       "      <td>105.838083</td>\n",
       "      <td>trong ngo</td>\n",
       "    </tr>\n",
       "    <tr>\n",
       "      <th>...</th>\n",
       "      <td>...</td>\n",
       "      <td>...</td>\n",
       "      <td>...</td>\n",
       "      <td>...</td>\n",
       "      <td>...</td>\n",
       "      <td>...</td>\n",
       "      <td>...</td>\n",
       "      <td>...</td>\n",
       "      <td>...</td>\n",
       "      <td>...</td>\n",
       "      <td>...</td>\n",
       "      <td>...</td>\n",
       "    </tr>\n",
       "    <tr>\n",
       "      <th>664</th>\n",
       "      <td>76.0</td>\n",
       "      <td>30500.0</td>\n",
       "      <td>44197</td>\n",
       "      <td>không có thông tin</td>\n",
       "      <td>dong-Nam</td>\n",
       "      <td>dong-Nam</td>\n",
       "      <td>4.0</td>\n",
       "      <td>3.0</td>\n",
       "      <td>5.0</td>\n",
       "      <td>21.009533</td>\n",
       "      <td>105.820193</td>\n",
       "      <td>mat pho</td>\n",
       "    </tr>\n",
       "    <tr>\n",
       "      <th>667</th>\n",
       "      <td>65.0</td>\n",
       "      <td>17500.0</td>\n",
       "      <td>44325</td>\n",
       "      <td>So do</td>\n",
       "      <td>dong-Nam</td>\n",
       "      <td>dong-Nam</td>\n",
       "      <td>4.0</td>\n",
       "      <td>6.0</td>\n",
       "      <td>5.0</td>\n",
       "      <td>21.011495</td>\n",
       "      <td>105.816666</td>\n",
       "      <td>mat pho</td>\n",
       "    </tr>\n",
       "    <tr>\n",
       "      <th>668</th>\n",
       "      <td>60.0</td>\n",
       "      <td>17500.0</td>\n",
       "      <td>44197</td>\n",
       "      <td>không có thông tin</td>\n",
       "      <td>dong-Nam</td>\n",
       "      <td>dong-Nam</td>\n",
       "      <td>4.0</td>\n",
       "      <td>3.0</td>\n",
       "      <td>5.0</td>\n",
       "      <td>21.011495</td>\n",
       "      <td>105.816666</td>\n",
       "      <td>mat pho</td>\n",
       "    </tr>\n",
       "    <tr>\n",
       "      <th>669</th>\n",
       "      <td>45.0</td>\n",
       "      <td>24800.0</td>\n",
       "      <td>44197</td>\n",
       "      <td>không có thông tin</td>\n",
       "      <td>dong-Nam</td>\n",
       "      <td>dong-Nam</td>\n",
       "      <td>4.0</td>\n",
       "      <td>3.0</td>\n",
       "      <td>5.0</td>\n",
       "      <td>21.016106</td>\n",
       "      <td>105.832157</td>\n",
       "      <td>mat pho</td>\n",
       "    </tr>\n",
       "    <tr>\n",
       "      <th>670</th>\n",
       "      <td>107.0</td>\n",
       "      <td>45000.0</td>\n",
       "      <td>44325</td>\n",
       "      <td>So do</td>\n",
       "      <td>dong-Nam</td>\n",
       "      <td>dong-Nam</td>\n",
       "      <td>4.0</td>\n",
       "      <td>3.0</td>\n",
       "      <td>5.0</td>\n",
       "      <td>21.009123</td>\n",
       "      <td>105.824428</td>\n",
       "      <td>mat pho</td>\n",
       "    </tr>\n",
       "  </tbody>\n",
       "</table>\n",
       "<p>540 rows × 12 columns</p>\n",
       "</div>"
      ],
      "text/plain": [
       "      area    price  postDate    land_certificate house_direction  \\\n",
       "0     50.0  14700.0     44197               So do        dong-Nam   \n",
       "1     57.0   4200.0     44265               So do             Nam   \n",
       "2     62.0  11000.0     44268               So do        dong-Nam   \n",
       "3     26.0   2900.0     44292               So do        dong-Nam   \n",
       "4     40.0   3950.0     44292               So do        dong-Nam   \n",
       "..     ...      ...       ...                 ...             ...   \n",
       "664   76.0  30500.0     44197  không có thông tin        dong-Nam   \n",
       "667   65.0  17500.0     44325               So do        dong-Nam   \n",
       "668   60.0  17500.0     44197  không có thông tin        dong-Nam   \n",
       "669   45.0  24800.0     44197  không có thông tin        dong-Nam   \n",
       "670  107.0  45000.0     44325               So do        dong-Nam   \n",
       "\n",
       "    balcony_direction  toilet  bedroom  floor        lat        long  \\\n",
       "0            dong-Nam     4.0      6.0    6.0  21.015698  105.824583   \n",
       "1                 Nam     3.0      8.0    4.0  21.025208  105.833111   \n",
       "2            dong-Nam     6.0      5.0    6.0  21.025379  105.801011   \n",
       "3            dong-Nam     4.0      3.0    4.0  21.014325  105.834918   \n",
       "4            dong-Nam     4.0      3.0    5.0  21.009862  105.838083   \n",
       "..                ...     ...      ...    ...        ...         ...   \n",
       "664          dong-Nam     4.0      3.0    5.0  21.009533  105.820193   \n",
       "667          dong-Nam     4.0      6.0    5.0  21.011495  105.816666   \n",
       "668          dong-Nam     4.0      3.0    5.0  21.011495  105.816666   \n",
       "669          dong-Nam     4.0      3.0    5.0  21.016106  105.832157   \n",
       "670          dong-Nam     4.0      3.0    5.0  21.009123  105.824428   \n",
       "\n",
       "    property_type  \n",
       "0       trong ngo  \n",
       "1       trong ngo  \n",
       "2       trong ngo  \n",
       "3       trong ngo  \n",
       "4       trong ngo  \n",
       "..            ...  \n",
       "664       mat pho  \n",
       "667       mat pho  \n",
       "668       mat pho  \n",
       "669       mat pho  \n",
       "670       mat pho  \n",
       "\n",
       "[540 rows x 12 columns]"
      ]
     },
     "execution_count": 32,
     "metadata": {},
     "output_type": "execute_result"
    }
   ],
   "source": [
    "#xử lý dữ liệu ngoại lai với 2 cột area và price\n",
    "df = data[['area','price']]\n",
    "Q1 = df.quantile(0.25)\n",
    "Q3 = df.quantile(0.75)\n",
    "IQR = Q3 - Q1\n",
    "# data['Outliner']= ~((df<(Q1-1.5*IQR)) | (df> (Q3 + 1.5*IQR)))\n",
    "# data = data[data['Outliner']==True]\n",
    "# data\n",
    "data= data[~((df<(Q1-1.5*IQR)) | (df> (Q3 + 1.5*IQR))).any(axis=1)]\n",
    "data"
   ]
  },
  {
   "cell_type": "code",
   "execution_count": 33,
   "id": "58be47a7",
   "metadata": {},
   "outputs": [
    {
     "name": "stderr",
     "output_type": "stream",
     "text": [
      "C:\\Users\\HP\\anaconda3\\lib\\site-packages\\seaborn\\_decorators.py:36: FutureWarning: Pass the following variable as a keyword arg: x. From version 0.12, the only valid positional argument will be `data`, and passing other arguments without an explicit keyword will result in an error or misinterpretation.\n",
      "  warnings.warn(\n"
     ]
    },
    {
     "data": {
      "text/plain": [
       "<AxesSubplot:xlabel='price'>"
      ]
     },
     "execution_count": 33,
     "metadata": {},
     "output_type": "execute_result"
    },
    {
     "data": {
      "image/png": "[encoded data removed]",
      "text/plain": [
       "<Figure size 432x288 with 1 Axes>"
      ]
     },
     "metadata": {
      "needs_background": "light"
     },
     "output_type": "display_data"
    }
   ],
   "source": [
    "sns.boxplot(data['price'])"
   ]
  },
  {
   "cell_type": "markdown",
   "id": "0d79a327",
   "metadata": {},
   "source": [
    "# Data Visulization"
   ]
  },
  {
   "cell_type": "markdown",
   "id": "5663b16d",
   "metadata": {},
   "source": [
    "#### 1. Vẽ biểu đồ phân tích mối liên hệ giữa diện tích với giá nhà, giữa số phòng ngủ với giá nhà, giữa số toilet với giá nhà.<br>"
   ]
  },
  {
   "cell_type": "code",
   "execution_count": 37,
   "id": "26cbea02",
   "metadata": {},
   "outputs": [
    {
     "data": {
      "image/png": "[encoded data removed]",
      "text/plain": [
       "<Figure size 432x288 with 1 Axes>"
      ]
     },
     "metadata": {},
     "output_type": "display_data"
    }
   ],
   "source": [
    "plt.scatter(x=data['area'].values, y=data['price'].values, marker='x')\n",
    "plt.title('The relation between area and price')\n",
    "plt.xlabel('Area')\n",
    "plt.ylabel('Price')\n",
    "plt.show()"
   ]
  },
  {
   "cell_type": "code",
   "execution_count": 38,
   "id": "4e3143fa",
   "metadata": {},
   "outputs": [
    {
     "data": {
      "text/plain": [
       "<seaborn.axisgrid.FacetGrid at 0x17504a0e0d0>"
      ]
     },
     "execution_count": 38,
     "metadata": {},
     "output_type": "execute_result"
    },
    {
     "data": {
      "image/png": "[encoded data removed]",
      "text/plain": [
       "<Figure size 360x360 with 1 Axes>"
      ]
     },
     "metadata": {},
     "output_type": "display_data"
    }
   ],
   "source": [
    "sns.set_style('whitegrid')\n",
    "sns.lmplot(x='area', y='price', data=data)"
   ]
  },
  {
   "cell_type": "code",
   "execution_count": 39,
   "id": "5a398a24",
   "metadata": {},
   "outputs": [
    {
     "data": {
      "image/png": "[encoded data removed]",
      "text/plain": [
       "<Figure size 432x288 with 1 Axes>"
      ]
     },
     "metadata": {},
     "output_type": "display_data"
    }
   ],
   "source": [
    "plt.scatter(x=data['bedroom'].values, y=data['price'].values, marker='o')\n",
    "plt.title('The relation between bedroom and price')\n",
    "plt.xlabel('Bedroom')\n",
    "plt.ylabel('Price')\n",
    "plt.show()"
   ]
  },
  {
   "cell_type": "code",
   "execution_count": 40,
   "id": "8aba83fd",
   "metadata": {},
   "outputs": [
    {
     "data": {
      "image/png": "[encoded data removed]",
      "text/plain": [
       "<Figure size 432x288 with 1 Axes>"
      ]
     },
     "metadata": {},
     "output_type": "display_data"
    }
   ],
   "source": [
    "plt.scatter(x=data['toilet'].values, y=data['price'].values, marker='o')\n",
    "plt.title('The relation between toilet and price')\n",
    "plt.xlabel('toilet')\n",
    "plt.ylabel('Price')\n",
    "plt.show()"
   ]
  },
  {
   "cell_type": "markdown",
   "id": "430e37ac",
   "metadata": {},
   "source": [
    "#### 2. Vẽ biểu đồ so sánh giá nhà trung bình trên 1 m2 giữa các hình thức nhà (type_of_land).<br>"
   ]
  },
  {
   "cell_type": "code",
   "execution_count": 41,
   "id": "4a4f385b",
   "metadata": {},
   "outputs": [
    {
     "data": {
      "image/png": "[encoded data removed]",
      "text/plain": [
       "<Figure size 432x288 with 1 Axes>"
      ]
     },
     "metadata": {},
     "output_type": "display_data"
    }
   ],
   "source": [
    "data['Gia/1m2'] = data['price']/data['area']\n",
    "data1 = data.groupby('property_type')['Gia/1m2'].mean()\n",
    "# data[data['property_type']=='trong ngo'].min()\n",
    "data1\n",
    "# data.isnull().sum()\n",
    "plt.bar(x = data1.index, height = data1.values, width=0.5)\n",
    "plt.title('The average price of type of land')\n",
    "plt.xlabel('toilet')\n",
    "plt.ylabel('Price')\n",
    "plt.show()"
   ]
  },
  {
   "cell_type": "markdown",
   "id": "f092fc06",
   "metadata": {},
   "source": [
    "Vẽ biểu đồ thể hiện tỉ lệ % bài đăng (bản ghi) giữa các hình thức nhà (type_of_land).<br>\n",
    "Vẽ biểu đồ thể hiện sự thay đổi giá nhà trung bình trên 1m2 theo số lượng phòng ngủ.<br>"
   ]
  },
  {
   "cell_type": "code",
   "execution_count": 42,
   "id": "71266e03",
   "metadata": {},
   "outputs": [
    {
     "data": {
      "image/png": "[encoded data removed]",
      "text/plain": [
       "<Figure size 432x288 with 1 Axes>"
      ]
     },
     "metadata": {},
     "output_type": "display_data"
    }
   ],
   "source": [
    "data2 = data.groupby('property_type')['postDate'].sum()\n",
    "plt.pie(data2, labels = data2.index, autopct='%1.2f%%')\n",
    "plt.title('The proporsition of postdate and type of land')\n",
    "plt.show()"
   ]
  },
  {
   "cell_type": "code",
   "execution_count": 43,
   "id": "7ba86ddb",
   "metadata": {},
   "outputs": [
    {
     "data": {
      "image/png": "[encoded data removed]",
      "text/plain": [
       "<Figure size 432x288 with 1 Axes>"
      ]
     },
     "metadata": {},
     "output_type": "display_data"
    }
   ],
   "source": [
    "data3 = data.groupby('bedroom')['Gia/1m2'].mean()\n",
    "plt.bar(x = data3.index, height = data3.values, width=0.5)\n",
    "plt.title('The house price of different bedroom')\n",
    "plt.xlabel('Number of bedroom')\n",
    "plt.ylabel('Price')\n",
    "plt.show()"
   ]
  },
  {
   "cell_type": "markdown",
   "id": "c5e33c9c",
   "metadata": {},
   "source": [
    "#### Phân tích mối liên hệ giữa diện tích với giá nhà. Đồng thời, giữa số phòng ngủ với giá nhà và giữa số toilet với giá nhà."
   ]
  },
  {
   "cell_type": "code",
   "execution_count": 44,
   "id": "fe6d4e06",
   "metadata": {},
   "outputs": [
    {
     "data": {
      "image/png": "[encoded data removed]",
      "text/plain": [
       "<Figure size 1332x468 with 3 Axes>"
      ]
     },
     "metadata": {},
     "output_type": "display_data"
    }
   ],
   "source": [
    "fig, ax =plt.subplots(1,3)\n",
    "ax[0].scatter(x=data['area'].values, y=data['price'].values, marker='x')\n",
    "ax[0].set_title('The relation between area and price')\n",
    "ax[0].set_xlabel('Area')\n",
    "ax[0].set_ylabel('Price')\n",
    "\n",
    "ax[1].scatter(x=data['bedroom'].values, y=data['price'].values, marker='x')\n",
    "ax[1].set_title('The relation between bedroom and price')\n",
    "ax[1].set_xlabel('Bedroom')\n",
    "ax[1].set_ylabel('Price')\n",
    "\n",
    "ax[2].scatter(x=data['toilet'].values, y=data['price'].values, marker='x')\n",
    "ax[2].set_title('The relation between toilet and price')\n",
    "ax[2].set_xlabel('toilet')\n",
    "ax[2].set_ylabel('Price')\n",
    "\n",
    "fig.set_size_inches(18.5, 6.5)\n",
    "plt.show()"
   ]
  },
  {
   "cell_type": "markdown",
   "id": "29147009",
   "metadata": {},
   "source": [
    "#### Vẽ biểu đồ phân bố thể hiện phân bố của giá nhà theo các hướng, nhận xét."
   ]
  },
  {
   "cell_type": "code",
   "execution_count": 45,
   "id": "168a7f93",
   "metadata": {},
   "outputs": [
    {
     "data": {
      "text/plain": [
       "<AxesSubplot:xlabel='house_direction', ylabel='price'>"
      ]
     },
     "execution_count": 45,
     "metadata": {},
     "output_type": "execute_result"
    },
    {
     "data": {
      "image/png": "[encoded data removed]",
      "text/plain": [
       "<Figure size 432x288 with 1 Axes>"
      ]
     },
     "metadata": {},
     "output_type": "display_data"
    }
   ],
   "source": [
    "sns.violinplot(x='house_direction', y='price', data=data)"
   ]
  },
  {
   "cell_type": "code",
   "execution_count": 46,
   "id": "e558dcc1",
   "metadata": {},
   "outputs": [
    {
     "data": {
      "text/plain": [
       "<AxesSubplot:xlabel='house_direction', ylabel='price'>"
      ]
     },
     "execution_count": 46,
     "metadata": {},
     "output_type": "execute_result"
    },
    {
     "data": {
      "image/png": "[encoded data removed]",
      "text/plain": [
       "<Figure size 432x288 with 1 Axes>"
      ]
     },
     "metadata": {},
     "output_type": "display_data"
    }
   ],
   "source": [
    "sns.boxplot(x='house_direction', y='price', data=data)"
   ]
  },
  {
   "cell_type": "code",
   "execution_count": 47,
   "id": "58a328c5",
   "metadata": {},
   "outputs": [],
   "source": [
    "#Hướng Đông Bắc có giá nhà cao hơn so với các hướng khác\n",
    "# 75% nhà hướng đông bắc có giá cao hơn so với nhà có hướng Nam, tay Nam, tây bắc\n",
    "# Dữ liệu hướng nhà đã được xử lý số liệu nên độ chính xác không còn cao, cụ thể hướng nhà đông nam vì dữ liệu ngoaij lai nhiều đã dẫn đên \n",
    "#phân bố của trung vị (chấm màu trắng) tăng giá trị, làm cho phân phối không chuẩn và bị lệch"
   ]
  },
  {
   "cell_type": "markdown",
   "id": "516f0861",
   "metadata": {},
   "source": [
    "#### Vẽ biểu đồ tần số để đếm số nhà ở mỗi hướng nhà, nhận xét."
   ]
  },
  {
   "cell_type": "code",
   "execution_count": 48,
   "id": "51d6568f",
   "metadata": {},
   "outputs": [
    {
     "data": {
      "text/plain": [
       "<AxesSubplot:xlabel='house_direction', ylabel='count'>"
      ]
     },
     "execution_count": 48,
     "metadata": {},
     "output_type": "execute_result"
    },
    {
     "data": {
      "image/png": "[encoded data removed]",
      "text/plain": [
       "<Figure size 432x288 with 1 Axes>"
      ]
     },
     "metadata": {},
     "output_type": "display_data"
    }
   ],
   "source": [
    "sns.countplot(x='house_direction', data=data)"
   ]
  }
 ],
 "metadata": {
  "kernelspec": {
   "display_name": "Python 3 (ipykernel)",
   "language": "python",
   "name": "python3"
  },
  "language_info": {
   "codemirror_mode": {
    "name": "ipython",
    "version": 3
   },
   "file_extension": ".py",
   "mimetype": "text/x-python",
   "name": "python",
   "nbconvert_exporter": "python",
   "pygments_lexer": "ipython3",
   "version": "3.9.12"
  }
 },
 "nbformat": 4,
 "nbformat_minor": 5
}
