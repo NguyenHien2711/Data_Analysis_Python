{
 "cells": [
  {
   "cell_type": "markdown",
   "id": "db59b9d5",
   "metadata": {},
   "source": [
    "### Bộ dữ liệu House Price – Đống Đa chứa thông tin mua bán nhà quận Đống đa, các thông tin được thống kê bao gồm:<br>\n",
    "\n",
    "Title: Tiêu đề  <br>\n",
    "Address: địa chỉ<br>\n",
    "Area: khu vực<br>\n",
    "Price: giá<br>\n",
    "postDate: ngày đăng<br>\n",
    "land_certificate: giấy chứng nhận<br>\n",
    "house_direction: hướng nhà<br>\n",
    "balcony_direction: hướng ban công<br>\n",
    "toilet: số phòng vệ sinh<br>\n",
    "bedroom: số phòng ngủ<br>\n",
    "floor: số tầng<br>\n",
    "type_of_land: loại nhà đất<br>\n",
    "street_name: tên đường<br>\n",
    "ward_name: tên phường<br>\n",
    "district_name: tên quận<br>\n",
    "city_name: tên thành phố<br>\n",
    "lat: vĩ độ<br>\n",
    "long: kinh độ<br>\n",
    "1. Đọc bộ dữ liệu, cho biết số dòng, số cột và kiểu dữ liệu của các thuộc tính.<br>\n",
    "2. Lọc ra các bản ghi bán nhà riêng tại phường Trung liệt hoặc phường Khâm Thiên<br>\n",
    "3. Lọc các thông tin Địa chỉ, Giá, Hướng nhà, Hướng ban công của các bản ghi có giấy chứng nhận sổ đỏ và có 3 phòng ngủ trở lên.<br>\n",
    "4. Với mỗi loại nhà đất, tính trung bình cộng giá cũng như giá lớn nhất và giá nhỏ nhất.<br>\n",
    "5. Tính trung bình cộng số phòng ngủ, số phòng vệ sinh, số tầng của mỗi phường.<br>\n",
    "6. Phát hiện các dòng, cột chứa dữ liệu khuyết thiếu\n",
    "7. Xóa bỏ hết tất cả những dòng dữ liệu không có thông tin về giá\n",
    "8. Thực hiện xử lý giá trị khuyết thiếu: Thay thế giá trị khuyết thiếu của land_certificate bằng =”không có thông tin”, house_direction, balcony_direction, toilet, bedroom, Floor  bằng giá trị có tần số xuất hiện lớn nhất của các thuộc tính đó,\n",
    "9. Lọc thông tin những bất động sản ở trong ngõ thành bộ dữ liệu nhà ngõ\n",
    "10. Tính toán giá/m2  ( đơn vị triệu/m2) với loại hình nhà ngõ\n",
    "11. Phát hiện giá trị ngoại lai của các thuộc tính: diện tích, giá/m2 bằng phương pháp IQR\n",
    "12. Thực hiện loại bỏ các dòng dữ liệu ngoại lai\n",
    "13. Chuẩn hóa dữ liệu của tất cả các thuộc tính: price/m2 bằng các phương pháp: min-max scaling, z- score scaling, Robust scaling, và so sánh phân bố của thuộc tính này trước và sau khi chuẩn hóa\n",
    "14. Vẽ biểu đồ phân tích mối liên hệ giữa diện tích với giá nhà, giữa số phòng ngủ với giá nhà, giữa số toilet với giá nhà.\n",
    "15. Vẽ biểu đồ so sánh giá nhà trung bình trên 1 m2 giữa các hình thức nhà (type_of_land).\n",
    "16. Vẽ biểu đồ thể hiện tỉ lệ % bài đăng (bản ghi) giữa các hình thức nhà (type_of_land).\n",
    "17. Vẽ biểu đồ thể hiện sự thay đổi giá nhà trung bình trên 1m2 theo số lượng phòng ngủ.\n",
    "18. Phân tích mối liên hệ giữa diện tích với giá nhà. Đồng thời, giữa số phòng ngủ với giá nhà và giữa số toilet với giá nhà.\n",
    "19. Vẽ biểu đồ phân bố thể hiện phân bố của giá nhà theo các hướng, nhận xét.\n",
    "20. Vẽ biểu đồ tần số để đếm số nhà ở mỗi hướng nhà, nhận xét.\n",
    "21.Vẽ biểu đồ so sánh phân phối giá (triệu đ/m2) giữa nhà Phố và Nhà ngõ\n",
    "22.Kiểm định giả thuyết giá (triệu đ/m2) nhà mặt phố cao hơn giá nhà trong ngõ với mức ý nghĩa 5%\n",
    "23.Giá của những căn nhà không có thông tin về giấy tờ pháp lý thấp hơn giá nhà những căn có thông tin về giấy tờ pháp lý với mức ý nghĩa 5%\n",
    "24. Giữa giá nhà và diện tích có tương quan với nhau?\n",
    "25. Giữa giá nhà và tọa độ địa lý (lat, long) có tương quan với nhau\n",
    "26. Giữa thuộc tính land_certificate và property_type có tương quan với nhau\n",
    "27. Hãy  mã hóa lại thuộc tính giá nhà theo đơn vị (nghìn đồng/m2) và sắp xếp giá nhà thành 4 mức tương ứng với các khoảng tứ phân vị. Tiến hành kiểm định tương quan giữa biến giá nhà này với các biến tọa độ vị trí (lat, long)"
   ]
  },
  {
   "cell_type": "code",
   "execution_count": 66,
   "id": "7053c142",
   "metadata": {},
   "outputs": [
    {
     "data": {
      "text/html": [
       "<div>\n",
       "<style scoped>\n",
       "    .dataframe tbody tr th:only-of-type {\n",
       "        vertical-align: middle;\n",
       "    }\n",
       "\n",
       "    .dataframe tbody tr th {\n",
       "        vertical-align: top;\n",
       "    }\n",
       "\n",
       "    .dataframe thead th {\n",
       "        text-align: right;\n",
       "    }\n",
       "</style>\n",
       "<table border=\"1\" class=\"dataframe\">\n",
       "  <thead>\n",
       "    <tr style=\"text-align: right;\">\n",
       "      <th></th>\n",
       "      <th>area</th>\n",
       "      <th>price</th>\n",
       "      <th>postDate</th>\n",
       "      <th>land_certificate</th>\n",
       "      <th>house_direction</th>\n",
       "      <th>balcony_direction</th>\n",
       "      <th>toilet</th>\n",
       "      <th>bedroom</th>\n",
       "      <th>floor</th>\n",
       "      <th>lat</th>\n",
       "      <th>long</th>\n",
       "      <th>property_type</th>\n",
       "    </tr>\n",
       "  </thead>\n",
       "  <tbody>\n",
       "    <tr>\n",
       "      <th>0</th>\n",
       "      <td>50.0</td>\n",
       "      <td>14700.0</td>\n",
       "      <td>44197</td>\n",
       "      <td>So do</td>\n",
       "      <td>NaN</td>\n",
       "      <td>NaN</td>\n",
       "      <td>4.0</td>\n",
       "      <td>6.0</td>\n",
       "      <td>6.0</td>\n",
       "      <td>21.015698</td>\n",
       "      <td>105.824583</td>\n",
       "      <td>trong ngo</td>\n",
       "    </tr>\n",
       "    <tr>\n",
       "      <th>1</th>\n",
       "      <td>57.0</td>\n",
       "      <td>4200.0</td>\n",
       "      <td>44265</td>\n",
       "      <td>So do</td>\n",
       "      <td>Nam</td>\n",
       "      <td>Nam</td>\n",
       "      <td>3.0</td>\n",
       "      <td>8.0</td>\n",
       "      <td>4.0</td>\n",
       "      <td>21.025208</td>\n",
       "      <td>105.833111</td>\n",
       "      <td>trong ngo</td>\n",
       "    </tr>\n",
       "    <tr>\n",
       "      <th>2</th>\n",
       "      <td>62.0</td>\n",
       "      <td>11000.0</td>\n",
       "      <td>44268</td>\n",
       "      <td>So do</td>\n",
       "      <td>NaN</td>\n",
       "      <td>dong-Nam</td>\n",
       "      <td>6.0</td>\n",
       "      <td>5.0</td>\n",
       "      <td>6.0</td>\n",
       "      <td>21.025379</td>\n",
       "      <td>105.801011</td>\n",
       "      <td>trong ngo</td>\n",
       "    </tr>\n",
       "    <tr>\n",
       "      <th>3</th>\n",
       "      <td>26.0</td>\n",
       "      <td>2900.0</td>\n",
       "      <td>44292</td>\n",
       "      <td>So do</td>\n",
       "      <td>NaN</td>\n",
       "      <td>NaN</td>\n",
       "      <td>4.0</td>\n",
       "      <td>3.0</td>\n",
       "      <td>4.0</td>\n",
       "      <td>21.014325</td>\n",
       "      <td>105.834918</td>\n",
       "      <td>trong ngo</td>\n",
       "    </tr>\n",
       "    <tr>\n",
       "      <th>4</th>\n",
       "      <td>40.0</td>\n",
       "      <td>3950.0</td>\n",
       "      <td>44292</td>\n",
       "      <td>So do</td>\n",
       "      <td>NaN</td>\n",
       "      <td>NaN</td>\n",
       "      <td>NaN</td>\n",
       "      <td>NaN</td>\n",
       "      <td>5.0</td>\n",
       "      <td>21.009862</td>\n",
       "      <td>105.838083</td>\n",
       "      <td>trong ngo</td>\n",
       "    </tr>\n",
       "    <tr>\n",
       "      <th>...</th>\n",
       "      <td>...</td>\n",
       "      <td>...</td>\n",
       "      <td>...</td>\n",
       "      <td>...</td>\n",
       "      <td>...</td>\n",
       "      <td>...</td>\n",
       "      <td>...</td>\n",
       "      <td>...</td>\n",
       "      <td>...</td>\n",
       "      <td>...</td>\n",
       "      <td>...</td>\n",
       "      <td>...</td>\n",
       "    </tr>\n",
       "    <tr>\n",
       "      <th>666</th>\n",
       "      <td>168.0</td>\n",
       "      <td>23500.0</td>\n",
       "      <td>44325</td>\n",
       "      <td>NaN</td>\n",
       "      <td>NaN</td>\n",
       "      <td>NaN</td>\n",
       "      <td>3.0</td>\n",
       "      <td>3.0</td>\n",
       "      <td>3.0</td>\n",
       "      <td>21.000823</td>\n",
       "      <td>105.829097</td>\n",
       "      <td>mat pho</td>\n",
       "    </tr>\n",
       "    <tr>\n",
       "      <th>667</th>\n",
       "      <td>65.0</td>\n",
       "      <td>17500.0</td>\n",
       "      <td>44325</td>\n",
       "      <td>So do</td>\n",
       "      <td>NaN</td>\n",
       "      <td>NaN</td>\n",
       "      <td>NaN</td>\n",
       "      <td>6.0</td>\n",
       "      <td>5.0</td>\n",
       "      <td>21.011495</td>\n",
       "      <td>105.816666</td>\n",
       "      <td>mat pho</td>\n",
       "    </tr>\n",
       "    <tr>\n",
       "      <th>668</th>\n",
       "      <td>60.0</td>\n",
       "      <td>17500.0</td>\n",
       "      <td>44197</td>\n",
       "      <td>NaN</td>\n",
       "      <td>NaN</td>\n",
       "      <td>NaN</td>\n",
       "      <td>NaN</td>\n",
       "      <td>NaN</td>\n",
       "      <td>NaN</td>\n",
       "      <td>21.011495</td>\n",
       "      <td>105.816666</td>\n",
       "      <td>mat pho</td>\n",
       "    </tr>\n",
       "    <tr>\n",
       "      <th>669</th>\n",
       "      <td>45.0</td>\n",
       "      <td>24800.0</td>\n",
       "      <td>44197</td>\n",
       "      <td>NaN</td>\n",
       "      <td>NaN</td>\n",
       "      <td>NaN</td>\n",
       "      <td>NaN</td>\n",
       "      <td>NaN</td>\n",
       "      <td>NaN</td>\n",
       "      <td>21.016106</td>\n",
       "      <td>105.832157</td>\n",
       "      <td>mat pho</td>\n",
       "    </tr>\n",
       "    <tr>\n",
       "      <th>670</th>\n",
       "      <td>107.0</td>\n",
       "      <td>45000.0</td>\n",
       "      <td>44325</td>\n",
       "      <td>So do</td>\n",
       "      <td>NaN</td>\n",
       "      <td>NaN</td>\n",
       "      <td>NaN</td>\n",
       "      <td>NaN</td>\n",
       "      <td>5.0</td>\n",
       "      <td>21.009123</td>\n",
       "      <td>105.824428</td>\n",
       "      <td>mat pho</td>\n",
       "    </tr>\n",
       "  </tbody>\n",
       "</table>\n",
       "<p>671 rows × 12 columns</p>\n",
       "</div>"
      ],
      "text/plain": [
       "      area    price  postDate land_certificate house_direction  \\\n",
       "0     50.0  14700.0     44197            So do             NaN   \n",
       "1     57.0   4200.0     44265            So do             Nam   \n",
       "2     62.0  11000.0     44268            So do             NaN   \n",
       "3     26.0   2900.0     44292            So do             NaN   \n",
       "4     40.0   3950.0     44292            So do             NaN   \n",
       "..     ...      ...       ...              ...             ...   \n",
       "666  168.0  23500.0     44325              NaN             NaN   \n",
       "667   65.0  17500.0     44325            So do             NaN   \n",
       "668   60.0  17500.0     44197              NaN             NaN   \n",
       "669   45.0  24800.0     44197              NaN             NaN   \n",
       "670  107.0  45000.0     44325            So do             NaN   \n",
       "\n",
       "    balcony_direction  toilet  bedroom  floor        lat        long  \\\n",
       "0                 NaN     4.0      6.0    6.0  21.015698  105.824583   \n",
       "1                 Nam     3.0      8.0    4.0  21.025208  105.833111   \n",
       "2            dong-Nam     6.0      5.0    6.0  21.025379  105.801011   \n",
       "3                 NaN     4.0      3.0    4.0  21.014325  105.834918   \n",
       "4                 NaN     NaN      NaN    5.0  21.009862  105.838083   \n",
       "..                ...     ...      ...    ...        ...         ...   \n",
       "666               NaN     3.0      3.0    3.0  21.000823  105.829097   \n",
       "667               NaN     NaN      6.0    5.0  21.011495  105.816666   \n",
       "668               NaN     NaN      NaN    NaN  21.011495  105.816666   \n",
       "669               NaN     NaN      NaN    NaN  21.016106  105.832157   \n",
       "670               NaN     NaN      NaN    5.0  21.009123  105.824428   \n",
       "\n",
       "    property_type  \n",
       "0       trong ngo  \n",
       "1       trong ngo  \n",
       "2       trong ngo  \n",
       "3       trong ngo  \n",
       "4       trong ngo  \n",
       "..            ...  \n",
       "666       mat pho  \n",
       "667       mat pho  \n",
       "668       mat pho  \n",
       "669       mat pho  \n",
       "670       mat pho  \n",
       "\n",
       "[671 rows x 12 columns]"
      ]
     },
     "execution_count": 66,
     "metadata": {},
     "output_type": "execute_result"
    }
   ],
   "source": [
    "import pandas as pd\n",
    "import numpy as np\n",
    "import matplotlib.pyplot as plt\n",
    "import seaborn as sns\n",
    "import scipy.stats as stats\n",
    "from sklearn.preprocessing import StandardScaler, MinMaxScaler, RobustScaler\n",
    "data = pd.read_csv('house_price.csv')\n",
    "data"
   ]
  },
  {
   "cell_type": "markdown",
   "id": "e0e51db8",
   "metadata": {},
   "source": [
    "1. Đọc bộ dữ liệu, cho biết số dòng, số cột và kiểu dữ liệu của các thuộc tính."
   ]
  },
  {
   "cell_type": "code",
   "execution_count": 67,
   "id": "2a45194e",
   "metadata": {},
   "outputs": [
    {
     "name": "stdout",
     "output_type": "stream",
     "text": [
      "<class 'pandas.core.frame.DataFrame'>\n",
      "RangeIndex: 671 entries, 0 to 670\n",
      "Data columns (total 12 columns):\n",
      " #   Column             Non-Null Count  Dtype  \n",
      "---  ------             --------------  -----  \n",
      " 0   area               665 non-null    float64\n",
      " 1   price              617 non-null    float64\n",
      " 2   postDate           671 non-null    int64  \n",
      " 3   land_certificate   369 non-null    object \n",
      " 4   house_direction    42 non-null     object \n",
      " 5   balcony_direction  24 non-null     object \n",
      " 6   toilet             240 non-null    float64\n",
      " 7   bedroom            320 non-null    float64\n",
      " 8   floor              366 non-null    float64\n",
      " 9   lat                671 non-null    float64\n",
      " 10  long               671 non-null    float64\n",
      " 11  property_type      671 non-null    object \n",
      "dtypes: float64(7), int64(1), object(4)\n",
      "memory usage: 63.0+ KB\n"
     ]
    }
   ],
   "source": [
    "data.info()"
   ]
  },
  {
   "cell_type": "code",
   "execution_count": 68,
   "id": "686e980a",
   "metadata": {},
   "outputs": [
    {
     "data": {
      "text/plain": [
       "(671, 12)"
      ]
     },
     "execution_count": 68,
     "metadata": {},
     "output_type": "execute_result"
    }
   ],
   "source": [
    "data.shape"
   ]
  },
  {
   "cell_type": "markdown",
   "id": "61619b1e",
   "metadata": {},
   "source": [
    "2. Lọc ra các bản ghi bán nhà riêng tại phường Trung liệt hoặc phường Khâm Thiên\n"
   ]
  },
  {
   "cell_type": "markdown",
   "id": "9b8cc8a2",
   "metadata": {},
   "source": [
    "3. Lọc các thông tin Địa chỉ, Giá, Hướng nhà, Hướng ban công của các bản ghi có giấy chứng nhận sổ đỏ và có 3 phòng ngủ trở lên."
   ]
  },
  {
   "cell_type": "code",
   "execution_count": 69,
   "id": "cc9e8e1a",
   "metadata": {},
   "outputs": [
    {
     "data": {
      "text/html": [
       "<div>\n",
       "<style scoped>\n",
       "    .dataframe tbody tr th:only-of-type {\n",
       "        vertical-align: middle;\n",
       "    }\n",
       "\n",
       "    .dataframe tbody tr th {\n",
       "        vertical-align: top;\n",
       "    }\n",
       "\n",
       "    .dataframe thead th {\n",
       "        text-align: right;\n",
       "    }\n",
       "</style>\n",
       "<table border=\"1\" class=\"dataframe\">\n",
       "  <thead>\n",
       "    <tr style=\"text-align: right;\">\n",
       "      <th></th>\n",
       "      <th>area</th>\n",
       "      <th>price</th>\n",
       "      <th>house_direction</th>\n",
       "      <th>balcony_direction</th>\n",
       "    </tr>\n",
       "  </thead>\n",
       "  <tbody>\n",
       "    <tr>\n",
       "      <th>0</th>\n",
       "      <td>50.0</td>\n",
       "      <td>14700.0</td>\n",
       "      <td>NaN</td>\n",
       "      <td>NaN</td>\n",
       "    </tr>\n",
       "    <tr>\n",
       "      <th>1</th>\n",
       "      <td>57.0</td>\n",
       "      <td>4200.0</td>\n",
       "      <td>Nam</td>\n",
       "      <td>Nam</td>\n",
       "    </tr>\n",
       "    <tr>\n",
       "      <th>2</th>\n",
       "      <td>62.0</td>\n",
       "      <td>11000.0</td>\n",
       "      <td>NaN</td>\n",
       "      <td>dong-Nam</td>\n",
       "    </tr>\n",
       "    <tr>\n",
       "      <th>3</th>\n",
       "      <td>26.0</td>\n",
       "      <td>2900.0</td>\n",
       "      <td>NaN</td>\n",
       "      <td>NaN</td>\n",
       "    </tr>\n",
       "    <tr>\n",
       "      <th>6</th>\n",
       "      <td>39.0</td>\n",
       "      <td>5280.0</td>\n",
       "      <td>Tay-Nam</td>\n",
       "      <td>NaN</td>\n",
       "    </tr>\n",
       "    <tr>\n",
       "      <th>...</th>\n",
       "      <td>...</td>\n",
       "      <td>...</td>\n",
       "      <td>...</td>\n",
       "      <td>...</td>\n",
       "    </tr>\n",
       "    <tr>\n",
       "      <th>650</th>\n",
       "      <td>100.0</td>\n",
       "      <td>22500.0</td>\n",
       "      <td>NaN</td>\n",
       "      <td>NaN</td>\n",
       "    </tr>\n",
       "    <tr>\n",
       "      <th>653</th>\n",
       "      <td>45.0</td>\n",
       "      <td>30000.0</td>\n",
       "      <td>dong-Bac</td>\n",
       "      <td>NaN</td>\n",
       "    </tr>\n",
       "    <tr>\n",
       "      <th>659</th>\n",
       "      <td>45.0</td>\n",
       "      <td>12000.0</td>\n",
       "      <td>dong-Nam</td>\n",
       "      <td>NaN</td>\n",
       "    </tr>\n",
       "    <tr>\n",
       "      <th>663</th>\n",
       "      <td>143.0</td>\n",
       "      <td>72000.0</td>\n",
       "      <td>NaN</td>\n",
       "      <td>NaN</td>\n",
       "    </tr>\n",
       "    <tr>\n",
       "      <th>667</th>\n",
       "      <td>65.0</td>\n",
       "      <td>17500.0</td>\n",
       "      <td>NaN</td>\n",
       "      <td>NaN</td>\n",
       "    </tr>\n",
       "  </tbody>\n",
       "</table>\n",
       "<p>206 rows × 4 columns</p>\n",
       "</div>"
      ],
      "text/plain": [
       "      area    price house_direction balcony_direction\n",
       "0     50.0  14700.0             NaN               NaN\n",
       "1     57.0   4200.0             Nam               Nam\n",
       "2     62.0  11000.0             NaN          dong-Nam\n",
       "3     26.0   2900.0             NaN               NaN\n",
       "6     39.0   5280.0         Tay-Nam               NaN\n",
       "..     ...      ...             ...               ...\n",
       "650  100.0  22500.0             NaN               NaN\n",
       "653   45.0  30000.0        dong-Bac               NaN\n",
       "659   45.0  12000.0        dong-Nam               NaN\n",
       "663  143.0  72000.0             NaN               NaN\n",
       "667   65.0  17500.0             NaN               NaN\n",
       "\n",
       "[206 rows x 4 columns]"
      ]
     },
     "execution_count": 69,
     "metadata": {},
     "output_type": "execute_result"
    }
   ],
   "source": [
    "df = data[(data['land_certificate']=='So do') & (data['bedroom']>=3)]\n",
    "\n",
    "df[['area','price','house_direction','balcony_direction']]"
   ]
  },
  {
   "cell_type": "code",
   "execution_count": null,
   "id": "9c982617",
   "metadata": {},
   "outputs": [],
   "source": []
  },
  {
   "cell_type": "code",
   "execution_count": null,
   "id": "79b445ff",
   "metadata": {},
   "outputs": [],
   "source": []
  },
  {
   "cell_type": "markdown",
   "id": "109b0743",
   "metadata": {},
   "source": [
    "4. Tính trung bình cộng số phòng ngủ, số phòng vệ sinh, số tầng của mỗi phường."
   ]
  },
  {
   "cell_type": "code",
   "execution_count": 70,
   "id": "8b92c4d2",
   "metadata": {},
   "outputs": [
    {
     "data": {
      "text/html": [
       "<div>\n",
       "<style scoped>\n",
       "    .dataframe tbody tr th:only-of-type {\n",
       "        vertical-align: middle;\n",
       "    }\n",
       "\n",
       "    .dataframe tbody tr th {\n",
       "        vertical-align: top;\n",
       "    }\n",
       "\n",
       "    .dataframe thead th {\n",
       "        text-align: right;\n",
       "    }\n",
       "</style>\n",
       "<table border=\"1\" class=\"dataframe\">\n",
       "  <thead>\n",
       "    <tr style=\"text-align: right;\">\n",
       "      <th></th>\n",
       "      <th>bedroom</th>\n",
       "      <th>floor</th>\n",
       "      <th>toilet</th>\n",
       "    </tr>\n",
       "    <tr>\n",
       "      <th>area</th>\n",
       "      <th></th>\n",
       "      <th></th>\n",
       "      <th></th>\n",
       "    </tr>\n",
       "  </thead>\n",
       "  <tbody>\n",
       "    <tr>\n",
       "      <th>20.0</th>\n",
       "      <td>3.000000</td>\n",
       "      <td>4.000000</td>\n",
       "      <td>2.5</td>\n",
       "    </tr>\n",
       "    <tr>\n",
       "      <th>22.0</th>\n",
       "      <td>1.000000</td>\n",
       "      <td>NaN</td>\n",
       "      <td>1.0</td>\n",
       "    </tr>\n",
       "    <tr>\n",
       "      <th>23.0</th>\n",
       "      <td>3.000000</td>\n",
       "      <td>4.000000</td>\n",
       "      <td>3.0</td>\n",
       "    </tr>\n",
       "    <tr>\n",
       "      <th>25.0</th>\n",
       "      <td>2.625000</td>\n",
       "      <td>4.500000</td>\n",
       "      <td>3.0</td>\n",
       "    </tr>\n",
       "    <tr>\n",
       "      <th>26.0</th>\n",
       "      <td>3.000000</td>\n",
       "      <td>4.000000</td>\n",
       "      <td>4.0</td>\n",
       "    </tr>\n",
       "    <tr>\n",
       "      <th>...</th>\n",
       "      <td>...</td>\n",
       "      <td>...</td>\n",
       "      <td>...</td>\n",
       "    </tr>\n",
       "    <tr>\n",
       "      <th>368.0</th>\n",
       "      <td>NaN</td>\n",
       "      <td>1.000000</td>\n",
       "      <td>NaN</td>\n",
       "    </tr>\n",
       "    <tr>\n",
       "      <th>416.0</th>\n",
       "      <td>NaN</td>\n",
       "      <td>5.400000</td>\n",
       "      <td>NaN</td>\n",
       "    </tr>\n",
       "    <tr>\n",
       "      <th>420.0</th>\n",
       "      <td>NaN</td>\n",
       "      <td>9.000000</td>\n",
       "      <td>NaN</td>\n",
       "    </tr>\n",
       "    <tr>\n",
       "      <th>1000.0</th>\n",
       "      <td>4.666667</td>\n",
       "      <td>1.333333</td>\n",
       "      <td>1.0</td>\n",
       "    </tr>\n",
       "    <tr>\n",
       "      <th>11000.0</th>\n",
       "      <td>NaN</td>\n",
       "      <td>1.000000</td>\n",
       "      <td>NaN</td>\n",
       "    </tr>\n",
       "  </tbody>\n",
       "</table>\n",
       "<p>105 rows × 3 columns</p>\n",
       "</div>"
      ],
      "text/plain": [
       "          bedroom     floor  toilet\n",
       "area                               \n",
       "20.0     3.000000  4.000000     2.5\n",
       "22.0     1.000000       NaN     1.0\n",
       "23.0     3.000000  4.000000     3.0\n",
       "25.0     2.625000  4.500000     3.0\n",
       "26.0     3.000000  4.000000     4.0\n",
       "...           ...       ...     ...\n",
       "368.0         NaN  1.000000     NaN\n",
       "416.0         NaN  5.400000     NaN\n",
       "420.0         NaN  9.000000     NaN\n",
       "1000.0   4.666667  1.333333     1.0\n",
       "11000.0       NaN  1.000000     NaN\n",
       "\n",
       "[105 rows x 3 columns]"
      ]
     },
     "execution_count": 70,
     "metadata": {},
     "output_type": "execute_result"
    }
   ],
   "source": [
    "data.pivot_table(values=['toilet','bedroom','floor'], index='area', aggfunc={'toilet':np.mean,'bedroom':np.mean, 'floor':np.mean})\n",
    "                         "
   ]
  },
  {
   "cell_type": "markdown",
   "id": "9badc1ff",
   "metadata": {},
   "source": [
    "#### 6. Phát hiện các dòng, cột chứa dữ liệu khuyết thiếu"
   ]
  },
  {
   "cell_type": "code",
   "execution_count": 71,
   "id": "c606b883",
   "metadata": {},
   "outputs": [
    {
     "data": {
      "text/plain": [
       "balcony_direction    647\n",
       "house_direction      629\n",
       "toilet               431\n",
       "bedroom              351\n",
       "floor                305\n",
       "land_certificate     302\n",
       "price                 54\n",
       "area                   6\n",
       "postDate               0\n",
       "lat                    0\n",
       "long                   0\n",
       "property_type          0\n",
       "dtype: int64"
      ]
     },
     "execution_count": 71,
     "metadata": {},
     "output_type": "execute_result"
    }
   ],
   "source": [
    "df = data.isna().sum().sort_values(ascending=False)\n",
    "df"
   ]
  },
  {
   "cell_type": "code",
   "execution_count": 72,
   "id": "e26e72e7",
   "metadata": {},
   "outputs": [
    {
     "data": {
      "image/png": "[encoded data removed]",
      "text/plain": [
       "<Figure size 432x288 with 1 Axes>"
      ]
     },
     "metadata": {},
     "output_type": "display_data"
    }
   ],
   "source": [
    "x=df.index\n",
    "y=100*df.values/data.shape[0]\n",
    "plt.bar(x,y)\n",
    "plt.xticks(rotation=90)\n",
    "plt.show()"
   ]
  },
  {
   "cell_type": "markdown",
   "id": "a5ae6b8d",
   "metadata": {},
   "source": [
    "#### 7. Xóa bỏ hết tất cả những dòng dữ liệu không có thông tin về giá"
   ]
  },
  {
   "cell_type": "code",
   "execution_count": 73,
   "id": "718e1c18",
   "metadata": {},
   "outputs": [
    {
     "data": {
      "text/html": [
       "<div>\n",
       "<style scoped>\n",
       "    .dataframe tbody tr th:only-of-type {\n",
       "        vertical-align: middle;\n",
       "    }\n",
       "\n",
       "    .dataframe tbody tr th {\n",
       "        vertical-align: top;\n",
       "    }\n",
       "\n",
       "    .dataframe thead th {\n",
       "        text-align: right;\n",
       "    }\n",
       "</style>\n",
       "<table border=\"1\" class=\"dataframe\">\n",
       "  <thead>\n",
       "    <tr style=\"text-align: right;\">\n",
       "      <th></th>\n",
       "      <th>area</th>\n",
       "      <th>price</th>\n",
       "      <th>postDate</th>\n",
       "      <th>land_certificate</th>\n",
       "      <th>house_direction</th>\n",
       "      <th>balcony_direction</th>\n",
       "      <th>toilet</th>\n",
       "      <th>bedroom</th>\n",
       "      <th>floor</th>\n",
       "      <th>lat</th>\n",
       "      <th>long</th>\n",
       "      <th>property_type</th>\n",
       "    </tr>\n",
       "  </thead>\n",
       "  <tbody>\n",
       "    <tr>\n",
       "      <th>0</th>\n",
       "      <td>50.0</td>\n",
       "      <td>14700.0</td>\n",
       "      <td>44197</td>\n",
       "      <td>So do</td>\n",
       "      <td>NaN</td>\n",
       "      <td>NaN</td>\n",
       "      <td>4.0</td>\n",
       "      <td>6.0</td>\n",
       "      <td>6.0</td>\n",
       "      <td>21.015698</td>\n",
       "      <td>105.824583</td>\n",
       "      <td>trong ngo</td>\n",
       "    </tr>\n",
       "    <tr>\n",
       "      <th>1</th>\n",
       "      <td>57.0</td>\n",
       "      <td>4200.0</td>\n",
       "      <td>44265</td>\n",
       "      <td>So do</td>\n",
       "      <td>Nam</td>\n",
       "      <td>Nam</td>\n",
       "      <td>3.0</td>\n",
       "      <td>8.0</td>\n",
       "      <td>4.0</td>\n",
       "      <td>21.025208</td>\n",
       "      <td>105.833111</td>\n",
       "      <td>trong ngo</td>\n",
       "    </tr>\n",
       "    <tr>\n",
       "      <th>2</th>\n",
       "      <td>62.0</td>\n",
       "      <td>11000.0</td>\n",
       "      <td>44268</td>\n",
       "      <td>So do</td>\n",
       "      <td>NaN</td>\n",
       "      <td>dong-Nam</td>\n",
       "      <td>6.0</td>\n",
       "      <td>5.0</td>\n",
       "      <td>6.0</td>\n",
       "      <td>21.025379</td>\n",
       "      <td>105.801011</td>\n",
       "      <td>trong ngo</td>\n",
       "    </tr>\n",
       "    <tr>\n",
       "      <th>3</th>\n",
       "      <td>26.0</td>\n",
       "      <td>2900.0</td>\n",
       "      <td>44292</td>\n",
       "      <td>So do</td>\n",
       "      <td>NaN</td>\n",
       "      <td>NaN</td>\n",
       "      <td>4.0</td>\n",
       "      <td>3.0</td>\n",
       "      <td>4.0</td>\n",
       "      <td>21.014325</td>\n",
       "      <td>105.834918</td>\n",
       "      <td>trong ngo</td>\n",
       "    </tr>\n",
       "    <tr>\n",
       "      <th>4</th>\n",
       "      <td>40.0</td>\n",
       "      <td>3950.0</td>\n",
       "      <td>44292</td>\n",
       "      <td>So do</td>\n",
       "      <td>NaN</td>\n",
       "      <td>NaN</td>\n",
       "      <td>NaN</td>\n",
       "      <td>NaN</td>\n",
       "      <td>5.0</td>\n",
       "      <td>21.009862</td>\n",
       "      <td>105.838083</td>\n",
       "      <td>trong ngo</td>\n",
       "    </tr>\n",
       "    <tr>\n",
       "      <th>...</th>\n",
       "      <td>...</td>\n",
       "      <td>...</td>\n",
       "      <td>...</td>\n",
       "      <td>...</td>\n",
       "      <td>...</td>\n",
       "      <td>...</td>\n",
       "      <td>...</td>\n",
       "      <td>...</td>\n",
       "      <td>...</td>\n",
       "      <td>...</td>\n",
       "      <td>...</td>\n",
       "      <td>...</td>\n",
       "    </tr>\n",
       "    <tr>\n",
       "      <th>666</th>\n",
       "      <td>168.0</td>\n",
       "      <td>23500.0</td>\n",
       "      <td>44325</td>\n",
       "      <td>NaN</td>\n",
       "      <td>NaN</td>\n",
       "      <td>NaN</td>\n",
       "      <td>3.0</td>\n",
       "      <td>3.0</td>\n",
       "      <td>3.0</td>\n",
       "      <td>21.000823</td>\n",
       "      <td>105.829097</td>\n",
       "      <td>mat pho</td>\n",
       "    </tr>\n",
       "    <tr>\n",
       "      <th>667</th>\n",
       "      <td>65.0</td>\n",
       "      <td>17500.0</td>\n",
       "      <td>44325</td>\n",
       "      <td>So do</td>\n",
       "      <td>NaN</td>\n",
       "      <td>NaN</td>\n",
       "      <td>NaN</td>\n",
       "      <td>6.0</td>\n",
       "      <td>5.0</td>\n",
       "      <td>21.011495</td>\n",
       "      <td>105.816666</td>\n",
       "      <td>mat pho</td>\n",
       "    </tr>\n",
       "    <tr>\n",
       "      <th>668</th>\n",
       "      <td>60.0</td>\n",
       "      <td>17500.0</td>\n",
       "      <td>44197</td>\n",
       "      <td>NaN</td>\n",
       "      <td>NaN</td>\n",
       "      <td>NaN</td>\n",
       "      <td>NaN</td>\n",
       "      <td>NaN</td>\n",
       "      <td>NaN</td>\n",
       "      <td>21.011495</td>\n",
       "      <td>105.816666</td>\n",
       "      <td>mat pho</td>\n",
       "    </tr>\n",
       "    <tr>\n",
       "      <th>669</th>\n",
       "      <td>45.0</td>\n",
       "      <td>24800.0</td>\n",
       "      <td>44197</td>\n",
       "      <td>NaN</td>\n",
       "      <td>NaN</td>\n",
       "      <td>NaN</td>\n",
       "      <td>NaN</td>\n",
       "      <td>NaN</td>\n",
       "      <td>NaN</td>\n",
       "      <td>21.016106</td>\n",
       "      <td>105.832157</td>\n",
       "      <td>mat pho</td>\n",
       "    </tr>\n",
       "    <tr>\n",
       "      <th>670</th>\n",
       "      <td>107.0</td>\n",
       "      <td>45000.0</td>\n",
       "      <td>44325</td>\n",
       "      <td>So do</td>\n",
       "      <td>NaN</td>\n",
       "      <td>NaN</td>\n",
       "      <td>NaN</td>\n",
       "      <td>NaN</td>\n",
       "      <td>5.0</td>\n",
       "      <td>21.009123</td>\n",
       "      <td>105.824428</td>\n",
       "      <td>mat pho</td>\n",
       "    </tr>\n",
       "  </tbody>\n",
       "</table>\n",
       "<p>617 rows × 12 columns</p>\n",
       "</div>"
      ],
      "text/plain": [
       "      area    price  postDate land_certificate house_direction  \\\n",
       "0     50.0  14700.0     44197            So do             NaN   \n",
       "1     57.0   4200.0     44265            So do             Nam   \n",
       "2     62.0  11000.0     44268            So do             NaN   \n",
       "3     26.0   2900.0     44292            So do             NaN   \n",
       "4     40.0   3950.0     44292            So do             NaN   \n",
       "..     ...      ...       ...              ...             ...   \n",
       "666  168.0  23500.0     44325              NaN             NaN   \n",
       "667   65.0  17500.0     44325            So do             NaN   \n",
       "668   60.0  17500.0     44197              NaN             NaN   \n",
       "669   45.0  24800.0     44197              NaN             NaN   \n",
       "670  107.0  45000.0     44325            So do             NaN   \n",
       "\n",
       "    balcony_direction  toilet  bedroom  floor        lat        long  \\\n",
       "0                 NaN     4.0      6.0    6.0  21.015698  105.824583   \n",
       "1                 Nam     3.0      8.0    4.0  21.025208  105.833111   \n",
       "2            dong-Nam     6.0      5.0    6.0  21.025379  105.801011   \n",
       "3                 NaN     4.0      3.0    4.0  21.014325  105.834918   \n",
       "4                 NaN     NaN      NaN    5.0  21.009862  105.838083   \n",
       "..                ...     ...      ...    ...        ...         ...   \n",
       "666               NaN     3.0      3.0    3.0  21.000823  105.829097   \n",
       "667               NaN     NaN      6.0    5.0  21.011495  105.816666   \n",
       "668               NaN     NaN      NaN    NaN  21.011495  105.816666   \n",
       "669               NaN     NaN      NaN    NaN  21.016106  105.832157   \n",
       "670               NaN     NaN      NaN    5.0  21.009123  105.824428   \n",
       "\n",
       "    property_type  \n",
       "0       trong ngo  \n",
       "1       trong ngo  \n",
       "2       trong ngo  \n",
       "3       trong ngo  \n",
       "4       trong ngo  \n",
       "..            ...  \n",
       "666       mat pho  \n",
       "667       mat pho  \n",
       "668       mat pho  \n",
       "669       mat pho  \n",
       "670       mat pho  \n",
       "\n",
       "[617 rows x 12 columns]"
      ]
     },
     "execution_count": 73,
     "metadata": {},
     "output_type": "execute_result"
    }
   ],
   "source": [
    "price_null_index = data[data['price'].isnull()].index\n",
    "data.drop(price_null_index, inplace = True)\n",
    "data"
   ]
  },
  {
   "cell_type": "markdown",
   "id": "93445f4f",
   "metadata": {},
   "source": [
    "#### 8. Thực hiện xử lý giá trị khuyết thiếu: Thay thế giá trị khuyết thiếu của land_certificate bằng =”không có thông tin”, house_direction, balcony_direction, toilet, bedroom, Floor  bằng giá trị có tần số xuất hiện lớn nhất của các thuộc tính đó,"
   ]
  },
  {
   "cell_type": "code",
   "execution_count": 74,
   "id": "c997b0f2",
   "metadata": {},
   "outputs": [],
   "source": [
    "mode = data[['house_direction','balcony_direction','toilet','bedroom','floor']].mode()\n",
    "dict_data = {i: mode.loc[0,i] for i in mode.columns}\n",
    "data.fillna({'land_certificate': 'không có thông tin'}, inplace=True)\n",
    "data.fillna(dict_data, inplace=True) #dùng pp thay thế trên các cột cụ thể "
   ]
  },
  {
   "cell_type": "code",
   "execution_count": 75,
   "id": "1f782646",
   "metadata": {},
   "outputs": [
    {
     "data": {
      "text/html": [
       "<div>\n",
       "<style scoped>\n",
       "    .dataframe tbody tr th:only-of-type {\n",
       "        vertical-align: middle;\n",
       "    }\n",
       "\n",
       "    .dataframe tbody tr th {\n",
       "        vertical-align: top;\n",
       "    }\n",
       "\n",
       "    .dataframe thead th {\n",
       "        text-align: right;\n",
       "    }\n",
       "</style>\n",
       "<table border=\"1\" class=\"dataframe\">\n",
       "  <thead>\n",
       "    <tr style=\"text-align: right;\">\n",
       "      <th></th>\n",
       "      <th>area</th>\n",
       "      <th>price</th>\n",
       "      <th>postDate</th>\n",
       "      <th>land_certificate</th>\n",
       "      <th>house_direction</th>\n",
       "      <th>balcony_direction</th>\n",
       "      <th>toilet</th>\n",
       "      <th>bedroom</th>\n",
       "      <th>floor</th>\n",
       "      <th>lat</th>\n",
       "      <th>long</th>\n",
       "      <th>property_type</th>\n",
       "    </tr>\n",
       "  </thead>\n",
       "  <tbody>\n",
       "    <tr>\n",
       "      <th>0</th>\n",
       "      <td>50.0</td>\n",
       "      <td>14700.0</td>\n",
       "      <td>44197</td>\n",
       "      <td>So do</td>\n",
       "      <td>dong-Nam</td>\n",
       "      <td>dong-Nam</td>\n",
       "      <td>4.0</td>\n",
       "      <td>6.0</td>\n",
       "      <td>6.0</td>\n",
       "      <td>21.015698</td>\n",
       "      <td>105.824583</td>\n",
       "      <td>trong ngo</td>\n",
       "    </tr>\n",
       "    <tr>\n",
       "      <th>1</th>\n",
       "      <td>57.0</td>\n",
       "      <td>4200.0</td>\n",
       "      <td>44265</td>\n",
       "      <td>So do</td>\n",
       "      <td>Nam</td>\n",
       "      <td>Nam</td>\n",
       "      <td>3.0</td>\n",
       "      <td>8.0</td>\n",
       "      <td>4.0</td>\n",
       "      <td>21.025208</td>\n",
       "      <td>105.833111</td>\n",
       "      <td>trong ngo</td>\n",
       "    </tr>\n",
       "    <tr>\n",
       "      <th>2</th>\n",
       "      <td>62.0</td>\n",
       "      <td>11000.0</td>\n",
       "      <td>44268</td>\n",
       "      <td>So do</td>\n",
       "      <td>dong-Nam</td>\n",
       "      <td>dong-Nam</td>\n",
       "      <td>6.0</td>\n",
       "      <td>5.0</td>\n",
       "      <td>6.0</td>\n",
       "      <td>21.025379</td>\n",
       "      <td>105.801011</td>\n",
       "      <td>trong ngo</td>\n",
       "    </tr>\n",
       "    <tr>\n",
       "      <th>3</th>\n",
       "      <td>26.0</td>\n",
       "      <td>2900.0</td>\n",
       "      <td>44292</td>\n",
       "      <td>So do</td>\n",
       "      <td>dong-Nam</td>\n",
       "      <td>dong-Nam</td>\n",
       "      <td>4.0</td>\n",
       "      <td>3.0</td>\n",
       "      <td>4.0</td>\n",
       "      <td>21.014325</td>\n",
       "      <td>105.834918</td>\n",
       "      <td>trong ngo</td>\n",
       "    </tr>\n",
       "    <tr>\n",
       "      <th>4</th>\n",
       "      <td>40.0</td>\n",
       "      <td>3950.0</td>\n",
       "      <td>44292</td>\n",
       "      <td>So do</td>\n",
       "      <td>dong-Nam</td>\n",
       "      <td>dong-Nam</td>\n",
       "      <td>4.0</td>\n",
       "      <td>3.0</td>\n",
       "      <td>5.0</td>\n",
       "      <td>21.009862</td>\n",
       "      <td>105.838083</td>\n",
       "      <td>trong ngo</td>\n",
       "    </tr>\n",
       "    <tr>\n",
       "      <th>...</th>\n",
       "      <td>...</td>\n",
       "      <td>...</td>\n",
       "      <td>...</td>\n",
       "      <td>...</td>\n",
       "      <td>...</td>\n",
       "      <td>...</td>\n",
       "      <td>...</td>\n",
       "      <td>...</td>\n",
       "      <td>...</td>\n",
       "      <td>...</td>\n",
       "      <td>...</td>\n",
       "      <td>...</td>\n",
       "    </tr>\n",
       "    <tr>\n",
       "      <th>666</th>\n",
       "      <td>168.0</td>\n",
       "      <td>23500.0</td>\n",
       "      <td>44325</td>\n",
       "      <td>không có thông tin</td>\n",
       "      <td>dong-Nam</td>\n",
       "      <td>dong-Nam</td>\n",
       "      <td>3.0</td>\n",
       "      <td>3.0</td>\n",
       "      <td>3.0</td>\n",
       "      <td>21.000823</td>\n",
       "      <td>105.829097</td>\n",
       "      <td>mat pho</td>\n",
       "    </tr>\n",
       "    <tr>\n",
       "      <th>667</th>\n",
       "      <td>65.0</td>\n",
       "      <td>17500.0</td>\n",
       "      <td>44325</td>\n",
       "      <td>So do</td>\n",
       "      <td>dong-Nam</td>\n",
       "      <td>dong-Nam</td>\n",
       "      <td>4.0</td>\n",
       "      <td>6.0</td>\n",
       "      <td>5.0</td>\n",
       "      <td>21.011495</td>\n",
       "      <td>105.816666</td>\n",
       "      <td>mat pho</td>\n",
       "    </tr>\n",
       "    <tr>\n",
       "      <th>668</th>\n",
       "      <td>60.0</td>\n",
       "      <td>17500.0</td>\n",
       "      <td>44197</td>\n",
       "      <td>không có thông tin</td>\n",
       "      <td>dong-Nam</td>\n",
       "      <td>dong-Nam</td>\n",
       "      <td>4.0</td>\n",
       "      <td>3.0</td>\n",
       "      <td>5.0</td>\n",
       "      <td>21.011495</td>\n",
       "      <td>105.816666</td>\n",
       "      <td>mat pho</td>\n",
       "    </tr>\n",
       "    <tr>\n",
       "      <th>669</th>\n",
       "      <td>45.0</td>\n",
       "      <td>24800.0</td>\n",
       "      <td>44197</td>\n",
       "      <td>không có thông tin</td>\n",
       "      <td>dong-Nam</td>\n",
       "      <td>dong-Nam</td>\n",
       "      <td>4.0</td>\n",
       "      <td>3.0</td>\n",
       "      <td>5.0</td>\n",
       "      <td>21.016106</td>\n",
       "      <td>105.832157</td>\n",
       "      <td>mat pho</td>\n",
       "    </tr>\n",
       "    <tr>\n",
       "      <th>670</th>\n",
       "      <td>107.0</td>\n",
       "      <td>45000.0</td>\n",
       "      <td>44325</td>\n",
       "      <td>So do</td>\n",
       "      <td>dong-Nam</td>\n",
       "      <td>dong-Nam</td>\n",
       "      <td>4.0</td>\n",
       "      <td>3.0</td>\n",
       "      <td>5.0</td>\n",
       "      <td>21.009123</td>\n",
       "      <td>105.824428</td>\n",
       "      <td>mat pho</td>\n",
       "    </tr>\n",
       "  </tbody>\n",
       "</table>\n",
       "<p>617 rows × 12 columns</p>\n",
       "</div>"
      ],
      "text/plain": [
       "      area    price  postDate    land_certificate house_direction  \\\n",
       "0     50.0  14700.0     44197               So do        dong-Nam   \n",
       "1     57.0   4200.0     44265               So do             Nam   \n",
       "2     62.0  11000.0     44268               So do        dong-Nam   \n",
       "3     26.0   2900.0     44292               So do        dong-Nam   \n",
       "4     40.0   3950.0     44292               So do        dong-Nam   \n",
       "..     ...      ...       ...                 ...             ...   \n",
       "666  168.0  23500.0     44325  không có thông tin        dong-Nam   \n",
       "667   65.0  17500.0     44325               So do        dong-Nam   \n",
       "668   60.0  17500.0     44197  không có thông tin        dong-Nam   \n",
       "669   45.0  24800.0     44197  không có thông tin        dong-Nam   \n",
       "670  107.0  45000.0     44325               So do        dong-Nam   \n",
       "\n",
       "    balcony_direction  toilet  bedroom  floor        lat        long  \\\n",
       "0            dong-Nam     4.0      6.0    6.0  21.015698  105.824583   \n",
       "1                 Nam     3.0      8.0    4.0  21.025208  105.833111   \n",
       "2            dong-Nam     6.0      5.0    6.0  21.025379  105.801011   \n",
       "3            dong-Nam     4.0      3.0    4.0  21.014325  105.834918   \n",
       "4            dong-Nam     4.0      3.0    5.0  21.009862  105.838083   \n",
       "..                ...     ...      ...    ...        ...         ...   \n",
       "666          dong-Nam     3.0      3.0    3.0  21.000823  105.829097   \n",
       "667          dong-Nam     4.0      6.0    5.0  21.011495  105.816666   \n",
       "668          dong-Nam     4.0      3.0    5.0  21.011495  105.816666   \n",
       "669          dong-Nam     4.0      3.0    5.0  21.016106  105.832157   \n",
       "670          dong-Nam     4.0      3.0    5.0  21.009123  105.824428   \n",
       "\n",
       "    property_type  \n",
       "0       trong ngo  \n",
       "1       trong ngo  \n",
       "2       trong ngo  \n",
       "3       trong ngo  \n",
       "4       trong ngo  \n",
       "..            ...  \n",
       "666       mat pho  \n",
       "667       mat pho  \n",
       "668       mat pho  \n",
       "669       mat pho  \n",
       "670       mat pho  \n",
       "\n",
       "[617 rows x 12 columns]"
      ]
     },
     "execution_count": 75,
     "metadata": {},
     "output_type": "execute_result"
    }
   ],
   "source": [
    "data"
   ]
  },
  {
   "cell_type": "markdown",
   "id": "5df60904",
   "metadata": {},
   "source": [
    "#### 9. Lọc thông tin những bất động sản ở trong ngõ thành bộ dữ liệu nhà ngõ"
   ]
  },
  {
   "cell_type": "code",
   "execution_count": 76,
   "id": "849e2239",
   "metadata": {},
   "outputs": [
    {
     "data": {
      "text/plain": [
       "trong ngo    407\n",
       "mat pho      210\n",
       "Name: property_type, dtype: int64"
      ]
     },
     "execution_count": 76,
     "metadata": {},
     "output_type": "execute_result"
    }
   ],
   "source": [
    "data['property_type'].value_counts() \n",
    "# => kiểm tra Dữ liệu có 2 loại nhà, format ko cần thay đổi"
   ]
  },
  {
   "cell_type": "code",
   "execution_count": 77,
   "id": "fffcf5a3",
   "metadata": {},
   "outputs": [
    {
     "data": {
      "text/html": [
       "<div>\n",
       "<style scoped>\n",
       "    .dataframe tbody tr th:only-of-type {\n",
       "        vertical-align: middle;\n",
       "    }\n",
       "\n",
       "    .dataframe tbody tr th {\n",
       "        vertical-align: top;\n",
       "    }\n",
       "\n",
       "    .dataframe thead th {\n",
       "        text-align: right;\n",
       "    }\n",
       "</style>\n",
       "<table border=\"1\" class=\"dataframe\">\n",
       "  <thead>\n",
       "    <tr style=\"text-align: right;\">\n",
       "      <th></th>\n",
       "      <th>area</th>\n",
       "      <th>price</th>\n",
       "      <th>postDate</th>\n",
       "      <th>land_certificate</th>\n",
       "      <th>house_direction</th>\n",
       "      <th>balcony_direction</th>\n",
       "      <th>toilet</th>\n",
       "      <th>bedroom</th>\n",
       "      <th>floor</th>\n",
       "      <th>lat</th>\n",
       "      <th>long</th>\n",
       "      <th>property_type</th>\n",
       "    </tr>\n",
       "  </thead>\n",
       "  <tbody>\n",
       "    <tr>\n",
       "      <th>0</th>\n",
       "      <td>50.0</td>\n",
       "      <td>14700.0</td>\n",
       "      <td>44197</td>\n",
       "      <td>So do</td>\n",
       "      <td>dong-Nam</td>\n",
       "      <td>dong-Nam</td>\n",
       "      <td>4.0</td>\n",
       "      <td>6.0</td>\n",
       "      <td>6.0</td>\n",
       "      <td>21.015698</td>\n",
       "      <td>105.824583</td>\n",
       "      <td>trong ngo</td>\n",
       "    </tr>\n",
       "    <tr>\n",
       "      <th>1</th>\n",
       "      <td>57.0</td>\n",
       "      <td>4200.0</td>\n",
       "      <td>44265</td>\n",
       "      <td>So do</td>\n",
       "      <td>Nam</td>\n",
       "      <td>Nam</td>\n",
       "      <td>3.0</td>\n",
       "      <td>8.0</td>\n",
       "      <td>4.0</td>\n",
       "      <td>21.025208</td>\n",
       "      <td>105.833111</td>\n",
       "      <td>trong ngo</td>\n",
       "    </tr>\n",
       "    <tr>\n",
       "      <th>2</th>\n",
       "      <td>62.0</td>\n",
       "      <td>11000.0</td>\n",
       "      <td>44268</td>\n",
       "      <td>So do</td>\n",
       "      <td>dong-Nam</td>\n",
       "      <td>dong-Nam</td>\n",
       "      <td>6.0</td>\n",
       "      <td>5.0</td>\n",
       "      <td>6.0</td>\n",
       "      <td>21.025379</td>\n",
       "      <td>105.801011</td>\n",
       "      <td>trong ngo</td>\n",
       "    </tr>\n",
       "    <tr>\n",
       "      <th>3</th>\n",
       "      <td>26.0</td>\n",
       "      <td>2900.0</td>\n",
       "      <td>44292</td>\n",
       "      <td>So do</td>\n",
       "      <td>dong-Nam</td>\n",
       "      <td>dong-Nam</td>\n",
       "      <td>4.0</td>\n",
       "      <td>3.0</td>\n",
       "      <td>4.0</td>\n",
       "      <td>21.014325</td>\n",
       "      <td>105.834918</td>\n",
       "      <td>trong ngo</td>\n",
       "    </tr>\n",
       "    <tr>\n",
       "      <th>4</th>\n",
       "      <td>40.0</td>\n",
       "      <td>3950.0</td>\n",
       "      <td>44292</td>\n",
       "      <td>So do</td>\n",
       "      <td>dong-Nam</td>\n",
       "      <td>dong-Nam</td>\n",
       "      <td>4.0</td>\n",
       "      <td>3.0</td>\n",
       "      <td>5.0</td>\n",
       "      <td>21.009862</td>\n",
       "      <td>105.838083</td>\n",
       "      <td>trong ngo</td>\n",
       "    </tr>\n",
       "    <tr>\n",
       "      <th>...</th>\n",
       "      <td>...</td>\n",
       "      <td>...</td>\n",
       "      <td>...</td>\n",
       "      <td>...</td>\n",
       "      <td>...</td>\n",
       "      <td>...</td>\n",
       "      <td>...</td>\n",
       "      <td>...</td>\n",
       "      <td>...</td>\n",
       "      <td>...</td>\n",
       "      <td>...</td>\n",
       "      <td>...</td>\n",
       "    </tr>\n",
       "    <tr>\n",
       "      <th>444</th>\n",
       "      <td>90.0</td>\n",
       "      <td>32000.0</td>\n",
       "      <td>44325</td>\n",
       "      <td>không có thông tin</td>\n",
       "      <td>dong-Bac</td>\n",
       "      <td>Tay-Bac</td>\n",
       "      <td>4.0</td>\n",
       "      <td>3.0</td>\n",
       "      <td>8.0</td>\n",
       "      <td>21.017799</td>\n",
       "      <td>105.810572</td>\n",
       "      <td>trong ngo</td>\n",
       "    </tr>\n",
       "    <tr>\n",
       "      <th>445</th>\n",
       "      <td>58.0</td>\n",
       "      <td>15800.0</td>\n",
       "      <td>44325</td>\n",
       "      <td>So do</td>\n",
       "      <td>dong-Nam</td>\n",
       "      <td>dong-Nam</td>\n",
       "      <td>4.0</td>\n",
       "      <td>5.0</td>\n",
       "      <td>7.0</td>\n",
       "      <td>21.020556</td>\n",
       "      <td>105.828657</td>\n",
       "      <td>trong ngo</td>\n",
       "    </tr>\n",
       "    <tr>\n",
       "      <th>446</th>\n",
       "      <td>96.0</td>\n",
       "      <td>10200.0</td>\n",
       "      <td>44325</td>\n",
       "      <td>So do</td>\n",
       "      <td>dong-Nam</td>\n",
       "      <td>dong-Nam</td>\n",
       "      <td>4.0</td>\n",
       "      <td>3.0</td>\n",
       "      <td>4.0</td>\n",
       "      <td>21.012310</td>\n",
       "      <td>105.828978</td>\n",
       "      <td>trong ngo</td>\n",
       "    </tr>\n",
       "    <tr>\n",
       "      <th>447</th>\n",
       "      <td>38.0</td>\n",
       "      <td>3900.0</td>\n",
       "      <td>44325</td>\n",
       "      <td>So do</td>\n",
       "      <td>dong-Nam</td>\n",
       "      <td>dong-Nam</td>\n",
       "      <td>4.0</td>\n",
       "      <td>3.0</td>\n",
       "      <td>5.0</td>\n",
       "      <td>21.006694</td>\n",
       "      <td>105.835635</td>\n",
       "      <td>trong ngo</td>\n",
       "    </tr>\n",
       "    <tr>\n",
       "      <th>448</th>\n",
       "      <td>25.0</td>\n",
       "      <td>2850.0</td>\n",
       "      <td>44325</td>\n",
       "      <td>không có thông tin</td>\n",
       "      <td>dong-Nam</td>\n",
       "      <td>dong-Nam</td>\n",
       "      <td>3.0</td>\n",
       "      <td>2.0</td>\n",
       "      <td>4.0</td>\n",
       "      <td>21.026821</td>\n",
       "      <td>105.825845</td>\n",
       "      <td>trong ngo</td>\n",
       "    </tr>\n",
       "  </tbody>\n",
       "</table>\n",
       "<p>407 rows × 12 columns</p>\n",
       "</div>"
      ],
      "text/plain": [
       "     area    price  postDate    land_certificate house_direction  \\\n",
       "0    50.0  14700.0     44197               So do        dong-Nam   \n",
       "1    57.0   4200.0     44265               So do             Nam   \n",
       "2    62.0  11000.0     44268               So do        dong-Nam   \n",
       "3    26.0   2900.0     44292               So do        dong-Nam   \n",
       "4    40.0   3950.0     44292               So do        dong-Nam   \n",
       "..    ...      ...       ...                 ...             ...   \n",
       "444  90.0  32000.0     44325  không có thông tin        dong-Bac   \n",
       "445  58.0  15800.0     44325               So do        dong-Nam   \n",
       "446  96.0  10200.0     44325               So do        dong-Nam   \n",
       "447  38.0   3900.0     44325               So do        dong-Nam   \n",
       "448  25.0   2850.0     44325  không có thông tin        dong-Nam   \n",
       "\n",
       "    balcony_direction  toilet  bedroom  floor        lat        long  \\\n",
       "0            dong-Nam     4.0      6.0    6.0  21.015698  105.824583   \n",
       "1                 Nam     3.0      8.0    4.0  21.025208  105.833111   \n",
       "2            dong-Nam     6.0      5.0    6.0  21.025379  105.801011   \n",
       "3            dong-Nam     4.0      3.0    4.0  21.014325  105.834918   \n",
       "4            dong-Nam     4.0      3.0    5.0  21.009862  105.838083   \n",
       "..                ...     ...      ...    ...        ...         ...   \n",
       "444           Tay-Bac     4.0      3.0    8.0  21.017799  105.810572   \n",
       "445          dong-Nam     4.0      5.0    7.0  21.020556  105.828657   \n",
       "446          dong-Nam     4.0      3.0    4.0  21.012310  105.828978   \n",
       "447          dong-Nam     4.0      3.0    5.0  21.006694  105.835635   \n",
       "448          dong-Nam     3.0      2.0    4.0  21.026821  105.825845   \n",
       "\n",
       "    property_type  \n",
       "0       trong ngo  \n",
       "1       trong ngo  \n",
       "2       trong ngo  \n",
       "3       trong ngo  \n",
       "4       trong ngo  \n",
       "..            ...  \n",
       "444     trong ngo  \n",
       "445     trong ngo  \n",
       "446     trong ngo  \n",
       "447     trong ngo  \n",
       "448     trong ngo  \n",
       "\n",
       "[407 rows x 12 columns]"
      ]
     },
     "execution_count": 77,
     "metadata": {},
     "output_type": "execute_result"
    }
   ],
   "source": [
    "data_nhango = data[data['property_type']=='trong ngo'].copy()\n",
    "data_nhango"
   ]
  },
  {
   "cell_type": "markdown",
   "id": "dfb401d7",
   "metadata": {},
   "source": [
    "#### 10. Tính toán giá/m2  ( đơn vị triệu/m2) với loại hình nhà ngõ"
   ]
  },
  {
   "cell_type": "code",
   "execution_count": 78,
   "id": "08078c83",
   "metadata": {},
   "outputs": [
    {
     "data": {
      "text/html": [
       "<div>\n",
       "<style scoped>\n",
       "    .dataframe tbody tr th:only-of-type {\n",
       "        vertical-align: middle;\n",
       "    }\n",
       "\n",
       "    .dataframe tbody tr th {\n",
       "        vertical-align: top;\n",
       "    }\n",
       "\n",
       "    .dataframe thead th {\n",
       "        text-align: right;\n",
       "    }\n",
       "</style>\n",
       "<table border=\"1\" class=\"dataframe\">\n",
       "  <thead>\n",
       "    <tr style=\"text-align: right;\">\n",
       "      <th></th>\n",
       "      <th>area</th>\n",
       "      <th>price</th>\n",
       "      <th>postDate</th>\n",
       "      <th>land_certificate</th>\n",
       "      <th>house_direction</th>\n",
       "      <th>balcony_direction</th>\n",
       "      <th>toilet</th>\n",
       "      <th>bedroom</th>\n",
       "      <th>floor</th>\n",
       "      <th>lat</th>\n",
       "      <th>long</th>\n",
       "      <th>property_type</th>\n",
       "      <th>Giá/m2</th>\n",
       "    </tr>\n",
       "  </thead>\n",
       "  <tbody>\n",
       "    <tr>\n",
       "      <th>0</th>\n",
       "      <td>50.0</td>\n",
       "      <td>14700.0</td>\n",
       "      <td>44197</td>\n",
       "      <td>So do</td>\n",
       "      <td>dong-Nam</td>\n",
       "      <td>dong-Nam</td>\n",
       "      <td>4.0</td>\n",
       "      <td>6.0</td>\n",
       "      <td>6.0</td>\n",
       "      <td>21.015698</td>\n",
       "      <td>105.824583</td>\n",
       "      <td>trong ngo</td>\n",
       "      <td>294000.0</td>\n",
       "    </tr>\n",
       "    <tr>\n",
       "      <th>1</th>\n",
       "      <td>57.0</td>\n",
       "      <td>4200.0</td>\n",
       "      <td>44265</td>\n",
       "      <td>So do</td>\n",
       "      <td>Nam</td>\n",
       "      <td>Nam</td>\n",
       "      <td>3.0</td>\n",
       "      <td>8.0</td>\n",
       "      <td>4.0</td>\n",
       "      <td>21.025208</td>\n",
       "      <td>105.833111</td>\n",
       "      <td>trong ngo</td>\n",
       "      <td>73684.0</td>\n",
       "    </tr>\n",
       "    <tr>\n",
       "      <th>2</th>\n",
       "      <td>62.0</td>\n",
       "      <td>11000.0</td>\n",
       "      <td>44268</td>\n",
       "      <td>So do</td>\n",
       "      <td>dong-Nam</td>\n",
       "      <td>dong-Nam</td>\n",
       "      <td>6.0</td>\n",
       "      <td>5.0</td>\n",
       "      <td>6.0</td>\n",
       "      <td>21.025379</td>\n",
       "      <td>105.801011</td>\n",
       "      <td>trong ngo</td>\n",
       "      <td>177419.0</td>\n",
       "    </tr>\n",
       "    <tr>\n",
       "      <th>3</th>\n",
       "      <td>26.0</td>\n",
       "      <td>2900.0</td>\n",
       "      <td>44292</td>\n",
       "      <td>So do</td>\n",
       "      <td>dong-Nam</td>\n",
       "      <td>dong-Nam</td>\n",
       "      <td>4.0</td>\n",
       "      <td>3.0</td>\n",
       "      <td>4.0</td>\n",
       "      <td>21.014325</td>\n",
       "      <td>105.834918</td>\n",
       "      <td>trong ngo</td>\n",
       "      <td>111538.0</td>\n",
       "    </tr>\n",
       "    <tr>\n",
       "      <th>4</th>\n",
       "      <td>40.0</td>\n",
       "      <td>3950.0</td>\n",
       "      <td>44292</td>\n",
       "      <td>So do</td>\n",
       "      <td>dong-Nam</td>\n",
       "      <td>dong-Nam</td>\n",
       "      <td>4.0</td>\n",
       "      <td>3.0</td>\n",
       "      <td>5.0</td>\n",
       "      <td>21.009862</td>\n",
       "      <td>105.838083</td>\n",
       "      <td>trong ngo</td>\n",
       "      <td>98750.0</td>\n",
       "    </tr>\n",
       "    <tr>\n",
       "      <th>...</th>\n",
       "      <td>...</td>\n",
       "      <td>...</td>\n",
       "      <td>...</td>\n",
       "      <td>...</td>\n",
       "      <td>...</td>\n",
       "      <td>...</td>\n",
       "      <td>...</td>\n",
       "      <td>...</td>\n",
       "      <td>...</td>\n",
       "      <td>...</td>\n",
       "      <td>...</td>\n",
       "      <td>...</td>\n",
       "      <td>...</td>\n",
       "    </tr>\n",
       "    <tr>\n",
       "      <th>444</th>\n",
       "      <td>90.0</td>\n",
       "      <td>32000.0</td>\n",
       "      <td>44325</td>\n",
       "      <td>không có thông tin</td>\n",
       "      <td>dong-Bac</td>\n",
       "      <td>Tay-Bac</td>\n",
       "      <td>4.0</td>\n",
       "      <td>3.0</td>\n",
       "      <td>8.0</td>\n",
       "      <td>21.017799</td>\n",
       "      <td>105.810572</td>\n",
       "      <td>trong ngo</td>\n",
       "      <td>355556.0</td>\n",
       "    </tr>\n",
       "    <tr>\n",
       "      <th>445</th>\n",
       "      <td>58.0</td>\n",
       "      <td>15800.0</td>\n",
       "      <td>44325</td>\n",
       "      <td>So do</td>\n",
       "      <td>dong-Nam</td>\n",
       "      <td>dong-Nam</td>\n",
       "      <td>4.0</td>\n",
       "      <td>5.0</td>\n",
       "      <td>7.0</td>\n",
       "      <td>21.020556</td>\n",
       "      <td>105.828657</td>\n",
       "      <td>trong ngo</td>\n",
       "      <td>272414.0</td>\n",
       "    </tr>\n",
       "    <tr>\n",
       "      <th>446</th>\n",
       "      <td>96.0</td>\n",
       "      <td>10200.0</td>\n",
       "      <td>44325</td>\n",
       "      <td>So do</td>\n",
       "      <td>dong-Nam</td>\n",
       "      <td>dong-Nam</td>\n",
       "      <td>4.0</td>\n",
       "      <td>3.0</td>\n",
       "      <td>4.0</td>\n",
       "      <td>21.012310</td>\n",
       "      <td>105.828978</td>\n",
       "      <td>trong ngo</td>\n",
       "      <td>106250.0</td>\n",
       "    </tr>\n",
       "    <tr>\n",
       "      <th>447</th>\n",
       "      <td>38.0</td>\n",
       "      <td>3900.0</td>\n",
       "      <td>44325</td>\n",
       "      <td>So do</td>\n",
       "      <td>dong-Nam</td>\n",
       "      <td>dong-Nam</td>\n",
       "      <td>4.0</td>\n",
       "      <td>3.0</td>\n",
       "      <td>5.0</td>\n",
       "      <td>21.006694</td>\n",
       "      <td>105.835635</td>\n",
       "      <td>trong ngo</td>\n",
       "      <td>102632.0</td>\n",
       "    </tr>\n",
       "    <tr>\n",
       "      <th>448</th>\n",
       "      <td>25.0</td>\n",
       "      <td>2850.0</td>\n",
       "      <td>44325</td>\n",
       "      <td>không có thông tin</td>\n",
       "      <td>dong-Nam</td>\n",
       "      <td>dong-Nam</td>\n",
       "      <td>3.0</td>\n",
       "      <td>2.0</td>\n",
       "      <td>4.0</td>\n",
       "      <td>21.026821</td>\n",
       "      <td>105.825845</td>\n",
       "      <td>trong ngo</td>\n",
       "      <td>114000.0</td>\n",
       "    </tr>\n",
       "  </tbody>\n",
       "</table>\n",
       "<p>407 rows × 13 columns</p>\n",
       "</div>"
      ],
      "text/plain": [
       "     area    price  postDate    land_certificate house_direction  \\\n",
       "0    50.0  14700.0     44197               So do        dong-Nam   \n",
       "1    57.0   4200.0     44265               So do             Nam   \n",
       "2    62.0  11000.0     44268               So do        dong-Nam   \n",
       "3    26.0   2900.0     44292               So do        dong-Nam   \n",
       "4    40.0   3950.0     44292               So do        dong-Nam   \n",
       "..    ...      ...       ...                 ...             ...   \n",
       "444  90.0  32000.0     44325  không có thông tin        dong-Bac   \n",
       "445  58.0  15800.0     44325               So do        dong-Nam   \n",
       "446  96.0  10200.0     44325               So do        dong-Nam   \n",
       "447  38.0   3900.0     44325               So do        dong-Nam   \n",
       "448  25.0   2850.0     44325  không có thông tin        dong-Nam   \n",
       "\n",
       "    balcony_direction  toilet  bedroom  floor        lat        long  \\\n",
       "0            dong-Nam     4.0      6.0    6.0  21.015698  105.824583   \n",
       "1                 Nam     3.0      8.0    4.0  21.025208  105.833111   \n",
       "2            dong-Nam     6.0      5.0    6.0  21.025379  105.801011   \n",
       "3            dong-Nam     4.0      3.0    4.0  21.014325  105.834918   \n",
       "4            dong-Nam     4.0      3.0    5.0  21.009862  105.838083   \n",
       "..                ...     ...      ...    ...        ...         ...   \n",
       "444           Tay-Bac     4.0      3.0    8.0  21.017799  105.810572   \n",
       "445          dong-Nam     4.0      5.0    7.0  21.020556  105.828657   \n",
       "446          dong-Nam     4.0      3.0    4.0  21.012310  105.828978   \n",
       "447          dong-Nam     4.0      3.0    5.0  21.006694  105.835635   \n",
       "448          dong-Nam     3.0      2.0    4.0  21.026821  105.825845   \n",
       "\n",
       "    property_type    Giá/m2  \n",
       "0       trong ngo  294000.0  \n",
       "1       trong ngo   73684.0  \n",
       "2       trong ngo  177419.0  \n",
       "3       trong ngo  111538.0  \n",
       "4       trong ngo   98750.0  \n",
       "..            ...       ...  \n",
       "444     trong ngo  355556.0  \n",
       "445     trong ngo  272414.0  \n",
       "446     trong ngo  106250.0  \n",
       "447     trong ngo  102632.0  \n",
       "448     trong ngo  114000.0  \n",
       "\n",
       "[407 rows x 13 columns]"
      ]
     },
     "execution_count": 78,
     "metadata": {},
     "output_type": "execute_result"
    }
   ],
   "source": [
    "data_nhango['Giá/m2'] = round(10**3*data_nhango['price']/data_nhango['area'])\n",
    "data_nhango"
   ]
  },
  {
   "cell_type": "markdown",
   "id": "5e6e9327",
   "metadata": {},
   "source": [
    "#### 11. Phát hiện giá trị ngoại lai của các thuộc tính: diện tích, giá/m2 bằng phương pháp IQR"
   ]
  },
  {
   "cell_type": "code",
   "execution_count": 79,
   "id": "2ae4fcd8",
   "metadata": {},
   "outputs": [
    {
     "data": {
      "text/plain": [
       "<AxesSubplot:xlabel='Giá/m2'>"
      ]
     },
     "execution_count": 79,
     "metadata": {},
     "output_type": "execute_result"
    },
    {
     "data": {
      "image/png": "[encoded data removed]",
      "text/plain": [
       "<Figure size 432x288 with 1 Axes>"
      ]
     },
     "metadata": {},
     "output_type": "display_data"
    }
   ],
   "source": [
    "sns.boxplot(x=data_nhango['Giá/m2'])"
   ]
  },
  {
   "cell_type": "code",
   "execution_count": 80,
   "id": "6eadbf0d",
   "metadata": {},
   "outputs": [
    {
     "data": {
      "text/plain": [
       "area         27.75\n",
       "Giá/m2    99080.75\n",
       "dtype: float64"
      ]
     },
     "execution_count": 80,
     "metadata": {},
     "output_type": "execute_result"
    }
   ],
   "source": [
    "df = data_nhango[['area','Giá/m2']]\n",
    "Q1 = df.quantile(0.25)\n",
    "Q3 = df.quantile(0.75)\n",
    "IQR = Q3 - Q1\n",
    "IQR"
   ]
  },
  {
   "cell_type": "markdown",
   "id": "91aa77e3",
   "metadata": {},
   "source": [
    "#### 12. Thực hiện loại bỏ các dòng dữ liệu ngoại lai"
   ]
  },
  {
   "cell_type": "code",
   "execution_count": 81,
   "id": "d7359058",
   "metadata": {},
   "outputs": [
    {
     "data": {
      "text/html": [
       "<div>\n",
       "<style scoped>\n",
       "    .dataframe tbody tr th:only-of-type {\n",
       "        vertical-align: middle;\n",
       "    }\n",
       "\n",
       "    .dataframe tbody tr th {\n",
       "        vertical-align: top;\n",
       "    }\n",
       "\n",
       "    .dataframe thead th {\n",
       "        text-align: right;\n",
       "    }\n",
       "</style>\n",
       "<table border=\"1\" class=\"dataframe\">\n",
       "  <thead>\n",
       "    <tr style=\"text-align: right;\">\n",
       "      <th></th>\n",
       "      <th>area</th>\n",
       "      <th>price</th>\n",
       "      <th>postDate</th>\n",
       "      <th>land_certificate</th>\n",
       "      <th>house_direction</th>\n",
       "      <th>balcony_direction</th>\n",
       "      <th>toilet</th>\n",
       "      <th>bedroom</th>\n",
       "      <th>floor</th>\n",
       "      <th>lat</th>\n",
       "      <th>long</th>\n",
       "      <th>property_type</th>\n",
       "      <th>Giá/m2</th>\n",
       "    </tr>\n",
       "  </thead>\n",
       "  <tbody>\n",
       "    <tr>\n",
       "      <th>0</th>\n",
       "      <td>50.0</td>\n",
       "      <td>14700.0</td>\n",
       "      <td>44197</td>\n",
       "      <td>So do</td>\n",
       "      <td>dong-Nam</td>\n",
       "      <td>dong-Nam</td>\n",
       "      <td>4.0</td>\n",
       "      <td>6.0</td>\n",
       "      <td>6.0</td>\n",
       "      <td>21.015698</td>\n",
       "      <td>105.824583</td>\n",
       "      <td>trong ngo</td>\n",
       "      <td>294000.0</td>\n",
       "    </tr>\n",
       "    <tr>\n",
       "      <th>1</th>\n",
       "      <td>57.0</td>\n",
       "      <td>4200.0</td>\n",
       "      <td>44265</td>\n",
       "      <td>So do</td>\n",
       "      <td>Nam</td>\n",
       "      <td>Nam</td>\n",
       "      <td>3.0</td>\n",
       "      <td>8.0</td>\n",
       "      <td>4.0</td>\n",
       "      <td>21.025208</td>\n",
       "      <td>105.833111</td>\n",
       "      <td>trong ngo</td>\n",
       "      <td>73684.0</td>\n",
       "    </tr>\n",
       "    <tr>\n",
       "      <th>2</th>\n",
       "      <td>62.0</td>\n",
       "      <td>11000.0</td>\n",
       "      <td>44268</td>\n",
       "      <td>So do</td>\n",
       "      <td>dong-Nam</td>\n",
       "      <td>dong-Nam</td>\n",
       "      <td>6.0</td>\n",
       "      <td>5.0</td>\n",
       "      <td>6.0</td>\n",
       "      <td>21.025379</td>\n",
       "      <td>105.801011</td>\n",
       "      <td>trong ngo</td>\n",
       "      <td>177419.0</td>\n",
       "    </tr>\n",
       "    <tr>\n",
       "      <th>3</th>\n",
       "      <td>26.0</td>\n",
       "      <td>2900.0</td>\n",
       "      <td>44292</td>\n",
       "      <td>So do</td>\n",
       "      <td>dong-Nam</td>\n",
       "      <td>dong-Nam</td>\n",
       "      <td>4.0</td>\n",
       "      <td>3.0</td>\n",
       "      <td>4.0</td>\n",
       "      <td>21.014325</td>\n",
       "      <td>105.834918</td>\n",
       "      <td>trong ngo</td>\n",
       "      <td>111538.0</td>\n",
       "    </tr>\n",
       "    <tr>\n",
       "      <th>4</th>\n",
       "      <td>40.0</td>\n",
       "      <td>3950.0</td>\n",
       "      <td>44292</td>\n",
       "      <td>So do</td>\n",
       "      <td>dong-Nam</td>\n",
       "      <td>dong-Nam</td>\n",
       "      <td>4.0</td>\n",
       "      <td>3.0</td>\n",
       "      <td>5.0</td>\n",
       "      <td>21.009862</td>\n",
       "      <td>105.838083</td>\n",
       "      <td>trong ngo</td>\n",
       "      <td>98750.0</td>\n",
       "    </tr>\n",
       "    <tr>\n",
       "      <th>...</th>\n",
       "      <td>...</td>\n",
       "      <td>...</td>\n",
       "      <td>...</td>\n",
       "      <td>...</td>\n",
       "      <td>...</td>\n",
       "      <td>...</td>\n",
       "      <td>...</td>\n",
       "      <td>...</td>\n",
       "      <td>...</td>\n",
       "      <td>...</td>\n",
       "      <td>...</td>\n",
       "      <td>...</td>\n",
       "      <td>...</td>\n",
       "    </tr>\n",
       "    <tr>\n",
       "      <th>443</th>\n",
       "      <td>25.0</td>\n",
       "      <td>2850.0</td>\n",
       "      <td>44325</td>\n",
       "      <td>không có thông tin</td>\n",
       "      <td>dong-Nam</td>\n",
       "      <td>dong-Nam</td>\n",
       "      <td>3.0</td>\n",
       "      <td>2.0</td>\n",
       "      <td>4.0</td>\n",
       "      <td>21.029522</td>\n",
       "      <td>105.827353</td>\n",
       "      <td>trong ngo</td>\n",
       "      <td>114000.0</td>\n",
       "    </tr>\n",
       "    <tr>\n",
       "      <th>445</th>\n",
       "      <td>58.0</td>\n",
       "      <td>15800.0</td>\n",
       "      <td>44325</td>\n",
       "      <td>So do</td>\n",
       "      <td>dong-Nam</td>\n",
       "      <td>dong-Nam</td>\n",
       "      <td>4.0</td>\n",
       "      <td>5.0</td>\n",
       "      <td>7.0</td>\n",
       "      <td>21.020556</td>\n",
       "      <td>105.828657</td>\n",
       "      <td>trong ngo</td>\n",
       "      <td>272414.0</td>\n",
       "    </tr>\n",
       "    <tr>\n",
       "      <th>446</th>\n",
       "      <td>96.0</td>\n",
       "      <td>10200.0</td>\n",
       "      <td>44325</td>\n",
       "      <td>So do</td>\n",
       "      <td>dong-Nam</td>\n",
       "      <td>dong-Nam</td>\n",
       "      <td>4.0</td>\n",
       "      <td>3.0</td>\n",
       "      <td>4.0</td>\n",
       "      <td>21.012310</td>\n",
       "      <td>105.828978</td>\n",
       "      <td>trong ngo</td>\n",
       "      <td>106250.0</td>\n",
       "    </tr>\n",
       "    <tr>\n",
       "      <th>447</th>\n",
       "      <td>38.0</td>\n",
       "      <td>3900.0</td>\n",
       "      <td>44325</td>\n",
       "      <td>So do</td>\n",
       "      <td>dong-Nam</td>\n",
       "      <td>dong-Nam</td>\n",
       "      <td>4.0</td>\n",
       "      <td>3.0</td>\n",
       "      <td>5.0</td>\n",
       "      <td>21.006694</td>\n",
       "      <td>105.835635</td>\n",
       "      <td>trong ngo</td>\n",
       "      <td>102632.0</td>\n",
       "    </tr>\n",
       "    <tr>\n",
       "      <th>448</th>\n",
       "      <td>25.0</td>\n",
       "      <td>2850.0</td>\n",
       "      <td>44325</td>\n",
       "      <td>không có thông tin</td>\n",
       "      <td>dong-Nam</td>\n",
       "      <td>dong-Nam</td>\n",
       "      <td>3.0</td>\n",
       "      <td>2.0</td>\n",
       "      <td>4.0</td>\n",
       "      <td>21.026821</td>\n",
       "      <td>105.825845</td>\n",
       "      <td>trong ngo</td>\n",
       "      <td>114000.0</td>\n",
       "    </tr>\n",
       "  </tbody>\n",
       "</table>\n",
       "<p>354 rows × 13 columns</p>\n",
       "</div>"
      ],
      "text/plain": [
       "     area    price  postDate    land_certificate house_direction  \\\n",
       "0    50.0  14700.0     44197               So do        dong-Nam   \n",
       "1    57.0   4200.0     44265               So do             Nam   \n",
       "2    62.0  11000.0     44268               So do        dong-Nam   \n",
       "3    26.0   2900.0     44292               So do        dong-Nam   \n",
       "4    40.0   3950.0     44292               So do        dong-Nam   \n",
       "..    ...      ...       ...                 ...             ...   \n",
       "443  25.0   2850.0     44325  không có thông tin        dong-Nam   \n",
       "445  58.0  15800.0     44325               So do        dong-Nam   \n",
       "446  96.0  10200.0     44325               So do        dong-Nam   \n",
       "447  38.0   3900.0     44325               So do        dong-Nam   \n",
       "448  25.0   2850.0     44325  không có thông tin        dong-Nam   \n",
       "\n",
       "    balcony_direction  toilet  bedroom  floor        lat        long  \\\n",
       "0            dong-Nam     4.0      6.0    6.0  21.015698  105.824583   \n",
       "1                 Nam     3.0      8.0    4.0  21.025208  105.833111   \n",
       "2            dong-Nam     6.0      5.0    6.0  21.025379  105.801011   \n",
       "3            dong-Nam     4.0      3.0    4.0  21.014325  105.834918   \n",
       "4            dong-Nam     4.0      3.0    5.0  21.009862  105.838083   \n",
       "..                ...     ...      ...    ...        ...         ...   \n",
       "443          dong-Nam     3.0      2.0    4.0  21.029522  105.827353   \n",
       "445          dong-Nam     4.0      5.0    7.0  21.020556  105.828657   \n",
       "446          dong-Nam     4.0      3.0    4.0  21.012310  105.828978   \n",
       "447          dong-Nam     4.0      3.0    5.0  21.006694  105.835635   \n",
       "448          dong-Nam     3.0      2.0    4.0  21.026821  105.825845   \n",
       "\n",
       "    property_type    Giá/m2  \n",
       "0       trong ngo  294000.0  \n",
       "1       trong ngo   73684.0  \n",
       "2       trong ngo  177419.0  \n",
       "3       trong ngo  111538.0  \n",
       "4       trong ngo   98750.0  \n",
       "..            ...       ...  \n",
       "443     trong ngo  114000.0  \n",
       "445     trong ngo  272414.0  \n",
       "446     trong ngo  106250.0  \n",
       "447     trong ngo  102632.0  \n",
       "448     trong ngo  114000.0  \n",
       "\n",
       "[354 rows x 13 columns]"
      ]
     },
     "execution_count": 81,
     "metadata": {},
     "output_type": "execute_result"
    }
   ],
   "source": [
    "data_not_outliers= data_nhango[~((df<(Q1-1.5*IQR)) | (df> (Q3 + 1.5*IQR))).any(axis=1)]\n",
    "data_not_outliers"
   ]
  },
  {
   "cell_type": "markdown",
   "id": "654657c4",
   "metadata": {},
   "source": [
    "#### 13. Chuẩn hóa dữ liệu của tất cả các thuộc tính: price/m2 bằng các phương pháp: min-max scaling, z- score scaling, Robust scaling, và so sánh phân bố của thuộc tính này trước và sau khi chuẩn hóa"
   ]
  },
  {
   "cell_type": "code",
   "execution_count": 82,
   "id": "853628dc",
   "metadata": {},
   "outputs": [
    {
     "data": {
      "text/plain": [
       "<AxesSubplot:xlabel='Giá/m2'>"
      ]
     },
     "execution_count": 82,
     "metadata": {},
     "output_type": "execute_result"
    },
    {
     "data": {
      "image/png": "[encoded data removed]",
      "text/plain": [
       "<Figure size 432x288 with 1 Axes>"
      ]
     },
     "metadata": {},
     "output_type": "display_data"
    }
   ],
   "source": [
    "sns.boxplot(x=data_not_outliers['Giá/m2'])"
   ]
  },
  {
   "cell_type": "code",
   "execution_count": 83,
   "id": "834d928f",
   "metadata": {},
   "outputs": [
    {
     "data": {
      "text/plain": [
       "<AxesSubplot:xlabel='Giá/m2', ylabel='Density'>"
      ]
     },
     "execution_count": 83,
     "metadata": {},
     "output_type": "execute_result"
    },
    {
     "data": {
      "image/png": "[encoded data removed]",
      "text/plain": [
       "<Figure size 432x288 with 1 Axes>"
      ]
     },
     "metadata": {},
     "output_type": "display_data"
    }
   ],
   "source": [
    "sns.kdeplot(data=data_not_outliers['Giá/m2'])"
   ]
  },
  {
   "cell_type": "code",
   "execution_count": 84,
   "id": "429f977e",
   "metadata": {},
   "outputs": [
    {
     "name": "stderr",
     "output_type": "stream",
     "text": [
      "C:\\Users\\HP\\AppData\\Local\\Temp\\ipykernel_15740\\3244230662.py:3: SettingWithCopyWarning: \n",
      "A value is trying to be set on a copy of a slice from a DataFrame.\n",
      "Try using .loc[row_indexer,col_indexer] = value instead\n",
      "\n",
      "See the caveats in the documentation: https://pandas.pydata.org/pandas-docs/stable/user_guide/indexing.html#returning-a-view-versus-a-copy\n",
      "  data_not_outliers['Giá/m2'] = s_scaler.fit_transform(df_s)\n"
     ]
    },
    {
     "data": {
      "text/html": [
       "<div>\n",
       "<style scoped>\n",
       "    .dataframe tbody tr th:only-of-type {\n",
       "        vertical-align: middle;\n",
       "    }\n",
       "\n",
       "    .dataframe tbody tr th {\n",
       "        vertical-align: top;\n",
       "    }\n",
       "\n",
       "    .dataframe thead th {\n",
       "        text-align: right;\n",
       "    }\n",
       "</style>\n",
       "<table border=\"1\" class=\"dataframe\">\n",
       "  <thead>\n",
       "    <tr style=\"text-align: right;\">\n",
       "      <th></th>\n",
       "      <th>area</th>\n",
       "      <th>price</th>\n",
       "      <th>postDate</th>\n",
       "      <th>land_certificate</th>\n",
       "      <th>house_direction</th>\n",
       "      <th>balcony_direction</th>\n",
       "      <th>toilet</th>\n",
       "      <th>bedroom</th>\n",
       "      <th>floor</th>\n",
       "      <th>lat</th>\n",
       "      <th>long</th>\n",
       "      <th>property_type</th>\n",
       "      <th>Giá/m2</th>\n",
       "    </tr>\n",
       "  </thead>\n",
       "  <tbody>\n",
       "    <tr>\n",
       "      <th>0</th>\n",
       "      <td>50.0</td>\n",
       "      <td>14700.0</td>\n",
       "      <td>44197</td>\n",
       "      <td>So do</td>\n",
       "      <td>dong-Nam</td>\n",
       "      <td>dong-Nam</td>\n",
       "      <td>4.0</td>\n",
       "      <td>6.0</td>\n",
       "      <td>6.0</td>\n",
       "      <td>21.015698</td>\n",
       "      <td>105.824583</td>\n",
       "      <td>trong ngo</td>\n",
       "      <td>0.898209</td>\n",
       "    </tr>\n",
       "    <tr>\n",
       "      <th>1</th>\n",
       "      <td>57.0</td>\n",
       "      <td>4200.0</td>\n",
       "      <td>44265</td>\n",
       "      <td>So do</td>\n",
       "      <td>Nam</td>\n",
       "      <td>Nam</td>\n",
       "      <td>3.0</td>\n",
       "      <td>8.0</td>\n",
       "      <td>4.0</td>\n",
       "      <td>21.025208</td>\n",
       "      <td>105.833111</td>\n",
       "      <td>trong ngo</td>\n",
       "      <td>0.174782</td>\n",
       "    </tr>\n",
       "    <tr>\n",
       "      <th>2</th>\n",
       "      <td>62.0</td>\n",
       "      <td>11000.0</td>\n",
       "      <td>44268</td>\n",
       "      <td>So do</td>\n",
       "      <td>dong-Nam</td>\n",
       "      <td>dong-Nam</td>\n",
       "      <td>6.0</td>\n",
       "      <td>5.0</td>\n",
       "      <td>6.0</td>\n",
       "      <td>21.025379</td>\n",
       "      <td>105.801011</td>\n",
       "      <td>trong ngo</td>\n",
       "      <td>0.515405</td>\n",
       "    </tr>\n",
       "    <tr>\n",
       "      <th>3</th>\n",
       "      <td>26.0</td>\n",
       "      <td>2900.0</td>\n",
       "      <td>44292</td>\n",
       "      <td>So do</td>\n",
       "      <td>dong-Nam</td>\n",
       "      <td>dong-Nam</td>\n",
       "      <td>4.0</td>\n",
       "      <td>3.0</td>\n",
       "      <td>4.0</td>\n",
       "      <td>21.014325</td>\n",
       "      <td>105.834918</td>\n",
       "      <td>trong ngo</td>\n",
       "      <td>0.299079</td>\n",
       "    </tr>\n",
       "    <tr>\n",
       "      <th>4</th>\n",
       "      <td>40.0</td>\n",
       "      <td>3950.0</td>\n",
       "      <td>44292</td>\n",
       "      <td>So do</td>\n",
       "      <td>dong-Nam</td>\n",
       "      <td>dong-Nam</td>\n",
       "      <td>4.0</td>\n",
       "      <td>3.0</td>\n",
       "      <td>5.0</td>\n",
       "      <td>21.009862</td>\n",
       "      <td>105.838083</td>\n",
       "      <td>trong ngo</td>\n",
       "      <td>0.257088</td>\n",
       "    </tr>\n",
       "    <tr>\n",
       "      <th>...</th>\n",
       "      <td>...</td>\n",
       "      <td>...</td>\n",
       "      <td>...</td>\n",
       "      <td>...</td>\n",
       "      <td>...</td>\n",
       "      <td>...</td>\n",
       "      <td>...</td>\n",
       "      <td>...</td>\n",
       "      <td>...</td>\n",
       "      <td>...</td>\n",
       "      <td>...</td>\n",
       "      <td>...</td>\n",
       "      <td>...</td>\n",
       "    </tr>\n",
       "    <tr>\n",
       "      <th>443</th>\n",
       "      <td>25.0</td>\n",
       "      <td>2850.0</td>\n",
       "      <td>44325</td>\n",
       "      <td>không có thông tin</td>\n",
       "      <td>dong-Nam</td>\n",
       "      <td>dong-Nam</td>\n",
       "      <td>3.0</td>\n",
       "      <td>2.0</td>\n",
       "      <td>4.0</td>\n",
       "      <td>21.029522</td>\n",
       "      <td>105.827353</td>\n",
       "      <td>trong ngo</td>\n",
       "      <td>0.307163</td>\n",
       "    </tr>\n",
       "    <tr>\n",
       "      <th>445</th>\n",
       "      <td>58.0</td>\n",
       "      <td>15800.0</td>\n",
       "      <td>44325</td>\n",
       "      <td>So do</td>\n",
       "      <td>dong-Nam</td>\n",
       "      <td>dong-Nam</td>\n",
       "      <td>4.0</td>\n",
       "      <td>5.0</td>\n",
       "      <td>7.0</td>\n",
       "      <td>21.020556</td>\n",
       "      <td>105.828657</td>\n",
       "      <td>trong ngo</td>\n",
       "      <td>0.827329</td>\n",
       "    </tr>\n",
       "    <tr>\n",
       "      <th>446</th>\n",
       "      <td>96.0</td>\n",
       "      <td>10200.0</td>\n",
       "      <td>44325</td>\n",
       "      <td>So do</td>\n",
       "      <td>dong-Nam</td>\n",
       "      <td>dong-Nam</td>\n",
       "      <td>4.0</td>\n",
       "      <td>3.0</td>\n",
       "      <td>4.0</td>\n",
       "      <td>21.012310</td>\n",
       "      <td>105.828978</td>\n",
       "      <td>trong ngo</td>\n",
       "      <td>0.281715</td>\n",
       "    </tr>\n",
       "    <tr>\n",
       "      <th>447</th>\n",
       "      <td>38.0</td>\n",
       "      <td>3900.0</td>\n",
       "      <td>44325</td>\n",
       "      <td>So do</td>\n",
       "      <td>dong-Nam</td>\n",
       "      <td>dong-Nam</td>\n",
       "      <td>4.0</td>\n",
       "      <td>3.0</td>\n",
       "      <td>5.0</td>\n",
       "      <td>21.006694</td>\n",
       "      <td>105.835635</td>\n",
       "      <td>trong ngo</td>\n",
       "      <td>0.269835</td>\n",
       "    </tr>\n",
       "    <tr>\n",
       "      <th>448</th>\n",
       "      <td>25.0</td>\n",
       "      <td>2850.0</td>\n",
       "      <td>44325</td>\n",
       "      <td>không có thông tin</td>\n",
       "      <td>dong-Nam</td>\n",
       "      <td>dong-Nam</td>\n",
       "      <td>3.0</td>\n",
       "      <td>2.0</td>\n",
       "      <td>4.0</td>\n",
       "      <td>21.026821</td>\n",
       "      <td>105.825845</td>\n",
       "      <td>trong ngo</td>\n",
       "      <td>0.307163</td>\n",
       "    </tr>\n",
       "  </tbody>\n",
       "</table>\n",
       "<p>354 rows × 13 columns</p>\n",
       "</div>"
      ],
      "text/plain": [
       "     area    price  postDate    land_certificate house_direction  \\\n",
       "0    50.0  14700.0     44197               So do        dong-Nam   \n",
       "1    57.0   4200.0     44265               So do             Nam   \n",
       "2    62.0  11000.0     44268               So do        dong-Nam   \n",
       "3    26.0   2900.0     44292               So do        dong-Nam   \n",
       "4    40.0   3950.0     44292               So do        dong-Nam   \n",
       "..    ...      ...       ...                 ...             ...   \n",
       "443  25.0   2850.0     44325  không có thông tin        dong-Nam   \n",
       "445  58.0  15800.0     44325               So do        dong-Nam   \n",
       "446  96.0  10200.0     44325               So do        dong-Nam   \n",
       "447  38.0   3900.0     44325               So do        dong-Nam   \n",
       "448  25.0   2850.0     44325  không có thông tin        dong-Nam   \n",
       "\n",
       "    balcony_direction  toilet  bedroom  floor        lat        long  \\\n",
       "0            dong-Nam     4.0      6.0    6.0  21.015698  105.824583   \n",
       "1                 Nam     3.0      8.0    4.0  21.025208  105.833111   \n",
       "2            dong-Nam     6.0      5.0    6.0  21.025379  105.801011   \n",
       "3            dong-Nam     4.0      3.0    4.0  21.014325  105.834918   \n",
       "4            dong-Nam     4.0      3.0    5.0  21.009862  105.838083   \n",
       "..                ...     ...      ...    ...        ...         ...   \n",
       "443          dong-Nam     3.0      2.0    4.0  21.029522  105.827353   \n",
       "445          dong-Nam     4.0      5.0    7.0  21.020556  105.828657   \n",
       "446          dong-Nam     4.0      3.0    4.0  21.012310  105.828978   \n",
       "447          dong-Nam     4.0      3.0    5.0  21.006694  105.835635   \n",
       "448          dong-Nam     3.0      2.0    4.0  21.026821  105.825845   \n",
       "\n",
       "    property_type    Giá/m2  \n",
       "0       trong ngo  0.898209  \n",
       "1       trong ngo  0.174782  \n",
       "2       trong ngo  0.515405  \n",
       "3       trong ngo  0.299079  \n",
       "4       trong ngo  0.257088  \n",
       "..            ...       ...  \n",
       "443     trong ngo  0.307163  \n",
       "445     trong ngo  0.827329  \n",
       "446     trong ngo  0.281715  \n",
       "447     trong ngo  0.269835  \n",
       "448     trong ngo  0.307163  \n",
       "\n",
       "[354 rows x 13 columns]"
      ]
     },
     "execution_count": 84,
     "metadata": {},
     "output_type": "execute_result"
    }
   ],
   "source": [
    "s_scaler = MinMaxScaler()\n",
    "df_s = np.array(data_not_outliers['Giá/m2']).reshape(-1,1)\n",
    "data_not_outliers['Giá/m2'] = s_scaler.fit_transform(df_s)\n",
    "data_not_outliers"
   ]
  },
  {
   "cell_type": "code",
   "execution_count": 85,
   "id": "513424da",
   "metadata": {},
   "outputs": [
    {
     "data": {
      "text/plain": [
       "<AxesSubplot:xlabel='Giá/m2', ylabel='Density'>"
      ]
     },
     "execution_count": 85,
     "metadata": {},
     "output_type": "execute_result"
    },
    {
     "data": {
      "image/png": "[encoded data removed]",
      "text/plain": [
       "<Figure size 432x288 with 1 Axes>"
      ]
     },
     "metadata": {},
     "output_type": "display_data"
    }
   ],
   "source": [
    "sns.kdeplot(data=data_not_outliers['Giá/m2'])"
   ]
  },
  {
   "cell_type": "code",
   "execution_count": 86,
   "id": "6e1eeb0f",
   "metadata": {},
   "outputs": [
    {
     "data": {
      "text/plain": [
       "<AxesSubplot:xlabel='Giá/m2'>"
      ]
     },
     "execution_count": 86,
     "metadata": {},
     "output_type": "execute_result"
    },
    {
     "data": {
      "image/png": "[encoded data removed]",
      "text/plain": [
       "<Figure size 432x288 with 1 Axes>"
      ]
     },
     "metadata": {},
     "output_type": "display_data"
    }
   ],
   "source": [
    "sns.boxplot(x=data_not_outliers['Giá/m2'])"
   ]
  },
  {
   "cell_type": "markdown",
   "id": "abab202b",
   "metadata": {},
   "source": [
    "Hầu như không có sự thay đổi về hình dáng biểu đồ, sau khi chuẩn hóa dữ liệu thu lại về khoảng giá trị nhỏ hơn giá trị ban đầu"
   ]
  },
  {
   "cell_type": "markdown",
   "id": "c2705116",
   "metadata": {},
   "source": [
    "#### 14. Vẽ iểu đồ phân tích mối liên hệ giữa diện tích với giá nhà, giữa số phòng ngủ với giá nhà, giữa số toilet với giá nhà."
   ]
  },
  {
   "cell_type": "code",
   "execution_count": 87,
   "id": "498e1a5c",
   "metadata": {},
   "outputs": [
    {
     "data": {
      "text/html": [
       "<div>\n",
       "<style scoped>\n",
       "    .dataframe tbody tr th:only-of-type {\n",
       "        vertical-align: middle;\n",
       "    }\n",
       "\n",
       "    .dataframe tbody tr th {\n",
       "        vertical-align: top;\n",
       "    }\n",
       "\n",
       "    .dataframe thead th {\n",
       "        text-align: right;\n",
       "    }\n",
       "</style>\n",
       "<table border=\"1\" class=\"dataframe\">\n",
       "  <thead>\n",
       "    <tr style=\"text-align: right;\">\n",
       "      <th></th>\n",
       "      <th>area</th>\n",
       "      <th>price</th>\n",
       "      <th>postDate</th>\n",
       "      <th>land_certificate</th>\n",
       "      <th>house_direction</th>\n",
       "      <th>balcony_direction</th>\n",
       "      <th>toilet</th>\n",
       "      <th>bedroom</th>\n",
       "      <th>floor</th>\n",
       "      <th>lat</th>\n",
       "      <th>long</th>\n",
       "      <th>property_type</th>\n",
       "    </tr>\n",
       "  </thead>\n",
       "  <tbody>\n",
       "    <tr>\n",
       "      <th>0</th>\n",
       "      <td>50.0</td>\n",
       "      <td>14700.0</td>\n",
       "      <td>44197</td>\n",
       "      <td>So do</td>\n",
       "      <td>dong-Nam</td>\n",
       "      <td>dong-Nam</td>\n",
       "      <td>4.0</td>\n",
       "      <td>6.0</td>\n",
       "      <td>6.0</td>\n",
       "      <td>21.015698</td>\n",
       "      <td>105.824583</td>\n",
       "      <td>trong ngo</td>\n",
       "    </tr>\n",
       "    <tr>\n",
       "      <th>1</th>\n",
       "      <td>57.0</td>\n",
       "      <td>4200.0</td>\n",
       "      <td>44265</td>\n",
       "      <td>So do</td>\n",
       "      <td>Nam</td>\n",
       "      <td>Nam</td>\n",
       "      <td>3.0</td>\n",
       "      <td>8.0</td>\n",
       "      <td>4.0</td>\n",
       "      <td>21.025208</td>\n",
       "      <td>105.833111</td>\n",
       "      <td>trong ngo</td>\n",
       "    </tr>\n",
       "    <tr>\n",
       "      <th>2</th>\n",
       "      <td>62.0</td>\n",
       "      <td>11000.0</td>\n",
       "      <td>44268</td>\n",
       "      <td>So do</td>\n",
       "      <td>dong-Nam</td>\n",
       "      <td>dong-Nam</td>\n",
       "      <td>6.0</td>\n",
       "      <td>5.0</td>\n",
       "      <td>6.0</td>\n",
       "      <td>21.025379</td>\n",
       "      <td>105.801011</td>\n",
       "      <td>trong ngo</td>\n",
       "    </tr>\n",
       "    <tr>\n",
       "      <th>3</th>\n",
       "      <td>26.0</td>\n",
       "      <td>2900.0</td>\n",
       "      <td>44292</td>\n",
       "      <td>So do</td>\n",
       "      <td>dong-Nam</td>\n",
       "      <td>dong-Nam</td>\n",
       "      <td>4.0</td>\n",
       "      <td>3.0</td>\n",
       "      <td>4.0</td>\n",
       "      <td>21.014325</td>\n",
       "      <td>105.834918</td>\n",
       "      <td>trong ngo</td>\n",
       "    </tr>\n",
       "    <tr>\n",
       "      <th>4</th>\n",
       "      <td>40.0</td>\n",
       "      <td>3950.0</td>\n",
       "      <td>44292</td>\n",
       "      <td>So do</td>\n",
       "      <td>dong-Nam</td>\n",
       "      <td>dong-Nam</td>\n",
       "      <td>4.0</td>\n",
       "      <td>3.0</td>\n",
       "      <td>5.0</td>\n",
       "      <td>21.009862</td>\n",
       "      <td>105.838083</td>\n",
       "      <td>trong ngo</td>\n",
       "    </tr>\n",
       "    <tr>\n",
       "      <th>...</th>\n",
       "      <td>...</td>\n",
       "      <td>...</td>\n",
       "      <td>...</td>\n",
       "      <td>...</td>\n",
       "      <td>...</td>\n",
       "      <td>...</td>\n",
       "      <td>...</td>\n",
       "      <td>...</td>\n",
       "      <td>...</td>\n",
       "      <td>...</td>\n",
       "      <td>...</td>\n",
       "      <td>...</td>\n",
       "    </tr>\n",
       "    <tr>\n",
       "      <th>666</th>\n",
       "      <td>168.0</td>\n",
       "      <td>23500.0</td>\n",
       "      <td>44325</td>\n",
       "      <td>không có thông tin</td>\n",
       "      <td>dong-Nam</td>\n",
       "      <td>dong-Nam</td>\n",
       "      <td>3.0</td>\n",
       "      <td>3.0</td>\n",
       "      <td>3.0</td>\n",
       "      <td>21.000823</td>\n",
       "      <td>105.829097</td>\n",
       "      <td>mat pho</td>\n",
       "    </tr>\n",
       "    <tr>\n",
       "      <th>667</th>\n",
       "      <td>65.0</td>\n",
       "      <td>17500.0</td>\n",
       "      <td>44325</td>\n",
       "      <td>So do</td>\n",
       "      <td>dong-Nam</td>\n",
       "      <td>dong-Nam</td>\n",
       "      <td>4.0</td>\n",
       "      <td>6.0</td>\n",
       "      <td>5.0</td>\n",
       "      <td>21.011495</td>\n",
       "      <td>105.816666</td>\n",
       "      <td>mat pho</td>\n",
       "    </tr>\n",
       "    <tr>\n",
       "      <th>668</th>\n",
       "      <td>60.0</td>\n",
       "      <td>17500.0</td>\n",
       "      <td>44197</td>\n",
       "      <td>không có thông tin</td>\n",
       "      <td>dong-Nam</td>\n",
       "      <td>dong-Nam</td>\n",
       "      <td>4.0</td>\n",
       "      <td>3.0</td>\n",
       "      <td>5.0</td>\n",
       "      <td>21.011495</td>\n",
       "      <td>105.816666</td>\n",
       "      <td>mat pho</td>\n",
       "    </tr>\n",
       "    <tr>\n",
       "      <th>669</th>\n",
       "      <td>45.0</td>\n",
       "      <td>24800.0</td>\n",
       "      <td>44197</td>\n",
       "      <td>không có thông tin</td>\n",
       "      <td>dong-Nam</td>\n",
       "      <td>dong-Nam</td>\n",
       "      <td>4.0</td>\n",
       "      <td>3.0</td>\n",
       "      <td>5.0</td>\n",
       "      <td>21.016106</td>\n",
       "      <td>105.832157</td>\n",
       "      <td>mat pho</td>\n",
       "    </tr>\n",
       "    <tr>\n",
       "      <th>670</th>\n",
       "      <td>107.0</td>\n",
       "      <td>45000.0</td>\n",
       "      <td>44325</td>\n",
       "      <td>So do</td>\n",
       "      <td>dong-Nam</td>\n",
       "      <td>dong-Nam</td>\n",
       "      <td>4.0</td>\n",
       "      <td>3.0</td>\n",
       "      <td>5.0</td>\n",
       "      <td>21.009123</td>\n",
       "      <td>105.824428</td>\n",
       "      <td>mat pho</td>\n",
       "    </tr>\n",
       "  </tbody>\n",
       "</table>\n",
       "<p>617 rows × 12 columns</p>\n",
       "</div>"
      ],
      "text/plain": [
       "      area    price  postDate    land_certificate house_direction  \\\n",
       "0     50.0  14700.0     44197               So do        dong-Nam   \n",
       "1     57.0   4200.0     44265               So do             Nam   \n",
       "2     62.0  11000.0     44268               So do        dong-Nam   \n",
       "3     26.0   2900.0     44292               So do        dong-Nam   \n",
       "4     40.0   3950.0     44292               So do        dong-Nam   \n",
       "..     ...      ...       ...                 ...             ...   \n",
       "666  168.0  23500.0     44325  không có thông tin        dong-Nam   \n",
       "667   65.0  17500.0     44325               So do        dong-Nam   \n",
       "668   60.0  17500.0     44197  không có thông tin        dong-Nam   \n",
       "669   45.0  24800.0     44197  không có thông tin        dong-Nam   \n",
       "670  107.0  45000.0     44325               So do        dong-Nam   \n",
       "\n",
       "    balcony_direction  toilet  bedroom  floor        lat        long  \\\n",
       "0            dong-Nam     4.0      6.0    6.0  21.015698  105.824583   \n",
       "1                 Nam     3.0      8.0    4.0  21.025208  105.833111   \n",
       "2            dong-Nam     6.0      5.0    6.0  21.025379  105.801011   \n",
       "3            dong-Nam     4.0      3.0    4.0  21.014325  105.834918   \n",
       "4            dong-Nam     4.0      3.0    5.0  21.009862  105.838083   \n",
       "..                ...     ...      ...    ...        ...         ...   \n",
       "666          dong-Nam     3.0      3.0    3.0  21.000823  105.829097   \n",
       "667          dong-Nam     4.0      6.0    5.0  21.011495  105.816666   \n",
       "668          dong-Nam     4.0      3.0    5.0  21.011495  105.816666   \n",
       "669          dong-Nam     4.0      3.0    5.0  21.016106  105.832157   \n",
       "670          dong-Nam     4.0      3.0    5.0  21.009123  105.824428   \n",
       "\n",
       "    property_type  \n",
       "0       trong ngo  \n",
       "1       trong ngo  \n",
       "2       trong ngo  \n",
       "3       trong ngo  \n",
       "4       trong ngo  \n",
       "..            ...  \n",
       "666       mat pho  \n",
       "667       mat pho  \n",
       "668       mat pho  \n",
       "669       mat pho  \n",
       "670       mat pho  \n",
       "\n",
       "[617 rows x 12 columns]"
      ]
     },
     "execution_count": 87,
     "metadata": {},
     "output_type": "execute_result"
    }
   ],
   "source": [
    "data\n",
    "#data đã xử lý dữ liệu khuyết thiếu, xóa dữ liệu price ko có giá trị, thay thế các dữ liệu khuyết thiếu"
   ]
  },
  {
   "cell_type": "code",
   "execution_count": 88,
   "id": "8c750548",
   "metadata": {},
   "outputs": [
    {
     "data": {
      "text/plain": [
       "<AxesSubplot:>"
      ]
     },
     "execution_count": 88,
     "metadata": {},
     "output_type": "execute_result"
    },
    {
     "data": {
      "image/png": "[encoded data removed]",
      "text/plain": [
       "<Figure size 432x288 with 1 Axes>"
      ]
     },
     "metadata": {},
     "output_type": "display_data"
    }
   ],
   "source": [
    "#check dữ liệu ngoại lai\n",
    "data.boxplot()"
   ]
  },
  {
   "cell_type": "code",
   "execution_count": 89,
   "id": "15cbfcdd",
   "metadata": {},
   "outputs": [
    {
     "data": {
      "text/plain": [
       "<AxesSubplot:>"
      ]
     },
     "execution_count": 89,
     "metadata": {},
     "output_type": "execute_result"
    },
    {
     "data": {
      "image/png": "[encoded data removed]",
      "text/plain": [
       "<Figure size 432x288 with 1 Axes>"
      ]
     },
     "metadata": {},
     "output_type": "display_data"
    }
   ],
   "source": [
    "sns.boxplot(data = data['area'])"
   ]
  },
  {
   "cell_type": "code",
   "execution_count": 90,
   "id": "9d0e6cca",
   "metadata": {},
   "outputs": [],
   "source": [
    "data.isnull().sum()\n",
    "#=> còn dữ liệu area chưa có thông tin 2 cột, tiến hành xóa dữ liệu này để không ảnh hưởng đến tính giá\n",
    "data.dropna(inplace=True)\n",
    "data = data[data['area']>0]"
   ]
  },
  {
   "cell_type": "code",
   "execution_count": 91,
   "id": "43a45996",
   "metadata": {},
   "outputs": [
    {
     "data": {
      "text/html": [
       "<div>\n",
       "<style scoped>\n",
       "    .dataframe tbody tr th:only-of-type {\n",
       "        vertical-align: middle;\n",
       "    }\n",
       "\n",
       "    .dataframe tbody tr th {\n",
       "        vertical-align: top;\n",
       "    }\n",
       "\n",
       "    .dataframe thead th {\n",
       "        text-align: right;\n",
       "    }\n",
       "</style>\n",
       "<table border=\"1\" class=\"dataframe\">\n",
       "  <thead>\n",
       "    <tr style=\"text-align: right;\">\n",
       "      <th></th>\n",
       "      <th>area</th>\n",
       "      <th>price</th>\n",
       "      <th>postDate</th>\n",
       "      <th>land_certificate</th>\n",
       "      <th>house_direction</th>\n",
       "      <th>balcony_direction</th>\n",
       "      <th>toilet</th>\n",
       "      <th>bedroom</th>\n",
       "      <th>floor</th>\n",
       "      <th>lat</th>\n",
       "      <th>long</th>\n",
       "      <th>property_type</th>\n",
       "    </tr>\n",
       "  </thead>\n",
       "  <tbody>\n",
       "    <tr>\n",
       "      <th>0</th>\n",
       "      <td>50.0</td>\n",
       "      <td>14700.0</td>\n",
       "      <td>44197</td>\n",
       "      <td>So do</td>\n",
       "      <td>dong-Nam</td>\n",
       "      <td>dong-Nam</td>\n",
       "      <td>4.0</td>\n",
       "      <td>6.0</td>\n",
       "      <td>6.0</td>\n",
       "      <td>21.015698</td>\n",
       "      <td>105.824583</td>\n",
       "      <td>trong ngo</td>\n",
       "    </tr>\n",
       "    <tr>\n",
       "      <th>1</th>\n",
       "      <td>57.0</td>\n",
       "      <td>4200.0</td>\n",
       "      <td>44265</td>\n",
       "      <td>So do</td>\n",
       "      <td>Nam</td>\n",
       "      <td>Nam</td>\n",
       "      <td>3.0</td>\n",
       "      <td>8.0</td>\n",
       "      <td>4.0</td>\n",
       "      <td>21.025208</td>\n",
       "      <td>105.833111</td>\n",
       "      <td>trong ngo</td>\n",
       "    </tr>\n",
       "    <tr>\n",
       "      <th>2</th>\n",
       "      <td>62.0</td>\n",
       "      <td>11000.0</td>\n",
       "      <td>44268</td>\n",
       "      <td>So do</td>\n",
       "      <td>dong-Nam</td>\n",
       "      <td>dong-Nam</td>\n",
       "      <td>6.0</td>\n",
       "      <td>5.0</td>\n",
       "      <td>6.0</td>\n",
       "      <td>21.025379</td>\n",
       "      <td>105.801011</td>\n",
       "      <td>trong ngo</td>\n",
       "    </tr>\n",
       "    <tr>\n",
       "      <th>3</th>\n",
       "      <td>26.0</td>\n",
       "      <td>2900.0</td>\n",
       "      <td>44292</td>\n",
       "      <td>So do</td>\n",
       "      <td>dong-Nam</td>\n",
       "      <td>dong-Nam</td>\n",
       "      <td>4.0</td>\n",
       "      <td>3.0</td>\n",
       "      <td>4.0</td>\n",
       "      <td>21.014325</td>\n",
       "      <td>105.834918</td>\n",
       "      <td>trong ngo</td>\n",
       "    </tr>\n",
       "    <tr>\n",
       "      <th>4</th>\n",
       "      <td>40.0</td>\n",
       "      <td>3950.0</td>\n",
       "      <td>44292</td>\n",
       "      <td>So do</td>\n",
       "      <td>dong-Nam</td>\n",
       "      <td>dong-Nam</td>\n",
       "      <td>4.0</td>\n",
       "      <td>3.0</td>\n",
       "      <td>5.0</td>\n",
       "      <td>21.009862</td>\n",
       "      <td>105.838083</td>\n",
       "      <td>trong ngo</td>\n",
       "    </tr>\n",
       "    <tr>\n",
       "      <th>...</th>\n",
       "      <td>...</td>\n",
       "      <td>...</td>\n",
       "      <td>...</td>\n",
       "      <td>...</td>\n",
       "      <td>...</td>\n",
       "      <td>...</td>\n",
       "      <td>...</td>\n",
       "      <td>...</td>\n",
       "      <td>...</td>\n",
       "      <td>...</td>\n",
       "      <td>...</td>\n",
       "      <td>...</td>\n",
       "    </tr>\n",
       "    <tr>\n",
       "      <th>664</th>\n",
       "      <td>76.0</td>\n",
       "      <td>30500.0</td>\n",
       "      <td>44197</td>\n",
       "      <td>không có thông tin</td>\n",
       "      <td>dong-Nam</td>\n",
       "      <td>dong-Nam</td>\n",
       "      <td>4.0</td>\n",
       "      <td>3.0</td>\n",
       "      <td>5.0</td>\n",
       "      <td>21.009533</td>\n",
       "      <td>105.820193</td>\n",
       "      <td>mat pho</td>\n",
       "    </tr>\n",
       "    <tr>\n",
       "      <th>667</th>\n",
       "      <td>65.0</td>\n",
       "      <td>17500.0</td>\n",
       "      <td>44325</td>\n",
       "      <td>So do</td>\n",
       "      <td>dong-Nam</td>\n",
       "      <td>dong-Nam</td>\n",
       "      <td>4.0</td>\n",
       "      <td>6.0</td>\n",
       "      <td>5.0</td>\n",
       "      <td>21.011495</td>\n",
       "      <td>105.816666</td>\n",
       "      <td>mat pho</td>\n",
       "    </tr>\n",
       "    <tr>\n",
       "      <th>668</th>\n",
       "      <td>60.0</td>\n",
       "      <td>17500.0</td>\n",
       "      <td>44197</td>\n",
       "      <td>không có thông tin</td>\n",
       "      <td>dong-Nam</td>\n",
       "      <td>dong-Nam</td>\n",
       "      <td>4.0</td>\n",
       "      <td>3.0</td>\n",
       "      <td>5.0</td>\n",
       "      <td>21.011495</td>\n",
       "      <td>105.816666</td>\n",
       "      <td>mat pho</td>\n",
       "    </tr>\n",
       "    <tr>\n",
       "      <th>669</th>\n",
       "      <td>45.0</td>\n",
       "      <td>24800.0</td>\n",
       "      <td>44197</td>\n",
       "      <td>không có thông tin</td>\n",
       "      <td>dong-Nam</td>\n",
       "      <td>dong-Nam</td>\n",
       "      <td>4.0</td>\n",
       "      <td>3.0</td>\n",
       "      <td>5.0</td>\n",
       "      <td>21.016106</td>\n",
       "      <td>105.832157</td>\n",
       "      <td>mat pho</td>\n",
       "    </tr>\n",
       "    <tr>\n",
       "      <th>670</th>\n",
       "      <td>107.0</td>\n",
       "      <td>45000.0</td>\n",
       "      <td>44325</td>\n",
       "      <td>So do</td>\n",
       "      <td>dong-Nam</td>\n",
       "      <td>dong-Nam</td>\n",
       "      <td>4.0</td>\n",
       "      <td>3.0</td>\n",
       "      <td>5.0</td>\n",
       "      <td>21.009123</td>\n",
       "      <td>105.824428</td>\n",
       "      <td>mat pho</td>\n",
       "    </tr>\n",
       "  </tbody>\n",
       "</table>\n",
       "<p>540 rows × 12 columns</p>\n",
       "</div>"
      ],
      "text/plain": [
       "      area    price  postDate    land_certificate house_direction  \\\n",
       "0     50.0  14700.0     44197               So do        dong-Nam   \n",
       "1     57.0   4200.0     44265               So do             Nam   \n",
       "2     62.0  11000.0     44268               So do        dong-Nam   \n",
       "3     26.0   2900.0     44292               So do        dong-Nam   \n",
       "4     40.0   3950.0     44292               So do        dong-Nam   \n",
       "..     ...      ...       ...                 ...             ...   \n",
       "664   76.0  30500.0     44197  không có thông tin        dong-Nam   \n",
       "667   65.0  17500.0     44325               So do        dong-Nam   \n",
       "668   60.0  17500.0     44197  không có thông tin        dong-Nam   \n",
       "669   45.0  24800.0     44197  không có thông tin        dong-Nam   \n",
       "670  107.0  45000.0     44325               So do        dong-Nam   \n",
       "\n",
       "    balcony_direction  toilet  bedroom  floor        lat        long  \\\n",
       "0            dong-Nam     4.0      6.0    6.0  21.015698  105.824583   \n",
       "1                 Nam     3.0      8.0    4.0  21.025208  105.833111   \n",
       "2            dong-Nam     6.0      5.0    6.0  21.025379  105.801011   \n",
       "3            dong-Nam     4.0      3.0    4.0  21.014325  105.834918   \n",
       "4            dong-Nam     4.0      3.0    5.0  21.009862  105.838083   \n",
       "..                ...     ...      ...    ...        ...         ...   \n",
       "664          dong-Nam     4.0      3.0    5.0  21.009533  105.820193   \n",
       "667          dong-Nam     4.0      6.0    5.0  21.011495  105.816666   \n",
       "668          dong-Nam     4.0      3.0    5.0  21.011495  105.816666   \n",
       "669          dong-Nam     4.0      3.0    5.0  21.016106  105.832157   \n",
       "670          dong-Nam     4.0      3.0    5.0  21.009123  105.824428   \n",
       "\n",
       "    property_type  \n",
       "0       trong ngo  \n",
       "1       trong ngo  \n",
       "2       trong ngo  \n",
       "3       trong ngo  \n",
       "4       trong ngo  \n",
       "..            ...  \n",
       "664       mat pho  \n",
       "667       mat pho  \n",
       "668       mat pho  \n",
       "669       mat pho  \n",
       "670       mat pho  \n",
       "\n",
       "[540 rows x 12 columns]"
      ]
     },
     "execution_count": 91,
     "metadata": {},
     "output_type": "execute_result"
    }
   ],
   "source": [
    "#xử lý dữ liệu ngoại lai với 2 cột area và price\n",
    "df = data[['area','price']]\n",
    "Q1 = df.quantile(0.25)\n",
    "Q3 = df.quantile(0.75)\n",
    "IQR = Q3 - Q1\n",
    "# data['Outliner']= ~((df<(Q1-1.5*IQR)) | (df> (Q3 + 1.5*IQR)))\n",
    "# data = data[data['Outliner']==True]\n",
    "# data\n",
    "data= data[~((df<(Q1-1.5*IQR)) | (df> (Q3 + 1.5*IQR))).any(axis=1)]\n",
    "data"
   ]
  },
  {
   "cell_type": "code",
   "execution_count": 92,
   "id": "b67c0370",
   "metadata": {},
   "outputs": [
    {
     "data": {
      "text/plain": [
       "<AxesSubplot:>"
      ]
     },
     "execution_count": 92,
     "metadata": {},
     "output_type": "execute_result"
    },
    {
     "data": {
      "image/png": "[encoded data removed]",
      "text/plain": [
       "<Figure size 432x288 with 1 Axes>"
      ]
     },
     "metadata": {},
     "output_type": "display_data"
    }
   ],
   "source": [
    "sns.boxplot(data = data['price'])"
   ]
  },
  {
   "cell_type": "code",
   "execution_count": 93,
   "id": "171562f4",
   "metadata": {},
   "outputs": [
    {
     "data": {
      "image/png": "[encoded data removed]",
      "text/plain": [
       "<Figure size 432x288 with 1 Axes>"
      ]
     },
     "metadata": {},
     "output_type": "display_data"
    }
   ],
   "source": [
    "plt.scatter(x=data['area'].values, y=data['price'].values, marker='x')\n",
    "plt.title('The relation between area and price')\n",
    "plt.xlabel('Area')\n",
    "plt.ylabel('Price')\n",
    "plt.show()"
   ]
  },
  {
   "cell_type": "code",
   "execution_count": 94,
   "id": "b748909c",
   "metadata": {},
   "outputs": [
    {
     "data": {
      "text/plain": [
       "<seaborn.axisgrid.FacetGrid at 0x1a9529121c0>"
      ]
     },
     "execution_count": 94,
     "metadata": {},
     "output_type": "execute_result"
    },
    {
     "data": {
      "image/png": "[encoded data removed]",
      "text/plain": [
       "<Figure size 360x360 with 1 Axes>"
      ]
     },
     "metadata": {},
     "output_type": "display_data"
    }
   ],
   "source": [
    "sns.set_style('whitegrid')\n",
    "sns.lmplot(x='area', y='price', data=data)"
   ]
  },
  {
   "cell_type": "code",
   "execution_count": 95,
   "id": "8a2f87a4",
   "metadata": {},
   "outputs": [
    {
     "data": {
      "image/png": "[encoded data removed]",
      "text/plain": [
       "<Figure size 432x288 with 1 Axes>"
      ]
     },
     "metadata": {},
     "output_type": "display_data"
    }
   ],
   "source": [
    "plt.scatter(x=data['bedroom'].values, y=data['price'].values, marker='o')\n",
    "plt.title('The relation between bedroom and price')\n",
    "plt.xlabel('Bedroom')\n",
    "plt.ylabel('Price')\n",
    "plt.show()"
   ]
  },
  {
   "cell_type": "code",
   "execution_count": 96,
   "id": "98d6405f",
   "metadata": {},
   "outputs": [
    {
     "data": {
      "image/png": "[encoded data removed]",
      "text/plain": [
       "<Figure size 432x288 with 1 Axes>"
      ]
     },
     "metadata": {},
     "output_type": "display_data"
    }
   ],
   "source": [
    "plt.scatter(x=data['toilet'].values, y=data['price'].values, marker='o')\n",
    "plt.title('The relation between toilet and price')\n",
    "plt.xlabel('toilet')\n",
    "plt.ylabel('Price')\n",
    "plt.show()"
   ]
  },
  {
   "cell_type": "markdown",
   "id": "b58cba6c",
   "metadata": {},
   "source": [
    "#### 15. Vẽ biểu đồ so sánh giá nhà trung bình trên 1 m2 giữa các hình thức nhà (type_of_land).<br>"
   ]
  },
  {
   "cell_type": "code",
   "execution_count": 97,
   "id": "7a46ee8c",
   "metadata": {},
   "outputs": [
    {
     "data": {
      "image/png": "[encoded data removed]",
      "text/plain": [
       "<Figure size 432x288 with 1 Axes>"
      ]
     },
     "metadata": {},
     "output_type": "display_data"
    }
   ],
   "source": [
    "data['Gia/1m2'] = data['price']/data['area']\n",
    "data1 = data.groupby('property_type')['Gia/1m2'].mean()\n",
    "# data[data['property_type']=='trong ngo'].min()\n",
    "data1\n",
    "# data.isnull().sum()\n",
    "plt.bar(x = data1.index, height = data1.values, width=0.5)\n",
    "plt.title('The average price of type of land')\n",
    "plt.xlabel('toilet')\n",
    "plt.ylabel('Price')\n",
    "plt.show()"
   ]
  },
  {
   "cell_type": "markdown",
   "id": "26d0c83c",
   "metadata": {},
   "source": [
    "#### 16. Vẽ biểu đồ thể hiện tỉ lệ % bài đăng (bản ghi) giữa các hình thức nhà (type_of_land)."
   ]
  },
  {
   "cell_type": "code",
   "execution_count": 98,
   "id": "bcbc64a9",
   "metadata": {},
   "outputs": [
    {
     "data": {
      "image/png": "[encoded data removed]",
      "text/plain": [
       "<Figure size 432x288 with 1 Axes>"
      ]
     },
     "metadata": {},
     "output_type": "display_data"
    }
   ],
   "source": [
    "data2 = data.groupby('property_type')['postDate'].sum()\n",
    "plt.pie(data2, labels = data2.index, autopct='%1.2f%%')\n",
    "plt.title('The proporsition of postdate and type of land')\n",
    "plt.show()"
   ]
  },
  {
   "cell_type": "markdown",
   "id": "e8d18d24",
   "metadata": {},
   "source": [
    "#### 17. Vẽ biểu đồ thể hiện sự thay đổi giá nhà trung bình trên 1m2 theo số lượng phòng ngủ."
   ]
  },
  {
   "cell_type": "code",
   "execution_count": 99,
   "id": "175c5736",
   "metadata": {},
   "outputs": [
    {
     "data": {
      "image/png": "[encoded data removed]",
      "text/plain": [
       "<Figure size 432x288 with 1 Axes>"
      ]
     },
     "metadata": {},
     "output_type": "display_data"
    }
   ],
   "source": [
    "data3 = data.groupby('bedroom')['Gia/1m2'].mean()\n",
    "plt.bar(x = data3.index, height = data3.values, width=0.5)\n",
    "plt.title('The house price of different bedroom')\n",
    "plt.xlabel('Number of bedroom')\n",
    "plt.ylabel('Price')\n",
    "plt.show()"
   ]
  },
  {
   "cell_type": "markdown",
   "id": "b0ca4be3",
   "metadata": {},
   "source": [
    "#### 18. Phân tích mối liên hệ giữa diện tích với giá nhà. Đồng thời, giữa số phòng ngủ với giá nhà và giữa số toilet với giá nhà."
   ]
  },
  {
   "cell_type": "code",
   "execution_count": 100,
   "id": "1efdea90",
   "metadata": {},
   "outputs": [
    {
     "data": {
      "image/png": "[encoded data removed]",
      "text/plain": [
       "<Figure size 1332x468 with 3 Axes>"
      ]
     },
     "metadata": {},
     "output_type": "display_data"
    }
   ],
   "source": [
    "fig, ax =plt.subplots(1,3)\n",
    "ax[0].scatter(x=data['area'].values, y=data['price'].values, marker='x')\n",
    "ax[0].set_title('The relation between area and price')\n",
    "ax[0].set_xlabel('Area')\n",
    "ax[0].set_ylabel('Price')\n",
    "\n",
    "ax[1].scatter(x=data['bedroom'].values, y=data['price'].values, marker='x')\n",
    "ax[1].set_title('The relation between bedroom and price')\n",
    "ax[1].set_xlabel('Bedroom')\n",
    "ax[1].set_ylabel('Price')\n",
    "\n",
    "ax[2].scatter(x=data['toilet'].values, y=data['price'].values, marker='x')\n",
    "ax[2].set_title('The relation between toilet and price')\n",
    "ax[2].set_xlabel('toilet')\n",
    "ax[2].set_ylabel('Price')\n",
    "\n",
    "fig.set_size_inches(18.5, 6.5)\n",
    "plt.show()"
   ]
  },
  {
   "cell_type": "markdown",
   "id": "85ebc140",
   "metadata": {},
   "source": [
    "#### 19.  Vẽ biểu đồ phân bố thể hiện phân bố của giá nhà theo các hướng, nhận xét."
   ]
  },
  {
   "cell_type": "code",
   "execution_count": 101,
   "id": "25a21e8f",
   "metadata": {},
   "outputs": [
    {
     "data": {
      "text/plain": [
       "<AxesSubplot:xlabel='house_direction', ylabel='price'>"
      ]
     },
     "execution_count": 101,
     "metadata": {},
     "output_type": "execute_result"
    },
    {
     "data": {
      "image/png": "[encoded data removed]",
      "text/plain": [
       "<Figure size 432x288 with 1 Axes>"
      ]
     },
     "metadata": {},
     "output_type": "display_data"
    }
   ],
   "source": [
    "sns.violinplot(x='house_direction', y='price', data=data)"
   ]
  },
  {
   "cell_type": "code",
   "execution_count": 102,
   "id": "0beaa664",
   "metadata": {},
   "outputs": [
    {
     "data": {
      "text/plain": [
       "<AxesSubplot:xlabel='house_direction', ylabel='price'>"
      ]
     },
     "execution_count": 102,
     "metadata": {},
     "output_type": "execute_result"
    },
    {
     "data": {
      "image/png": "[encoded data removed]",
      "text/plain": [
       "<Figure size 432x288 with 1 Axes>"
      ]
     },
     "metadata": {},
     "output_type": "display_data"
    }
   ],
   "source": [
    "sns.boxplot(x='house_direction', y='price', data=data)"
   ]
  },
  {
   "cell_type": "markdown",
   "id": "6c3389a8",
   "metadata": {},
   "source": [
    "Hướng Đông Bắc có giá nhà cao hơn so với các hướng khác<br>\n",
    "75% nhà hướng đông bắc có giá cao hơn so với nhà có hướng Nam, tay Nam, tây bắc<br>\n",
    "Dữ liệu hướng nhà đã được xử lý số liệu nên độ chính xác không còn cao, cụ thể hướng nhà đông nam vì dữ liệu ngoaij lai nhiều đã dẫn đên <br>\n",
    "phân bố của trung vị (chấm màu trắng) tăng giá trị, làm cho phân phối không chuẩn và bị lệcha<br>"
   ]
  },
  {
   "cell_type": "markdown",
   "id": "57f67367",
   "metadata": {},
   "source": [
    "#### 20. Vẽ biểu đồ tần số để đếm số nhà ở mỗi hướng nhà, nhận xét."
   ]
  },
  {
   "cell_type": "code",
   "execution_count": 103,
   "id": "9514be15",
   "metadata": {},
   "outputs": [
    {
     "data": {
      "text/plain": [
       "<AxesSubplot:xlabel='house_direction', ylabel='count'>"
      ]
     },
     "execution_count": 103,
     "metadata": {},
     "output_type": "execute_result"
    },
    {
     "data": {
      "image/png": "[encoded data removed]",
      "text/plain": [
       "<Figure size 432x288 with 1 Axes>"
      ]
     },
     "metadata": {},
     "output_type": "display_data"
    }
   ],
   "source": [
    "sns.countplot(x='house_direction', data=data)"
   ]
  },
  {
   "cell_type": "markdown",
   "id": "e5396878",
   "metadata": {},
   "source": [
    "#### 21.Vẽ biểu đồ so sánh phân phối giá (triệu đ/m2) giữa nhà Phố và Nhà ngõ\n"
   ]
  },
  {
   "cell_type": "code",
   "execution_count": 104,
   "id": "f03c3de4",
   "metadata": {},
   "outputs": [
    {
     "data": {
      "text/plain": [
       "<AxesSubplot:xlabel='property_type', ylabel='price'>"
      ]
     },
     "execution_count": 104,
     "metadata": {},
     "output_type": "execute_result"
    },
    {
     "data": {
      "image/png": "[encoded data removed]",
      "text/plain": [
       "<Figure size 432x288 with 1 Axes>"
      ]
     },
     "metadata": {},
     "output_type": "display_data"
    }
   ],
   "source": [
    "sns.violinplot(x='property_type', y='price', data=data)"
   ]
  },
  {
   "cell_type": "markdown",
   "id": "858c6433",
   "metadata": {},
   "source": [
    "Nhận xét: Nhà trong ngõ có giá thấp hơn nhiều so với nhà mặt phố "
   ]
  },
  {
   "cell_type": "markdown",
   "id": "e8798271",
   "metadata": {},
   "source": [
    "#### 22.Kiểm định giả thuyết giá (triệu đ/m2) nhà mặt phố cao hơn giá nhà trong ngõ với mức ý nghĩa 5%"
   ]
  },
  {
   "cell_type": "markdown",
   "id": "3ab17a50",
   "metadata": {},
   "source": [
    "H0: Giá nhà mặt phố bằng giá nhà trong hẻm <br>\n",
    "H1: Giá nhà mặt phố cao hơn giá nhà trong hẻm "
   ]
  },
  {
   "cell_type": "code",
   "execution_count": 105,
   "id": "4297809b",
   "metadata": {},
   "outputs": [],
   "source": [
    "dt_matpho = data[data['property_type']=='mat pho']['price']\n",
    "dt_trongngo = data[data['property_type']=='trong ngo']['price']\n",
    "var_dt_matpho = np.var(dt_matpho)\n",
    "var_dt_trongngo = np.var(dt_trongngo)"
   ]
  },
  {
   "cell_type": "code",
   "execution_count": 106,
   "id": "0f624499",
   "metadata": {},
   "outputs": [
    {
     "data": {
      "text/plain": [
       "'2:1'"
      ]
     },
     "execution_count": 106,
     "metadata": {},
     "output_type": "execute_result"
    }
   ],
   "source": [
    "ratio = f'{round(var_dt_matpho/var_dt_trongngo)}:1' if var_dt_matpho>var_dt_trongngo else\\\n",
    "f'{round(var_dt_trongngo/var_dt_matpho)}:1'\n",
    "ratio"
   ]
  },
  {
   "cell_type": "code",
   "execution_count": 107,
   "id": "220408c3",
   "metadata": {},
   "outputs": [
    {
     "data": {
      "text/plain": [
       "Ttest_indResult(statistic=16.99833298405994, pvalue=3.488593869498034e-52)"
      ]
     },
     "execution_count": 107,
     "metadata": {},
     "output_type": "execute_result"
    }
   ],
   "source": [
    "stats.ttest_ind(a=dt_matpho, b=dt_trongngo, equal_var=True)"
   ]
  },
  {
   "cell_type": "markdown",
   "id": "5dafe5f8",
   "metadata": {},
   "source": [
    "pvalue <0.05 => Đủ đk bác bỏ H0 vậy có thể kết luận nhà mặt phố giá cao hơn nhà trong hẻm"
   ]
  },
  {
   "cell_type": "markdown",
   "id": "3789b0cf",
   "metadata": {},
   "source": [
    "#### 23.Giá của những căn nhà không có thông tin về giấy tờ pháp lý thấp hơn giá nhà những căn có thông tin về giấy tờ pháp lý với mức ý nghĩa 5%"
   ]
  },
  {
   "cell_type": "markdown",
   "id": "2151fdd5",
   "metadata": {},
   "source": [
    "H0: Giá của những căn nhà không có thông tin về giấy tờ pháp lý bằng giá những căn có thông tin về giấy tờ pháp lý<br>\n",
    "H1: Giá của những căn nhà không có thông tin về giấy tờ pháp lý nhỏ hơn giá những căn có thông tin về giấy tờ pháp lý<br>"
   ]
  },
  {
   "cell_type": "code",
   "execution_count": 108,
   "id": "6636caa6",
   "metadata": {},
   "outputs": [
    {
     "data": {
      "text/plain": [
       "'1:1'"
      ]
     },
     "execution_count": 108,
     "metadata": {},
     "output_type": "execute_result"
    }
   ],
   "source": [
    "dt_pl = data[data['land_certificate']=='So do']['price']\n",
    "dt_kpl = data[data['land_certificate']!='So do']['price']\n",
    "var_dt_pl= np.var(dt_pl)\n",
    "var_dt_kpl = np.var(dt_kpl)\n",
    "ratio = f'{round(var_dt_pl/var_dt_kpl)}:1' if var_dt_pl>var_dt_kpl else\\\n",
    "f'{round(var_dt_kpl/var_dt_pl)}:1'\n",
    "ratio"
   ]
  },
  {
   "cell_type": "code",
   "execution_count": 109,
   "id": "a81a4ad1",
   "metadata": {},
   "outputs": [
    {
     "data": {
      "text/plain": [
       "Ttest_indResult(statistic=0.02632059414712515, pvalue=0.9790113886847764)"
      ]
     },
     "execution_count": 109,
     "metadata": {},
     "output_type": "execute_result"
    }
   ],
   "source": [
    "stats.ttest_ind(a=dt_pl, b=dt_kpl, equal_var=True)"
   ]
  },
  {
   "cell_type": "markdown",
   "id": "75566eed",
   "metadata": {},
   "source": [
    "pvalue>0.05 chưa có đủ đk để bác bỏ H0 nên có thể kết luận giá của những căn nhà không có thông tin về giấy tờ pháp lý bằng giá những căn có thông tin về giấy tờ pháp lý"
   ]
  },
  {
   "cell_type": "markdown",
   "id": "1507e500",
   "metadata": {},
   "source": [
    "#### 24. Giữa giá nhà và diện tích có tương quan với nhau?"
   ]
  },
  {
   "cell_type": "markdown",
   "id": "d47ae5d2",
   "metadata": {},
   "source": [
    "Với mức ý nghĩa 5%:<br>\n",
    "    H0: Giữa giá nhà và diện tích không có tương quan<br>\n",
    "    H1: Giữa giá nhà và diện tích có tương quan"
   ]
  },
  {
   "cell_type": "code",
   "execution_count": 120,
   "id": "22075854",
   "metadata": {},
   "outputs": [
    {
     "name": "stdout",
     "output_type": "stream",
     "text": [
      "<class 'pandas.core.frame.DataFrame'>\n",
      "Int64Index: 540 entries, 0 to 670\n",
      "Data columns (total 14 columns):\n",
      " #   Column             Non-Null Count  Dtype  \n",
      "---  ------             --------------  -----  \n",
      " 0   area               540 non-null    float64\n",
      " 1   price              540 non-null    float64\n",
      " 2   postDate           540 non-null    int64  \n",
      " 3   land_certificate   540 non-null    object \n",
      " 4   house_direction    540 non-null    object \n",
      " 5   balcony_direction  540 non-null    object \n",
      " 6   toilet             540 non-null    float64\n",
      " 7   bedroom            540 non-null    float64\n",
      " 8   floor              540 non-null    float64\n",
      " 9   lat                540 non-null    float64\n",
      " 10  long               540 non-null    float64\n",
      " 11  property_type      540 non-null    object \n",
      " 12  Gia/1m2            540 non-null    float64\n",
      " 13  Index              540 non-null    int64  \n",
      "dtypes: float64(8), int64(2), object(4)\n",
      "memory usage: 79.4+ KB\n"
     ]
    }
   ],
   "source": [
    "data.info()"
   ]
  },
  {
   "cell_type": "code",
   "execution_count": 121,
   "id": "d43ef17e",
   "metadata": {},
   "outputs": [
    {
     "name": "stdout",
     "output_type": "stream",
     "text": [
      "r =  0.5964708952871884\n",
      "pvalue =  2.4544962828875695e-53\n"
     ]
    }
   ],
   "source": [
    "r, pvalue = stats.pearsonr(data['price'], data['area'])\n",
    "print('r = ', r)\n",
    "print('pvalue = ', pvalue)"
   ]
  },
  {
   "cell_type": "markdown",
   "id": "96658ce4",
   "metadata": {},
   "source": [
    "pvalue<0.05 đủ điều kiện bác bỏ H0 => Giá nhà và diện tích có tương quan"
   ]
  },
  {
   "cell_type": "code",
   "execution_count": 122,
   "id": "72634086",
   "metadata": {},
   "outputs": [
    {
     "data": {
      "image/png": "[encoded data removed]",
      "text/plain": [
       "<Figure size 360x360 with 1 Axes>"
      ]
     },
     "metadata": {},
     "output_type": "display_data"
    }
   ],
   "source": [
    "sns.lmplot(x='price', y='area',data=data)\n",
    "plt.show()"
   ]
  },
  {
   "cell_type": "markdown",
   "id": "3cba21b2",
   "metadata": {},
   "source": [
    "Giữa giá nhà và tọa độ địa lý (lat, long) có tương quan với nhau "
   ]
  },
  {
   "cell_type": "markdown",
   "id": "96b18e68",
   "metadata": {},
   "source": [
    "#### 26. Giữa thuộc tính land_certificate và property_type có tương quan với nhau"
   ]
  },
  {
   "cell_type": "markdown",
   "id": "841496c4",
   "metadata": {},
   "source": [
    "Với mức ý nghĩa 0.05:<br>\n",
    "- H0: Giữa thuộc tính land_certificate và property_type không có tương quan với nhau<br>\n",
    "- H1: Giữa thuộc tính land_certificate và property_type có tương quan với nhau"
   ]
  },
  {
   "cell_type": "code",
   "execution_count": 123,
   "id": "eb13cc63",
   "metadata": {},
   "outputs": [],
   "source": [
    "data['Index'] = data.index"
   ]
  },
  {
   "cell_type": "code",
   "execution_count": 124,
   "id": "056a7e03",
   "metadata": {},
   "outputs": [
    {
     "data": {
      "text/html": [
       "<div>\n",
       "<style scoped>\n",
       "    .dataframe tbody tr th:only-of-type {\n",
       "        vertical-align: middle;\n",
       "    }\n",
       "\n",
       "    .dataframe tbody tr th {\n",
       "        vertical-align: top;\n",
       "    }\n",
       "\n",
       "    .dataframe thead th {\n",
       "        text-align: right;\n",
       "    }\n",
       "</style>\n",
       "<table border=\"1\" class=\"dataframe\">\n",
       "  <thead>\n",
       "    <tr style=\"text-align: right;\">\n",
       "      <th>property_type</th>\n",
       "      <th>mat pho</th>\n",
       "      <th>trong ngo</th>\n",
       "    </tr>\n",
       "    <tr>\n",
       "      <th>land_certificate</th>\n",
       "      <th></th>\n",
       "      <th></th>\n",
       "    </tr>\n",
       "  </thead>\n",
       "  <tbody>\n",
       "    <tr>\n",
       "      <th>So do</th>\n",
       "      <td>86</td>\n",
       "      <td>242</td>\n",
       "    </tr>\n",
       "    <tr>\n",
       "      <th>không có thông tin</th>\n",
       "      <td>71</td>\n",
       "      <td>141</td>\n",
       "    </tr>\n",
       "  </tbody>\n",
       "</table>\n",
       "</div>"
      ],
      "text/plain": [
       "property_type       mat pho  trong ngo\n",
       "land_certificate                      \n",
       "So do                    86        242\n",
       "không có thông tin       71        141"
      ]
     },
     "execution_count": 124,
     "metadata": {},
     "output_type": "execute_result"
    }
   ],
   "source": [
    "data_2 = data.pivot_table(values='Index', index='land_certificate', columns='property_type',aggfunc = 'count')\n",
    "data_2"
   ]
  },
  {
   "cell_type": "code",
   "execution_count": 125,
   "id": "0cbab325",
   "metadata": {},
   "outputs": [
    {
     "data": {
      "text/plain": [
       "So do                 328\n",
       "không có thông tin    212\n",
       "Name: land_certificate, dtype: int64"
      ]
     },
     "execution_count": 125,
     "metadata": {},
     "output_type": "execute_result"
    }
   ],
   "source": [
    "data['land_certificate'].value_counts()"
   ]
  },
  {
   "cell_type": "code",
   "execution_count": 126,
   "id": "1a01c6da",
   "metadata": {},
   "outputs": [],
   "source": [
    "from scipy.stats import chi2_contingency"
   ]
  },
  {
   "cell_type": "code",
   "execution_count": 127,
   "id": "f359fe29",
   "metadata": {},
   "outputs": [
    {
     "name": "stdout",
     "output_type": "stream",
     "text": [
      "Chi-square value=  2.9582237356706007\n",
      "pvalue=  0.08544175616231957\n",
      "degree of freedom=  1\n",
      "expected table=  [[ 95.36296296 232.63703704]\n",
      " [ 61.63703704 150.36296296]]\n"
     ]
    }
   ],
   "source": [
    "chi, p, dof, expected = chi2_contingency(data_2)\n",
    "#data là 1 list, chỉ lọc lấy định lượng tần suất\n",
    "print('Chi-square value= ', chi)\n",
    "print('pvalue= ', p)\n",
    "print('degree of freedom= ', dof)\n",
    "print('expected table= ', expected)"
   ]
  },
  {
   "cell_type": "code",
   "execution_count": 128,
   "id": "b63aad1d",
   "metadata": {},
   "outputs": [
    {
     "data": {
      "text/plain": [
       "<AxesSubplot:xlabel='property_type', ylabel='land_certificate'>"
      ]
     },
     "execution_count": 128,
     "metadata": {},
     "output_type": "execute_result"
    },
    {
     "data": {
      "image/png": "[encoded data removed]",
      "text/plain": [
       "<Figure size 432x288 with 2 Axes>"
      ]
     },
     "metadata": {},
     "output_type": "display_data"
    }
   ],
   "source": [
    "sns.heatmap(data_2, annot=True, cmap='Blues')"
   ]
  },
  {
   "cell_type": "markdown",
   "id": "945de991",
   "metadata": {},
   "source": [
    "pvalue>0.05=> Chưa đủ điều kiện để bác bỏ H0, kết luận Giữa thuộc tính land_certificate và property_type không có tương quan với nhau<br>"
   ]
  },
  {
   "cell_type": "markdown",
   "id": "61e5b073",
   "metadata": {},
   "source": [
    "#### 27. Hãy  mã hóa lại thuộc tính giá nhà theo đơn vị (nghìn đồng/m2) và sắp xếp giá nhà thành 4 mức tương ứng với các khoảng tứ phân vị. Tiến hành kiểm định tương quan giữa biến giá nhà này với các biến tọa độ vị trí (lat, long)"
   ]
  },
  {
   "cell_type": "code",
   "execution_count": 142,
   "id": "55633e41",
   "metadata": {},
   "outputs": [
    {
     "data": {
      "text/plain": [
       "4    135\n",
       "1    135\n",
       "3    135\n",
       "2    135\n",
       "Name: price_m2_ordinal, dtype: int64"
      ]
     },
     "execution_count": 142,
     "metadata": {},
     "output_type": "execute_result"
    }
   ],
   "source": [
    "q1, q2, q3 = data['Gia/1m2'].quantile(0.25), data['Gia/1m2'].quantile(0.5), data['Gia/1m2'].quantile(0.75)\n",
    "def price_m2_ordinal(price):\n",
    "    if price<q1:\n",
    "        return 1\n",
    "    elif price>=q1 and price<q2:\n",
    "        return 2\n",
    "    elif price>=q2 and price<q3:\n",
    "        return 3\n",
    "    else:\n",
    "        return 4\n",
    "data['price_m2_ordinal'] = data['Gia/1m2'].apply(price_m2_ordinal)\n",
    "data['price_m2_ordinal'].value_counts()"
   ]
  },
  {
   "cell_type": "markdown",
   "id": "225fe895",
   "metadata": {},
   "source": [
    "Với mức ý nghĩa 5%:<br>\n",
    "    H0: Biến giá nhà và biến tọa độ vị trí lat không có tương quan<br>\n",
    "    H1: Biến giá nhà và biến tọa độ vị trí lat có tương quan"
   ]
  },
  {
   "cell_type": "code",
   "execution_count": 144,
   "id": "855c4824",
   "metadata": {},
   "outputs": [
    {
     "name": "stdout",
     "output_type": "stream",
     "text": [
      "r:  0.048269351128622566 ; pvalue:  0.2628280355125092\n"
     ]
    }
   ],
   "source": [
    "r, pvalue = stats.spearmanr(data['price_m2_ordinal'],data['lat'])\n",
    "print (\"r: \", r, \"; pvalue: \", pvalue)"
   ]
  },
  {
   "cell_type": "markdown",
   "id": "7b49c6ef",
   "metadata": {},
   "source": [
    "pvalue>0.05, chưa thể bác bỏ H0, biến giá nhà đã được phân mức thành các khoản không có tương quan với biến lat"
   ]
  },
  {
   "cell_type": "code",
   "execution_count": null,
   "id": "dfe69415",
   "metadata": {},
   "outputs": [],
   "source": []
  }
 ],
 "metadata": {
  "kernelspec": {
   "display_name": "Python 3 (ipykernel)",
   "language": "python",
   "name": "python3"
  },
  "language_info": {
   "codemirror_mode": {
    "name": "ipython",
    "version": 3
   },
   "file_extension": ".py",
   "mimetype": "text/x-python",
   "name": "python",
   "nbconvert_exporter": "python",
   "pygments_lexer": "ipython3",
   "version": "3.9.12"
  }
 },
 "nbformat": 4,
 "nbformat_minor": 5
}
