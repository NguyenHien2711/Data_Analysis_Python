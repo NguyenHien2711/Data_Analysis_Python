{
 "cells": [
  {
   "cell_type": "code",
   "execution_count": 1,
   "id": "df012363",
   "metadata": {},
   "outputs": [
    {
     "data": {
      "text/html": [
       "<div>\n",
       "<style scoped>\n",
       "    .dataframe tbody tr th:only-of-type {\n",
       "        vertical-align: middle;\n",
       "    }\n",
       "\n",
       "    .dataframe tbody tr th {\n",
       "        vertical-align: top;\n",
       "    }\n",
       "\n",
       "    .dataframe thead th {\n",
       "        text-align: right;\n",
       "    }\n",
       "</style>\n",
       "<table border=\"1\" class=\"dataframe\">\n",
       "  <thead>\n",
       "    <tr style=\"text-align: right;\">\n",
       "      <th></th>\n",
       "      <th>Mã học sinh</th>\n",
       "      <th>Họ tên</th>\n",
       "      <th>Ngày sinh</th>\n",
       "      <th>Giới tính</th>\n",
       "      <th>Quê quán</th>\n",
       "      <th>Toán</th>\n",
       "      <th>Lý</th>\n",
       "      <th>Hoá</th>\n",
       "      <th>Sinh</th>\n",
       "      <th>Văn</th>\n",
       "      <th>Sử</th>\n",
       "      <th>Địa</th>\n",
       "      <th>Tiếng Anh</th>\n",
       "    </tr>\n",
       "  </thead>\n",
       "  <tbody>\n",
       "    <tr>\n",
       "      <th>0</th>\n",
       "      <td>20205210</td>\n",
       "      <td>Nguyễn Đức Bình</td>\n",
       "      <td>3/10/2000</td>\n",
       "      <td>Nam</td>\n",
       "      <td>Hà Nội</td>\n",
       "      <td>7.0</td>\n",
       "      <td>8.0</td>\n",
       "      <td>8.8</td>\n",
       "      <td>6.8</td>\n",
       "      <td>4.0</td>\n",
       "      <td>5.4</td>\n",
       "      <td>5.6</td>\n",
       "      <td>8.5</td>\n",
       "    </tr>\n",
       "    <tr>\n",
       "      <th>1</th>\n",
       "      <td>20205211</td>\n",
       "      <td>Lê Minh Hoàng</td>\n",
       "      <td>2/11/2001</td>\n",
       "      <td>Nam</td>\n",
       "      <td>Quảng Bình</td>\n",
       "      <td>5.6</td>\n",
       "      <td>7.7</td>\n",
       "      <td>6.0</td>\n",
       "      <td>7.0</td>\n",
       "      <td>6.5</td>\n",
       "      <td>6.0</td>\n",
       "      <td>3.4</td>\n",
       "      <td>9.0</td>\n",
       "    </tr>\n",
       "    <tr>\n",
       "      <th>2</th>\n",
       "      <td>20205212</td>\n",
       "      <td>Trần Trang Nhung</td>\n",
       "      <td>7/5/2002</td>\n",
       "      <td>Nữ</td>\n",
       "      <td>Hà Nam</td>\n",
       "      <td>4.2</td>\n",
       "      <td>6.5</td>\n",
       "      <td>5.4</td>\n",
       "      <td>8.0</td>\n",
       "      <td>7.0</td>\n",
       "      <td>7.5</td>\n",
       "      <td>4.3</td>\n",
       "      <td>5.5</td>\n",
       "    </tr>\n",
       "    <tr>\n",
       "      <th>3</th>\n",
       "      <td>20205213</td>\n",
       "      <td>Nguyễn Thị Linh</td>\n",
       "      <td>12/17/2000</td>\n",
       "      <td>Nữ</td>\n",
       "      <td>Bắc Ninh</td>\n",
       "      <td>8.0</td>\n",
       "      <td>5.6</td>\n",
       "      <td>6.5</td>\n",
       "      <td>7.0</td>\n",
       "      <td>7.5</td>\n",
       "      <td>6.5</td>\n",
       "      <td>5.6</td>\n",
       "      <td>6.0</td>\n",
       "    </tr>\n",
       "    <tr>\n",
       "      <th>4</th>\n",
       "      <td>20205214</td>\n",
       "      <td>Đặng Ngọc Sơn</td>\n",
       "      <td>1/25/2000</td>\n",
       "      <td>Nam</td>\n",
       "      <td>Thái Bình</td>\n",
       "      <td>9.3</td>\n",
       "      <td>5.8</td>\n",
       "      <td>7.5</td>\n",
       "      <td>4.5</td>\n",
       "      <td>6.5</td>\n",
       "      <td>4.5</td>\n",
       "      <td>7.8</td>\n",
       "      <td>3.8</td>\n",
       "    </tr>\n",
       "  </tbody>\n",
       "</table>\n",
       "</div>"
      ],
      "text/plain": [
       "   Mã học sinh            Họ tên   Ngày sinh Giới tính    Quê quán  Toán   Lý  \\\n",
       "0     20205210   Nguyễn Đức Bình   3/10/2000       Nam      Hà Nội   7.0  8.0   \n",
       "1     20205211     Lê Minh Hoàng   2/11/2001       Nam  Quảng Bình   5.6  7.7   \n",
       "2     20205212  Trần Trang Nhung    7/5/2002        Nữ      Hà Nam   4.2  6.5   \n",
       "3     20205213   Nguyễn Thị Linh  12/17/2000        Nữ    Bắc Ninh   8.0  5.6   \n",
       "4     20205214     Đặng Ngọc Sơn   1/25/2000       Nam   Thái Bình   9.3  5.8   \n",
       "\n",
       "   Hoá  Sinh  Văn   Sử  Địa  Tiếng Anh  \n",
       "0  8.8   6.8  4.0  5.4  5.6        8.5  \n",
       "1  6.0   7.0  6.5  6.0  3.4        9.0  \n",
       "2  5.4   8.0  7.0  7.5  4.3        5.5  \n",
       "3  6.5   7.0  7.5  6.5  5.6        6.0  \n",
       "4  7.5   4.5  6.5  4.5  7.8        3.8  "
      ]
     },
     "execution_count": 1,
     "metadata": {},
     "output_type": "execute_result"
    }
   ],
   "source": [
    "import pandas as pd\n",
    "import numpy as np\n",
    "import matplotlib.pyplot as plt\n",
    "data = pd.read_csv('students.csv')\n",
    "data.head(5)"
   ]
  },
  {
   "cell_type": "code",
   "execution_count": 2,
   "id": "e6a1d235",
   "metadata": {},
   "outputs": [
    {
     "name": "stdout",
     "output_type": "stream",
     "text": [
      "<class 'pandas.core.frame.DataFrame'>\n",
      "RangeIndex: 21 entries, 0 to 20\n",
      "Data columns (total 13 columns):\n",
      " #   Column       Non-Null Count  Dtype  \n",
      "---  ------       --------------  -----  \n",
      " 0   Mã học sinh  21 non-null     int64  \n",
      " 1   Họ tên       21 non-null     object \n",
      " 2   Ngày sinh    21 non-null     object \n",
      " 3   Giới tính    21 non-null     object \n",
      " 4   Quê quán     21 non-null     object \n",
      " 5   Toán         21 non-null     float64\n",
      " 6   Lý           21 non-null     float64\n",
      " 7   Hoá          21 non-null     float64\n",
      " 8   Sinh         21 non-null     float64\n",
      " 9   Văn          21 non-null     float64\n",
      " 10  Sử           21 non-null     float64\n",
      " 11  Địa          21 non-null     float64\n",
      " 12  Tiếng Anh    21 non-null     float64\n",
      "dtypes: float64(8), int64(1), object(4)\n",
      "memory usage: 2.3+ KB\n"
     ]
    }
   ],
   "source": [
    "data.info()"
   ]
  },
  {
   "cell_type": "markdown",
   "id": "cbedf0c1",
   "metadata": {},
   "source": [
    "1. Vẽ biểu đồ thể hiện tỷ lệ giới tính của số thí sinh tham gia kỳ thi"
   ]
  },
  {
   "cell_type": "code",
   "execution_count": 3,
   "id": "6c8914f6",
   "metadata": {},
   "outputs": [
    {
     "data": {
      "image/png": "[encoded data removed]",
      "text/plain": [
       "<Figure size 432x288 with 1 Axes>"
      ]
     },
     "metadata": {},
     "output_type": "display_data"
    }
   ],
   "source": [
    "label = ['Nam', 'Nữ']\n",
    "sizes = list(data['Giới tính'].value_counts().values)\n",
    "plt.pie(sizes, labels = label, autopct ='%1.2f%%')\n",
    "plt.title('Tỷ lệ giới tính của số thí sinh tham gia kỳ thi', fontsize =14)\n",
    "plt.show()"
   ]
  },
  {
   "cell_type": "markdown",
   "id": "3818b815",
   "metadata": {},
   "source": [
    "2. Vẽ biểu đồ thể hiện số lượng thí sinh từng tỉnh tham gia kỳ thi"
   ]
  },
  {
   "cell_type": "code",
   "execution_count": 4,
   "id": "5ad386af",
   "metadata": {},
   "outputs": [
    {
     "data": {
      "image/png": "[encoded data removed]",
      "text/plain": [
       "<Figure size 432x288 with 1 Axes>"
      ]
     },
     "metadata": {
      "needs_background": "light"
     },
     "output_type": "display_data"
    }
   ],
   "source": [
    "province = data['Quê quán'].value_counts()\n",
    "x = [i for i in province.index]\n",
    "y = [i for i in province.values]\n",
    "plt.bar(x,y, width = 0.4)\n",
    "plt.title('Số lượng thí sinh từng tỉnh tham gia kỳ thi', fontsize=13)\n",
    "plt.xlabel('Tỉnh', fontsize=10)\n",
    "plt.ylabel('Số lượng', fontsize=12)\n",
    "plt.show()"
   ]
  },
  {
   "cell_type": "code",
   "execution_count": 5,
   "id": "91c4172f",
   "metadata": {},
   "outputs": [
    {
     "data": {
      "text/html": [
       "<div>\n",
       "<style scoped>\n",
       "    .dataframe tbody tr th:only-of-type {\n",
       "        vertical-align: middle;\n",
       "    }\n",
       "\n",
       "    .dataframe tbody tr th {\n",
       "        vertical-align: top;\n",
       "    }\n",
       "\n",
       "    .dataframe thead th {\n",
       "        text-align: right;\n",
       "    }\n",
       "</style>\n",
       "<table border=\"1\" class=\"dataframe\">\n",
       "  <thead>\n",
       "    <tr style=\"text-align: right;\">\n",
       "      <th></th>\n",
       "      <th>Mã học sinh</th>\n",
       "      <th>Họ tên</th>\n",
       "      <th>Ngày sinh</th>\n",
       "      <th>Giới tính</th>\n",
       "      <th>Quê quán</th>\n",
       "      <th>Toán</th>\n",
       "      <th>Lý</th>\n",
       "      <th>Hoá</th>\n",
       "      <th>Sinh</th>\n",
       "      <th>Văn</th>\n",
       "      <th>Sử</th>\n",
       "      <th>Địa</th>\n",
       "      <th>Tiếng Anh</th>\n",
       "    </tr>\n",
       "  </thead>\n",
       "  <tbody>\n",
       "    <tr>\n",
       "      <th>0</th>\n",
       "      <td>20205210</td>\n",
       "      <td>Nguyễn Đức Bình</td>\n",
       "      <td>3/10/2000</td>\n",
       "      <td>Nam</td>\n",
       "      <td>Hà Nội</td>\n",
       "      <td>7.0</td>\n",
       "      <td>8.0</td>\n",
       "      <td>8.8</td>\n",
       "      <td>6.8</td>\n",
       "      <td>4.0</td>\n",
       "      <td>5.4</td>\n",
       "      <td>5.6</td>\n",
       "      <td>8.5</td>\n",
       "    </tr>\n",
       "    <tr>\n",
       "      <th>1</th>\n",
       "      <td>20205211</td>\n",
       "      <td>Lê Minh Hoàng</td>\n",
       "      <td>2/11/2001</td>\n",
       "      <td>Nam</td>\n",
       "      <td>Quảng Bình</td>\n",
       "      <td>5.6</td>\n",
       "      <td>7.7</td>\n",
       "      <td>6.0</td>\n",
       "      <td>7.0</td>\n",
       "      <td>6.5</td>\n",
       "      <td>6.0</td>\n",
       "      <td>3.4</td>\n",
       "      <td>9.0</td>\n",
       "    </tr>\n",
       "  </tbody>\n",
       "</table>\n",
       "</div>"
      ],
      "text/plain": [
       "   Mã học sinh           Họ tên  Ngày sinh Giới tính    Quê quán  Toán   Lý  \\\n",
       "0     20205210  Nguyễn Đức Bình  3/10/2000       Nam      Hà Nội   7.0  8.0   \n",
       "1     20205211    Lê Minh Hoàng  2/11/2001       Nam  Quảng Bình   5.6  7.7   \n",
       "\n",
       "   Hoá  Sinh  Văn   Sử  Địa  Tiếng Anh  \n",
       "0  8.8   6.8  4.0  5.4  5.6        8.5  \n",
       "1  6.0   7.0  6.5  6.0  3.4        9.0  "
      ]
     },
     "execution_count": 5,
     "metadata": {},
     "output_type": "execute_result"
    }
   ],
   "source": [
    "data.head(2)"
   ]
  },
  {
   "cell_type": "markdown",
   "id": "beba10f3",
   "metadata": {},
   "source": [
    "3. Vẽ biểu đồ biểu diễn điểm trung bình của các môn thi"
   ]
  },
  {
   "cell_type": "code",
   "execution_count": 6,
   "id": "d6087572",
   "metadata": {},
   "outputs": [
    {
     "data": {
      "image/png": "[encoded data removed]",
      "text/plain": [
       "<Figure size 432x288 with 1 Axes>"
      ]
     },
     "metadata": {
      "needs_background": "light"
     },
     "output_type": "display_data"
    }
   ],
   "source": [
    "monthi=['Toán', 'Lý', 'Hoá','Sinh','Văn','Sử', 'Địa','Tiếng Anh']\n",
    "diem =[]\n",
    "for i in monthi:\n",
    "    diem.append(round(data.loc[:,i].mean(),3))\n",
    "plt.bar(monthi,diem, width = 0.4)\n",
    "plt.title('Điểm trung bình của các môn thi', fontsize=13)\n",
    "plt.xlabel('Môn thi', fontsize=10)\n",
    "plt.ylabel('Điểm số', fontsize=12)\n",
    "plt.show()"
   ]
  },
  {
   "cell_type": "markdown",
   "id": "96be0f8b",
   "metadata": {},
   "source": [
    "4.Vẽ biểu đồ biểu diễn điểm thi cao nhất của các môn thi"
   ]
  },
  {
   "cell_type": "code",
   "execution_count": 7,
   "id": "e26ebafc",
   "metadata": {},
   "outputs": [
    {
     "data": {
      "image/png": "[encoded data removed]",
      "text/plain": [
       "<Figure size 432x288 with 1 Axes>"
      ]
     },
     "metadata": {
      "needs_background": "light"
     },
     "output_type": "display_data"
    }
   ],
   "source": [
    "monthi=['Toán', 'Lý', 'Hoá','Sinh','Văn','Sử', 'Địa','Tiếng Anh']\n",
    "diem =[]\n",
    "for i in monthi:\n",
    "    diem.append(data.loc[:,i].max())\n",
    "plt.bar(monthi,diem, width = 0.4)\n",
    "plt.title('Điểm thi cao nhất của các môn thi', fontsize=13)\n",
    "plt.xlabel('Môn thi', fontsize=10)\n",
    "plt.ylabel('Điểm số', fontsize=12)\n",
    "plt.show()"
   ]
  },
  {
   "cell_type": "markdown",
   "id": "64d0e3cf",
   "metadata": {},
   "source": [
    "5. Vẽ biểu đồ so sánh số thí sinh đạt điểm cao nhất của các môn thi"
   ]
  },
  {
   "cell_type": "code",
   "execution_count": 8,
   "id": "9851e181",
   "metadata": {},
   "outputs": [
    {
     "data": {
      "image/png": "[encoded data removed]",
      "text/plain": [
       "<Figure size 432x288 with 1 Axes>"
      ]
     },
     "metadata": {
      "needs_background": "light"
     },
     "output_type": "display_data"
    }
   ],
   "source": [
    "monthi=['Toán', 'Lý', 'Hoá','Sinh','Văn','Sử', 'Địa','Tiếng Anh']\n",
    "sothisinh =[]\n",
    "for i in monthi:\n",
    "    j = data.loc[:,i].max()\n",
    "    k = len(data[data[i]==j])\n",
    "    sothisinh.append(k)\n",
    "diem\n",
    "plt.bar(monthi,sothisinh, width = 0.4)\n",
    "plt.title('Số thí sinh đạt điểm thi cao nhất của các môn thi', fontsize=13)\n",
    "plt.xlabel('Môn thi', fontsize=10)\n",
    "plt.ylabel('Số thí sinh', fontsize=12)\n",
    "plt.show()"
   ]
  },
  {
   "cell_type": "markdown",
   "id": "e6c11443",
   "metadata": {},
   "source": [
    "6. Vẽ biểu đồ biểu diễn điểm thi thấp nhất giữa các môn thi\n"
   ]
  },
  {
   "cell_type": "code",
   "execution_count": 9,
   "id": "7ad70f55",
   "metadata": {},
   "outputs": [
    {
     "data": {
      "image/png": "[encoded data removed]",
      "text/plain": [
       "<Figure size 432x288 with 1 Axes>"
      ]
     },
     "metadata": {
      "needs_background": "light"
     },
     "output_type": "display_data"
    }
   ],
   "source": [
    "monthi=['Toán', 'Lý', 'Hoá','Sinh','Văn','Sử', 'Địa','Tiếng Anh']\n",
    "diem_thap=[]\n",
    "for i in monthi:\n",
    "    diem_thap.append(data.loc[:,i].min())\n",
    "plt.bar(monthi,diem_thap, width = 0.4)\n",
    "plt.title('Điểm thi thấp nhất của các môn thi', fontsize=13)\n",
    "plt.xlabel('Môn thi', fontsize=10)\n",
    "plt.ylabel('Điểm số', fontsize=12)\n",
    "plt.show()"
   ]
  },
  {
   "cell_type": "markdown",
   "id": "f8b8b273",
   "metadata": {},
   "source": [
    "7. Vẽ biểu đồ phổ điểm của từng môn học"
   ]
  },
  {
   "cell_type": "markdown",
   "id": "ae4f1e50",
   "metadata": {},
   "source": [
    "8. Vẽ biểu đồ phổ điểm của tất cả các môn học"
   ]
  },
  {
   "cell_type": "markdown",
   "id": "396c7f41",
   "metadata": {},
   "source": [
    "9. Vẽ biểu đồ số lượng các thí sinh đỗ vào các khối"
   ]
  },
  {
   "cell_type": "code",
   "execution_count": 10,
   "id": "b3653a89",
   "metadata": {},
   "outputs": [
    {
     "data": {
      "text/html": [
       "<div>\n",
       "<style scoped>\n",
       "    .dataframe tbody tr th:only-of-type {\n",
       "        vertical-align: middle;\n",
       "    }\n",
       "\n",
       "    .dataframe tbody tr th {\n",
       "        vertical-align: top;\n",
       "    }\n",
       "\n",
       "    .dataframe thead th {\n",
       "        text-align: right;\n",
       "    }\n",
       "</style>\n",
       "<table border=\"1\" class=\"dataframe\">\n",
       "  <thead>\n",
       "    <tr style=\"text-align: right;\">\n",
       "      <th></th>\n",
       "      <th>Mã học sinh</th>\n",
       "      <th>Họ tên</th>\n",
       "      <th>Ngày sinh</th>\n",
       "      <th>Giới tính</th>\n",
       "      <th>Quê quán</th>\n",
       "      <th>Toán</th>\n",
       "      <th>Lý</th>\n",
       "      <th>Hoá</th>\n",
       "      <th>Sinh</th>\n",
       "      <th>Văn</th>\n",
       "      <th>Sử</th>\n",
       "      <th>Địa</th>\n",
       "      <th>Tiếng Anh</th>\n",
       "      <th>Khối A</th>\n",
       "      <th>Khối A1</th>\n",
       "      <th>Khối B</th>\n",
       "      <th>Khối C</th>\n",
       "      <th>Khối D</th>\n",
       "    </tr>\n",
       "  </thead>\n",
       "  <tbody>\n",
       "    <tr>\n",
       "      <th>0</th>\n",
       "      <td>20205210</td>\n",
       "      <td>Nguyễn Đức Bình</td>\n",
       "      <td>3/10/2000</td>\n",
       "      <td>Nam</td>\n",
       "      <td>Hà Nội</td>\n",
       "      <td>7.0</td>\n",
       "      <td>8.0</td>\n",
       "      <td>8.8</td>\n",
       "      <td>6.8</td>\n",
       "      <td>4.0</td>\n",
       "      <td>5.4</td>\n",
       "      <td>5.6</td>\n",
       "      <td>8.5</td>\n",
       "      <td>23.8</td>\n",
       "      <td>23.5</td>\n",
       "      <td>22.6</td>\n",
       "      <td>15.0</td>\n",
       "      <td>28.0</td>\n",
       "    </tr>\n",
       "    <tr>\n",
       "      <th>1</th>\n",
       "      <td>20205211</td>\n",
       "      <td>Lê Minh Hoàng</td>\n",
       "      <td>2/11/2001</td>\n",
       "      <td>Nam</td>\n",
       "      <td>Quảng Bình</td>\n",
       "      <td>5.6</td>\n",
       "      <td>7.7</td>\n",
       "      <td>6.0</td>\n",
       "      <td>7.0</td>\n",
       "      <td>6.5</td>\n",
       "      <td>6.0</td>\n",
       "      <td>3.4</td>\n",
       "      <td>9.0</td>\n",
       "      <td>19.3</td>\n",
       "      <td>22.3</td>\n",
       "      <td>18.6</td>\n",
       "      <td>15.9</td>\n",
       "      <td>30.1</td>\n",
       "    </tr>\n",
       "    <tr>\n",
       "      <th>2</th>\n",
       "      <td>20205212</td>\n",
       "      <td>Trần Trang Nhung</td>\n",
       "      <td>7/5/2002</td>\n",
       "      <td>Nữ</td>\n",
       "      <td>Hà Nam</td>\n",
       "      <td>4.2</td>\n",
       "      <td>6.5</td>\n",
       "      <td>5.4</td>\n",
       "      <td>8.0</td>\n",
       "      <td>7.0</td>\n",
       "      <td>7.5</td>\n",
       "      <td>4.3</td>\n",
       "      <td>5.5</td>\n",
       "      <td>16.1</td>\n",
       "      <td>16.2</td>\n",
       "      <td>17.6</td>\n",
       "      <td>18.8</td>\n",
       "      <td>22.2</td>\n",
       "    </tr>\n",
       "    <tr>\n",
       "      <th>3</th>\n",
       "      <td>20205213</td>\n",
       "      <td>Nguyễn Thị Linh</td>\n",
       "      <td>12/17/2000</td>\n",
       "      <td>Nữ</td>\n",
       "      <td>Bắc Ninh</td>\n",
       "      <td>8.0</td>\n",
       "      <td>5.6</td>\n",
       "      <td>6.5</td>\n",
       "      <td>7.0</td>\n",
       "      <td>7.5</td>\n",
       "      <td>6.5</td>\n",
       "      <td>5.6</td>\n",
       "      <td>6.0</td>\n",
       "      <td>20.1</td>\n",
       "      <td>19.6</td>\n",
       "      <td>21.5</td>\n",
       "      <td>19.6</td>\n",
       "      <td>27.5</td>\n",
       "    </tr>\n",
       "    <tr>\n",
       "      <th>4</th>\n",
       "      <td>20205214</td>\n",
       "      <td>Đặng Ngọc Sơn</td>\n",
       "      <td>1/25/2000</td>\n",
       "      <td>Nam</td>\n",
       "      <td>Thái Bình</td>\n",
       "      <td>9.3</td>\n",
       "      <td>5.8</td>\n",
       "      <td>7.5</td>\n",
       "      <td>4.5</td>\n",
       "      <td>6.5</td>\n",
       "      <td>4.5</td>\n",
       "      <td>7.8</td>\n",
       "      <td>3.8</td>\n",
       "      <td>22.6</td>\n",
       "      <td>18.9</td>\n",
       "      <td>21.3</td>\n",
       "      <td>18.8</td>\n",
       "      <td>23.4</td>\n",
       "    </tr>\n",
       "  </tbody>\n",
       "</table>\n",
       "</div>"
      ],
      "text/plain": [
       "   Mã học sinh            Họ tên   Ngày sinh Giới tính    Quê quán  Toán   Lý  \\\n",
       "0     20205210   Nguyễn Đức Bình   3/10/2000       Nam      Hà Nội   7.0  8.0   \n",
       "1     20205211     Lê Minh Hoàng   2/11/2001       Nam  Quảng Bình   5.6  7.7   \n",
       "2     20205212  Trần Trang Nhung    7/5/2002        Nữ      Hà Nam   4.2  6.5   \n",
       "3     20205213   Nguyễn Thị Linh  12/17/2000        Nữ    Bắc Ninh   8.0  5.6   \n",
       "4     20205214     Đặng Ngọc Sơn   1/25/2000       Nam   Thái Bình   9.3  5.8   \n",
       "\n",
       "   Hoá  Sinh  Văn   Sử  Địa  Tiếng Anh  Khối A  Khối A1  Khối B  Khối C  \\\n",
       "0  8.8   6.8  4.0  5.4  5.6        8.5    23.8     23.5    22.6    15.0   \n",
       "1  6.0   7.0  6.5  6.0  3.4        9.0    19.3     22.3    18.6    15.9   \n",
       "2  5.4   8.0  7.0  7.5  4.3        5.5    16.1     16.2    17.6    18.8   \n",
       "3  6.5   7.0  7.5  6.5  5.6        6.0    20.1     19.6    21.5    19.6   \n",
       "4  7.5   4.5  6.5  4.5  7.8        3.8    22.6     18.9    21.3    18.8   \n",
       "\n",
       "   Khối D  \n",
       "0    28.0  \n",
       "1    30.1  \n",
       "2    22.2  \n",
       "3    27.5  \n",
       "4    23.4  "
      ]
     },
     "execution_count": 10,
     "metadata": {},
     "output_type": "execute_result"
    }
   ],
   "source": [
    "data['Khối A'] = data['Toán']+data['Lý']+data['Hoá']\n",
    "data['Khối A1'] = data['Toán']+data['Lý']+ data['Tiếng Anh']\n",
    "data['Khối B'] = data['Toán']+ data['Hoá'] + data['Sinh'] \n",
    "data['Khối C'] = data['Văn'] + data['Sử']+ data['Địa']\n",
    "data['Khối D'] = data['Toán'] + data['Văn'] + data['Tiếng Anh']*2\n",
    "data.head(5)"
   ]
  },
  {
   "cell_type": "markdown",
   "id": "940501b0",
   "metadata": {},
   "source": [
    "10. Vẽ biểu đồ mối tương quan giữa điểm các môn thi"
   ]
  },
  {
   "cell_type": "markdown",
   "id": "ad0e6e3a",
   "metadata": {},
   "source": [
    "11. Vẽ biểu đồ biểu diwwnx số lượng thí sinh theo xếp loại"
   ]
  },
  {
   "cell_type": "markdown",
   "id": "6a814dd0",
   "metadata": {},
   "source": [
    "12. Vẽ biểu đồ so sánh tỷ lệ thí sinh đỗ vào các khối đại học"
   ]
  },
  {
   "cell_type": "code",
   "execution_count": 1,
   "id": "4e427088",
   "metadata": {},
   "outputs": [
    {
     "data": {
      "text/html": [
       "<div>\n",
       "<style scoped>\n",
       "    .dataframe tbody tr th:only-of-type {\n",
       "        vertical-align: middle;\n",
       "    }\n",
       "\n",
       "    .dataframe tbody tr th {\n",
       "        vertical-align: top;\n",
       "    }\n",
       "\n",
       "    .dataframe thead th {\n",
       "        text-align: right;\n",
       "    }\n",
       "</style>\n",
       "<table border=\"1\" class=\"dataframe\">\n",
       "  <thead>\n",
       "    <tr style=\"text-align: right;\">\n",
       "      <th></th>\n",
       "      <th>Mã học sinh</th>\n",
       "      <th>Họ tên</th>\n",
       "      <th>Ngày sinh</th>\n",
       "      <th>Giới tính</th>\n",
       "      <th>Quê quán</th>\n",
       "      <th>Toán</th>\n",
       "      <th>Lý</th>\n",
       "      <th>Hoá</th>\n",
       "      <th>Sinh</th>\n",
       "      <th>Văn</th>\n",
       "      <th>Sử</th>\n",
       "      <th>Địa</th>\n",
       "      <th>Tiếng Anh</th>\n",
       "    </tr>\n",
       "  </thead>\n",
       "  <tbody>\n",
       "    <tr>\n",
       "      <th>0</th>\n",
       "      <td>20205210</td>\n",
       "      <td>Nguyễn Đức Bình</td>\n",
       "      <td>3/10/2000</td>\n",
       "      <td>Nam</td>\n",
       "      <td>Hà Nội</td>\n",
       "      <td>7.0</td>\n",
       "      <td>8.0</td>\n",
       "      <td>8.8</td>\n",
       "      <td>6.8</td>\n",
       "      <td>4.0</td>\n",
       "      <td>5.4</td>\n",
       "      <td>5.6</td>\n",
       "      <td>8.5</td>\n",
       "    </tr>\n",
       "    <tr>\n",
       "      <th>1</th>\n",
       "      <td>20205211</td>\n",
       "      <td>Lê Minh Hoàng</td>\n",
       "      <td>2/11/2001</td>\n",
       "      <td>Nam</td>\n",
       "      <td>Quảng Bình</td>\n",
       "      <td>5.6</td>\n",
       "      <td>7.7</td>\n",
       "      <td>6.0</td>\n",
       "      <td>7.0</td>\n",
       "      <td>6.5</td>\n",
       "      <td>6.0</td>\n",
       "      <td>3.4</td>\n",
       "      <td>9.0</td>\n",
       "    </tr>\n",
       "    <tr>\n",
       "      <th>2</th>\n",
       "      <td>20205212</td>\n",
       "      <td>Trần Trang Nhung</td>\n",
       "      <td>7/5/2002</td>\n",
       "      <td>Nữ</td>\n",
       "      <td>Hà Nam</td>\n",
       "      <td>4.2</td>\n",
       "      <td>6.5</td>\n",
       "      <td>5.4</td>\n",
       "      <td>8.0</td>\n",
       "      <td>7.0</td>\n",
       "      <td>7.5</td>\n",
       "      <td>4.3</td>\n",
       "      <td>5.5</td>\n",
       "    </tr>\n",
       "    <tr>\n",
       "      <th>3</th>\n",
       "      <td>20205213</td>\n",
       "      <td>Nguyễn Thị Linh</td>\n",
       "      <td>12/17/2000</td>\n",
       "      <td>Nữ</td>\n",
       "      <td>Bắc Ninh</td>\n",
       "      <td>8.0</td>\n",
       "      <td>5.6</td>\n",
       "      <td>6.5</td>\n",
       "      <td>7.0</td>\n",
       "      <td>7.5</td>\n",
       "      <td>6.5</td>\n",
       "      <td>5.6</td>\n",
       "      <td>6.0</td>\n",
       "    </tr>\n",
       "    <tr>\n",
       "      <th>4</th>\n",
       "      <td>20205214</td>\n",
       "      <td>Đặng Ngọc Sơn</td>\n",
       "      <td>1/25/2000</td>\n",
       "      <td>Nam</td>\n",
       "      <td>Thái Bình</td>\n",
       "      <td>9.3</td>\n",
       "      <td>5.8</td>\n",
       "      <td>7.5</td>\n",
       "      <td>4.5</td>\n",
       "      <td>6.5</td>\n",
       "      <td>4.5</td>\n",
       "      <td>7.8</td>\n",
       "      <td>3.8</td>\n",
       "    </tr>\n",
       "  </tbody>\n",
       "</table>\n",
       "</div>"
      ],
      "text/plain": [
       "   Mã học sinh            Họ tên   Ngày sinh Giới tính    Quê quán  Toán   Lý  \\\n",
       "0     20205210   Nguyễn Đức Bình   3/10/2000       Nam      Hà Nội   7.0  8.0   \n",
       "1     20205211     Lê Minh Hoàng   2/11/2001       Nam  Quảng Bình   5.6  7.7   \n",
       "2     20205212  Trần Trang Nhung    7/5/2002        Nữ      Hà Nam   4.2  6.5   \n",
       "3     20205213   Nguyễn Thị Linh  12/17/2000        Nữ    Bắc Ninh   8.0  5.6   \n",
       "4     20205214     Đặng Ngọc Sơn   1/25/2000       Nam   Thái Bình   9.3  5.8   \n",
       "\n",
       "   Hoá  Sinh  Văn   Sử  Địa  Tiếng Anh  \n",
       "0  8.8   6.8  4.0  5.4  5.6        8.5  \n",
       "1  6.0   7.0  6.5  6.0  3.4        9.0  \n",
       "2  5.4   8.0  7.0  7.5  4.3        5.5  \n",
       "3  6.5   7.0  7.5  6.5  5.6        6.0  \n",
       "4  7.5   4.5  6.5  4.5  7.8        3.8  "
      ]
     },
     "execution_count": 1,
     "metadata": {},
     "output_type": "execute_result"
    }
   ],
   "source": [
    "import pandas as pd\n",
    "import numpy as np\n",
    "import matplotlib.pyplot as plt\n",
    "data = pd.read_csv('students.csv')\n",
    "data.head(5)"
   ]
  },
  {
   "cell_type": "code",
   "execution_count": 10,
   "id": "72daf1b4",
   "metadata": {},
   "outputs": [
    {
     "data": {
      "text/html": [
       "<div>\n",
       "<style scoped>\n",
       "    .dataframe tbody tr th:only-of-type {\n",
       "        vertical-align: middle;\n",
       "    }\n",
       "\n",
       "    .dataframe tbody tr th {\n",
       "        vertical-align: top;\n",
       "    }\n",
       "\n",
       "    .dataframe thead th {\n",
       "        text-align: right;\n",
       "    }\n",
       "</style>\n",
       "<table border=\"1\" class=\"dataframe\">\n",
       "  <thead>\n",
       "    <tr style=\"text-align: right;\">\n",
       "      <th></th>\n",
       "      <th>Mã học sinh</th>\n",
       "      <th>Họ tên</th>\n",
       "      <th>Ngày sinh</th>\n",
       "      <th>Quê quán</th>\n",
       "      <th>Toán</th>\n",
       "      <th>Lý</th>\n",
       "      <th>Hoá</th>\n",
       "      <th>Sinh</th>\n",
       "      <th>Văn</th>\n",
       "      <th>Sử</th>\n",
       "      <th>Địa</th>\n",
       "      <th>Tiếng Anh</th>\n",
       "    </tr>\n",
       "    <tr>\n",
       "      <th>Giới tính</th>\n",
       "      <th></th>\n",
       "      <th></th>\n",
       "      <th></th>\n",
       "      <th></th>\n",
       "      <th></th>\n",
       "      <th></th>\n",
       "      <th></th>\n",
       "      <th></th>\n",
       "      <th></th>\n",
       "      <th></th>\n",
       "      <th></th>\n",
       "      <th></th>\n",
       "    </tr>\n",
       "  </thead>\n",
       "  <tbody>\n",
       "    <tr>\n",
       "      <th>Nam</th>\n",
       "      <td>14</td>\n",
       "      <td>14</td>\n",
       "      <td>14</td>\n",
       "      <td>14</td>\n",
       "      <td>14</td>\n",
       "      <td>14</td>\n",
       "      <td>14</td>\n",
       "      <td>14</td>\n",
       "      <td>14</td>\n",
       "      <td>14</td>\n",
       "      <td>14</td>\n",
       "      <td>14</td>\n",
       "    </tr>\n",
       "    <tr>\n",
       "      <th>Nữ</th>\n",
       "      <td>7</td>\n",
       "      <td>7</td>\n",
       "      <td>7</td>\n",
       "      <td>7</td>\n",
       "      <td>7</td>\n",
       "      <td>7</td>\n",
       "      <td>7</td>\n",
       "      <td>7</td>\n",
       "      <td>7</td>\n",
       "      <td>7</td>\n",
       "      <td>7</td>\n",
       "      <td>7</td>\n",
       "    </tr>\n",
       "  </tbody>\n",
       "</table>\n",
       "</div>"
      ],
      "text/plain": [
       "           Mã học sinh  Họ tên  Ngày sinh  Quê quán  Toán  Lý  Hoá  Sinh  Văn  \\\n",
       "Giới tính                                                                       \n",
       "Nam                 14      14         14        14    14  14   14    14   14   \n",
       "Nữ                   7       7          7         7     7   7    7     7    7   \n",
       "\n",
       "           Sử  Địa  Tiếng Anh  \n",
       "Giới tính                      \n",
       "Nam        14   14         14  \n",
       "Nữ          7    7          7  "
      ]
     },
     "execution_count": 10,
     "metadata": {},
     "output_type": "execute_result"
    }
   ],
   "source": [
    "data.groupby('Giới tính').count()"
   ]
  },
  {
   "cell_type": "code",
   "execution_count": 11,
   "id": "8c1e7317",
   "metadata": {},
   "outputs": [
    {
     "data": {
      "text/plain": [
       "21"
      ]
     },
     "execution_count": 11,
     "metadata": {},
     "output_type": "execute_result"
    }
   ],
   "source": [
    "data['Mã học sinh'].count()"
   ]
  },
  {
   "cell_type": "markdown",
   "id": "3efd2d84",
   "metadata": {},
   "source": [
    "1. Vẽ biểu đồ thể hiện tỷ lệ giới tính của số thí sinh tham gia kỳ thi\n"
   ]
  },
  {
   "cell_type": "code",
   "execution_count": 3,
   "id": "62a19bec",
   "metadata": {},
   "outputs": [
    {
     "data": {
      "image/png": "[encoded data removed]",
      "text/plain": [
       "<Figure size 432x288 with 1 Axes>"
      ]
     },
     "metadata": {},
     "output_type": "display_data"
    },
    {
     "data": {
      "text/plain": [
       "Giới tính\n",
       "Nam    14\n",
       "Nữ      7\n",
       "Name: Giới tính, dtype: int64"
      ]
     },
     "execution_count": 3,
     "metadata": {},
     "output_type": "execute_result"
    }
   ],
   "source": [
    "labels = np.unique(data['Giới tính'])\n",
    "sizes = data.groupby('Giới tính')['Giới tính'].count()\n",
    "sizes\n",
    "plt.pie(sizes, labels = labels, autopct ='%1.2f%%')\n",
    "plt.title('Tỷ lệ giới tính của số thí sinh tham gia kỳ thi', fontsize=14)\n",
    "plt.show()\n",
    "sizes"
   ]
  },
  {
   "cell_type": "markdown",
   "id": "372d0227",
   "metadata": {},
   "source": [
    "2. Vẽ biểu đồ thể hiện số lượng thí sinh từng tỉnh tham gia kỳ thi"
   ]
  },
  {
   "cell_type": "code",
   "execution_count": 41,
   "id": "85fa8321",
   "metadata": {},
   "outputs": [
    {
     "data": {
      "image/png": "[encoded data removed]",
      "text/plain": [
       "<Figure size 1080x468 with 1 Axes>"
      ]
     },
     "metadata": {
      "needs_background": "light"
     },
     "output_type": "display_data"
    }
   ],
   "source": [
    "x = np.unique(data['Quê quán'])\n",
    "y = data.groupby('Quê quán')['Mã học sinh'].count()\n",
    "\n",
    "max_number_student = data.groupby('Quê quán')['Mã học sinh'].count().max()\n",
    "color=[]\n",
    "for i in y:\n",
    "    if i==max_number_student:\n",
    "        color.append('red')\n",
    "    else:\n",
    "        color.append('darkblue')\n",
    "plt.bar(x,y,width=0.4, color=color)\n",
    "plt.title('Số lượng thí sinh từng tỉnh tham gia kỳ thi', fontsize=14)\n",
    "\n",
    "#Điều chỉnh trên axes\n",
    "ax = plt.gca()#get current axes\n",
    "ax.set_xlabel('Tỉnh', fontsize = 8)\n",
    "ax.set_ylabel('Số lượng thí sinh', fontsize = 12)\n",
    "plt.xticks(rotation=45)\n",
    "\n",
    "#Nới rộng figure chứa biểu đồ\n",
    "fig = plt.gcf() #get current figure\n",
    "fig.set_size_inches(15, 6.5)\n",
    "plt.show()"
   ]
  },
  {
   "cell_type": "markdown",
   "id": "10520ea5",
   "metadata": {},
   "source": [
    "3. Điểm trung bình các môn thi"
   ]
  },
  {
   "cell_type": "code",
   "execution_count": 47,
   "id": "ffc74eef",
   "metadata": {},
   "outputs": [
    {
     "data": {
      "image/png": "[encoded data removed]",
      "text/plain": [
       "<Figure size 432x288 with 1 Axes>"
      ]
     },
     "metadata": {
      "needs_background": "light"
     },
     "output_type": "display_data"
    }
   ],
   "source": [
    "dtb = data[data.columns[5:]].mean()\n",
    "x = dtb.index\n",
    "y = dtb.values\n",
    "plt.bar(x,y, width=0.5)\n",
    "plt.ylim(y.min()-1,y.max()+0.5)\n",
    "\n",
    "#xét lim để độ tương phản nó cao hơn\n",
    "#Xét y.min()-1 để phòng th lấy cố định 1 số, nhưng có 1gt nhỏ hơn số đc xét thì sẽ không hiện lên biểu đồ\n",
    "\n",
    "plt.title('Tỷ lệ điểm trung bình các môn thi', fontsize=13)\n",
    "plt.xlabel('Môn học', fontsize=10)\n",
    "plt.ylabel('Điểm trung bình', fontsize=10)\n",
    "plt.show()"
   ]
  },
  {
   "cell_type": "markdown",
   "id": "68c144ca",
   "metadata": {},
   "source": [
    "4. Điểm thi cao nhất của các môn thi"
   ]
  },
  {
   "cell_type": "code",
   "execution_count": 49,
   "id": "67e657f0",
   "metadata": {},
   "outputs": [
    {
     "data": {
      "image/png": "[encoded data removed]",
      "text/plain": [
       "<Figure size 432x288 with 1 Axes>"
      ]
     },
     "metadata": {
      "needs_background": "light"
     },
     "output_type": "display_data"
    }
   ],
   "source": [
    "dtb = data[['Toán', 'Lý', 'Hoá','Sinh','Văn','Sử', 'Địa','Tiếng Anh']].max()\n",
    "x = dtb.index\n",
    "y = dtb.values\n",
    "plt.bar(x,y, width=0.3)\n",
    "plt.title('Tỷ lệ điểm cao nhất các môn thi', fontsize=13)\n",
    "plt.xlabel('Môn học', fontsize=10)\n",
    "plt.ylabel('Điểm cao nhất', fontsize=10)\n",
    "plt.show()"
   ]
  },
  {
   "cell_type": "markdown",
   "id": "04c94b2c",
   "metadata": {},
   "source": [
    "5.So sánh số thí sinh đạt điểm cao nhất của các môn thi"
   ]
  },
  {
   "cell_type": "code",
   "execution_count": 51,
   "id": "f99b9cde",
   "metadata": {
    "scrolled": true
   },
   "outputs": [
    {
     "data": {
      "image/png": "[encoded data removed]",
      "text/plain": [
       "<Figure size 432x288 with 1 Axes>"
      ]
     },
     "metadata": {
      "needs_background": "light"
     },
     "output_type": "display_data"
    }
   ],
   "source": [
    "stud_subject_max = []\n",
    "for i in dtb.index:\n",
    "    stud_subject_max.append(data[data[i]==dtb[i]]['Mã học sinh'].count())\n",
    "stud_subject_max\n",
    "plt.bar(dtb.index,stud_subject_max)\n",
    "plt.show()"
   ]
  },
  {
   "cell_type": "code",
   "execution_count": null,
   "id": "f212a543",
   "metadata": {},
   "outputs": [],
   "source": []
  },
  {
   "cell_type": "markdown",
   "id": "7abe9372",
   "metadata": {},
   "source": [
    "6. Điểm thi thấp nhất của các môn thi"
   ]
  },
  {
   "cell_type": "code",
   "execution_count": null,
   "id": "00c6070c",
   "metadata": {},
   "outputs": [],
   "source": []
  },
  {
   "cell_type": "code",
   "execution_count": null,
   "id": "f7a1dfa2",
   "metadata": {},
   "outputs": [],
   "source": []
  },
  {
   "cell_type": "markdown",
   "id": "1c59d327",
   "metadata": {},
   "source": [
    "7. Phổ điểm của từng môn học"
   ]
  },
  {
   "cell_type": "code",
   "execution_count": 54,
   "id": "d6d93a13",
   "metadata": {},
   "outputs": [
    {
     "data": {
      "image/png": "[encoded data removed]",
      "text/plain": [
       "<Figure size 432x288 with 1 Axes>"
      ]
     },
     "metadata": {
      "needs_background": "light"
     },
     "output_type": "display_data"
    }
   ],
   "source": [
    "plt.hist(data['Toán'])\n",
    "plt.show()"
   ]
  },
  {
   "cell_type": "markdown",
   "id": "287e602a",
   "metadata": {},
   "source": [
    "8. Phổ điểm của tất cả các môn"
   ]
  },
  {
   "cell_type": "code",
   "execution_count": 55,
   "id": "39bae5dd",
   "metadata": {},
   "outputs": [
    {
     "data": {
      "text/plain": [
       "168"
      ]
     },
     "execution_count": 55,
     "metadata": {},
     "output_type": "execute_result"
    }
   ],
   "source": [
    "score = []\n",
    "for i in data.columns[5:]:\n",
    "    score.extend(list(data[i].values))\n",
    "len(score)"
   ]
  },
  {
   "cell_type": "code",
   "execution_count": 59,
   "id": "b9d9e4cc",
   "metadata": {},
   "outputs": [
    {
     "data": {
      "image/png": "[encoded data removed]",
      "text/plain": [
       "<Figure size 432x288 with 1 Axes>"
      ]
     },
     "metadata": {
      "needs_background": "light"
     },
     "output_type": "display_data"
    }
   ],
   "source": [
    "plt.hist(score, bins=20)\n",
    "plt.show()"
   ]
  },
  {
   "cell_type": "markdown",
   "id": "318ae614",
   "metadata": {},
   "source": [
    "9.Số lượng thí sinh đỗ vào các khối"
   ]
  },
  {
   "cell_type": "markdown",
   "id": "1ff26cd5",
   "metadata": {},
   "source": [
    "10.Mối tương quan giữa điểm các môn thi"
   ]
  },
  {
   "cell_type": "code",
   "execution_count": 60,
   "id": "9714d434",
   "metadata": {},
   "outputs": [
    {
     "data": {
      "image/png": "[encoded data removed]",
      "text/plain": [
       "<Figure size 432x288 with 1 Axes>"
      ]
     },
     "metadata": {
      "needs_background": "light"
     },
     "output_type": "display_data"
    }
   ],
   "source": [
    "plt.scatter(data['Toán'], data['Lý'])\n",
    "plt.show()"
   ]
  },
  {
   "cell_type": "markdown",
   "id": "a38d3d08",
   "metadata": {},
   "source": [
    "11. Biểu diễn số lượng thí sinh theo xếp loại"
   ]
  },
  {
   "cell_type": "markdown",
   "id": "8b918ed5",
   "metadata": {},
   "source": [
    "12. So sánh tỉ lệ thí sinh đỗ vào các khối đại học"
   ]
  }
 ],
 "metadata": {
  "kernelspec": {
   "display_name": "Python 3 (ipykernel)",
   "language": "python",
   "name": "python3"
  },
  "language_info": {
   "codemirror_mode": {
    "name": "ipython",
    "version": 3
   },
   "file_extension": ".py",
   "mimetype": "text/x-python",
   "name": "python",
   "nbconvert_exporter": "python",
   "pygments_lexer": "ipython3",
   "version": "3.9.12"
  }
 },
 "nbformat": 4,
 "nbformat_minor": 5
}
